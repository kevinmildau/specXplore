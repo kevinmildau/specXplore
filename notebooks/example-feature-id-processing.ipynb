{
 "cells": [
  {
   "cell_type": "markdown",
   "metadata": {},
   "source": [
    "This jupyter notebook gives a brief code example on how to align feature identifier keys of a .mgf file using matchms. The example requires the user to provide 3 pieces of information:\n",
    "\n",
    "1. a path towards their own spectra features in .mgf file format.\n",
    "2. a path specifying a new name for their processed feature list in .mgf file format.\n",
    "3. A string specifying the alternative name of the feature identifier key used in their own mgf file. In the example below, this was assumed to be WRONG_FEATURE_ID inside the mgf file."
   ]
  },
  {
   "cell_type": "code",
   "execution_count": 1,
   "metadata": {},
   "outputs": [],
   "source": [
    "import matchms # loads the matchms package, which is a core dependency of specXplore and hence available after installation\n",
    "import os # default python module, always available. Only needed for cross operating system compatible filepaths.\n",
    "\n",
    "input_mgf_filepath = os.path.join(\"data\", \"demo_data_wrong_key.mgf\") # USER INPUT: PLACE YOUR FILEPATH HERE\n",
    "old_feature_key = \"wrong_feature_id\" # USER INPUT: provide the feature identifier key from your mgf file in lowercase\n",
    "output_mgf_filepath = os.path.join(\"data\", \"demo_data_fixed_key.mgf\") # USER INPUT: PLACE YOUR FILEPATH HERE\n",
    "\n",
    "# import spectra\n",
    "with open(input_mgf_filepath, 'r') as spectra_file:\n",
    "    spectra = list(matchms.importing.load_from_mgf(spectra_file))\n",
    "\n",
    "# process spectra, assumes that the feature identifier key is the value inside old_feature_key for the data\n",
    "for spectrum in spectra:\n",
    "  spectrum.set(\"feature_id\", spectrum.get(old_feature_key)) # create new feature_id entry\n",
    "\n",
    "# export spectra\n",
    "matchms.exporting.save_spectra(spectra, file = output_mgf_filepath, export_style = 'matchms')"
   ]
  }
 ],
 "metadata": {
  "kernelspec": {
   "display_name": "streamline_importing",
   "language": "python",
   "name": "python3"
  },
  "language_info": {
   "codemirror_mode": {
    "name": "ipython",
    "version": 3
   },
   "file_extension": ".py",
   "mimetype": "text/x-python",
   "name": "python",
   "nbconvert_exporter": "python",
   "pygments_lexer": "ipython3",
   "version": "3.8.18"
  }
 },
 "nbformat": 4,
 "nbformat_minor": 2
}
