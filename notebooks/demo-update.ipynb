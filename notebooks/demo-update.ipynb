{
 "cells": [
  {
   "cell_type": "markdown",
   "metadata": {},
   "source": [
    "# Demo for specXplore importing & session initiation\n",
    "\n",
    "## Requirements\n",
    "\n",
    "- python 3.8 is required to ensure compatibility with computational metabolomics packages used (spec2vec, ms2deepscore, ms2query, matchms). \n",
    "- specXplore needs to have been installed according to the guidelines in the [github:readme]{placeholder}"
   ]
  },
  {
   "cell_type": "code",
   "execution_count": 8,
   "metadata": {},
   "outputs": [
    {
     "name": "stdout",
     "output_type": "stream",
     "text": [
      "matchms==0.24.1\n",
      "spec2vec==0.8.0\n",
      "ms2query==1.3.0\n",
      "numpy==1.24.3\n",
      "pandas==2.0.3\n",
      "dash==2.14.2\n",
      "dash_cytoscape==0.2.0\n"
     ]
    }
   ],
   "source": [
    "import matchms\n",
    "import spec2vec\n",
    "import specxplore.importing\n",
    "import ms2query\n",
    "import numpy, pandas, dash, dash_cytoscape, kmedoids\n",
    "print('\\n'.join(f'{m.__name__}=={m.__version__}' for m in globals().values() if getattr(m, '__version__', None)))"
   ]
  },
  {
   "cell_type": "markdown",
   "metadata": {},
   "source": [
    "# User Input\n",
    "\n",
    "For specXplore to run with default settings, all input required by the user is a compatible .mgf file with the following entry style:\n",
    "\n",
    "```text \n",
    "BEGIN IONS\n",
    "FEATURE_ID=1961\n",
    "PEPMASS=105.03386\n",
    "SCANS=1961\n",
    "RTINSECONDS=746.836\n",
    "CHARGE=1+\n",
    "MSLEVEL=2\n",
    "51.02379 5.7E4\n",
    "53.03930 4.1E5\n",
    "70.08131 2.5E4\n",
    "END IONS\n",
    "```\n",
    "\n",
    "Note that there is a strict requirement for \"FEATURE_ID\" to be in all capitals and match the string exactly. If this is not the case, the spectral data will have to be processed with matchms or other means. In the above example, the original feature identifying columns was SCANS. A copy of SCANS was added to each entry with key FEATURE_ID via matchms. Searching for all exact matches of \"SCANS=\" and replacing them with \"FEATURE_ID=\" using any text-editor would be a quick solution."
   ]
  },
  {
   "cell_type": "code",
   "execution_count": 9,
   "metadata": {},
   "outputs": [],
   "source": [
    "data_file_path = \"notebooks/data/demo_data.mgf\" # USER INPUT. BOTH RELATIVE AND ABSOLUTE BATCHS WILL WORK"
   ]
  },
  {
   "cell_type": "markdown",
   "metadata": {},
   "source": [
    "# Pipeline\n",
    "\n",
    "Most of the default specXPlore pipeline runs automatically. Only two steps require user input selection: the selection of the t-SNE embedding, and the selection of k-medoid clustering(s). In both cases, the corresponding pipeline functions will output tuning grid results and the user will have to select a value by setting the idnex to be selected."
   ]
  },
  {
   "cell_type": "code",
   "execution_count": 10,
   "metadata": {},
   "outputs": [],
   "source": [
    "pipeline_instance = specxplore.importing.specxploreImportingPipeline()"
   ]
  },
  {
   "cell_type": "code",
   "execution_count": 11,
   "metadata": {},
   "outputs": [
    {
     "data": {
      "text/plain": [
       "['ms2deepscore', 'spec2vec', 'modified-cosine']"
      ]
     },
     "execution_count": 11,
     "metadata": {},
     "output_type": "execute_result"
    }
   ],
   "source": [
    "pipeline_instance.score_names"
   ]
  }
 ],
 "metadata": {
  "kernelspec": {
   "display_name": "streamline_importing",
   "language": "python",
   "name": "python3"
  },
  "language_info": {
   "codemirror_mode": {
    "name": "ipython",
    "version": 3
   },
   "file_extension": ".py",
   "mimetype": "text/x-python",
   "name": "python",
   "nbconvert_exporter": "python",
   "pygments_lexer": "ipython3",
   "version": "3.8.18"
  }
 },
 "nbformat": 4,
 "nbformat_minor": 2
}
