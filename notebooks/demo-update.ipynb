{
 "cells": [
  {
   "cell_type": "markdown",
   "metadata": {},
   "source": [
    "# Demo for specXplore importing & session initiation\n",
    "\n",
    "## Requirements\n",
    "\n",
    "- python 3.8 is required to ensure compatibility with computational metabolomics packages used (spec2vec, ms2deepscore, ms2query, matchms). \n",
    "- specXplore needs to have been installed according to the guidelines in the [github:readme]{placeholder}"
   ]
  },
  {
   "cell_type": "code",
   "execution_count": null,
   "metadata": {},
   "outputs": [],
   "source": [
    "import matchms\n",
    "import spec2vec\n",
    "import specxplore.importing\n",
    "import ms2query\n",
    "import numpy, pandas, dash, dash_cytoscape, kmedoids\n",
    "print('\\n'.join(f'{m.__name__}=={m.__version__}' for m in globals().values() if getattr(m, '__version__', None)))"
   ]
  },
  {
   "cell_type": "markdown",
   "metadata": {},
   "source": [
    "# User Input\n",
    "\n",
    "For specXplore to run with default settings, all input required by the user is a compatible .mgf file with the following entry style:\n",
    "\n",
    "```text \n",
    "BEGIN IONS\n",
    "FEATURE_ID=1961\n",
    "PEPMASS=105.03386\n",
    "SCANS=1961\n",
    "RTINSECONDS=746.836\n",
    "CHARGE=1+\n",
    "MSLEVEL=2\n",
    "51.02379 5.7E4\n",
    "53.03930 4.1E5\n",
    "70.08131 2.5E4\n",
    "END IONS\n",
    "```\n",
    "\n",
    "Note that there is a strict requirement for \"FEATURE_ID\" to be in all capitals and match the string exactly. If this is not the case, the spectral data will have to be processed with matchms or other means. In the above example, the original feature identifying columns was SCANS. A copy of SCANS was added to each entry with key FEATURE_ID via matchms. Searching for all exact matches of \"SCANS=\" and replacing them with \"FEATURE_ID=\" using any text-editor would be a quick solution."
   ]
  },
  {
   "cell_type": "code",
   "execution_count": null,
   "metadata": {},
   "outputs": [],
   "source": [
    "data_file_path = \"data/demo_data.mgf\" # USER INPUT. BOTH RELATIVE AND ABSOLUTE BATCHS WILL WORK\n",
    "model_file_path = \"models_updated_2024\""
   ]
  },
  {
   "cell_type": "markdown",
   "metadata": {},
   "source": [
    "# Pipeline\n",
    "\n",
    "Most of the default specXPlore pipeline runs automatically. Only two steps require user input selection: the selection of the t-SNE embedding, and the selection of k-medoid clustering(s). In both cases, the corresponding pipeline functions will output tuning grid results and the user will have to select a value by setting the idnex to be selected."
   ]
  },
  {
   "cell_type": "code",
   "execution_count": null,
   "metadata": {},
   "outputs": [],
   "source": [
    "pipeline_instance = specxplore.importing.specxploreImportingPipeline()\n",
    "print(pipeline_instance.score_names)\n",
    "pipeline_instance.attach_spectra_from_file(data_file_path)"
   ]
  },
  {
   "cell_type": "code",
   "execution_count": null,
   "metadata": {},
   "outputs": [],
   "source": [
    "pipeline_instance.run_spectral_processing()\n",
    "pipeline_instance.spectra_matchms[0:5]"
   ]
  },
  {
   "cell_type": "code",
   "execution_count": null,
   "metadata": {},
   "outputs": [],
   "source": [
    "import copy\n",
    "pipeline_copy1 = copy.deepcopy(pipeline_instance)\n",
    "pipeline_copy2 = copy.deepcopy(pipeline_instance)"
   ]
  },
  {
   "cell_type": "code",
   "execution_count": null,
   "metadata": {},
   "outputs": [],
   "source": [
    "import numpy as np\n",
    "array1 = specxplore.importing.compute_similarities_cosine(pipeline_instance.spectra_matchms, 'ModifiedCosine')\n",
    "print(np.min(array1), np.max(array1))\n",
    "\n",
    "array2 = specxplore.importing.compute_similarities_ms2ds(pipeline_instance.spectra_matchms, model_file_path)\n",
    "print(np.min(array2), np.max(array2))\n",
    "\n",
    "array3 = specxplore.importing.compute_similarities_s2v(pipeline_instance.spectra_matchms, model_file_path)\n",
    "print(np.min(array3), np.max(array3))\n",
    "\n",
    "pipeline_copy1.attach_spectral_similarity_arrays(array1, array2, array3)"
   ]
  },
  {
   "cell_type": "code",
   "execution_count": null,
   "metadata": {},
   "outputs": [],
   "source": [
    "pipeline_copy2.run_spectral_similarity_computations(model_file_path, force = True)\n",
    "print(np.min(pipeline_copy2.primary_score), np.min(pipeline_copy2.secondary_score), np.min(pipeline_copy2.tertiary_score))"
   ]
  },
  {
   "cell_type": "code",
   "execution_count": null,
   "metadata": {},
   "outputs": [],
   "source": [
    "from ms2query.run_ms2query import run_ms2query_single_file\n",
    "from ms2query.ms2library import create_library_object_from_one_dir\n"
   ]
  },
  {
   "cell_type": "code",
   "execution_count": null,
   "metadata": {},
   "outputs": [],
   "source": [
    "# Create a MS2Library object\n",
    "ms2library = create_library_object_from_one_dir(model_file_path)"
   ]
  },
  {
   "cell_type": "code",
   "execution_count": null,
   "metadata": {},
   "outputs": [],
   "source": [
    "filename = \"tmp_ms2query_annotations.csv\"\n",
    "\n",
    "# TODO: make a file exist check and create a new filename (as in ms2query) that is added to the pipeline. \n",
    "# Warn the user that an existing file exists and is not used in this run!\n",
    "# add a setting for use existing filename somehow\n",
    "# do this to avoid:\n",
    "# new file run with new filename not caught by specXplore! \n",
    "\n",
    "\n",
    "ms2library.analog_search_store_in_csv(pipeline_instance.spectra_matchms, filename, None)"
   ]
  },
  {
   "cell_type": "code",
   "execution_count": null,
   "metadata": {},
   "outputs": [],
   "source": [
    "import datetime\n",
    "def get_readable_timestamp() -> str:\n",
    "  timestamp = str(datetime.datetime.now()).replace(\" \", \"_\")\n",
    "  return timestamp"
   ]
  }
 ],
 "metadata": {
  "kernelspec": {
   "display_name": "streamline_importing",
   "language": "python",
   "name": "python3"
  },
  "language_info": {
   "codemirror_mode": {
    "name": "ipython",
    "version": 3
   },
   "file_extension": ".py",
   "mimetype": "text/x-python",
   "name": "python",
   "nbconvert_exporter": "python",
   "pygments_lexer": "ipython3",
   "version": "3.8.18"
  }
 },
 "nbformat": 4,
 "nbformat_minor": 2
}
