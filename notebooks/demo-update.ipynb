{
 "cells": [
  {
   "cell_type": "markdown",
   "metadata": {},
   "source": [
    "# Demo for specXplore importing & session initiation\n",
    "\n",
    "## Requirements\n",
    "\n",
    "- python 3.8 is required to ensure compatibility with computational metabolomics packages used (spec2vec, ms2deepscore, ms2query, matchms). \n",
    "- specXplore needs to have been installed according to the guidelines in the [github:readme]{placeholder}"
   ]
  },
  {
   "cell_type": "code",
   "execution_count": null,
   "metadata": {},
   "outputs": [],
   "source": [
    "import specxplore.importing\n",
    "from specxplore.dashboard import SpecxploreDashboard\n",
    "from specxplore.session_data import load_specxplore_object_from_pickle\n",
    "import os # For filepath generality across operating systems for this notebook; user may use their operating specific filepaths\n",
    "import matchms, spec2vec, ms2query, numpy, pandas, dash, dash_cytoscape, kmedoids, ipykernel, jupyter # loaded to show package versions\n",
    "print('\\n'.join(f'{m.__name__}=={m.__version__}' for m in globals().values() if getattr(m, '__version__', None)))"
   ]
  },
  {
   "cell_type": "markdown",
   "metadata": {},
   "source": [
    "# User Input\n",
    "\n",
    "For specXplore to run with default settings, all input required by the user is a compatible .mgf file with the following entry style:\n",
    "\n",
    "```text \n",
    "BEGIN IONS\n",
    "FEATURE_ID=1961\n",
    "PEPMASS=105.03386\n",
    "SCANS=1961\n",
    "RTINSECONDS=746.836\n",
    "CHARGE=1+\n",
    "MSLEVEL=2\n",
    "51.02379 5.7E4\n",
    "53.03930 4.1E5\n",
    "70.08131 2.5E4\n",
    "END IONS\n",
    "```\n",
    "\n",
    "Note that there is a strict requirement for \"feature_id\" to be present and unique for each spectrum. If this is not the case, the spectral data will have to be processed with matchms or other means. In the above example, the original feature identifying columns was SCANS. A copy of SCANS was added to each entry with key FEATURE_ID via matchms. Searching for all exact matches of \"SCANS=\" and replacing them with \"FEATURE_ID=\" using any text-editor would be a quick solution."
   ]
  },
  {
   "cell_type": "code",
   "execution_count": null,
   "metadata": {},
   "outputs": [],
   "source": [
    "data_file_path = os.path.join(\"data\", \"demo_data.mgf\") # USER INPUT. MGF FILEPATH. BOTH RELATIVE AND ABSOLUTE PATHS WILL WORK\n",
    "model_file_path = \"models_updated_2024\" # USER INPUT. MODEL DIRECTORY. BOTH RELATIVE AND ABSOLUTE PATHS WILL WORK"
   ]
  },
  {
   "cell_type": "markdown",
   "metadata": {},
   "source": [
    "# Pipeline\n",
    "\n",
    "Most of the default specXPlore pipeline runs automatically. Only two steps require user input selection: the selection of the t-SNE embedding, and the selection of k-medoid clustering(s). In both cases, the corresponding pipeline functions will output tuning grid results and the user will have to select a value by setting the idnex to be selected.\n",
    "\n",
    "Run the following cell to perform all pipeline steps with default settings. Note that similarity computations and ms2query may take a long time for large datasets."
   ]
  },
  {
   "cell_type": "code",
   "execution_count": null,
   "metadata": {},
   "outputs": [],
   "source": [
    "pipeline_instance = specxplore.importing.specxploreImportingPipeline()\n",
    "pipeline_instance.attach_spectra_from_file(data_file_path)\n",
    "pipeline_instance.run_spectral_processing()\n",
    "pipeline_instance.run_spectral_similarity_computations(model_file_path, force = True)\n",
    "#pipeline_instance.run_ms2query(model_file_path, \"output/ms2query_results.csv\") # to run ms2query use this line of code\n",
    "pipeline_instance.attach_ms2query_results(\"output/ms2query_results.csv\") # to attach premade ms2query results use this line of code\n",
    "pipeline_instance.run_and_attach_tsne_grid(perplexity_values=[5,10,15,100])\n",
    "pipeline_instance.run_and_attach_kmedoid_grid([5,10,15,100])"
   ]
  },
  {
   "cell_type": "code",
   "execution_count": null,
   "metadata": {},
   "outputs": [],
   "source": [
    "features_to_highlight = ['1961', '76', '198'] # USER INPUT : ... PROVIDE SOME FEATURE_IDS AS A LIST, OR PROVIDE EMPTY LIST []\n",
    "selected_tsne_iloc = 1 # USER INPUT : SELECT AN ILOC FROM TSNE OPTIMIZATION RESULTS OF PREVIOUS CELL.\n",
    "selected_kmedoid_ilocs = [0, 2] # USER INPUT : SELECT ILOC(S) FROM KMEDOID OPTIMIZATION RESULTS OF PREVIOUS CELL."
   ]
  },
  {
   "cell_type": "code",
   "execution_count": null,
   "metadata": {},
   "outputs": [],
   "source": [
    "pipeline_instance.attach_feature_highlights(features_to_highlight)\n",
    "pipeline_instance.select_tsne_settings(selected_tsne_iloc)\n",
    "pipeline_instance.select_kmedoid_settings(selected_kmedoid_ilocs)\n",
    "pipeline_instance.export_specxplore_session_data(force = True)"
   ]
  },
  {
   "cell_type": "code",
   "execution_count": null,
   "metadata": {},
   "outputs": [],
   "source": [
    "#import specxplore.run_dashboard\n",
    "#specxplore.run_dashboard.app.run_server(jupyter_mode=\"external\")\n",
    "pipeline_instance.tsne_coordinates_table"
   ]
  },
  {
   "cell_type": "code",
   "execution_count": null,
   "metadata": {},
   "outputs": [],
   "source": [
    "data = load_specxplore_object_from_pickle(filepath=\"output/specxplore_session_data.pickle\") # using the default specXplore filepath\n",
    "dashboard = SpecxploreDashboard(data).run_app(jupyter_mode = \"external\")\n",
    "#dashboard.run_app() # to run locally inside jupyter notebook."
   ]
  }
 ],
 "metadata": {
  "kernelspec": {
   "display_name": "streamline_importing",
   "language": "python",
   "name": "python3"
  },
  "language_info": {
   "codemirror_mode": {
    "name": "ipython",
    "version": 3
   },
   "file_extension": ".py",
   "mimetype": "text/x-python",
   "name": "python",
   "nbconvert_exporter": "python",
   "pygments_lexer": "ipython3",
   "version": "3.8.18"
  }
 },
 "nbformat": 4,
 "nbformat_minor": 2
}
