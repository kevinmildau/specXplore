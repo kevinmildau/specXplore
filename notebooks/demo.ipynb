{
 "cells": [
  {
   "cell_type": "markdown",
   "metadata": {},
   "source": [
    "# SpecXplore Demo Notebook\n",
    "\n",
    "This notebook takes the user through the data importing steps of specxplore. \n",
    "This also includes a run of ms2query on a demo dataset. \n",
    "The used dataset is very small to guarantee quick speed of all processing. \n",
    "The data used in the demo consists of the first 30 ion entries of the wheat data .mgf file used in the illustrative examples of the specXplore publication.\n",
    "\n",
    "Note that, to run ms2query as well as ms2deepscore and spec2vec models used in specXplore one needs to provide pre-trained model files. \n",
    "There are assumed to be in the \"models\" directory with a path that needs to be specified by the user. \n",
    "To download the latter, please use the latest model files linked to on the github repo of [ms2query](https://github.com/iomega/ms2query), i.e. [https://zenodo.org/record/6124552](https://zenodo.org/record/6124552) for positive mode and [https://zenodo.org/record/7104184](https://zenodo.org/record/7104184) for negative mode (Sept. 5, 2023). \n",
    "All model files for the ion mode of the data should be put into one folder, the path of which is needed for specXplore intialization and ms2query running.\n",
    "\n",
    "This notebook assumes the following folder structure:\n",
    "\n",
    "```\n",
    "|--[parent folder]\n",
    "     |-- demo.ipynb\n",
    "     |-- models\n",
    "          |-- {model & library files from ms2query for positive mode}\n",
    "     |-- data\n",
    "          |-- demo_data.mgf\n",
    "     |-- output\n",
    "          |-- demo_data.csv (ms2query results created using demo.ipynb)\n",
    "          |-- demo.pickle (created using demo.ipynb)\n",
    "```"
   ]
  },
  {
   "cell_type": "markdown",
   "metadata": {},
   "source": [
    "# Step 1: Initialize Jupyter Notebook\n",
    "\n",
    "This step starts with selecting the right kernel to run the jupyter notebook in. If the set-up instructions were followed, the kernel with specXplore installed is the conda environment with name specxplore_environment. Select this environment as the kernel to run jupyter notebook. If successfully created, this kernel contains all packages required for specXplore to run, including matchms, ms2query, spec2vec, and ms2deepscore.\n",
    "\n",
    "The following code block is used to make all required packages availabile in this notebook session:"
   ]
  },
  {
   "cell_type": "code",
   "execution_count": null,
   "metadata": {},
   "outputs": [],
   "source": [
    "import specxplore.importing\n",
    "import matchms\n",
    "import matchms.filtering\n",
    "import ms2query\n",
    "import os\n",
    "import pandas as pd"
   ]
  },
  {
   "cell_type": "markdown",
   "metadata": {},
   "source": [
    "The next code block gives relative paths to all inputs and outputs used in this notebook. \n",
    "Having all paths specified in one place helps with keeping an overview of file paths. \n",
    "The os model is used to ensure that filepaths comprised of folder names and filenames are constructued to conform with the standards of the operating system. \n",
    "This ensures that relative filepaths generalize across systems."
   ]
  },
  {
   "cell_type": "code",
   "execution_count": null,
   "metadata": {},
   "outputs": [],
   "source": [
    "################ File paths for specXplore ################\n",
    "# Folder path for the pre-trained models and local ms2query library\n",
    "models_and_library_folder_path = os.path.join(\"models\")\n",
    "\n",
    "# File path for spectral data .mgf file to be explored using specXplore\n",
    "input_mgf_filepath = os.path.join(\"data\", \"demo_data.mgf\")\n",
    "\n",
    "################ File paths for ms2query ################\n",
    "# Folder path that contains the .mgf file with spectral data\n",
    "input_data_folder  = os.path.join(\"data\")\n",
    "\n",
    "# The filename of the .mgf file\n",
    "mgf_filename = os.path.join(\"demo_data.mgf\")\n",
    "\n",
    "# Folder to which ms2query puts the results .csv file\n",
    "output_ms2query_directory = os.path.join(\"output\")\n",
    "\n",
    "# ms2query csv file name derived from input spectrum filename\n",
    "output_ms2query_filepath = os.path.join(\"output\", \"demo_data.csv\") \n",
    "\n",
    "# Output paths\n",
    "output_filepath = os.path.join(\"output\", \"demo.pickle\")"
   ]
  },
  {
   "cell_type": "markdown",
   "metadata": {},
   "source": [
    "# Step 2: Load and pre-process input data files"
   ]
  },
  {
   "cell_type": "code",
   "execution_count": null,
   "metadata": {},
   "outputs": [],
   "source": [
    "spectra_matchms = list(\n",
    "    matchms.importing.load_from_mgf(input_mgf_filepath)\n",
    ")\n",
    "spectra_matchms = specxplore.importing.apply_basic_matchms_filters_to_spectra(spectra_matchms)"
   ]
  },
  {
   "cell_type": "markdown",
   "metadata": {},
   "source": [
    "The following code block does a quick pre-emptive check for unqiqueness fo feature identifiers. Should the latter be non-unique, problems may occur in follow-up processing. There is a final check for uniquenss in the specXplore constructor for this as well."
   ]
  },
  {
   "cell_type": "code",
   "execution_count": null,
   "metadata": {},
   "outputs": [],
   "source": [
    "# Check for uniqueness of feature_ids \n",
    "feature_ids = [spec.get(\"feature_id\") for spec in spectra_matchms]\n",
    "print(feature_ids[0:4])\n",
    "assert len(feature_ids) == len(set(feature_ids)), \"Feature_ids must be unique!\"\n",
    "print(\"Uniqueness assertion passed\")"
   ]
  },
  {
   "cell_type": "markdown",
   "metadata": {},
   "source": [
    "# Step 3: Run ms2query \n",
    "\n",
    "ms2query is used in specXplore to provide additional chemical context to unknown spectra. \n",
    "This includes the putative analog matches, as well as the chemical classifications of the latter which may serve as guidelines for which part of the t-SNE embedding can be considered of interest. \n",
    "In general, it is advised to make use of a suitable match threshold for ms2query to avoid excessibve numbers of false positive hits (non-analogs). \n",
    "In this example no threshold is set and any putative analog match is kept regardless of score. \n",
    "Individual results are thus to be  read carefully and compared with the match score. \n",
    "Running ms2query is the step in this list with the longest runtime. This is because every spectrum is compared against a large offline database at each step."
   ]
  },
  {
   "cell_type": "code",
   "execution_count": null,
   "metadata": {},
   "outputs": [],
   "source": [
    "ms2library = ms2query.create_library_object_from_one_dir(\n",
    "    models_and_library_folder_path\n",
    ")\n",
    "\n",
    "ms2query.run_ms2query_single_file(\n",
    "    ms2library = ms2library, \n",
    "    folder_with_spectra = input_data_folder,\n",
    "    spectrum_file_name = mgf_filename, \n",
    "    results_folder = output_ms2query_directory,\n",
    "    settings = ms2query.utils.SettingsRunMS2Query()\n",
    ")"
   ]
  },
  {
   "cell_type": "markdown",
   "metadata": {},
   "source": [
    "For the ms2query analog annotation table to be used inside the specXplore dashboard it needs to be post-processed. \n",
    "By default, ms2query does not run for spectra that not fulfill its quality criteria with the corresponding entries missing from the .csv table. \n",
    "specXplore on the other hand makes use of all spectra inside the spectra_matchms object. \n",
    "The succesful ms2query runs thus have to be aligned with the matching spectra used in specXplore. \n",
    "\n",
    "In addition, analog classifications can be converted into a table suitable for class based coloring in specXplore.\n",
    "\n",
    "Both tables can be joined into specxplore via their feature_id key column in later steps."
   ]
  },
  {
   "cell_type": "code",
   "execution_count": null,
   "metadata": {},
   "outputs": [],
   "source": [
    "# Get list of raw spectra without specXplore pre-processing as used in ms2query\n",
    "raw_mgf_spectra = list(\n",
    "    matchms.importing.load_from_mgf(\n",
    "        input_mgf_filepath\n",
    "    )\n",
    ")\n",
    "\n",
    "# Get ascending order number for each spectrum (query number)\n",
    "raw_data_spectrum_number = [\n",
    "    iloc \n",
    "    for iloc in range(1, len(raw_mgf_spectra)+1)\n",
    "]\n",
    "\n",
    "# Get feature_id entries for all spectra\n",
    "raw_data_feature_ids = [\n",
    "    spec.get('feature_id') \n",
    "    for spec in raw_mgf_spectra\n",
    "]\n",
    "\n",
    "# Create a mapping of feature_id to query_number\n",
    "raw_iloc_to_feature_id_mapping = pd.DataFrame(\n",
    "    {\n",
    "        \"feature_id\": raw_data_feature_ids, \n",
    "        \"query_spectrum_nr\" : raw_data_spectrum_number\n",
    "    }\n",
    ")\n",
    "\n",
    "# Load ms2query results table using pandas\n",
    "ms2query_annotation_table = pd.read_csv(\n",
    "    output_ms2query_filepath\n",
    ")\n",
    "\n",
    "# Join the ms2query results table with the feature mapping such that for each available query, a feature_id is present\n",
    "ms2query_annotation_table = ms2query_annotation_table.merge(\n",
    "    raw_iloc_to_feature_id_mapping, \n",
    "    how = \"left\", \n",
    "    on=\"query_spectrum_nr\"\n",
    ")\n",
    "\n",
    "# Rename ms2query feature identifier column and recast it as string type if not already\n",
    "ms2query_annotation_table[\"feature_id\"] = ms2query_annotation_table[\"feature_id\"].astype(\"string\")\n"
   ]
  },
  {
   "cell_type": "code",
   "execution_count": null,
   "metadata": {},
   "outputs": [],
   "source": [
    "\n",
    "# Extract ms2query analog classification table for heuristic highlighting\n",
    "ms2query_analog_classification = ms2query_annotation_table.loc[\n",
    "    :, \n",
    "    [\n",
    "        'cf_superclass', 'cf_class', 'cf_subclass', 'cf_direct_parent', 'npc_class_results', 'npc_superclass_results',\n",
    "        'npc_pathway_results', 'feature_id'\n",
    "    ]\n",
    "]\n",
    "ms2query_analog_classification"
   ]
  },
  {
   "cell_type": "markdown",
   "metadata": {},
   "source": [
    "# Step 4: Initialize specXplore session\n",
    "\n",
    "This is the first specXplore specific step. Here, the spectral data is supplied to the SessionData() constructor which separates spectral information, feature_ids, and runs pairwise similarity computations using matchms (unless provided). The models and library folder path is used the by SessionData constructor function for accessing the trained ms2deepscore and spec2vec models."
   ]
  },
  {
   "cell_type": "code",
   "execution_count": null,
   "metadata": {},
   "outputs": [],
   "source": [
    "specxplore_demo_session = specxplore.importing.SessionData(\n",
    "    spectra_matchms, \n",
    "    models_and_library_folder_path\n",
    ")"
   ]
  },
  {
   "cell_type": "markdown",
   "metadata": {},
   "source": [
    "# Step 5: Run Grids and Select t-SNE and k-medoid parameters"
   ]
  },
  {
   "cell_type": "code",
   "execution_count": null,
   "metadata": {},
   "outputs": [],
   "source": [
    "specxplore_demo_session.attach_kmedoid_grid(\n",
    "    k_values=[3, 6, 8]\n",
    ")"
   ]
  },
  {
   "cell_type": "code",
   "execution_count": null,
   "metadata": {},
   "outputs": [],
   "source": [
    "specxplore_demo_session.attach_run_tsne_grid(\n",
    "    perplexity_values=[3, 5, 10]\n",
    ")"
   ]
  },
  {
   "cell_type": "code",
   "execution_count": null,
   "metadata": {},
   "outputs": [],
   "source": [
    "# select a particular iloc of the tsne grid with good distance preservation\n",
    "specxplore_demo_session.select_tsne_coordinates(2) \n",
    "\n",
    "# select particular iloc(s) for kmedoid cluster assignments to add to class table\n",
    "specxplore_demo_session.select_kmedoid_cluster_assignments([0,1,2]) "
   ]
  },
  {
   "cell_type": "markdown",
   "metadata": {},
   "source": [
    "# Step 6: Attach classification data to SessionData"
   ]
  },
  {
   "cell_type": "code",
   "execution_count": null,
   "metadata": {},
   "outputs": [],
   "source": [
    "specxplore_demo_session.attach_addon_data_to_class_table(ms2query_analog_classification)"
   ]
  },
  {
   "cell_type": "markdown",
   "metadata": {},
   "source": [
    "# Step 7: Attach metadata to the SessionData"
   ]
  },
  {
   "cell_type": "code",
   "execution_count": null,
   "metadata": {},
   "outputs": [],
   "source": [
    "specxplore_demo_session.attach_addon_data_to_metadata(ms2query_annotation_table)"
   ]
  },
  {
   "cell_type": "markdown",
   "metadata": {},
   "source": [
    "# Step 8: Designate Highighlted Spectra"
   ]
  },
  {
   "cell_type": "code",
   "execution_count": null,
   "metadata": {},
   "outputs": [],
   "source": [
    "specxplore_demo_session.construct_highlight_table(['1961', '76', '198', '301'])"
   ]
  },
  {
   "cell_type": "markdown",
   "metadata": {},
   "source": [
    "# Step 9: Initialize SessionData derived variables"
   ]
  },
  {
   "cell_type": "code",
   "execution_count": null,
   "metadata": {},
   "outputs": [],
   "source": [
    "specxplore_demo_session.initialize_specxplore_session()"
   ]
  },
  {
   "cell_type": "markdown",
   "metadata": {},
   "source": [
    "# Step 10: Save the file"
   ]
  },
  {
   "cell_type": "code",
   "execution_count": null,
   "metadata": {},
   "outputs": [],
   "source": [
    "specxplore_demo_session.check_and_save_to_file(output_filepath)"
   ]
  },
  {
   "cell_type": "markdown",
   "metadata": {},
   "source": [
    "# Step 11: Start up dashboard and explore data"
   ]
  },
  {
   "cell_type": "markdown",
   "metadata": {},
   "source": [
    "Follow the readme guidelines on how to open a specxplore dashboard using the terminal and upload your saved demo_data.pickle using the full filepath. "
   ]
  }
 ],
 "metadata": {
  "kernelspec": {
   "display_name": "multi_score",
   "language": "python",
   "name": "python3"
  },
  "language_info": {
   "codemirror_mode": {
    "name": "ipython",
    "version": 3
   },
   "file_extension": ".py",
   "mimetype": "text/x-python",
   "name": "python",
   "nbconvert_exporter": "python",
   "pygments_lexer": "ipython3",
   "version": "3.8.18"
  },
  "orig_nbformat": 4
 },
 "nbformat": 4,
 "nbformat_minor": 2
}
