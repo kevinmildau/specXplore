{
 "cells": [
  {
   "attachments": {},
   "cell_type": "markdown",
   "metadata": {},
   "source": [
    "Template code structure for the pre-processing steps to be done by the end user.\n",
    "\n",
    "\n",
    "- for spectral similarity scoring only the ms2query folder location is needed in the current implementation. models are automatically fetched.\n",
    "- ms2query's currently used implementation can only do batch folder runs. If the single file run is available, the input-filename.mgf can be used for both ms2query and the matchms mgf importer. For now, the >> assumed << single mgf file input name is needed separately from the folder name.\n",
    "\n",
    "- mds2query provides some convenience with folder based batch processing. My preferred approach for this is different however. I'd like to have a batch processing tool which can merge mutliple mgf files into one, but then processing is kept to a single linear input -> output chain whithout different numbers of intermediates. I process the standards differently from the experimental mgf file since the annotation approach differs.\n",
    "\n",
    "matchms notes\n",
    "- save_as_mgf does not overwrite an existing mgf; instead it starts to add to it! There is no mention of this anywhere of course.\n",
    "\n",
    "ms2query notes:\n",
    "- the ms2query models and library folder will contain the models for pairwise similarity matrix computation\n",
    "- however, they will be multiple files, with complex names, including post vs neg differentiation.\n",
    "- ms2query files need to be downloaded to two separate folders for positive and negative modes\n",
    "- note also that ms2query seems to produce a different results.csv for negative mode than for positvie mode (neg has no classificaiton); using the classification table from positive mode seems to work however\n",
    "- The version of ms2query currently used does not have support for single input file runs using run_ms2query_single_file (not defined)\n",
    "- the zenodo downloader avoids downloading if files are already present. Assessment of filenames is done using the zenodo directory provided and the various filenames contained within the folder.\n",
    "- ms2query filenames are long, timestamped and quite inconsistent. Writing generic find and load model files may be tricky. ms2ds and spec2vec / s2v occur in names. In general, in the ion mode specific folder, one .hdf5 file for ms2deepscore needs to be loaded. In addition, a .model, a .model.syn1neg.npy, and a model.wv.vectors.npy need to be loaded. On the basis of file type suffixes alone the corresponding files could thus be identified and loaded. In addition, spec2vec loading only requires the .model path, the rest is dealt with automatically. Hence, in each model case, only one file needs to be found. \n",
    "- ms2query produces a result csv file for each spectrums.mgf file in the input file location. It inherits the name of the input.mgf file, with .mgf being turned into .csv. \n",
    "- Filenames for standards and experimental spectra should be different to avoid filename overlap problems from ms2query's folder processing approach\n",
    "\n",
    "\n",
    "- ms2query will refuse to give any results for some spetra that fail to pass some cleaning criteria. Those spectra will be omitted from the results.csv file. However, the ms2query query_spectrum_nr will be based on the iloc + 1 of the spectra in the original list. This means that it is in principle possible to expand the reduced size ms2query output to full size with NA."
   ]
  },
  {
   "cell_type": "code",
   "execution_count": 1,
   "metadata": {},
   "outputs": [],
   "source": [
    "from template_processing_funs import clean_spectra\n",
    "from matchms.importing import load_from_mgf\n",
    "from matchms.exporting import save_as_mgf\n"
   ]
  },
  {
   "cell_type": "code",
   "execution_count": 2,
   "metadata": {},
   "outputs": [
    {
     "name": "stdout",
     "output_type": "stream",
     "text": [
      "30\n",
      "26\n",
      "Filtered out 4 of a total of 30 spectra. 26 spectra remaining.\n",
      "9\n",
      "7\n",
      "Filtered out 2 of a total of 9 spectra. 7 spectra remaining.\n"
     ]
    },
    {
     "name": "stderr",
     "output_type": "stream",
     "text": [
      "/opt/homebrew/Caskroom/miniconda/base/envs/ms2query/lib/python3.8/site-packages/pyteomics/auxiliary/file_helpers.py:593: FutureWarning: Opening an existing file in append mode. The default mode will change from 'a' to 'w' in a future version. Pass `file_mode='a'` to keep old behavior and suppress this warning.\n",
      "  warnings.warn(\"Opening an existing file in append mode. \"\n"
     ]
    }
   ],
   "source": [
    "\n",
    "spectrums_exp = list(load_from_mgf(\"./testing/raw_data/spectra_set1.mgf\"))\n",
    "n_raw = len(spectrums_exp)\n",
    "print(n_raw)\n",
    "spectrums_exp = clean_spectra(spectrums_exp)\n",
    "spectrums_exp = list(filter(lambda item: item is not None, spectrums_exp))\n",
    "n_cleaned = len(spectrums_exp)\n",
    "print(n_cleaned)\n",
    "print(f\"Filtered out {n_raw - n_cleaned} of a total of {n_raw} spectra. {n_cleaned} spectra remaining.\")\n",
    "\n",
    "\n",
    "spectrums_standards = list(load_from_mgf(\"./testing/raw_data/spectra_set2.mgf\"))\n",
    "n_raw = len(spectrums_standards)\n",
    "print(n_raw)\n",
    "spectrums_standards = clean_spectra(spectrums_standards)\n",
    "spectrums_standards = list(filter(lambda item: item is not None, spectrums_standards))\n",
    "n_cleaned = len(spectrums_standards)\n",
    "print(n_cleaned)\n",
    "print(f\"Filtered out {n_raw - n_cleaned} of a total of {n_raw} spectra. {n_cleaned} spectra remaining.\")\n",
    "\n",
    "import os\n",
    "if os.path.exists(\"./testing/data/polyphenol-set1/spectra_set1.mgf\"):\n",
    "  os.remove(\"./testing/data/polyphenol-set1/spectra_set1.mgf\")\n",
    "if os.path.exists(\"./testing/data/polyphenol-set2/spectra_set2.mgf\"):\n",
    "  os.remove(\"./testing/data/polyphenol-set2/spectra_set2.mgf\")\n",
    "\n",
    "save_as_mgf(spectrums_exp, \"./testing/data/polyphenol-set1/spectra_set1.mgf\")\n",
    "save_as_mgf(spectrums_standards, \"./testing/data/polyphenol-set2/spectra_set2.mgf\")"
   ]
  },
  {
   "cell_type": "code",
   "execution_count": 3,
   "metadata": {},
   "outputs": [],
   "source": [
    "experimental_spectra_folder_pos  = \"./testing/data/polyphenol-set1\"\n",
    "experimental_spectra_filename_pos  = \"./testing/data/polyphenol-set1/spectra_set1.mgf\"\n",
    "reference_standards_folder_pos = \"./testing/data/polyphenol-set2\"\n",
    "reference_standards_filename_pos = \"./testing/data/polyphenol-set2/spectra_set2.mgf\"\n",
    "\n",
    "models_and_library_folder_pos = \"./testing/data/ms2query_models_and_library_pos\"\n",
    "models_and_library_folder_neg = \"./testing/data/ms2query_models_and_library_neg\"\n",
    "\n",
    "results_folder = \"./testing/results\""
   ]
  },
  {
   "attachments": {},
   "cell_type": "markdown",
   "metadata": {},
   "source": [
    "### Process and Annotate spectrum data\n",
    "\n",
    "- An mgf file is loaded and matchms spectrum cleaning and harmonization functions are applied as a pipeline. \n",
    "- ms2query is run to generate classification tables and analog predictions. \n",
    "- The spectrum metadata is extracted as a pandas df.\n",
    "\n",
    "Returns:\n",
    "cleaned spectrum list, classification table, analog table, metadata table. All linked together through sample_idx."
   ]
  },
  {
   "cell_type": "code",
   "execution_count": 4,
   "metadata": {},
   "outputs": [
    {
     "name": "stderr",
     "output_type": "stream",
     "text": [
      "/opt/homebrew/Caskroom/miniconda/base/envs/ms2query/lib/python3.8/site-packages/PubChemPy-1.0.4-py3.8.egg/pubchempy.py:563: SyntaxWarning: \"is not\" with a literal. Did you mean \"!=\"?\n",
      "/opt/homebrew/Caskroom/miniconda/base/envs/ms2query/lib/python3.8/site-packages/PubChemPy-1.0.4-py3.8.egg/pubchempy.py:563: SyntaxWarning: \"is not\" with a literal. Did you mean \"!=\"?\n"
     ]
    }
   ],
   "source": [
    "from ms2query.run_ms2query import download_zenodo_files, run_complete_folder\n",
    "from ms2query.ms2library import create_library_object_from_one_dir"
   ]
  },
  {
   "cell_type": "code",
   "execution_count": 5,
   "metadata": {},
   "outputs": [
    {
     "name": "stdout",
     "output_type": "stream",
     "text": [
      "file with the name ./testing/data/ms2query_models_and_library_pos/ALL_GNPS_210409_positive_processed_annotated_CF_NPC_classes.txt already exists, so was not downloaded\n",
      "file with the name ./testing/data/ms2query_models_and_library_pos/library_GNPS_15_12_2021_ms2ds_embeddings.pickle already exists, so was not downloaded\n",
      "file with the name ./testing/data/ms2query_models_and_library_pos/library_GNPS_15_12_2021_s2v_embeddings.pickle already exists, so was not downloaded\n",
      "file with the name ./testing/data/ms2query_models_and_library_pos/library_GNPS_15_12_2021.sqlite already exists, so was not downloaded\n",
      "file with the name ./testing/data/ms2query_models_and_library_pos/ms2ds_model_GNPS_15_12_2021.hdf5 already exists, so was not downloaded\n",
      "file with the name ./testing/data/ms2query_models_and_library_pos/ms2query_random_forest_model.pickle already exists, so was not downloaded\n",
      "file with the name ./testing/data/ms2query_models_and_library_pos/spec2vec_model_GNPS_15_12_2021.model already exists, so was not downloaded\n",
      "file with the name ./testing/data/ms2query_models_and_library_pos/spec2vec_model_GNPS_15_12_2021.model.syn1neg.npy already exists, so was not downloaded\n",
      "file with the name ./testing/data/ms2query_models_and_library_pos/spec2vec_model_GNPS_15_12_2021.model.wv.vectors.npy already exists, so was not downloaded\n",
      "file with the name ./testing/data/ms2query_models_and_library_neg/neg_GNPS_15_12_2021_ms2ds_model.hdf5 already exists, so was not downloaded\n",
      "file with the name ./testing/data/ms2query_models_and_library_neg/neg_GNPS_15_12_2021_ms2query_random_forest_model.pickle already exists, so was not downloaded\n",
      "file with the name ./testing/data/ms2query_models_and_library_neg/neg_library_GNPS_15_12_2021.sqlite already exists, so was not downloaded\n",
      "file with the name ./testing/data/ms2query_models_and_library_neg/neg_mode_GNPS_15_12_2021_ms2ds_embeddings.pickle already exists, so was not downloaded\n",
      "file with the name ./testing/data/ms2query_models_and_library_neg/neg_mode_GNPS_15_12_2021_s2v_embeddings.pickle already exists, so was not downloaded\n",
      "file with the name ./testing/data/ms2query_models_and_library_neg/neg_mode_spec2vec_model_GNPS_15_12_2021.model already exists, so was not downloaded\n",
      "file with the name ./testing/data/ms2query_models_and_library_neg/neg_mode_spec2vec_model_GNPS_15_12_2021.model.syn1neg.npy already exists, so was not downloaded\n",
      "file with the name ./testing/data/ms2query_models_and_library_neg/neg_mode_spec2vec_model_GNPS_15_12_2021.model.wv.vectors.npy already exists, so was not downloaded\n"
     ]
    }
   ],
   "source": [
    "# Specify zenodo doi's for positive and negative mode\n",
    "zenodo_DOIs = {\"positive\": 6997924, \"negative\": 7107654}\n",
    "# Downloads pretrained models and files for MS2Query (>2GB download)\n",
    "download_zenodo_files(zenodo_DOIs[\"positive\"], models_and_library_folder_pos)\n",
    "download_zenodo_files(zenodo_DOIs[\"negative\"], models_and_library_folder_neg)\n",
    "\n",
    "# added all annotated GNPS pos csv to neg as well for inchikey to class"
   ]
  },
  {
   "cell_type": "code",
   "execution_count": 6,
   "metadata": {},
   "outputs": [
    {
     "name": "stderr",
     "output_type": "stream",
     "text": [
      "/opt/homebrew/Caskroom/miniconda/base/envs/ms2query/lib/python3.8/site-packages/sklearn/base.py:288: UserWarning: Trying to unpickle estimator DecisionTreeRegressor from version 0.24.2 when using version 1.2.0. This might lead to breaking code or invalid results. Use at your own risk. For more info please refer to:\n",
      "https://scikit-learn.org/stable/model_persistence.html#security-maintainability-limitations\n",
      "  warnings.warn(\n",
      "/opt/homebrew/Caskroom/miniconda/base/envs/ms2query/lib/python3.8/site-packages/sklearn/base.py:288: UserWarning: Trying to unpickle estimator RandomForestRegressor from version 0.24.2 when using version 1.2.0. This might lead to breaking code or invalid results. Use at your own risk. For more info please refer to:\n",
      "https://scikit-learn.org/stable/model_persistence.html#security-maintainability-limitations\n",
      "  warnings.warn(\n",
      "2023-02-03 11:15:13.823413: I tensorflow/core/common_runtime/pluggable_device/pluggable_device_factory.cc:306] Could not identify NUMA node of platform GPU ID 0, defaulting to 0. Your kernel may not have been built with NUMA support.\n",
      "2023-02-03 11:15:13.823752: I tensorflow/core/common_runtime/pluggable_device/pluggable_device_factory.cc:272] Created TensorFlow device (/job:localhost/replica:0/task:0/device:GPU:0 with 0 MB memory) -> physical PluggableDevice (device: 0, name: METAL, pci bus id: <undefined>)\n"
     ]
    },
    {
     "name": "stdout",
     "output_type": "stream",
     "text": [
      "Metal device set to: Apple M1 Pro\n",
      "\n",
      "systemMemory: 16.00 GB\n",
      "maxCacheSize: 5.33 GB\n",
      "\n"
     ]
    }
   ],
   "source": [
    "# Create a MS2Library object\n",
    "ms2library = create_library_object_from_one_dir(models_and_library_folder_pos)"
   ]
  },
  {
   "cell_type": "code",
   "execution_count": 7,
   "metadata": {},
   "outputs": [
    {
     "ename": "AssertionError",
     "evalue": "Csv file location for results already exists",
     "output_type": "error",
     "traceback": [
      "\u001b[0;31m---------------------------------------------------------------------------\u001b[0m",
      "\u001b[0;31mAssertionError\u001b[0m                            Traceback (most recent call last)",
      "Cell \u001b[0;32mIn[7], line 2\u001b[0m\n\u001b[1;32m      1\u001b[0m \u001b[39m# Run library search and analog search on your files.\u001b[39;00m\n\u001b[0;32m----> 2\u001b[0m run_complete_folder(\n\u001b[1;32m      3\u001b[0m     ms2library, experimental_spectra_folder_pos, results_folder\u001b[39m=\u001b[39;49mresults_folder)\n",
      "File \u001b[0;32m/opt/homebrew/Caskroom/miniconda/base/envs/ms2query/lib/python3.8/site-packages/ms2query-0.5.6-py3.8.egg/ms2query/run_ms2query.py:98\u001b[0m, in \u001b[0;36mrun_complete_folder\u001b[0;34m(ms2library, folder_with_spectra, results_folder, nr_of_analogs_to_store, minimal_ms2query_score, additional_metadata_columns, additional_ms2query_score_columns)\u001b[0m\n\u001b[1;32m     96\u001b[0m     spectra \u001b[39m=\u001b[39m load_matchms_spectrum_objects_from_file(os\u001b[39m.\u001b[39mpath\u001b[39m.\u001b[39mjoin(folder_with_spectra, file_name))\n\u001b[1;32m     97\u001b[0m     analogs_results_file_name \u001b[39m=\u001b[39m os\u001b[39m.\u001b[39mpath\u001b[39m.\u001b[39mjoin(results_folder, os\u001b[39m.\u001b[39mpath\u001b[39m.\u001b[39msplitext(file_name)[\u001b[39m0\u001b[39m] \u001b[39m+\u001b[39m \u001b[39m\"\u001b[39m\u001b[39m.csv\u001b[39m\u001b[39m\"\u001b[39m)\n\u001b[0;32m---> 98\u001b[0m     ms2library\u001b[39m.\u001b[39;49manalog_search_store_in_csv(spectra,\n\u001b[1;32m     99\u001b[0m                                           analogs_results_file_name,\n\u001b[1;32m    100\u001b[0m                                           nr_of_top_analogs_to_save\u001b[39m=\u001b[39;49mnr_of_analogs_to_store,\n\u001b[1;32m    101\u001b[0m                                           minimal_ms2query_metascore\u001b[39m=\u001b[39;49mminimal_ms2query_score,\n\u001b[1;32m    102\u001b[0m                                           additional_metadata_columns\u001b[39m=\u001b[39;49madditional_metadata_columns,\n\u001b[1;32m    103\u001b[0m                                           additional_ms2query_score_columns\u001b[39m=\u001b[39;49madditional_ms2query_score_columns)\n\u001b[1;32m    104\u001b[0m     \u001b[39mprint\u001b[39m(\u001b[39mf\u001b[39m\u001b[39m\"\u001b[39m\u001b[39mResults stored in \u001b[39m\u001b[39m{\u001b[39;00manalogs_results_file_name\u001b[39m}\u001b[39;00m\u001b[39m\"\u001b[39m)\n\u001b[1;32m    105\u001b[0m \u001b[39melse\u001b[39;00m:\n",
      "File \u001b[0;32m/opt/homebrew/Caskroom/miniconda/base/envs/ms2query/lib/python3.8/site-packages/ms2query-0.5.6-py3.8.egg/ms2query/ms2library.py:243\u001b[0m, in \u001b[0;36mMS2Library.analog_search_store_in_csv\u001b[0;34m(self, query_spectra, results_csv_file_location, preselection_cut_off, nr_of_top_analogs_to_save, minimal_ms2query_metascore, additional_metadata_columns, additional_ms2query_score_columns)\u001b[0m\n\u001b[1;32m    212\u001b[0m \u001b[39m\"\"\"Stores the results of an analog in csv files.\u001b[39;00m\n\u001b[1;32m    213\u001b[0m \n\u001b[1;32m    214\u001b[0m \u001b[39mThis method is less memory intensive than analog_search_return_results_table,\u001b[39;00m\n\u001b[0;32m   (...)\u001b[0m\n\u001b[1;32m    238\u001b[0m \u001b[39m    \"average_tanimoto_score_library_structures\"\u001b[39;00m\n\u001b[1;32m    239\u001b[0m \u001b[39m\"\"\"\u001b[39;00m\n\u001b[1;32m    240\u001b[0m \u001b[39m# pylint: disable=too-many-arguments\u001b[39;00m\n\u001b[1;32m    241\u001b[0m \n\u001b[1;32m    242\u001b[0m \u001b[39m# Create csv file if it does not exist already\u001b[39;00m\n\u001b[0;32m--> 243\u001b[0m \u001b[39massert\u001b[39;00m \u001b[39mnot\u001b[39;00m os\u001b[39m.\u001b[39mpath\u001b[39m.\u001b[39mexists(results_csv_file_location), \u001b[39m\"\u001b[39m\u001b[39mCsv file location for results already exists\u001b[39m\u001b[39m\"\u001b[39m\n\u001b[1;32m    244\u001b[0m \u001b[39massert\u001b[39;00m \u001b[39mself\u001b[39m\u001b[39m.\u001b[39mms2query_model \u001b[39mis\u001b[39;00m \u001b[39mnot\u001b[39;00m \u001b[39mNone\u001b[39;00m, \\\n\u001b[1;32m    245\u001b[0m     \u001b[39m\"\u001b[39m\u001b[39mMS2Query model should be given when creating ms2library object\u001b[39m\u001b[39m\"\u001b[39m\n\u001b[1;32m    247\u001b[0m \u001b[39mwith\u001b[39;00m \u001b[39mopen\u001b[39m(results_csv_file_location, \u001b[39m\"\u001b[39m\u001b[39mw\u001b[39m\u001b[39m\"\u001b[39m, encoding\u001b[39m=\u001b[39m\u001b[39m\"\u001b[39m\u001b[39mutf-8\u001b[39m\u001b[39m\"\u001b[39m) \u001b[39mas\u001b[39;00m csv_file:\n",
      "\u001b[0;31mAssertionError\u001b[0m: Csv file location for results already exists"
     ]
    }
   ],
   "source": [
    "# Run library search and analog search on your files.\n",
    "run_complete_folder(\n",
    "    ms2library, experimental_spectra_folder_pos, results_folder=results_folder)"
   ]
  },
  {
   "cell_type": "code",
   "execution_count": null,
   "metadata": {},
   "outputs": [],
   "source": [
    "\n",
    "#scores_s2v = compute_similarities_s2v(spectrums_exp, models_and_library_folder_pos)\n",
    "#scores_cos = compute_similarities_cosine(spectrums_exp, type=\"ModifiedCosine\")\n",
    "#scores_ms2ds = compute_similarities_ms2ds(spectrums_exp, models_and_library_folder_pos)\n"
   ]
  },
  {
   "cell_type": "code",
   "execution_count": 8,
   "metadata": {},
   "outputs": [],
   "source": [
    "from template_processing_funs import get_classes\n",
    "import pandas as pd"
   ]
  },
  {
   "cell_type": "code",
   "execution_count": 9,
   "metadata": {},
   "outputs": [],
   "source": [
    "def batch_run_get_classes(spectrum_list):\n",
    "    \"\"\" Function queries GNPS API for classes for all spectra with inchi in spectrum list.\"\"\"\n",
    "    classes = []\n",
    "    for iloc, spectrum in enumerate(spectrum_list):\n",
    "        if iloc % 2 == 0 and not iloc == 0:\n",
    "            print( ( f\"{iloc} spectra done,\",\n",
    "                f\" {len(spectrum_list) - (iloc+1)} spectra remaining.\"))\n",
    "        inchi = spectrum.get(\"inchi\")\n",
    "        classes.append(get_classes(inchi))\n",
    "    classes = pd.DataFrame.from_dict(classes)\n",
    "    return classes\n",
    "\n",
    "\n",
    "#classes_df_standards = batch_run_get_classes(spectrums_standards)\n"
   ]
  },
  {
   "cell_type": "code",
   "execution_count": 10,
   "metadata": {},
   "outputs": [
    {
     "ename": "AssertionError",
     "evalue": "Csv file location for results already exists",
     "output_type": "error",
     "traceback": [
      "\u001b[0;31m---------------------------------------------------------------------------\u001b[0m",
      "\u001b[0;31mAssertionError\u001b[0m                            Traceback (most recent call last)",
      "Cell \u001b[0;32mIn[10], line 1\u001b[0m\n\u001b[0;32m----> 1\u001b[0m run_complete_folder(\n\u001b[1;32m      2\u001b[0m     ms2library, reference_standards_folder_pos, results_folder\u001b[39m=\u001b[39;49mresults_folder)\n",
      "File \u001b[0;32m/opt/homebrew/Caskroom/miniconda/base/envs/ms2query/lib/python3.8/site-packages/ms2query-0.5.6-py3.8.egg/ms2query/run_ms2query.py:98\u001b[0m, in \u001b[0;36mrun_complete_folder\u001b[0;34m(ms2library, folder_with_spectra, results_folder, nr_of_analogs_to_store, minimal_ms2query_score, additional_metadata_columns, additional_ms2query_score_columns)\u001b[0m\n\u001b[1;32m     96\u001b[0m     spectra \u001b[39m=\u001b[39m load_matchms_spectrum_objects_from_file(os\u001b[39m.\u001b[39mpath\u001b[39m.\u001b[39mjoin(folder_with_spectra, file_name))\n\u001b[1;32m     97\u001b[0m     analogs_results_file_name \u001b[39m=\u001b[39m os\u001b[39m.\u001b[39mpath\u001b[39m.\u001b[39mjoin(results_folder, os\u001b[39m.\u001b[39mpath\u001b[39m.\u001b[39msplitext(file_name)[\u001b[39m0\u001b[39m] \u001b[39m+\u001b[39m \u001b[39m\"\u001b[39m\u001b[39m.csv\u001b[39m\u001b[39m\"\u001b[39m)\n\u001b[0;32m---> 98\u001b[0m     ms2library\u001b[39m.\u001b[39;49manalog_search_store_in_csv(spectra,\n\u001b[1;32m     99\u001b[0m                                           analogs_results_file_name,\n\u001b[1;32m    100\u001b[0m                                           nr_of_top_analogs_to_save\u001b[39m=\u001b[39;49mnr_of_analogs_to_store,\n\u001b[1;32m    101\u001b[0m                                           minimal_ms2query_metascore\u001b[39m=\u001b[39;49mminimal_ms2query_score,\n\u001b[1;32m    102\u001b[0m                                           additional_metadata_columns\u001b[39m=\u001b[39;49madditional_metadata_columns,\n\u001b[1;32m    103\u001b[0m                                           additional_ms2query_score_columns\u001b[39m=\u001b[39;49madditional_ms2query_score_columns)\n\u001b[1;32m    104\u001b[0m     \u001b[39mprint\u001b[39m(\u001b[39mf\u001b[39m\u001b[39m\"\u001b[39m\u001b[39mResults stored in \u001b[39m\u001b[39m{\u001b[39;00manalogs_results_file_name\u001b[39m}\u001b[39;00m\u001b[39m\"\u001b[39m)\n\u001b[1;32m    105\u001b[0m \u001b[39melse\u001b[39;00m:\n",
      "File \u001b[0;32m/opt/homebrew/Caskroom/miniconda/base/envs/ms2query/lib/python3.8/site-packages/ms2query-0.5.6-py3.8.egg/ms2query/ms2library.py:243\u001b[0m, in \u001b[0;36mMS2Library.analog_search_store_in_csv\u001b[0;34m(self, query_spectra, results_csv_file_location, preselection_cut_off, nr_of_top_analogs_to_save, minimal_ms2query_metascore, additional_metadata_columns, additional_ms2query_score_columns)\u001b[0m\n\u001b[1;32m    212\u001b[0m \u001b[39m\"\"\"Stores the results of an analog in csv files.\u001b[39;00m\n\u001b[1;32m    213\u001b[0m \n\u001b[1;32m    214\u001b[0m \u001b[39mThis method is less memory intensive than analog_search_return_results_table,\u001b[39;00m\n\u001b[0;32m   (...)\u001b[0m\n\u001b[1;32m    238\u001b[0m \u001b[39m    \"average_tanimoto_score_library_structures\"\u001b[39;00m\n\u001b[1;32m    239\u001b[0m \u001b[39m\"\"\"\u001b[39;00m\n\u001b[1;32m    240\u001b[0m \u001b[39m# pylint: disable=too-many-arguments\u001b[39;00m\n\u001b[1;32m    241\u001b[0m \n\u001b[1;32m    242\u001b[0m \u001b[39m# Create csv file if it does not exist already\u001b[39;00m\n\u001b[0;32m--> 243\u001b[0m \u001b[39massert\u001b[39;00m \u001b[39mnot\u001b[39;00m os\u001b[39m.\u001b[39mpath\u001b[39m.\u001b[39mexists(results_csv_file_location), \u001b[39m\"\u001b[39m\u001b[39mCsv file location for results already exists\u001b[39m\u001b[39m\"\u001b[39m\n\u001b[1;32m    244\u001b[0m \u001b[39massert\u001b[39;00m \u001b[39mself\u001b[39m\u001b[39m.\u001b[39mms2query_model \u001b[39mis\u001b[39;00m \u001b[39mnot\u001b[39;00m \u001b[39mNone\u001b[39;00m, \\\n\u001b[1;32m    245\u001b[0m     \u001b[39m\"\u001b[39m\u001b[39mMS2Query model should be given when creating ms2library object\u001b[39m\u001b[39m\"\u001b[39m\n\u001b[1;32m    247\u001b[0m \u001b[39mwith\u001b[39;00m \u001b[39mopen\u001b[39m(results_csv_file_location, \u001b[39m\"\u001b[39m\u001b[39mw\u001b[39m\u001b[39m\"\u001b[39m, encoding\u001b[39m=\u001b[39m\u001b[39m\"\u001b[39m\u001b[39mutf-8\u001b[39m\u001b[39m\"\u001b[39m) \u001b[39mas\u001b[39;00m csv_file:\n",
      "\u001b[0;31mAssertionError\u001b[0m: Csv file location for results already exists"
     ]
    }
   ],
   "source": [
    "run_complete_folder(\n",
    "    ms2library, reference_standards_folder_pos, results_folder=results_folder)"
   ]
  },
  {
   "cell_type": "code",
   "execution_count": 11,
   "metadata": {},
   "outputs": [],
   "source": [
    "import numpy as np\n",
    "import pandas as pd\n",
    "\n",
    "def expand_ms2query_results_table(results_table, n_spectra):\n",
    "    # Construct complete index for all possible query_spectrum_nr entries\n",
    "    new_index = pd.Index(np.arange(1, n_spectra + 1), name=\"query_spectrum_nr\")\n",
    "    # Superimpose the new index and reset index to iloc\n",
    "    out_df = results_table.set_index(\"query_spectrum_nr\")\n",
    "    out_df = out_df.reindex(new_index).reset_index()\n",
    "    # add iloc index column\n",
    "    out_df[\"source_spectrum_mgf_iloc\"] = out_df.index\n",
    "    return out_df\n",
    "\n",
    "\n",
    "\n",
    "#class_df_standards.set_index('query_spectrum_nr')"
   ]
  },
  {
   "cell_type": "code",
   "execution_count": 12,
   "metadata": {},
   "outputs": [
    {
     "name": "stdout",
     "output_type": "stream",
     "text": [
      "33\n",
      "30\n"
     ]
    },
    {
     "data": {
      "text/html": [
       "<div>\n",
       "<style scoped>\n",
       "    .dataframe tbody tr th:only-of-type {\n",
       "        vertical-align: middle;\n",
       "    }\n",
       "\n",
       "    .dataframe tbody tr th {\n",
       "        vertical-align: top;\n",
       "    }\n",
       "\n",
       "    .dataframe thead th {\n",
       "        text-align: right;\n",
       "    }\n",
       "</style>\n",
       "<table border=\"1\" class=\"dataframe\">\n",
       "  <thead>\n",
       "    <tr style=\"text-align: right;\">\n",
       "      <th></th>\n",
       "      <th>index</th>\n",
       "      <th>query_spectrum_nr</th>\n",
       "      <th>ms2query_model_prediction</th>\n",
       "      <th>precursor_mz_difference</th>\n",
       "      <th>precursor_mz_query_spectrum</th>\n",
       "      <th>precursor_mz_analog</th>\n",
       "      <th>inchikey</th>\n",
       "      <th>spectrum_ids</th>\n",
       "      <th>analog_compound_name</th>\n",
       "      <th>retention_time</th>\n",
       "      <th>...</th>\n",
       "      <th>cf_subclass</th>\n",
       "      <th>cf_direct_parent</th>\n",
       "      <th>npc_class_results</th>\n",
       "      <th>npc_superclass_results</th>\n",
       "      <th>npc_pathway_results</th>\n",
       "      <th>source_spectrum_mgf_iloc</th>\n",
       "      <th>is_standard</th>\n",
       "      <th>exp_metadata</th>\n",
       "      <th>standard_metadata</th>\n",
       "      <th>specxplore_id</th>\n",
       "    </tr>\n",
       "  </thead>\n",
       "  <tbody>\n",
       "    <tr>\n",
       "      <th>0</th>\n",
       "      <td>0</td>\n",
       "      <td>1</td>\n",
       "      <td>0.7530</td>\n",
       "      <td>0.0002</td>\n",
       "      <td>149.0598</td>\n",
       "      <td>149.060</td>\n",
       "      <td>WBYWAXJHAXSJNI</td>\n",
       "      <td>304135.0</td>\n",
       "      <td>CINNAMIC ACID</td>\n",
       "      <td>NaN</td>\n",
       "      <td>...</td>\n",
       "      <td>Cinnamic acids</td>\n",
       "      <td>Cinnamic acids</td>\n",
       "      <td>Cinnamic acids and derivatives</td>\n",
       "      <td>Phenylpropanoids (C6-C3)</td>\n",
       "      <td>Shikimates and Phenylpropanoids</td>\n",
       "      <td>0</td>\n",
       "      <td>False</td>\n",
       "      <td>None</td>\n",
       "      <td>NaN</td>\n",
       "      <td>0</td>\n",
       "    </tr>\n",
       "    <tr>\n",
       "      <th>1</th>\n",
       "      <td>1</td>\n",
       "      <td>2</td>\n",
       "      <td>0.8826</td>\n",
       "      <td>0.0003</td>\n",
       "      <td>165.0547</td>\n",
       "      <td>165.055</td>\n",
       "      <td>NGSWKAQJJWESNS</td>\n",
       "      <td>1615.0</td>\n",
       "      <td>p-coumaric acid</td>\n",
       "      <td>NaN</td>\n",
       "      <td>...</td>\n",
       "      <td>Hydroxycinnamic acids and derivatives</td>\n",
       "      <td>Hydroxycinnamic acids</td>\n",
       "      <td>Cinnamic acids and derivatives</td>\n",
       "      <td>Phenylpropanoids (C6-C3)</td>\n",
       "      <td>Shikimates and Phenylpropanoids</td>\n",
       "      <td>1</td>\n",
       "      <td>False</td>\n",
       "      <td>None</td>\n",
       "      <td>NaN</td>\n",
       "      <td>1</td>\n",
       "    </tr>\n",
       "    <tr>\n",
       "      <th>2</th>\n",
       "      <td>2</td>\n",
       "      <td>3</td>\n",
       "      <td>0.8329</td>\n",
       "      <td>0.0006</td>\n",
       "      <td>180.0654</td>\n",
       "      <td>180.066</td>\n",
       "      <td>QIAFMBKCNZACKA</td>\n",
       "      <td>304050.0</td>\n",
       "      <td>HIPPURIC ACID</td>\n",
       "      <td>NaN</td>\n",
       "      <td>...</td>\n",
       "      <td>Benzoic acids and derivatives</td>\n",
       "      <td>Hippuric acids</td>\n",
       "      <td>Dipeptides</td>\n",
       "      <td>Small peptides</td>\n",
       "      <td>Amino acids and Peptides</td>\n",
       "      <td>2</td>\n",
       "      <td>False</td>\n",
       "      <td>None</td>\n",
       "      <td>NaN</td>\n",
       "      <td>2</td>\n",
       "    </tr>\n",
       "    <tr>\n",
       "      <th>3</th>\n",
       "      <td>3</td>\n",
       "      <td>4</td>\n",
       "      <td>0.8768</td>\n",
       "      <td>0.0001</td>\n",
       "      <td>181.0491</td>\n",
       "      <td>181.049</td>\n",
       "      <td>QAIPRVGONGVQAS</td>\n",
       "      <td>255081.0</td>\n",
       "      <td>Caffeic acid</td>\n",
       "      <td>NaN</td>\n",
       "      <td>...</td>\n",
       "      <td>Hydroxycinnamic acids and derivatives</td>\n",
       "      <td>Hydroxycinnamic acids</td>\n",
       "      <td>Cinnamic acids and derivatives</td>\n",
       "      <td>Phenylpropanoids (C6-C3)</td>\n",
       "      <td>Shikimates and Phenylpropanoids</td>\n",
       "      <td>3</td>\n",
       "      <td>False</td>\n",
       "      <td>None</td>\n",
       "      <td>NaN</td>\n",
       "      <td>3</td>\n",
       "    </tr>\n",
       "    <tr>\n",
       "      <th>4</th>\n",
       "      <td>4</td>\n",
       "      <td>5</td>\n",
       "      <td>0.8699</td>\n",
       "      <td>0.0002</td>\n",
       "      <td>195.0652</td>\n",
       "      <td>195.065</td>\n",
       "      <td>KSEBMYQBYZTDHS</td>\n",
       "      <td>62728.0</td>\n",
       "      <td>ferulic acid</td>\n",
       "      <td>NaN</td>\n",
       "      <td>...</td>\n",
       "      <td>Hydroxycinnamic acids and derivatives</td>\n",
       "      <td>Hydroxycinnamic acids</td>\n",
       "      <td>Cinnamic acids and derivatives</td>\n",
       "      <td>Phenylpropanoids (C6-C3)</td>\n",
       "      <td>Shikimates and Phenylpropanoids</td>\n",
       "      <td>4</td>\n",
       "      <td>False</td>\n",
       "      <td>None</td>\n",
       "      <td>NaN</td>\n",
       "      <td>4</td>\n",
       "    </tr>\n",
       "    <tr>\n",
       "      <th>5</th>\n",
       "      <td>5</td>\n",
       "      <td>6</td>\n",
       "      <td>0.8491</td>\n",
       "      <td>0.0001</td>\n",
       "      <td>195.0649</td>\n",
       "      <td>195.065</td>\n",
       "      <td>KSEBMYQBYZTDHS</td>\n",
       "      <td>62728.0</td>\n",
       "      <td>ferulic acid</td>\n",
       "      <td>NaN</td>\n",
       "      <td>...</td>\n",
       "      <td>Hydroxycinnamic acids and derivatives</td>\n",
       "      <td>Hydroxycinnamic acids</td>\n",
       "      <td>Cinnamic acids and derivatives</td>\n",
       "      <td>Phenylpropanoids (C6-C3)</td>\n",
       "      <td>Shikimates and Phenylpropanoids</td>\n",
       "      <td>5</td>\n",
       "      <td>False</td>\n",
       "      <td>None</td>\n",
       "      <td>NaN</td>\n",
       "      <td>5</td>\n",
       "    </tr>\n",
       "    <tr>\n",
       "      <th>6</th>\n",
       "      <td>6</td>\n",
       "      <td>7</td>\n",
       "      <td>0.7235</td>\n",
       "      <td>0.0008</td>\n",
       "      <td>229.0492</td>\n",
       "      <td>229.050</td>\n",
       "      <td>NXJCRELRQHZBQA</td>\n",
       "      <td>113272.0</td>\n",
       "      <td>Citropen</td>\n",
       "      <td>NaN</td>\n",
       "      <td>...</td>\n",
       "      <td>NaN</td>\n",
       "      <td>Coumarins and derivatives</td>\n",
       "      <td>Simple coumarins</td>\n",
       "      <td>Coumarins</td>\n",
       "      <td>Shikimates and Phenylpropanoids</td>\n",
       "      <td>6</td>\n",
       "      <td>False</td>\n",
       "      <td>None</td>\n",
       "      <td>NaN</td>\n",
       "      <td>6</td>\n",
       "    </tr>\n",
       "    <tr>\n",
       "      <th>7</th>\n",
       "      <td>7</td>\n",
       "      <td>8</td>\n",
       "      <td>0.8798</td>\n",
       "      <td>0.0005</td>\n",
       "      <td>243.1015</td>\n",
       "      <td>243.101</td>\n",
       "      <td>ADFCQWZHKCXPAJ</td>\n",
       "      <td>25871.0</td>\n",
       "      <td>Equol</td>\n",
       "      <td>NaN</td>\n",
       "      <td>...</td>\n",
       "      <td>Isoflavans</td>\n",
       "      <td>Isoflavanols</td>\n",
       "      <td>Isoflavanones</td>\n",
       "      <td>Isoflavonoids</td>\n",
       "      <td>Shikimates and Phenylpropanoids</td>\n",
       "      <td>7</td>\n",
       "      <td>False</td>\n",
       "      <td>None</td>\n",
       "      <td>NaN</td>\n",
       "      <td>7</td>\n",
       "    </tr>\n",
       "    <tr>\n",
       "      <th>8</th>\n",
       "      <td>8</td>\n",
       "      <td>9</td>\n",
       "      <td>0.8714</td>\n",
       "      <td>0.0003</td>\n",
       "      <td>255.0647</td>\n",
       "      <td>255.065</td>\n",
       "      <td>GPGOCTLAUAHUQO</td>\n",
       "      <td>68703.0</td>\n",
       "      <td>3,4'-Dihydroxyflavone</td>\n",
       "      <td>NaN</td>\n",
       "      <td>...</td>\n",
       "      <td>NaN</td>\n",
       "      <td>NaN</td>\n",
       "      <td>NaN</td>\n",
       "      <td>NaN</td>\n",
       "      <td>NaN</td>\n",
       "      <td>8</td>\n",
       "      <td>False</td>\n",
       "      <td>None</td>\n",
       "      <td>NaN</td>\n",
       "      <td>8</td>\n",
       "    </tr>\n",
       "    <tr>\n",
       "      <th>9</th>\n",
       "      <td>9</td>\n",
       "      <td>10</td>\n",
       "      <td>0.8720</td>\n",
       "      <td>0.0003</td>\n",
       "      <td>271.0597</td>\n",
       "      <td>271.060</td>\n",
       "      <td>TZBJGXHYKVUXJN</td>\n",
       "      <td>59874.0</td>\n",
       "      <td>genistein</td>\n",
       "      <td>NaN</td>\n",
       "      <td>...</td>\n",
       "      <td>Isoflav-2-enes</td>\n",
       "      <td>Isoflavones</td>\n",
       "      <td>Isoflavones</td>\n",
       "      <td>Isoflavonoids</td>\n",
       "      <td>Shikimates and Phenylpropanoids</td>\n",
       "      <td>9</td>\n",
       "      <td>False</td>\n",
       "      <td>None</td>\n",
       "      <td>NaN</td>\n",
       "      <td>9</td>\n",
       "    </tr>\n",
       "    <tr>\n",
       "      <th>10</th>\n",
       "      <td>10</td>\n",
       "      <td>11</td>\n",
       "      <td>0.8556</td>\n",
       "      <td>0.0007</td>\n",
       "      <td>273.0753</td>\n",
       "      <td>273.076</td>\n",
       "      <td>FTVWIRXFELQLPI</td>\n",
       "      <td>255198.0</td>\n",
       "      <td>Naringenin</td>\n",
       "      <td>NaN</td>\n",
       "      <td>...</td>\n",
       "      <td>Flavans</td>\n",
       "      <td>Flavanones</td>\n",
       "      <td>Flavanones</td>\n",
       "      <td>Flavonoids</td>\n",
       "      <td>Shikimates and Phenylpropanoids</td>\n",
       "      <td>10</td>\n",
       "      <td>False</td>\n",
       "      <td>None</td>\n",
       "      <td>NaN</td>\n",
       "      <td>10</td>\n",
       "    </tr>\n",
       "    <tr>\n",
       "      <th>11</th>\n",
       "      <td>11</td>\n",
       "      <td>12</td>\n",
       "      <td>0.4090</td>\n",
       "      <td>178.0174</td>\n",
       "      <td>275.0846</td>\n",
       "      <td>453.102</td>\n",
       "      <td>FUHMZYWBSHTEDZ</td>\n",
       "      <td>56908.0</td>\n",
       "      <td>bispyribac-sodium</td>\n",
       "      <td>NaN</td>\n",
       "      <td>...</td>\n",
       "      <td>NaN</td>\n",
       "      <td>NaN</td>\n",
       "      <td>NaN</td>\n",
       "      <td>NaN</td>\n",
       "      <td>NaN</td>\n",
       "      <td>11</td>\n",
       "      <td>False</td>\n",
       "      <td>None</td>\n",
       "      <td>NaN</td>\n",
       "      <td>11</td>\n",
       "    </tr>\n",
       "    <tr>\n",
       "      <th>12</th>\n",
       "      <td>12</td>\n",
       "      <td>13</td>\n",
       "      <td>0.8556</td>\n",
       "      <td>0.0006</td>\n",
       "      <td>285.0754</td>\n",
       "      <td>285.076</td>\n",
       "      <td>DANYIYRPLHHOCZ</td>\n",
       "      <td>236357.0</td>\n",
       "      <td>BML00818 Acacetin</td>\n",
       "      <td>NaN</td>\n",
       "      <td>...</td>\n",
       "      <td>O-methylated flavonoids</td>\n",
       "      <td>4'-O-methylated flavonoids</td>\n",
       "      <td>Flavones</td>\n",
       "      <td>Flavonoids</td>\n",
       "      <td>Shikimates and Phenylpropanoids</td>\n",
       "      <td>12</td>\n",
       "      <td>False</td>\n",
       "      <td>None</td>\n",
       "      <td>NaN</td>\n",
       "      <td>12</td>\n",
       "    </tr>\n",
       "    <tr>\n",
       "      <th>13</th>\n",
       "      <td>13</td>\n",
       "      <td>14</td>\n",
       "      <td>0.8556</td>\n",
       "      <td>0.0003</td>\n",
       "      <td>287.0547</td>\n",
       "      <td>287.055</td>\n",
       "      <td>IYRMWMYZSQPJKC</td>\n",
       "      <td>59565.0</td>\n",
       "      <td>kaempferol</td>\n",
       "      <td>NaN</td>\n",
       "      <td>...</td>\n",
       "      <td>Flavones</td>\n",
       "      <td>Flavonols</td>\n",
       "      <td>Flavonols</td>\n",
       "      <td>Flavonoids</td>\n",
       "      <td>Shikimates and Phenylpropanoids</td>\n",
       "      <td>13</td>\n",
       "      <td>False</td>\n",
       "      <td>None</td>\n",
       "      <td>NaN</td>\n",
       "      <td>13</td>\n",
       "    </tr>\n",
       "    <tr>\n",
       "      <th>14</th>\n",
       "      <td>14</td>\n",
       "      <td>15</td>\n",
       "      <td>0.8556</td>\n",
       "      <td>0.0043</td>\n",
       "      <td>291.0857</td>\n",
       "      <td>291.090</td>\n",
       "      <td>PFTAWBLQPZVEMU</td>\n",
       "      <td>83228.0</td>\n",
       "      <td>(+)Catechin</td>\n",
       "      <td>NaN</td>\n",
       "      <td>...</td>\n",
       "      <td>Flavans</td>\n",
       "      <td>Catechins</td>\n",
       "      <td>Flavan-3-ols</td>\n",
       "      <td>Flavonoids</td>\n",
       "      <td>Shikimates and Phenylpropanoids</td>\n",
       "      <td>14</td>\n",
       "      <td>False</td>\n",
       "      <td>None</td>\n",
       "      <td>NaN</td>\n",
       "      <td>14</td>\n",
       "    </tr>\n",
       "    <tr>\n",
       "      <th>15</th>\n",
       "      <td>15</td>\n",
       "      <td>16</td>\n",
       "      <td>0.8556</td>\n",
       "      <td>0.0011</td>\n",
       "      <td>291.0859</td>\n",
       "      <td>291.087</td>\n",
       "      <td>PFTAWBLQPZVEMU</td>\n",
       "      <td>25574.0</td>\n",
       "      <td>(+)-Catechin</td>\n",
       "      <td>NaN</td>\n",
       "      <td>...</td>\n",
       "      <td>Flavans</td>\n",
       "      <td>Catechins</td>\n",
       "      <td>Flavan-3-ols</td>\n",
       "      <td>Flavonoids</td>\n",
       "      <td>Shikimates and Phenylpropanoids</td>\n",
       "      <td>15</td>\n",
       "      <td>False</td>\n",
       "      <td>None</td>\n",
       "      <td>NaN</td>\n",
       "      <td>15</td>\n",
       "    </tr>\n",
       "    <tr>\n",
       "      <th>16</th>\n",
       "      <td>16</td>\n",
       "      <td>17</td>\n",
       "      <td>0.7138</td>\n",
       "      <td>618.1758</td>\n",
       "      <td>301.0702</td>\n",
       "      <td>919.246</td>\n",
       "      <td>SHRUKDVTMUBNTL</td>\n",
       "      <td>253659.0</td>\n",
       "      <td>Flavonol base + 4O, O-Hex-dHex-Hex-Coumaroyl</td>\n",
       "      <td>NaN</td>\n",
       "      <td>...</td>\n",
       "      <td>Flavonoid glycosides</td>\n",
       "      <td>Flavonoid-7-O-glycosides</td>\n",
       "      <td>Flavonols</td>\n",
       "      <td>Flavonoids</td>\n",
       "      <td>Shikimates and Phenylpropanoids</td>\n",
       "      <td>16</td>\n",
       "      <td>False</td>\n",
       "      <td>None</td>\n",
       "      <td>NaN</td>\n",
       "      <td>16</td>\n",
       "    </tr>\n",
       "    <tr>\n",
       "      <th>17</th>\n",
       "      <td>17</td>\n",
       "      <td>18</td>\n",
       "      <td>0.7126</td>\n",
       "      <td>266.0636</td>\n",
       "      <td>301.0704</td>\n",
       "      <td>567.134</td>\n",
       "      <td>ZUPASDOWHXCIHQ</td>\n",
       "      <td>14193.0</td>\n",
       "      <td>2-(3,4-dihydroxyphenyl)-5,7-dihydroxy-3-[(2S,3...</td>\n",
       "      <td>NaN</td>\n",
       "      <td>...</td>\n",
       "      <td>Flavonoid glycosides</td>\n",
       "      <td>Flavonoid-3-O-glycosides</td>\n",
       "      <td>Flavonols</td>\n",
       "      <td>Flavonoids</td>\n",
       "      <td>Shikimates and Phenylpropanoids</td>\n",
       "      <td>17</td>\n",
       "      <td>False</td>\n",
       "      <td>None</td>\n",
       "      <td>NaN</td>\n",
       "      <td>17</td>\n",
       "    </tr>\n",
       "    <tr>\n",
       "      <th>18</th>\n",
       "      <td>18</td>\n",
       "      <td>19</td>\n",
       "      <td>0.8816</td>\n",
       "      <td>0.0002</td>\n",
       "      <td>303.0862</td>\n",
       "      <td>303.086</td>\n",
       "      <td>AIONOLUJZLIMTK</td>\n",
       "      <td>253973.0</td>\n",
       "      <td>Hesperetin</td>\n",
       "      <td>NaN</td>\n",
       "      <td>...</td>\n",
       "      <td>O-methylated flavonoids</td>\n",
       "      <td>4'-O-methylated flavonoids</td>\n",
       "      <td>Flavanones</td>\n",
       "      <td>Flavonoids</td>\n",
       "      <td>Shikimates and Phenylpropanoids</td>\n",
       "      <td>18</td>\n",
       "      <td>False</td>\n",
       "      <td>None</td>\n",
       "      <td>NaN</td>\n",
       "      <td>18</td>\n",
       "    </tr>\n",
       "    <tr>\n",
       "      <th>19</th>\n",
       "      <td>19</td>\n",
       "      <td>20</td>\n",
       "      <td>0.9270</td>\n",
       "      <td>0.0003</td>\n",
       "      <td>341.1383</td>\n",
       "      <td>341.138</td>\n",
       "      <td>LPEPZZAVFJPLNZ</td>\n",
       "      <td>268610.0</td>\n",
       "      <td>(2S)-5,7-dihydroxy-2-(4-hydroxyphenyl)-8-(3-me...</td>\n",
       "      <td>NaN</td>\n",
       "      <td>...</td>\n",
       "      <td>Flavans</td>\n",
       "      <td>8-prenylated flavanones</td>\n",
       "      <td>Flavanones</td>\n",
       "      <td>Flavonoids</td>\n",
       "      <td>Shikimates and Phenylpropanoids</td>\n",
       "      <td>19</td>\n",
       "      <td>False</td>\n",
       "      <td>None</td>\n",
       "      <td>NaN</td>\n",
       "      <td>19</td>\n",
       "    </tr>\n",
       "    <tr>\n",
       "      <th>20</th>\n",
       "      <td>20</td>\n",
       "      <td>21</td>\n",
       "      <td>0.5528</td>\n",
       "      <td>106.0369</td>\n",
       "      <td>355.1531</td>\n",
       "      <td>461.190</td>\n",
       "      <td>LTTQKYMNTNISSZ</td>\n",
       "      <td>143486.0</td>\n",
       "      <td>Kurarinone</td>\n",
       "      <td>NaN</td>\n",
       "      <td>...</td>\n",
       "      <td>Flavans</td>\n",
       "      <td>8-prenylated flavanones</td>\n",
       "      <td>Flavanones</td>\n",
       "      <td>Flavonoids</td>\n",
       "      <td>Shikimates and Phenylpropanoids</td>\n",
       "      <td>20</td>\n",
       "      <td>False</td>\n",
       "      <td>None</td>\n",
       "      <td>NaN</td>\n",
       "      <td>20</td>\n",
       "    </tr>\n",
       "    <tr>\n",
       "      <th>21</th>\n",
       "      <td>21</td>\n",
       "      <td>22</td>\n",
       "      <td>0.5528</td>\n",
       "      <td>106.0370</td>\n",
       "      <td>355.1530</td>\n",
       "      <td>461.190</td>\n",
       "      <td>LTTQKYMNTNISSZ</td>\n",
       "      <td>143486.0</td>\n",
       "      <td>Kurarinone</td>\n",
       "      <td>NaN</td>\n",
       "      <td>...</td>\n",
       "      <td>Flavans</td>\n",
       "      <td>8-prenylated flavanones</td>\n",
       "      <td>Flavanones</td>\n",
       "      <td>Flavonoids</td>\n",
       "      <td>Shikimates and Phenylpropanoids</td>\n",
       "      <td>21</td>\n",
       "      <td>False</td>\n",
       "      <td>None</td>\n",
       "      <td>NaN</td>\n",
       "      <td>21</td>\n",
       "    </tr>\n",
       "    <tr>\n",
       "      <th>22</th>\n",
       "      <td>22</td>\n",
       "      <td>23</td>\n",
       "      <td>NaN</td>\n",
       "      <td>NaN</td>\n",
       "      <td>NaN</td>\n",
       "      <td>NaN</td>\n",
       "      <td>NaN</td>\n",
       "      <td>NaN</td>\n",
       "      <td>NaN</td>\n",
       "      <td>NaN</td>\n",
       "      <td>...</td>\n",
       "      <td>NaN</td>\n",
       "      <td>NaN</td>\n",
       "      <td>NaN</td>\n",
       "      <td>NaN</td>\n",
       "      <td>NaN</td>\n",
       "      <td>22</td>\n",
       "      <td>False</td>\n",
       "      <td>None</td>\n",
       "      <td>NaN</td>\n",
       "      <td>22</td>\n",
       "    </tr>\n",
       "    <tr>\n",
       "      <th>23</th>\n",
       "      <td>23</td>\n",
       "      <td>24</td>\n",
       "      <td>0.9318</td>\n",
       "      <td>0.0005</td>\n",
       "      <td>447.0915</td>\n",
       "      <td>447.092</td>\n",
       "      <td>IKIIZLYTISPENI</td>\n",
       "      <td>25576.0</td>\n",
       "      <td>Baicalin</td>\n",
       "      <td>NaN</td>\n",
       "      <td>...</td>\n",
       "      <td>Flavonoid glycosides</td>\n",
       "      <td>Flavonoid-7-O-glucuronides</td>\n",
       "      <td>Flavones</td>\n",
       "      <td>Flavonoids</td>\n",
       "      <td>Shikimates and Phenylpropanoids</td>\n",
       "      <td>23</td>\n",
       "      <td>False</td>\n",
       "      <td>None</td>\n",
       "      <td>NaN</td>\n",
       "      <td>23</td>\n",
       "    </tr>\n",
       "    <tr>\n",
       "      <th>24</th>\n",
       "      <td>24</td>\n",
       "      <td>25</td>\n",
       "      <td>0.9127</td>\n",
       "      <td>0.0005</td>\n",
       "      <td>463.0865</td>\n",
       "      <td>463.087</td>\n",
       "      <td>FNTJVYCFNVUBOL</td>\n",
       "      <td>253084.0</td>\n",
       "      <td>Kaempferol-3-O-glucuronoside</td>\n",
       "      <td>NaN</td>\n",
       "      <td>...</td>\n",
       "      <td>Flavonoid glycosides</td>\n",
       "      <td>Flavonoid-3-O-glucuronides</td>\n",
       "      <td>Flavonols</td>\n",
       "      <td>Flavonoids</td>\n",
       "      <td>Shikimates and Phenylpropanoids</td>\n",
       "      <td>24</td>\n",
       "      <td>False</td>\n",
       "      <td>None</td>\n",
       "      <td>NaN</td>\n",
       "      <td>24</td>\n",
       "    </tr>\n",
       "    <tr>\n",
       "      <th>25</th>\n",
       "      <td>25</td>\n",
       "      <td>26</td>\n",
       "      <td>NaN</td>\n",
       "      <td>NaN</td>\n",
       "      <td>NaN</td>\n",
       "      <td>NaN</td>\n",
       "      <td>NaN</td>\n",
       "      <td>NaN</td>\n",
       "      <td>NaN</td>\n",
       "      <td>NaN</td>\n",
       "      <td>...</td>\n",
       "      <td>NaN</td>\n",
       "      <td>NaN</td>\n",
       "      <td>NaN</td>\n",
       "      <td>NaN</td>\n",
       "      <td>NaN</td>\n",
       "      <td>25</td>\n",
       "      <td>False</td>\n",
       "      <td>None</td>\n",
       "      <td>NaN</td>\n",
       "      <td>25</td>\n",
       "    </tr>\n",
       "    <tr>\n",
       "      <th>26</th>\n",
       "      <td>26</td>\n",
       "      <td>1</td>\n",
       "      <td>0.7772</td>\n",
       "      <td>0.0010</td>\n",
       "      <td>577.1330</td>\n",
       "      <td>577.134</td>\n",
       "      <td>NSEWTSAADLNHNH</td>\n",
       "      <td>25387.0</td>\n",
       "      <td>Procyanidin A1</td>\n",
       "      <td>NaN</td>\n",
       "      <td>...</td>\n",
       "      <td>Biflavonoids and polyflavonoids</td>\n",
       "      <td>Biflavonoids and polyflavonoids</td>\n",
       "      <td>Proanthocyanins</td>\n",
       "      <td>Flavonoids</td>\n",
       "      <td>Shikimates and Phenylpropanoids</td>\n",
       "      <td>0</td>\n",
       "      <td>True</td>\n",
       "      <td>NaN</td>\n",
       "      <td>None</td>\n",
       "      <td>26</td>\n",
       "    </tr>\n",
       "    <tr>\n",
       "      <th>27</th>\n",
       "      <td>27</td>\n",
       "      <td>2</td>\n",
       "      <td>0.4887</td>\n",
       "      <td>95.0433</td>\n",
       "      <td>579.1483</td>\n",
       "      <td>484.105</td>\n",
       "      <td>CNURKUNYCXCBEK</td>\n",
       "      <td>283054.0</td>\n",
       "      <td>karakin</td>\n",
       "      <td>NaN</td>\n",
       "      <td>...</td>\n",
       "      <td>Tricarboxylic acids and derivatives</td>\n",
       "      <td>Tricarboxylic acids and derivatives</td>\n",
       "      <td>NaN</td>\n",
       "      <td>NaN</td>\n",
       "      <td>NaN</td>\n",
       "      <td>1</td>\n",
       "      <td>True</td>\n",
       "      <td>NaN</td>\n",
       "      <td>None</td>\n",
       "      <td>27</td>\n",
       "    </tr>\n",
       "    <tr>\n",
       "      <th>28</th>\n",
       "      <td>28</td>\n",
       "      <td>3</td>\n",
       "      <td>0.9419</td>\n",
       "      <td>0.0004</td>\n",
       "      <td>579.1494</td>\n",
       "      <td>579.149</td>\n",
       "      <td>XFZJEEAOWLFHDH</td>\n",
       "      <td>24733.0</td>\n",
       "      <td>Procyanidin B2</td>\n",
       "      <td>NaN</td>\n",
       "      <td>...</td>\n",
       "      <td>Biflavonoids and polyflavonoids</td>\n",
       "      <td>Biflavonoids and polyflavonoids</td>\n",
       "      <td>Proanthocyanins</td>\n",
       "      <td>Flavonoids</td>\n",
       "      <td>Shikimates and Phenylpropanoids</td>\n",
       "      <td>2</td>\n",
       "      <td>True</td>\n",
       "      <td>NaN</td>\n",
       "      <td>None</td>\n",
       "      <td>28</td>\n",
       "    </tr>\n",
       "    <tr>\n",
       "      <th>29</th>\n",
       "      <td>29</td>\n",
       "      <td>4</td>\n",
       "      <td>0.9387</td>\n",
       "      <td>0.0002</td>\n",
       "      <td>581.1858</td>\n",
       "      <td>581.186</td>\n",
       "      <td>HXTFHSYLYXVTHC</td>\n",
       "      <td>13249.0</td>\n",
       "      <td>5-hydroxy-2-(4-hydroxyphenyl)-7-[(2S,3R,4S,5S,...</td>\n",
       "      <td>NaN</td>\n",
       "      <td>...</td>\n",
       "      <td>Flavonoid glycosides</td>\n",
       "      <td>Flavonoid-7-O-glycosides</td>\n",
       "      <td>Flavanones</td>\n",
       "      <td>Flavonoids</td>\n",
       "      <td>Shikimates and Phenylpropanoids</td>\n",
       "      <td>3</td>\n",
       "      <td>True</td>\n",
       "      <td>NaN</td>\n",
       "      <td>None</td>\n",
       "      <td>29</td>\n",
       "    </tr>\n",
       "    <tr>\n",
       "      <th>30</th>\n",
       "      <td>30</td>\n",
       "      <td>5</td>\n",
       "      <td>NaN</td>\n",
       "      <td>NaN</td>\n",
       "      <td>NaN</td>\n",
       "      <td>NaN</td>\n",
       "      <td>NaN</td>\n",
       "      <td>NaN</td>\n",
       "      <td>NaN</td>\n",
       "      <td>NaN</td>\n",
       "      <td>...</td>\n",
       "      <td>NaN</td>\n",
       "      <td>NaN</td>\n",
       "      <td>NaN</td>\n",
       "      <td>NaN</td>\n",
       "      <td>NaN</td>\n",
       "      <td>4</td>\n",
       "      <td>True</td>\n",
       "      <td>NaN</td>\n",
       "      <td>None</td>\n",
       "      <td>30</td>\n",
       "    </tr>\n",
       "    <tr>\n",
       "      <th>31</th>\n",
       "      <td>31</td>\n",
       "      <td>6</td>\n",
       "      <td>0.9387</td>\n",
       "      <td>0.0002</td>\n",
       "      <td>611.1958</td>\n",
       "      <td>611.196</td>\n",
       "      <td>ARGKVCXINMKCAZ</td>\n",
       "      <td>18761.0</td>\n",
       "      <td>(2S)-7-[(2S,3R,4S,5S,6R)-4,5-dihydroxy-6-(hydr...</td>\n",
       "      <td>NaN</td>\n",
       "      <td>...</td>\n",
       "      <td>Flavonoid glycosides</td>\n",
       "      <td>Flavonoid-7-O-glycosides</td>\n",
       "      <td>Flavanones</td>\n",
       "      <td>Flavonoids</td>\n",
       "      <td>Shikimates and Phenylpropanoids</td>\n",
       "      <td>5</td>\n",
       "      <td>True</td>\n",
       "      <td>NaN</td>\n",
       "      <td>None</td>\n",
       "      <td>31</td>\n",
       "    </tr>\n",
       "    <tr>\n",
       "      <th>32</th>\n",
       "      <td>32</td>\n",
       "      <td>7</td>\n",
       "      <td>0.6074</td>\n",
       "      <td>90.9425</td>\n",
       "      <td>867.2095</td>\n",
       "      <td>958.152</td>\n",
       "      <td>QJYNZEYHSMRWBK</td>\n",
       "      <td>288962.0</td>\n",
       "      <td>beta-penta-O-galloyl-glucose</td>\n",
       "      <td>NaN</td>\n",
       "      <td>...</td>\n",
       "      <td>NaN</td>\n",
       "      <td>Tannins</td>\n",
       "      <td>Gallotannins</td>\n",
       "      <td>Phenolic acids (C6-C1)</td>\n",
       "      <td>Shikimates and Phenylpropanoids</td>\n",
       "      <td>6</td>\n",
       "      <td>True</td>\n",
       "      <td>NaN</td>\n",
       "      <td>None</td>\n",
       "      <td>32</td>\n",
       "    </tr>\n",
       "  </tbody>\n",
       "</table>\n",
       "<p>33 rows × 25 columns</p>\n",
       "</div>"
      ],
      "text/plain": [
       "    index  query_spectrum_nr  ms2query_model_prediction  \\\n",
       "0       0                  1                     0.7530   \n",
       "1       1                  2                     0.8826   \n",
       "2       2                  3                     0.8329   \n",
       "3       3                  4                     0.8768   \n",
       "4       4                  5                     0.8699   \n",
       "5       5                  6                     0.8491   \n",
       "6       6                  7                     0.7235   \n",
       "7       7                  8                     0.8798   \n",
       "8       8                  9                     0.8714   \n",
       "9       9                 10                     0.8720   \n",
       "10     10                 11                     0.8556   \n",
       "11     11                 12                     0.4090   \n",
       "12     12                 13                     0.8556   \n",
       "13     13                 14                     0.8556   \n",
       "14     14                 15                     0.8556   \n",
       "15     15                 16                     0.8556   \n",
       "16     16                 17                     0.7138   \n",
       "17     17                 18                     0.7126   \n",
       "18     18                 19                     0.8816   \n",
       "19     19                 20                     0.9270   \n",
       "20     20                 21                     0.5528   \n",
       "21     21                 22                     0.5528   \n",
       "22     22                 23                        NaN   \n",
       "23     23                 24                     0.9318   \n",
       "24     24                 25                     0.9127   \n",
       "25     25                 26                        NaN   \n",
       "26     26                  1                     0.7772   \n",
       "27     27                  2                     0.4887   \n",
       "28     28                  3                     0.9419   \n",
       "29     29                  4                     0.9387   \n",
       "30     30                  5                        NaN   \n",
       "31     31                  6                     0.9387   \n",
       "32     32                  7                     0.6074   \n",
       "\n",
       "    precursor_mz_difference  precursor_mz_query_spectrum  precursor_mz_analog  \\\n",
       "0                    0.0002                     149.0598              149.060   \n",
       "1                    0.0003                     165.0547              165.055   \n",
       "2                    0.0006                     180.0654              180.066   \n",
       "3                    0.0001                     181.0491              181.049   \n",
       "4                    0.0002                     195.0652              195.065   \n",
       "5                    0.0001                     195.0649              195.065   \n",
       "6                    0.0008                     229.0492              229.050   \n",
       "7                    0.0005                     243.1015              243.101   \n",
       "8                    0.0003                     255.0647              255.065   \n",
       "9                    0.0003                     271.0597              271.060   \n",
       "10                   0.0007                     273.0753              273.076   \n",
       "11                 178.0174                     275.0846              453.102   \n",
       "12                   0.0006                     285.0754              285.076   \n",
       "13                   0.0003                     287.0547              287.055   \n",
       "14                   0.0043                     291.0857              291.090   \n",
       "15                   0.0011                     291.0859              291.087   \n",
       "16                 618.1758                     301.0702              919.246   \n",
       "17                 266.0636                     301.0704              567.134   \n",
       "18                   0.0002                     303.0862              303.086   \n",
       "19                   0.0003                     341.1383              341.138   \n",
       "20                 106.0369                     355.1531              461.190   \n",
       "21                 106.0370                     355.1530              461.190   \n",
       "22                      NaN                          NaN                  NaN   \n",
       "23                   0.0005                     447.0915              447.092   \n",
       "24                   0.0005                     463.0865              463.087   \n",
       "25                      NaN                          NaN                  NaN   \n",
       "26                   0.0010                     577.1330              577.134   \n",
       "27                  95.0433                     579.1483              484.105   \n",
       "28                   0.0004                     579.1494              579.149   \n",
       "29                   0.0002                     581.1858              581.186   \n",
       "30                      NaN                          NaN                  NaN   \n",
       "31                   0.0002                     611.1958              611.196   \n",
       "32                  90.9425                     867.2095              958.152   \n",
       "\n",
       "          inchikey  spectrum_ids  \\\n",
       "0   WBYWAXJHAXSJNI      304135.0   \n",
       "1   NGSWKAQJJWESNS        1615.0   \n",
       "2   QIAFMBKCNZACKA      304050.0   \n",
       "3   QAIPRVGONGVQAS      255081.0   \n",
       "4   KSEBMYQBYZTDHS       62728.0   \n",
       "5   KSEBMYQBYZTDHS       62728.0   \n",
       "6   NXJCRELRQHZBQA      113272.0   \n",
       "7   ADFCQWZHKCXPAJ       25871.0   \n",
       "8   GPGOCTLAUAHUQO       68703.0   \n",
       "9   TZBJGXHYKVUXJN       59874.0   \n",
       "10  FTVWIRXFELQLPI      255198.0   \n",
       "11  FUHMZYWBSHTEDZ       56908.0   \n",
       "12  DANYIYRPLHHOCZ      236357.0   \n",
       "13  IYRMWMYZSQPJKC       59565.0   \n",
       "14  PFTAWBLQPZVEMU       83228.0   \n",
       "15  PFTAWBLQPZVEMU       25574.0   \n",
       "16  SHRUKDVTMUBNTL      253659.0   \n",
       "17  ZUPASDOWHXCIHQ       14193.0   \n",
       "18  AIONOLUJZLIMTK      253973.0   \n",
       "19  LPEPZZAVFJPLNZ      268610.0   \n",
       "20  LTTQKYMNTNISSZ      143486.0   \n",
       "21  LTTQKYMNTNISSZ      143486.0   \n",
       "22             NaN           NaN   \n",
       "23  IKIIZLYTISPENI       25576.0   \n",
       "24  FNTJVYCFNVUBOL      253084.0   \n",
       "25             NaN           NaN   \n",
       "26  NSEWTSAADLNHNH       25387.0   \n",
       "27  CNURKUNYCXCBEK      283054.0   \n",
       "28  XFZJEEAOWLFHDH       24733.0   \n",
       "29  HXTFHSYLYXVTHC       13249.0   \n",
       "30             NaN           NaN   \n",
       "31  ARGKVCXINMKCAZ       18761.0   \n",
       "32  QJYNZEYHSMRWBK      288962.0   \n",
       "\n",
       "                                 analog_compound_name  retention_time  ...  \\\n",
       "0                                       CINNAMIC ACID             NaN  ...   \n",
       "1                                     p-coumaric acid             NaN  ...   \n",
       "2                                       HIPPURIC ACID             NaN  ...   \n",
       "3                                        Caffeic acid             NaN  ...   \n",
       "4                                        ferulic acid             NaN  ...   \n",
       "5                                        ferulic acid             NaN  ...   \n",
       "6                                            Citropen             NaN  ...   \n",
       "7                                               Equol             NaN  ...   \n",
       "8                               3,4'-Dihydroxyflavone             NaN  ...   \n",
       "9                                           genistein             NaN  ...   \n",
       "10                                         Naringenin             NaN  ...   \n",
       "11                                  bispyribac-sodium             NaN  ...   \n",
       "12                                  BML00818 Acacetin             NaN  ...   \n",
       "13                                         kaempferol             NaN  ...   \n",
       "14                                        (+)Catechin             NaN  ...   \n",
       "15                                       (+)-Catechin             NaN  ...   \n",
       "16       Flavonol base + 4O, O-Hex-dHex-Hex-Coumaroyl             NaN  ...   \n",
       "17  2-(3,4-dihydroxyphenyl)-5,7-dihydroxy-3-[(2S,3...             NaN  ...   \n",
       "18                                         Hesperetin             NaN  ...   \n",
       "19  (2S)-5,7-dihydroxy-2-(4-hydroxyphenyl)-8-(3-me...             NaN  ...   \n",
       "20                                         Kurarinone             NaN  ...   \n",
       "21                                         Kurarinone             NaN  ...   \n",
       "22                                                NaN             NaN  ...   \n",
       "23                                           Baicalin             NaN  ...   \n",
       "24                       Kaempferol-3-O-glucuronoside             NaN  ...   \n",
       "25                                                NaN             NaN  ...   \n",
       "26                                     Procyanidin A1             NaN  ...   \n",
       "27                                            karakin             NaN  ...   \n",
       "28                                     Procyanidin B2             NaN  ...   \n",
       "29  5-hydroxy-2-(4-hydroxyphenyl)-7-[(2S,3R,4S,5S,...             NaN  ...   \n",
       "30                                                NaN             NaN  ...   \n",
       "31  (2S)-7-[(2S,3R,4S,5S,6R)-4,5-dihydroxy-6-(hydr...             NaN  ...   \n",
       "32                       beta-penta-O-galloyl-glucose             NaN  ...   \n",
       "\n",
       "                              cf_subclass  \\\n",
       "0                          Cinnamic acids   \n",
       "1   Hydroxycinnamic acids and derivatives   \n",
       "2           Benzoic acids and derivatives   \n",
       "3   Hydroxycinnamic acids and derivatives   \n",
       "4   Hydroxycinnamic acids and derivatives   \n",
       "5   Hydroxycinnamic acids and derivatives   \n",
       "6                                     NaN   \n",
       "7                              Isoflavans   \n",
       "8                                     NaN   \n",
       "9                          Isoflav-2-enes   \n",
       "10                                Flavans   \n",
       "11                                    NaN   \n",
       "12                O-methylated flavonoids   \n",
       "13                               Flavones   \n",
       "14                                Flavans   \n",
       "15                                Flavans   \n",
       "16                   Flavonoid glycosides   \n",
       "17                   Flavonoid glycosides   \n",
       "18                O-methylated flavonoids   \n",
       "19                                Flavans   \n",
       "20                                Flavans   \n",
       "21                                Flavans   \n",
       "22                                    NaN   \n",
       "23                   Flavonoid glycosides   \n",
       "24                   Flavonoid glycosides   \n",
       "25                                    NaN   \n",
       "26        Biflavonoids and polyflavonoids   \n",
       "27    Tricarboxylic acids and derivatives   \n",
       "28        Biflavonoids and polyflavonoids   \n",
       "29                   Flavonoid glycosides   \n",
       "30                                    NaN   \n",
       "31                   Flavonoid glycosides   \n",
       "32                                    NaN   \n",
       "\n",
       "                       cf_direct_parent               npc_class_results  \\\n",
       "0                        Cinnamic acids  Cinnamic acids and derivatives   \n",
       "1                 Hydroxycinnamic acids  Cinnamic acids and derivatives   \n",
       "2                        Hippuric acids                      Dipeptides   \n",
       "3                 Hydroxycinnamic acids  Cinnamic acids and derivatives   \n",
       "4                 Hydroxycinnamic acids  Cinnamic acids and derivatives   \n",
       "5                 Hydroxycinnamic acids  Cinnamic acids and derivatives   \n",
       "6             Coumarins and derivatives                Simple coumarins   \n",
       "7                          Isoflavanols                   Isoflavanones   \n",
       "8                                   NaN                             NaN   \n",
       "9                           Isoflavones                     Isoflavones   \n",
       "10                           Flavanones                      Flavanones   \n",
       "11                                  NaN                             NaN   \n",
       "12           4'-O-methylated flavonoids                        Flavones   \n",
       "13                            Flavonols                       Flavonols   \n",
       "14                            Catechins                    Flavan-3-ols   \n",
       "15                            Catechins                    Flavan-3-ols   \n",
       "16             Flavonoid-7-O-glycosides                       Flavonols   \n",
       "17             Flavonoid-3-O-glycosides                       Flavonols   \n",
       "18           4'-O-methylated flavonoids                      Flavanones   \n",
       "19              8-prenylated flavanones                      Flavanones   \n",
       "20              8-prenylated flavanones                      Flavanones   \n",
       "21              8-prenylated flavanones                      Flavanones   \n",
       "22                                  NaN                             NaN   \n",
       "23           Flavonoid-7-O-glucuronides                        Flavones   \n",
       "24           Flavonoid-3-O-glucuronides                       Flavonols   \n",
       "25                                  NaN                             NaN   \n",
       "26      Biflavonoids and polyflavonoids                 Proanthocyanins   \n",
       "27  Tricarboxylic acids and derivatives                             NaN   \n",
       "28      Biflavonoids and polyflavonoids                 Proanthocyanins   \n",
       "29             Flavonoid-7-O-glycosides                      Flavanones   \n",
       "30                                  NaN                             NaN   \n",
       "31             Flavonoid-7-O-glycosides                      Flavanones   \n",
       "32                              Tannins                    Gallotannins   \n",
       "\n",
       "      npc_superclass_results              npc_pathway_results  \\\n",
       "0   Phenylpropanoids (C6-C3)  Shikimates and Phenylpropanoids   \n",
       "1   Phenylpropanoids (C6-C3)  Shikimates and Phenylpropanoids   \n",
       "2             Small peptides         Amino acids and Peptides   \n",
       "3   Phenylpropanoids (C6-C3)  Shikimates and Phenylpropanoids   \n",
       "4   Phenylpropanoids (C6-C3)  Shikimates and Phenylpropanoids   \n",
       "5   Phenylpropanoids (C6-C3)  Shikimates and Phenylpropanoids   \n",
       "6                  Coumarins  Shikimates and Phenylpropanoids   \n",
       "7              Isoflavonoids  Shikimates and Phenylpropanoids   \n",
       "8                        NaN                              NaN   \n",
       "9              Isoflavonoids  Shikimates and Phenylpropanoids   \n",
       "10                Flavonoids  Shikimates and Phenylpropanoids   \n",
       "11                       NaN                              NaN   \n",
       "12                Flavonoids  Shikimates and Phenylpropanoids   \n",
       "13                Flavonoids  Shikimates and Phenylpropanoids   \n",
       "14                Flavonoids  Shikimates and Phenylpropanoids   \n",
       "15                Flavonoids  Shikimates and Phenylpropanoids   \n",
       "16                Flavonoids  Shikimates and Phenylpropanoids   \n",
       "17                Flavonoids  Shikimates and Phenylpropanoids   \n",
       "18                Flavonoids  Shikimates and Phenylpropanoids   \n",
       "19                Flavonoids  Shikimates and Phenylpropanoids   \n",
       "20                Flavonoids  Shikimates and Phenylpropanoids   \n",
       "21                Flavonoids  Shikimates and Phenylpropanoids   \n",
       "22                       NaN                              NaN   \n",
       "23                Flavonoids  Shikimates and Phenylpropanoids   \n",
       "24                Flavonoids  Shikimates and Phenylpropanoids   \n",
       "25                       NaN                              NaN   \n",
       "26                Flavonoids  Shikimates and Phenylpropanoids   \n",
       "27                       NaN                              NaN   \n",
       "28                Flavonoids  Shikimates and Phenylpropanoids   \n",
       "29                Flavonoids  Shikimates and Phenylpropanoids   \n",
       "30                       NaN                              NaN   \n",
       "31                Flavonoids  Shikimates and Phenylpropanoids   \n",
       "32    Phenolic acids (C6-C1)  Shikimates and Phenylpropanoids   \n",
       "\n",
       "   source_spectrum_mgf_iloc is_standard exp_metadata standard_metadata  \\\n",
       "0                         0       False         None               NaN   \n",
       "1                         1       False         None               NaN   \n",
       "2                         2       False         None               NaN   \n",
       "3                         3       False         None               NaN   \n",
       "4                         4       False         None               NaN   \n",
       "5                         5       False         None               NaN   \n",
       "6                         6       False         None               NaN   \n",
       "7                         7       False         None               NaN   \n",
       "8                         8       False         None               NaN   \n",
       "9                         9       False         None               NaN   \n",
       "10                       10       False         None               NaN   \n",
       "11                       11       False         None               NaN   \n",
       "12                       12       False         None               NaN   \n",
       "13                       13       False         None               NaN   \n",
       "14                       14       False         None               NaN   \n",
       "15                       15       False         None               NaN   \n",
       "16                       16       False         None               NaN   \n",
       "17                       17       False         None               NaN   \n",
       "18                       18       False         None               NaN   \n",
       "19                       19       False         None               NaN   \n",
       "20                       20       False         None               NaN   \n",
       "21                       21       False         None               NaN   \n",
       "22                       22       False         None               NaN   \n",
       "23                       23       False         None               NaN   \n",
       "24                       24       False         None               NaN   \n",
       "25                       25       False         None               NaN   \n",
       "26                        0        True          NaN              None   \n",
       "27                        1        True          NaN              None   \n",
       "28                        2        True          NaN              None   \n",
       "29                        3        True          NaN              None   \n",
       "30                        4        True          NaN              None   \n",
       "31                        5        True          NaN              None   \n",
       "32                        6        True          NaN              None   \n",
       "\n",
       "   specxplore_id  \n",
       "0              0  \n",
       "1              1  \n",
       "2              2  \n",
       "3              3  \n",
       "4              4  \n",
       "5              5  \n",
       "6              6  \n",
       "7              7  \n",
       "8              8  \n",
       "9              9  \n",
       "10            10  \n",
       "11            11  \n",
       "12            12  \n",
       "13            13  \n",
       "14            14  \n",
       "15            15  \n",
       "16            16  \n",
       "17            17  \n",
       "18            18  \n",
       "19            19  \n",
       "20            20  \n",
       "21            21  \n",
       "22            22  \n",
       "23            23  \n",
       "24            24  \n",
       "25            25  \n",
       "26            26  \n",
       "27            27  \n",
       "28            28  \n",
       "29            29  \n",
       "30            30  \n",
       "31            31  \n",
       "32            32  \n",
       "\n",
       "[33 rows x 25 columns]"
      ]
     },
     "execution_count": 12,
     "metadata": {},
     "output_type": "execute_result"
    }
   ],
   "source": [
    "\n",
    "spectrums_standards = list(load_from_mgf(reference_standards_filename_pos))\n",
    "spectrums_exp = list(load_from_mgf(experimental_spectra_filename_pos))\n",
    "\n",
    "print( len(spectrums_exp) + len(spectrums_standards))\n",
    "\n",
    "class_df_exp = pd.read_csv(\"testing/results/spectra_set1.csv\")\n",
    "class_df_standards = pd.read_csv(\"testing/results/spectra_set2.csv\")\n",
    "print( class_df_exp.shape[0] + class_df_standards.shape[0] )\n",
    "\n",
    "class_df_standards = expand_ms2query_results_table(class_df_standards, len(spectrums_standards))\n",
    "class_df_exp = expand_ms2query_results_table(class_df_exp, len(spectrums_exp))\n",
    "# Current merge script\n",
    "all_spectra = spectrums_exp + spectrums_standards # list addition\n",
    "\n",
    "class_df_exp[\"is_standard\"] = False\n",
    "class_df_exp[\"exp_metadata\"] = None\n",
    "class_df_standards[\"is_standard\"] = True\n",
    "class_df_standards[\"standard_metadata\"] = None\n",
    "\n",
    "#all_class_table = pd.concat([class_df_exp, class_df_standards]).reset_index()\n",
    "all_class_table = pd.merge(class_df_exp, class_df_standards, how = 'outer').reset_index()\n",
    "all_class_table[\"specxplore_id\"] = all_class_table.index\n",
    "all_class_table\n"
   ]
  },
  {
   "attachments": {},
   "cell_type": "markdown",
   "metadata": {},
   "source": [
    "### Process and Annotate reference standards\n",
    "\n",
    "- An mgf file is loaded and matchms spectrum cleaning and harmonization functions are applied as a pipeline. \n",
    "- GNPS API interfacing code is used to run classyfire and npclassifier on inchi/smiles.\n",
    "- The spectrum metadata is extracted as a pandas df.\n",
    "- Any additonal spectrum metadata is added if available.\n",
    "- All spectra are indexed by their standards_idx\n",
    "\n",
    "\n",
    "\n",
    "To add any custom metadata require the following:\n",
    "- mgf file contains unique spectrum identifier c_id\n",
    "- csv file with additional metadata contains this same unique spectrum identifier c_id\n",
    "\n",
    "Provide function for metadata table joining such that\n",
    "[chemical classes table (with c_id column from mgf)] joined with [metadata table from csv from c_id]"
   ]
  },
  {
   "cell_type": "code",
   "execution_count": null,
   "metadata": {},
   "outputs": [],
   "source": [
    "\n",
    "\n"
   ]
  },
  {
   "attachments": {},
   "cell_type": "markdown",
   "metadata": {},
   "source": [
    "### Merge spectral data\n",
    "\n",
    "Sample data and reference standard data are combined together. Reference standards can be identified easily in post via their is_standard == True entry in the joint metadata table or via their inchi/smiles.\n",
    "\n",
    "A new idx is generated to uniquely identify each spectrum in the merged data. Any otherwise useful spectrum ids will be within the metadata."
   ]
  },
  {
   "attachments": {},
   "cell_type": "markdown",
   "metadata": {},
   "source": [
    "### Get Pairwise Similarities using matchms\n",
    "\n",
    "Requires:model files and their paths, spectrum list\n",
    "Returns:idx ordered pairwise similarities in np matrix format\n",
    "\n",
    "Note:\n",
    "- spec2vec and ms2deepscore come with their own tutorials on how to do this. \n",
    "- installations of both tools may be tricky depdending on the operating system\n",
    "- matchms has a nice interface for this already; all we can do is wrap it away and limit it\n",
    "- WARNING:all three similarity matrices are currently necessary for the dashboard; they cannot be missing.\n",
    "\n",
    "Proposed Solution:\n",
    "\n",
    "--> leave these steps in the original functions style and mainly provide output glue.\n",
    "--> a wrapper function will add additional baggage and will only be handy if we can guarantee it'll run."
   ]
  },
  {
   "cell_type": "code",
   "execution_count": 14,
   "metadata": {},
   "outputs": [
    {
     "name": "stdout",
     "output_type": "stream",
     "text": [
      "2023-02-03 11:15:59,721:WARNING:matchms:ModifiedCosine:Precursor_mz must be of type int or float. Apply 'add_precursor_mz' filter first.\n",
      "2023-02-03 11:15:59,722:WARNING:matchms:ModifiedCosine:Precursor_mz must be of type int or float. Apply 'add_precursor_mz' filter first.\n",
      "2023-02-03 11:16:00,136:WARNING:matchms:ModifiedCosine:Precursor_mz must be of type int or float. Apply 'add_precursor_mz' filter first.\n",
      "2023-02-03 11:16:00,137:WARNING:matchms:ModifiedCosine:Precursor_mz must be of type int or float. Apply 'add_precursor_mz' filter first.\n",
      "2023-02-03 11:16:00,137:WARNING:matchms:ModifiedCosine:Precursor_mz must be of type int or float. Apply 'add_precursor_mz' filter first.\n",
      "2023-02-03 11:16:00,138:WARNING:matchms:ModifiedCosine:Precursor_mz must be of type int or float. Apply 'add_precursor_mz' filter first.\n",
      "2023-02-03 11:16:00,138:WARNING:matchms:ModifiedCosine:Precursor_mz must be of type int or float. Apply 'add_precursor_mz' filter first.\n",
      "2023-02-03 11:16:00,138:WARNING:matchms:ModifiedCosine:Precursor_mz must be of type int or float. Apply 'add_precursor_mz' filter first.\n",
      "2023-02-03 11:16:00,138:WARNING:matchms:ModifiedCosine:Precursor_mz must be of type int or float. Apply 'add_precursor_mz' filter first.\n",
      "2023-02-03 11:16:00,139:WARNING:matchms:ModifiedCosine:Precursor_mz must be of type int or float. Apply 'add_precursor_mz' filter first.\n",
      "2023-02-03 11:16:00,139:WARNING:matchms:ModifiedCosine:Precursor_mz must be of type int or float. Apply 'add_precursor_mz' filter first.\n",
      "2023-02-03 11:16:00,139:WARNING:matchms:ModifiedCosine:Precursor_mz must be of type int or float. Apply 'add_precursor_mz' filter first.\n",
      "2023-02-03 11:16:00,140:WARNING:matchms:ModifiedCosine:Precursor_mz must be of type int or float. Apply 'add_precursor_mz' filter first.\n",
      "2023-02-03 11:16:00,140:WARNING:matchms:ModifiedCosine:Precursor_mz must be of type int or float. Apply 'add_precursor_mz' filter first.\n",
      "2023-02-03 11:16:00,141:WARNING:matchms:ModifiedCosine:Precursor_mz must be of type int or float. Apply 'add_precursor_mz' filter first.\n",
      "2023-02-03 11:16:00,141:WARNING:matchms:ModifiedCosine:Precursor_mz must be of type int or float. Apply 'add_precursor_mz' filter first.\n",
      "2023-02-03 11:16:00,141:WARNING:matchms:ModifiedCosine:Precursor_mz must be of type int or float. Apply 'add_precursor_mz' filter first.\n",
      "2023-02-03 11:16:00,142:WARNING:matchms:ModifiedCosine:Precursor_mz must be of type int or float. Apply 'add_precursor_mz' filter first.\n",
      "2023-02-03 11:16:00,142:WARNING:matchms:ModifiedCosine:Precursor_mz must be of type int or float. Apply 'add_precursor_mz' filter first.\n",
      "2023-02-03 11:16:00,143:WARNING:matchms:ModifiedCosine:Precursor_mz must be of type int or float. Apply 'add_precursor_mz' filter first.\n",
      "2023-02-03 11:16:00,143:WARNING:matchms:ModifiedCosine:Precursor_mz must be of type int or float. Apply 'add_precursor_mz' filter first.\n",
      "2023-02-03 11:16:00,143:WARNING:matchms:ModifiedCosine:Precursor_mz must be of type int or float. Apply 'add_precursor_mz' filter first.\n",
      "2023-02-03 11:16:00,144:WARNING:matchms:ModifiedCosine:Precursor_mz must be of type int or float. Apply 'add_precursor_mz' filter first.\n",
      "2023-02-03 11:16:00,144:WARNING:matchms:ModifiedCosine:Precursor_mz must be of type int or float. Apply 'add_precursor_mz' filter first.\n",
      "2023-02-03 11:16:00,144:WARNING:matchms:ModifiedCosine:Precursor_mz must be of type int or float. Apply 'add_precursor_mz' filter first.\n",
      "2023-02-03 11:16:00,144:WARNING:matchms:ModifiedCosine:Precursor_mz must be of type int or float. Apply 'add_precursor_mz' filter first.\n",
      "2023-02-03 11:16:00,145:WARNING:matchms:ModifiedCosine:Precursor_mz must be of type int or float. Apply 'add_precursor_mz' filter first.\n",
      "2023-02-03 11:16:00,145:WARNING:matchms:ModifiedCosine:Precursor_mz must be of type int or float. Apply 'add_precursor_mz' filter first.\n",
      "2023-02-03 11:16:00,145:WARNING:matchms:ModifiedCosine:Precursor_mz must be of type int or float. Apply 'add_precursor_mz' filter first.\n",
      "2023-02-03 11:16:00,145:WARNING:matchms:ModifiedCosine:Precursor_mz must be of type int or float. Apply 'add_precursor_mz' filter first.\n",
      "2023-02-03 11:16:00,146:WARNING:matchms:ModifiedCosine:Precursor_mz must be of type int or float. Apply 'add_precursor_mz' filter first.\n",
      "2023-02-03 11:16:00,146:WARNING:matchms:ModifiedCosine:Precursor_mz must be of type int or float. Apply 'add_precursor_mz' filter first.\n",
      "2023-02-03 11:16:00,146:WARNING:matchms:ModifiedCosine:Precursor_mz must be of type int or float. Apply 'add_precursor_mz' filter first.\n",
      "2023-02-03 11:16:00,147:WARNING:matchms:ModifiedCosine:Precursor_mz must be of type int or float. Apply 'add_precursor_mz' filter first.\n",
      "2023-02-03 11:16:00,147:WARNING:matchms:ModifiedCosine:Precursor_mz must be of type int or float. Apply 'add_precursor_mz' filter first.\n",
      "2023-02-03 11:16:00,147:WARNING:matchms:ModifiedCosine:Precursor_mz must be of type int or float. Apply 'add_precursor_mz' filter first.\n",
      "2023-02-03 11:16:00,147:WARNING:matchms:ModifiedCosine:Precursor_mz must be of type int or float. Apply 'add_precursor_mz' filter first.\n",
      "2023-02-03 11:16:00,148:WARNING:matchms:ModifiedCosine:Precursor_mz must be of type int or float. Apply 'add_precursor_mz' filter first.\n",
      "2023-02-03 11:16:00,148:WARNING:matchms:ModifiedCosine:Precursor_mz must be of type int or float. Apply 'add_precursor_mz' filter first.\n",
      "2023-02-03 11:16:00,148:WARNING:matchms:ModifiedCosine:Precursor_mz must be of type int or float. Apply 'add_precursor_mz' filter first.\n",
      "2023-02-03 11:16:00,149:WARNING:matchms:ModifiedCosine:Precursor_mz must be of type int or float. Apply 'add_precursor_mz' filter first.\n",
      "2023-02-03 11:16:00,149:WARNING:matchms:ModifiedCosine:Precursor_mz must be of type int or float. Apply 'add_precursor_mz' filter first.\n",
      "2023-02-03 11:16:00,149:WARNING:matchms:ModifiedCosine:Precursor_mz must be of type int or float. Apply 'add_precursor_mz' filter first.\n",
      "2023-02-03 11:16:00,150:WARNING:matchms:ModifiedCosine:Precursor_mz must be of type int or float. Apply 'add_precursor_mz' filter first.\n",
      "2023-02-03 11:16:00,150:WARNING:matchms:ModifiedCosine:Precursor_mz must be of type int or float. Apply 'add_precursor_mz' filter first.\n",
      "2023-02-03 11:16:00,151:WARNING:matchms:ModifiedCosine:Precursor_mz must be of type int or float. Apply 'add_precursor_mz' filter first.\n",
      "2023-02-03 11:16:00,151:WARNING:matchms:ModifiedCosine:Precursor_mz must be of type int or float. Apply 'add_precursor_mz' filter first.\n",
      "2023-02-03 11:16:00,152:WARNING:matchms:ModifiedCosine:Precursor_mz must be of type int or float. Apply 'add_precursor_mz' filter first.\n",
      "2023-02-03 11:16:00,153:WARNING:matchms:ModifiedCosine:Precursor_mz must be of type int or float. Apply 'add_precursor_mz' filter first.\n",
      "2023-02-03 11:16:00,153:WARNING:matchms:ModifiedCosine:Precursor_mz must be of type int or float. Apply 'add_precursor_mz' filter first.\n",
      "2023-02-03 11:16:00,154:WARNING:matchms:ModifiedCosine:Precursor_mz must be of type int or float. Apply 'add_precursor_mz' filter first.\n",
      "2023-02-03 11:16:00,154:WARNING:matchms:ModifiedCosine:Precursor_mz must be of type int or float. Apply 'add_precursor_mz' filter first.\n",
      "2023-02-03 11:16:00,155:WARNING:matchms:ModifiedCosine:Precursor_mz must be of type int or float. Apply 'add_precursor_mz' filter first.\n",
      "2023-02-03 11:16:00,155:WARNING:matchms:ModifiedCosine:Precursor_mz must be of type int or float. Apply 'add_precursor_mz' filter first.\n",
      "2023-02-03 11:16:00,155:WARNING:matchms:ModifiedCosine:Precursor_mz must be of type int or float. Apply 'add_precursor_mz' filter first.\n",
      "2023-02-03 11:16:00,156:WARNING:matchms:ModifiedCosine:Precursor_mz must be of type int or float. Apply 'add_precursor_mz' filter first.\n",
      "2023-02-03 11:16:00,156:WARNING:matchms:ModifiedCosine:Precursor_mz must be of type int or float. Apply 'add_precursor_mz' filter first.\n",
      "2023-02-03 11:16:00,156:WARNING:matchms:ModifiedCosine:Precursor_mz must be of type int or float. Apply 'add_precursor_mz' filter first.\n",
      "2023-02-03 11:16:00,157:WARNING:matchms:ModifiedCosine:Precursor_mz must be of type int or float. Apply 'add_precursor_mz' filter first.\n",
      "2023-02-03 11:16:00,157:WARNING:matchms:ModifiedCosine:Precursor_mz must be of type int or float. Apply 'add_precursor_mz' filter first.\n",
      "2023-02-03 11:16:00,157:WARNING:matchms:ModifiedCosine:Precursor_mz must be of type int or float. Apply 'add_precursor_mz' filter first.\n",
      "2023-02-03 11:16:00,157:WARNING:matchms:ModifiedCosine:Precursor_mz must be of type int or float. Apply 'add_precursor_mz' filter first.\n",
      "2023-02-03 11:16:00,158:WARNING:matchms:ModifiedCosine:Precursor_mz must be of type int or float. Apply 'add_precursor_mz' filter first.\n",
      "2023-02-03 11:16:00,158:WARNING:matchms:ModifiedCosine:Precursor_mz must be of type int or float. Apply 'add_precursor_mz' filter first.\n",
      "2023-02-03 11:16:00,158:WARNING:matchms:ModifiedCosine:Precursor_mz must be of type int or float. Apply 'add_precursor_mz' filter first.\n",
      "2023-02-03 11:16:00,158:WARNING:matchms:ModifiedCosine:Precursor_mz must be of type int or float. Apply 'add_precursor_mz' filter first.\n",
      "2023-02-03 11:16:00,159:WARNING:matchms:ModifiedCosine:Precursor_mz must be of type int or float. Apply 'add_precursor_mz' filter first.\n",
      "2023-02-03 11:16:00,159:WARNING:matchms:ModifiedCosine:Precursor_mz must be of type int or float. Apply 'add_precursor_mz' filter first.\n",
      "2023-02-03 11:16:00,160:WARNING:matchms:ModifiedCosine:Precursor_mz must be of type int or float. Apply 'add_precursor_mz' filter first.\n",
      "2023-02-03 11:16:00,160:WARNING:matchms:ModifiedCosine:Precursor_mz must be of type int or float. Apply 'add_precursor_mz' filter first.\n",
      "2023-02-03 11:16:00,160:WARNING:matchms:ModifiedCosine:Precursor_mz must be of type int or float. Apply 'add_precursor_mz' filter first.\n",
      "2023-02-03 11:16:00,160:WARNING:matchms:ModifiedCosine:Precursor_mz must be of type int or float. Apply 'add_precursor_mz' filter first.\n",
      "2023-02-03 11:16:00,161:WARNING:matchms:ModifiedCosine:Precursor_mz must be of type int or float. Apply 'add_precursor_mz' filter first.\n",
      "2023-02-03 11:16:00,161:WARNING:matchms:ModifiedCosine:Precursor_mz must be of type int or float. Apply 'add_precursor_mz' filter first.\n",
      "2023-02-03 11:16:00,161:WARNING:matchms:ModifiedCosine:Precursor_mz must be of type int or float. Apply 'add_precursor_mz' filter first.\n",
      "2023-02-03 11:16:00,162:WARNING:matchms:ModifiedCosine:Precursor_mz must be of type int or float. Apply 'add_precursor_mz' filter first.\n",
      "2023-02-03 11:16:00,162:WARNING:matchms:ModifiedCosine:Precursor_mz must be of type int or float. Apply 'add_precursor_mz' filter first.\n",
      "2023-02-03 11:16:00,162:WARNING:matchms:ModifiedCosine:Precursor_mz must be of type int or float. Apply 'add_precursor_mz' filter first.\n",
      "2023-02-03 11:16:00,163:WARNING:matchms:ModifiedCosine:Precursor_mz must be of type int or float. Apply 'add_precursor_mz' filter first.\n",
      "2023-02-03 11:16:00,164:WARNING:matchms:ModifiedCosine:Precursor_mz must be of type int or float. Apply 'add_precursor_mz' filter first.\n",
      "2023-02-03 11:16:00,164:WARNING:matchms:ModifiedCosine:Precursor_mz must be of type int or float. Apply 'add_precursor_mz' filter first.\n",
      "2023-02-03 11:16:00,164:WARNING:matchms:ModifiedCosine:Precursor_mz must be of type int or float. Apply 'add_precursor_mz' filter first.\n",
      "2023-02-03 11:16:00,165:WARNING:matchms:ModifiedCosine:Precursor_mz must be of type int or float. Apply 'add_precursor_mz' filter first.\n",
      "2023-02-03 11:16:00,165:WARNING:matchms:ModifiedCosine:Precursor_mz must be of type int or float. Apply 'add_precursor_mz' filter first.\n",
      "2023-02-03 11:16:00,166:WARNING:matchms:ModifiedCosine:Precursor_mz must be of type int or float. Apply 'add_precursor_mz' filter first.\n",
      "2023-02-03 11:16:00,166:WARNING:matchms:ModifiedCosine:Precursor_mz must be of type int or float. Apply 'add_precursor_mz' filter first.\n",
      "2023-02-03 11:16:00,167:WARNING:matchms:ModifiedCosine:Precursor_mz must be of type int or float. Apply 'add_precursor_mz' filter first.\n",
      "2023-02-03 11:16:00,167:WARNING:matchms:ModifiedCosine:Precursor_mz must be of type int or float. Apply 'add_precursor_mz' filter first.\n",
      "2023-02-03 11:16:00,167:WARNING:matchms:ModifiedCosine:Precursor_mz must be of type int or float. Apply 'add_precursor_mz' filter first.\n",
      "2023-02-03 11:16:00,168:WARNING:matchms:ModifiedCosine:Precursor_mz must be of type int or float. Apply 'add_precursor_mz' filter first.\n",
      "2023-02-03 11:16:00,168:WARNING:matchms:ModifiedCosine:Precursor_mz must be of type int or float. Apply 'add_precursor_mz' filter first.\n",
      "2023-02-03 11:16:00,168:WARNING:matchms:ModifiedCosine:Precursor_mz must be of type int or float. Apply 'add_precursor_mz' filter first.\n",
      "2023-02-03 11:16:00,169:WARNING:matchms:ModifiedCosine:Precursor_mz must be of type int or float. Apply 'add_precursor_mz' filter first.\n",
      "2023-02-03 11:16:00,169:WARNING:matchms:ModifiedCosine:Precursor_mz must be of type int or float. Apply 'add_precursor_mz' filter first.\n",
      "2023-02-03 11:16:00,170:WARNING:matchms:ModifiedCosine:Precursor_mz must be of type int or float. Apply 'add_precursor_mz' filter first.\n",
      "2023-02-03 11:16:00,170:WARNING:matchms:ModifiedCosine:Precursor_mz must be of type int or float. Apply 'add_precursor_mz' filter first.\n",
      "2023-02-03 11:16:00,171:WARNING:matchms:ModifiedCosine:Precursor_mz must be of type int or float. Apply 'add_precursor_mz' filter first.\n",
      "2023-02-03 11:16:00,171:WARNING:matchms:ModifiedCosine:Precursor_mz must be of type int or float. Apply 'add_precursor_mz' filter first.\n",
      "2023-02-03 11:16:00,171:WARNING:matchms:ModifiedCosine:Precursor_mz must be of type int or float. Apply 'add_precursor_mz' filter first.\n",
      "2023-02-03 11:16:00,172:WARNING:matchms:ModifiedCosine:Precursor_mz must be of type int or float. Apply 'add_precursor_mz' filter first.\n",
      "2023-02-03 11:16:00,172:WARNING:matchms:ModifiedCosine:Precursor_mz must be of type int or float. Apply 'add_precursor_mz' filter first.\n",
      "2023-02-03 11:16:00,172:WARNING:matchms:ModifiedCosine:Precursor_mz must be of type int or float. Apply 'add_precursor_mz' filter first.\n",
      "2023-02-03 11:16:00,173:WARNING:matchms:ModifiedCosine:Precursor_mz must be of type int or float. Apply 'add_precursor_mz' filter first.\n",
      "2023-02-03 11:16:00,173:WARNING:matchms:ModifiedCosine:Precursor_mz must be of type int or float. Apply 'add_precursor_mz' filter first.\n",
      "2023-02-03 11:16:00,173:WARNING:matchms:ModifiedCosine:Precursor_mz must be of type int or float. Apply 'add_precursor_mz' filter first.\n",
      "2023-02-03 11:16:00,174:WARNING:matchms:ModifiedCosine:Precursor_mz must be of type int or float. Apply 'add_precursor_mz' filter first.\n",
      "2023-02-03 11:16:00,174:WARNING:matchms:ModifiedCosine:Precursor_mz must be of type int or float. Apply 'add_precursor_mz' filter first.\n",
      "2023-02-03 11:16:00,175:WARNING:matchms:ModifiedCosine:Precursor_mz must be of type int or float. Apply 'add_precursor_mz' filter first.\n",
      "2023-02-03 11:16:00,175:WARNING:matchms:ModifiedCosine:Precursor_mz must be of type int or float. Apply 'add_precursor_mz' filter first.\n",
      "2023-02-03 11:16:00,176:WARNING:matchms:ModifiedCosine:Precursor_mz must be of type int or float. Apply 'add_precursor_mz' filter first.\n",
      "2023-02-03 11:16:00,176:WARNING:matchms:ModifiedCosine:Precursor_mz must be of type int or float. Apply 'add_precursor_mz' filter first.\n",
      "2023-02-03 11:16:00,176:WARNING:matchms:ModifiedCosine:Precursor_mz must be of type int or float. Apply 'add_precursor_mz' filter first.\n",
      "2023-02-03 11:16:00,177:WARNING:matchms:ModifiedCosine:Precursor_mz must be of type int or float. Apply 'add_precursor_mz' filter first.\n",
      "2023-02-03 11:16:00,177:WARNING:matchms:ModifiedCosine:Precursor_mz must be of type int or float. Apply 'add_precursor_mz' filter first.\n",
      "2023-02-03 11:16:00,177:WARNING:matchms:ModifiedCosine:Precursor_mz must be of type int or float. Apply 'add_precursor_mz' filter first.\n",
      "2023-02-03 11:16:00,177:WARNING:matchms:ModifiedCosine:Precursor_mz must be of type int or float. Apply 'add_precursor_mz' filter first.\n",
      "2023-02-03 11:16:00,178:WARNING:matchms:ModifiedCosine:Precursor_mz must be of type int or float. Apply 'add_precursor_mz' filter first.\n",
      "2023-02-03 11:16:00,178:WARNING:matchms:ModifiedCosine:Precursor_mz must be of type int or float. Apply 'add_precursor_mz' filter first.\n",
      "2023-02-03 11:16:00,178:WARNING:matchms:ModifiedCosine:Precursor_mz must be of type int or float. Apply 'add_precursor_mz' filter first.\n",
      "2023-02-03 11:16:00,178:WARNING:matchms:ModifiedCosine:Precursor_mz must be of type int or float. Apply 'add_precursor_mz' filter first.\n",
      "2023-02-03 11:16:00,179:WARNING:matchms:ModifiedCosine:Precursor_mz must be of type int or float. Apply 'add_precursor_mz' filter first.\n",
      "2023-02-03 11:16:00,179:WARNING:matchms:ModifiedCosine:Precursor_mz must be of type int or float. Apply 'add_precursor_mz' filter first.\n",
      "2023-02-03 11:16:00,179:WARNING:matchms:ModifiedCosine:Precursor_mz must be of type int or float. Apply 'add_precursor_mz' filter first.\n",
      "2023-02-03 11:16:00,179:WARNING:matchms:ModifiedCosine:Precursor_mz must be of type int or float. Apply 'add_precursor_mz' filter first.\n",
      "2023-02-03 11:16:00,180:WARNING:matchms:ModifiedCosine:Precursor_mz must be of type int or float. Apply 'add_precursor_mz' filter first.\n",
      "2023-02-03 11:16:00,180:WARNING:matchms:ModifiedCosine:Precursor_mz must be of type int or float. Apply 'add_precursor_mz' filter first.\n",
      "2023-02-03 11:16:00,180:WARNING:matchms:ModifiedCosine:Precursor_mz must be of type int or float. Apply 'add_precursor_mz' filter first.\n",
      "2023-02-03 11:16:00,180:WARNING:matchms:ModifiedCosine:Precursor_mz must be of type int or float. Apply 'add_precursor_mz' filter first.\n",
      "2023-02-03 11:16:00,181:WARNING:matchms:ModifiedCosine:Precursor_mz must be of type int or float. Apply 'add_precursor_mz' filter first.\n",
      "2023-02-03 11:16:00,181:WARNING:matchms:ModifiedCosine:Precursor_mz must be of type int or float. Apply 'add_precursor_mz' filter first.\n",
      "2023-02-03 11:16:00,182:WARNING:matchms:ModifiedCosine:Precursor_mz must be of type int or float. Apply 'add_precursor_mz' filter first.\n",
      "2023-02-03 11:16:00,182:WARNING:matchms:ModifiedCosine:Precursor_mz must be of type int or float. Apply 'add_precursor_mz' filter first.\n",
      "2023-02-03 11:16:00,182:WARNING:matchms:ModifiedCosine:Precursor_mz must be of type int or float. Apply 'add_precursor_mz' filter first.\n",
      "2023-02-03 11:16:00,182:WARNING:matchms:ModifiedCosine:Precursor_mz must be of type int or float. Apply 'add_precursor_mz' filter first.\n",
      "2023-02-03 11:16:00,183:WARNING:matchms:ModifiedCosine:Precursor_mz must be of type int or float. Apply 'add_precursor_mz' filter first.\n",
      "2023-02-03 11:16:00,183:WARNING:matchms:ModifiedCosine:Precursor_mz must be of type int or float. Apply 'add_precursor_mz' filter first.\n",
      "2023-02-03 11:16:00,184:WARNING:matchms:ModifiedCosine:Precursor_mz must be of type int or float. Apply 'add_precursor_mz' filter first.\n",
      "2023-02-03 11:16:00,184:WARNING:matchms:ModifiedCosine:Precursor_mz must be of type int or float. Apply 'add_precursor_mz' filter first.\n",
      "2023-02-03 11:16:00,184:WARNING:matchms:ModifiedCosine:Precursor_mz must be of type int or float. Apply 'add_precursor_mz' filter first.\n",
      "2023-02-03 11:16:00,185:WARNING:matchms:ModifiedCosine:Precursor_mz must be of type int or float. Apply 'add_precursor_mz' filter first.\n",
      "2023-02-03 11:16:00,185:WARNING:matchms:ModifiedCosine:Precursor_mz must be of type int or float. Apply 'add_precursor_mz' filter first.\n",
      "2023-02-03 11:16:00,185:WARNING:matchms:ModifiedCosine:Precursor_mz must be of type int or float. Apply 'add_precursor_mz' filter first.\n",
      "2023-02-03 11:16:00,186:WARNING:matchms:ModifiedCosine:Precursor_mz must be of type int or float. Apply 'add_precursor_mz' filter first.\n",
      "2023-02-03 11:16:00,186:WARNING:matchms:ModifiedCosine:Precursor_mz must be of type int or float. Apply 'add_precursor_mz' filter first.\n",
      "2023-02-03 11:16:00,186:WARNING:matchms:ModifiedCosine:Precursor_mz must be of type int or float. Apply 'add_precursor_mz' filter first.\n",
      "2023-02-03 11:16:00,187:WARNING:matchms:ModifiedCosine:Precursor_mz must be of type int or float. Apply 'add_precursor_mz' filter first.\n",
      "2023-02-03 11:16:00,187:WARNING:matchms:ModifiedCosine:Precursor_mz must be of type int or float. Apply 'add_precursor_mz' filter first.\n",
      "2023-02-03 11:16:00,187:WARNING:matchms:ModifiedCosine:Precursor_mz must be of type int or float. Apply 'add_precursor_mz' filter first.\n",
      "2023-02-03 11:16:00,187:WARNING:matchms:ModifiedCosine:Precursor_mz must be of type int or float. Apply 'add_precursor_mz' filter first.\n",
      "2023-02-03 11:16:00,188:WARNING:matchms:ModifiedCosine:Precursor_mz must be of type int or float. Apply 'add_precursor_mz' filter first.\n",
      "2023-02-03 11:16:00,188:WARNING:matchms:ModifiedCosine:Precursor_mz must be of type int or float. Apply 'add_precursor_mz' filter first.\n",
      "2023-02-03 11:16:00,188:WARNING:matchms:ModifiedCosine:Precursor_mz must be of type int or float. Apply 'add_precursor_mz' filter first.\n",
      "2023-02-03 11:16:00,189:WARNING:matchms:ModifiedCosine:Precursor_mz must be of type int or float. Apply 'add_precursor_mz' filter first.\n",
      "2023-02-03 11:16:00,189:WARNING:matchms:ModifiedCosine:Precursor_mz must be of type int or float. Apply 'add_precursor_mz' filter first.\n",
      "2023-02-03 11:16:00,190:WARNING:matchms:ModifiedCosine:Precursor_mz must be of type int or float. Apply 'add_precursor_mz' filter first.\n",
      "2023-02-03 11:16:00,190:WARNING:matchms:ModifiedCosine:Precursor_mz must be of type int or float. Apply 'add_precursor_mz' filter first.\n",
      "2023-02-03 11:16:00,190:WARNING:matchms:ModifiedCosine:Precursor_mz must be of type int or float. Apply 'add_precursor_mz' filter first.\n",
      "2023-02-03 11:16:00,191:WARNING:matchms:ModifiedCosine:Precursor_mz must be of type int or float. Apply 'add_precursor_mz' filter first.\n",
      "2023-02-03 11:16:00,191:WARNING:matchms:ModifiedCosine:Precursor_mz must be of type int or float. Apply 'add_precursor_mz' filter first.\n",
      "2023-02-03 11:16:00,191:WARNING:matchms:ModifiedCosine:Precursor_mz must be of type int or float. Apply 'add_precursor_mz' filter first.\n",
      "2023-02-03 11:16:00,192:WARNING:matchms:ModifiedCosine:Precursor_mz must be of type int or float. Apply 'add_precursor_mz' filter first.\n",
      "2023-02-03 11:16:00,192:WARNING:matchms:ModifiedCosine:Precursor_mz must be of type int or float. Apply 'add_precursor_mz' filter first.\n",
      "2023-02-03 11:16:00,193:WARNING:matchms:ModifiedCosine:Precursor_mz must be of type int or float. Apply 'add_precursor_mz' filter first.\n",
      "2023-02-03 11:16:00,193:WARNING:matchms:ModifiedCosine:Precursor_mz must be of type int or float. Apply 'add_precursor_mz' filter first.\n",
      "2023-02-03 11:16:00,194:WARNING:matchms:ModifiedCosine:Precursor_mz must be of type int or float. Apply 'add_precursor_mz' filter first.\n",
      "2023-02-03 11:16:00,194:WARNING:matchms:ModifiedCosine:Precursor_mz must be of type int or float. Apply 'add_precursor_mz' filter first.\n",
      "2023-02-03 11:16:00,194:WARNING:matchms:ModifiedCosine:Precursor_mz must be of type int or float. Apply 'add_precursor_mz' filter first.\n",
      "2023-02-03 11:16:00,194:WARNING:matchms:ModifiedCosine:Precursor_mz must be of type int or float. Apply 'add_precursor_mz' filter first.\n",
      "2023-02-03 11:16:00,195:WARNING:matchms:ModifiedCosine:Precursor_mz must be of type int or float. Apply 'add_precursor_mz' filter first.\n",
      "2023-02-03 11:16:00,195:WARNING:matchms:ModifiedCosine:Precursor_mz must be of type int or float. Apply 'add_precursor_mz' filter first.\n",
      "2023-02-03 11:16:00,196:WARNING:matchms:ModifiedCosine:Precursor_mz must be of type int or float. Apply 'add_precursor_mz' filter first.\n",
      "2023-02-03 11:16:00,196:WARNING:matchms:ModifiedCosine:Precursor_mz must be of type int or float. Apply 'add_precursor_mz' filter first.\n",
      "2023-02-03 11:16:00,196:WARNING:matchms:ModifiedCosine:Precursor_mz must be of type int or float. Apply 'add_precursor_mz' filter first.\n",
      "2023-02-03 11:16:00,196:WARNING:matchms:ModifiedCosine:Precursor_mz must be of type int or float. Apply 'add_precursor_mz' filter first.\n",
      "2023-02-03 11:16:00,197:WARNING:matchms:ModifiedCosine:Precursor_mz must be of type int or float. Apply 'add_precursor_mz' filter first.\n",
      "2023-02-03 11:16:00,197:WARNING:matchms:ModifiedCosine:Precursor_mz must be of type int or float. Apply 'add_precursor_mz' filter first.\n",
      "2023-02-03 11:16:00,197:WARNING:matchms:ModifiedCosine:Precursor_mz must be of type int or float. Apply 'add_precursor_mz' filter first.\n",
      "2023-02-03 11:16:00,198:WARNING:matchms:ModifiedCosine:Precursor_mz must be of type int or float. Apply 'add_precursor_mz' filter first.\n",
      "2023-02-03 11:16:00,198:WARNING:matchms:ModifiedCosine:Precursor_mz must be of type int or float. Apply 'add_precursor_mz' filter first.\n",
      "2023-02-03 11:16:00,198:WARNING:matchms:ModifiedCosine:Precursor_mz must be of type int or float. Apply 'add_precursor_mz' filter first.\n",
      "2023-02-03 11:16:00,199:WARNING:matchms:ModifiedCosine:Precursor_mz must be of type int or float. Apply 'add_precursor_mz' filter first.\n",
      "2023-02-03 11:16:00,199:WARNING:matchms:ModifiedCosine:Precursor_mz must be of type int or float. Apply 'add_precursor_mz' filter first.\n",
      "2023-02-03 11:16:00,199:WARNING:matchms:ModifiedCosine:Precursor_mz must be of type int or float. Apply 'add_precursor_mz' filter first.\n",
      "2023-02-03 11:16:00,200:WARNING:matchms:ModifiedCosine:Precursor_mz must be of type int or float. Apply 'add_precursor_mz' filter first.\n",
      "2023-02-03 11:16:00,200:WARNING:matchms:ModifiedCosine:Precursor_mz must be of type int or float. Apply 'add_precursor_mz' filter first.\n",
      "2023-02-03 11:16:00,200:WARNING:matchms:ModifiedCosine:Precursor_mz must be of type int or float. Apply 'add_precursor_mz' filter first.\n",
      "2023-02-03 11:16:00,201:WARNING:matchms:ModifiedCosine:Precursor_mz must be of type int or float. Apply 'add_precursor_mz' filter first.\n",
      "2023-02-03 11:16:00,201:WARNING:matchms:ModifiedCosine:Precursor_mz must be of type int or float. Apply 'add_precursor_mz' filter first.\n",
      "2023-02-03 11:16:00,201:WARNING:matchms:ModifiedCosine:Precursor_mz must be of type int or float. Apply 'add_precursor_mz' filter first.\n",
      "2023-02-03 11:16:00,202:WARNING:matchms:ModifiedCosine:Precursor_mz must be of type int or float. Apply 'add_precursor_mz' filter first.\n",
      "2023-02-03 11:16:00,202:WARNING:matchms:ModifiedCosine:Precursor_mz must be of type int or float. Apply 'add_precursor_mz' filter first.\n",
      "2023-02-03 11:16:00,202:WARNING:matchms:ModifiedCosine:Precursor_mz must be of type int or float. Apply 'add_precursor_mz' filter first.\n",
      "2023-02-03 11:16:00,203:WARNING:matchms:ModifiedCosine:Precursor_mz must be of type int or float. Apply 'add_precursor_mz' filter first.\n",
      "2023-02-03 11:16:00,203:WARNING:matchms:ModifiedCosine:Precursor_mz must be of type int or float. Apply 'add_precursor_mz' filter first.\n",
      "2023-02-03 11:16:00,203:WARNING:matchms:ModifiedCosine:Precursor_mz must be of type int or float. Apply 'add_precursor_mz' filter first.\n",
      "2023-02-03 11:16:00,204:WARNING:matchms:ModifiedCosine:Precursor_mz must be of type int or float. Apply 'add_precursor_mz' filter first.\n",
      "2023-02-03 11:16:00,204:WARNING:matchms:ModifiedCosine:Precursor_mz must be of type int or float. Apply 'add_precursor_mz' filter first.\n",
      "2023-02-03 11:16:00,204:WARNING:matchms:ModifiedCosine:Precursor_mz must be of type int or float. Apply 'add_precursor_mz' filter first.\n",
      "2023-02-03 11:16:00,204:WARNING:matchms:ModifiedCosine:Precursor_mz must be of type int or float. Apply 'add_precursor_mz' filter first.\n",
      "2023-02-03 11:16:00,205:WARNING:matchms:ModifiedCosine:Precursor_mz must be of type int or float. Apply 'add_precursor_mz' filter first.\n",
      "2023-02-03 11:16:00,205:WARNING:matchms:ModifiedCosine:Precursor_mz must be of type int or float. Apply 'add_precursor_mz' filter first.\n",
      "2023-02-03 11:16:00,206:WARNING:matchms:ModifiedCosine:Precursor_mz must be of type int or float. Apply 'add_precursor_mz' filter first.\n",
      "2023-02-03 11:16:00,206:WARNING:matchms:ModifiedCosine:Precursor_mz must be of type int or float. Apply 'add_precursor_mz' filter first.\n",
      "2023-02-03 11:16:00,206:WARNING:matchms:ModifiedCosine:Precursor_mz must be of type int or float. Apply 'add_precursor_mz' filter first.\n",
      "2023-02-03 11:16:00,207:WARNING:matchms:ModifiedCosine:Precursor_mz must be of type int or float. Apply 'add_precursor_mz' filter first.\n",
      "2023-02-03 11:16:00,207:WARNING:matchms:ModifiedCosine:Precursor_mz must be of type int or float. Apply 'add_precursor_mz' filter first.\n",
      "2023-02-03 11:16:00,207:WARNING:matchms:ModifiedCosine:Precursor_mz must be of type int or float. Apply 'add_precursor_mz' filter first.\n",
      "2023-02-03 11:16:00,208:WARNING:matchms:ModifiedCosine:Precursor_mz must be of type int or float. Apply 'add_precursor_mz' filter first.\n",
      "2023-02-03 11:16:00,208:WARNING:matchms:ModifiedCosine:Precursor_mz must be of type int or float. Apply 'add_precursor_mz' filter first.\n",
      "2023-02-03 11:16:00,208:WARNING:matchms:ModifiedCosine:Precursor_mz must be of type int or float. Apply 'add_precursor_mz' filter first.\n",
      "2023-02-03 11:16:00,209:WARNING:matchms:ModifiedCosine:Precursor_mz must be of type int or float. Apply 'add_precursor_mz' filter first.\n",
      "2023-02-03 11:16:00,209:WARNING:matchms:ModifiedCosine:Precursor_mz must be of type int or float. Apply 'add_precursor_mz' filter first.\n",
      "2023-02-03 11:16:00,209:WARNING:matchms:ModifiedCosine:Precursor_mz must be of type int or float. Apply 'add_precursor_mz' filter first.\n",
      "2023-02-03 11:16:00,209:WARNING:matchms:ModifiedCosine:Precursor_mz must be of type int or float. Apply 'add_precursor_mz' filter first.\n",
      "2023-02-03 11:16:00,210:WARNING:matchms:ModifiedCosine:Precursor_mz must be of type int or float. Apply 'add_precursor_mz' filter first.\n",
      "2023-02-03 11:16:00,210:WARNING:matchms:ModifiedCosine:Precursor_mz must be of type int or float. Apply 'add_precursor_mz' filter first.\n",
      "2023-02-03 11:16:00,210:WARNING:matchms:ModifiedCosine:Precursor_mz must be of type int or float. Apply 'add_precursor_mz' filter first.\n",
      "2023-02-03 11:16:00,211:WARNING:matchms:ModifiedCosine:Precursor_mz must be of type int or float. Apply 'add_precursor_mz' filter first.\n",
      "2023-02-03 11:16:00,211:WARNING:matchms:ModifiedCosine:Precursor_mz must be of type int or float. Apply 'add_precursor_mz' filter first.\n",
      "2023-02-03 11:16:00,211:WARNING:matchms:ModifiedCosine:Precursor_mz must be of type int or float. Apply 'add_precursor_mz' filter first.\n",
      "2023-02-03 11:16:00,212:WARNING:matchms:ModifiedCosine:Precursor_mz must be of type int or float. Apply 'add_precursor_mz' filter first.\n",
      "2023-02-03 11:16:00,212:WARNING:matchms:ModifiedCosine:Precursor_mz must be of type int or float. Apply 'add_precursor_mz' filter first.\n",
      "2023-02-03 11:16:00,212:WARNING:matchms:ModifiedCosine:Precursor_mz must be of type int or float. Apply 'add_precursor_mz' filter first.\n",
      "2023-02-03 11:16:00,213:WARNING:matchms:ModifiedCosine:Precursor_mz must be of type int or float. Apply 'add_precursor_mz' filter first.\n",
      "2023-02-03 11:16:00,213:WARNING:matchms:ModifiedCosine:Precursor_mz must be of type int or float. Apply 'add_precursor_mz' filter first.\n",
      "2023-02-03 11:16:00,213:WARNING:matchms:ModifiedCosine:Precursor_mz must be of type int or float. Apply 'add_precursor_mz' filter first.\n",
      "2023-02-03 11:16:00,214:WARNING:matchms:ModifiedCosine:Precursor_mz must be of type int or float. Apply 'add_precursor_mz' filter first.\n",
      "2023-02-03 11:16:00,214:WARNING:matchms:ModifiedCosine:Precursor_mz must be of type int or float. Apply 'add_precursor_mz' filter first.\n",
      "2023-02-03 11:16:00,215:WARNING:matchms:ModifiedCosine:Precursor_mz must be of type int or float. Apply 'add_precursor_mz' filter first.\n",
      "2023-02-03 11:16:00,215:WARNING:matchms:ModifiedCosine:Precursor_mz must be of type int or float. Apply 'add_precursor_mz' filter first.\n",
      "2023-02-03 11:16:00,215:WARNING:matchms:ModifiedCosine:Precursor_mz must be of type int or float. Apply 'add_precursor_mz' filter first.\n",
      "2023-02-03 11:16:00,216:WARNING:matchms:ModifiedCosine:Precursor_mz must be of type int or float. Apply 'add_precursor_mz' filter first.\n",
      "2023-02-03 11:16:00,216:WARNING:matchms:ModifiedCosine:Precursor_mz must be of type int or float. Apply 'add_precursor_mz' filter first.\n",
      "2023-02-03 11:16:00,216:WARNING:matchms:ModifiedCosine:Precursor_mz must be of type int or float. Apply 'add_precursor_mz' filter first.\n",
      "2023-02-03 11:16:00,217:WARNING:matchms:ModifiedCosine:Precursor_mz must be of type int or float. Apply 'add_precursor_mz' filter first.\n",
      "2023-02-03 11:16:00,217:WARNING:matchms:ModifiedCosine:Precursor_mz must be of type int or float. Apply 'add_precursor_mz' filter first.\n",
      "2023-02-03 11:16:00,217:WARNING:matchms:ModifiedCosine:Precursor_mz must be of type int or float. Apply 'add_precursor_mz' filter first.\n",
      "2023-02-03 11:16:00,217:WARNING:matchms:ModifiedCosine:Precursor_mz must be of type int or float. Apply 'add_precursor_mz' filter first.\n",
      "2023-02-03 11:16:00,218:WARNING:matchms:ModifiedCosine:Precursor_mz must be of type int or float. Apply 'add_precursor_mz' filter first.\n",
      "2023-02-03 11:16:00,218:WARNING:matchms:ModifiedCosine:Precursor_mz must be of type int or float. Apply 'add_precursor_mz' filter first.\n",
      "2023-02-03 11:16:00,219:WARNING:matchms:ModifiedCosine:Precursor_mz must be of type int or float. Apply 'add_precursor_mz' filter first.\n",
      "2023-02-03 11:16:00,219:WARNING:matchms:ModifiedCosine:Precursor_mz must be of type int or float. Apply 'add_precursor_mz' filter first.\n",
      "2023-02-03 11:16:00,219:WARNING:matchms:ModifiedCosine:Precursor_mz must be of type int or float. Apply 'add_precursor_mz' filter first.\n",
      "2023-02-03 11:16:00,219:WARNING:matchms:ModifiedCosine:Precursor_mz must be of type int or float. Apply 'add_precursor_mz' filter first.\n",
      "2023-02-03 11:16:00,220:WARNING:matchms:ModifiedCosine:Precursor_mz must be of type int or float. Apply 'add_precursor_mz' filter first.\n",
      "2023-02-03 11:16:00,220:WARNING:matchms:ModifiedCosine:Precursor_mz must be of type int or float. Apply 'add_precursor_mz' filter first.\n",
      "2023-02-03 11:16:00,220:WARNING:matchms:ModifiedCosine:Precursor_mz must be of type int or float. Apply 'add_precursor_mz' filter first.\n",
      "2023-02-03 11:16:00,220:WARNING:matchms:ModifiedCosine:Precursor_mz must be of type int or float. Apply 'add_precursor_mz' filter first.\n",
      "2023-02-03 11:16:00,221:WARNING:matchms:ModifiedCosine:Precursor_mz must be of type int or float. Apply 'add_precursor_mz' filter first.\n",
      "2023-02-03 11:16:00,221:WARNING:matchms:ModifiedCosine:Precursor_mz must be of type int or float. Apply 'add_precursor_mz' filter first.\n",
      "2023-02-03 11:16:00,221:WARNING:matchms:ModifiedCosine:Precursor_mz must be of type int or float. Apply 'add_precursor_mz' filter first.\n",
      "2023-02-03 11:16:00,222:WARNING:matchms:ModifiedCosine:Precursor_mz must be of type int or float. Apply 'add_precursor_mz' filter first.\n",
      "2023-02-03 11:16:00,222:WARNING:matchms:ModifiedCosine:Precursor_mz must be of type int or float. Apply 'add_precursor_mz' filter first.\n",
      "2023-02-03 11:16:00,223:WARNING:matchms:ModifiedCosine:Precursor_mz must be of type int or float. Apply 'add_precursor_mz' filter first.\n",
      "2023-02-03 11:16:00,223:WARNING:matchms:ModifiedCosine:Precursor_mz must be of type int or float. Apply 'add_precursor_mz' filter first.\n",
      "2023-02-03 11:16:00,223:WARNING:matchms:ModifiedCosine:Precursor_mz must be of type int or float. Apply 'add_precursor_mz' filter first.\n",
      "2023-02-03 11:16:00,224:WARNING:matchms:ModifiedCosine:Precursor_mz must be of type int or float. Apply 'add_precursor_mz' filter first.\n",
      "2023-02-03 11:16:00,224:WARNING:matchms:ModifiedCosine:Precursor_mz must be of type int or float. Apply 'add_precursor_mz' filter first.\n",
      "2023-02-03 11:16:00,224:WARNING:matchms:ModifiedCosine:Precursor_mz must be of type int or float. Apply 'add_precursor_mz' filter first.\n",
      "2023-02-03 11:16:00,225:WARNING:matchms:ModifiedCosine:Precursor_mz must be of type int or float. Apply 'add_precursor_mz' filter first.\n",
      "2023-02-03 11:16:00,225:WARNING:matchms:ModifiedCosine:Precursor_mz must be of type int or float. Apply 'add_precursor_mz' filter first.\n",
      "2023-02-03 11:16:00,226:WARNING:matchms:ModifiedCosine:Precursor_mz must be of type int or float. Apply 'add_precursor_mz' filter first.\n",
      "2023-02-03 11:16:00,226:WARNING:matchms:ModifiedCosine:Precursor_mz must be of type int or float. Apply 'add_precursor_mz' filter first.\n",
      "2023-02-03 11:16:00,227:WARNING:matchms:ModifiedCosine:Precursor_mz must be of type int or float. Apply 'add_precursor_mz' filter first.\n",
      "2023-02-03 11:16:00,227:WARNING:matchms:ModifiedCosine:Precursor_mz must be of type int or float. Apply 'add_precursor_mz' filter first.\n",
      "2023-02-03 11:16:00,227:WARNING:matchms:ModifiedCosine:Precursor_mz must be of type int or float. Apply 'add_precursor_mz' filter first.\n",
      "2023-02-03 11:16:00,228:WARNING:matchms:ModifiedCosine:Precursor_mz must be of type int or float. Apply 'add_precursor_mz' filter first.\n",
      "2023-02-03 11:16:00,228:WARNING:matchms:ModifiedCosine:Precursor_mz must be of type int or float. Apply 'add_precursor_mz' filter first.\n",
      "2023-02-03 11:16:00,228:WARNING:matchms:ModifiedCosine:Precursor_mz must be of type int or float. Apply 'add_precursor_mz' filter first.\n",
      "2023-02-03 11:16:00,229:WARNING:matchms:ModifiedCosine:Precursor_mz must be of type int or float. Apply 'add_precursor_mz' filter first.\n",
      "2023-02-03 11:16:00,229:WARNING:matchms:ModifiedCosine:Precursor_mz must be of type int or float. Apply 'add_precursor_mz' filter first.\n",
      "2023-02-03 11:16:00,229:WARNING:matchms:ModifiedCosine:Precursor_mz must be of type int or float. Apply 'add_precursor_mz' filter first.\n",
      "2023-02-03 11:16:00,230:WARNING:matchms:ModifiedCosine:Precursor_mz must be of type int or float. Apply 'add_precursor_mz' filter first.\n",
      "2023-02-03 11:16:00,230:WARNING:matchms:ModifiedCosine:Precursor_mz must be of type int or float. Apply 'add_precursor_mz' filter first.\n",
      "2023-02-03 11:16:00,231:WARNING:matchms:ModifiedCosine:Precursor_mz must be of type int or float. Apply 'add_precursor_mz' filter first.\n",
      "2023-02-03 11:16:00,231:WARNING:matchms:ModifiedCosine:Precursor_mz must be of type int or float. Apply 'add_precursor_mz' filter first.\n",
      "2023-02-03 11:16:00,232:WARNING:matchms:ModifiedCosine:Precursor_mz must be of type int or float. Apply 'add_precursor_mz' filter first.\n",
      "2023-02-03 11:16:00,233:WARNING:matchms:ModifiedCosine:Precursor_mz must be of type int or float. Apply 'add_precursor_mz' filter first.\n",
      "2023-02-03 11:16:00,233:WARNING:matchms:ModifiedCosine:Precursor_mz must be of type int or float. Apply 'add_precursor_mz' filter first.\n",
      "2023-02-03 11:16:00,233:WARNING:matchms:ModifiedCosine:Precursor_mz must be of type int or float. Apply 'add_precursor_mz' filter first.\n",
      "2023-02-03 11:16:00,234:WARNING:matchms:ModifiedCosine:Precursor_mz must be of type int or float. Apply 'add_precursor_mz' filter first.\n",
      "2023-02-03 11:16:00,234:WARNING:matchms:ModifiedCosine:Precursor_mz must be of type int or float. Apply 'add_precursor_mz' filter first.\n",
      "2023-02-03 11:16:00,234:WARNING:matchms:ModifiedCosine:Precursor_mz must be of type int or float. Apply 'add_precursor_mz' filter first.\n",
      "2023-02-03 11:16:00,235:WARNING:matchms:ModifiedCosine:Precursor_mz must be of type int or float. Apply 'add_precursor_mz' filter first.\n",
      "2023-02-03 11:16:00,235:WARNING:matchms:ModifiedCosine:Precursor_mz must be of type int or float. Apply 'add_precursor_mz' filter first.\n",
      "2023-02-03 11:16:00,235:WARNING:matchms:ModifiedCosine:Precursor_mz must be of type int or float. Apply 'add_precursor_mz' filter first.\n",
      "2023-02-03 11:16:00,236:WARNING:matchms:ModifiedCosine:Precursor_mz must be of type int or float. Apply 'add_precursor_mz' filter first.\n",
      "2023-02-03 11:16:00,236:WARNING:matchms:ModifiedCosine:Precursor_mz must be of type int or float. Apply 'add_precursor_mz' filter first.\n",
      "2023-02-03 11:16:00,237:WARNING:matchms:ModifiedCosine:Precursor_mz must be of type int or float. Apply 'add_precursor_mz' filter first.\n",
      "2023-02-03 11:16:00,237:WARNING:matchms:ModifiedCosine:Precursor_mz must be of type int or float. Apply 'add_precursor_mz' filter first.\n",
      "2023-02-03 11:16:00,237:WARNING:matchms:ModifiedCosine:Precursor_mz must be of type int or float. Apply 'add_precursor_mz' filter first.\n",
      "2023-02-03 11:16:00,238:WARNING:matchms:ModifiedCosine:Precursor_mz must be of type int or float. Apply 'add_precursor_mz' filter first.\n",
      "2023-02-03 11:16:00,238:WARNING:matchms:ModifiedCosine:Precursor_mz must be of type int or float. Apply 'add_precursor_mz' filter first.\n",
      "2023-02-03 11:16:00,239:WARNING:matchms:ModifiedCosine:Precursor_mz must be of type int or float. Apply 'add_precursor_mz' filter first.\n",
      "2023-02-03 11:16:00,239:WARNING:matchms:ModifiedCosine:Precursor_mz must be of type int or float. Apply 'add_precursor_mz' filter first.\n",
      "2023-02-03 11:16:00,240:WARNING:matchms:ModifiedCosine:Precursor_mz must be of type int or float. Apply 'add_precursor_mz' filter first.\n",
      "2023-02-03 11:16:00,240:WARNING:matchms:ModifiedCosine:Precursor_mz must be of type int or float. Apply 'add_precursor_mz' filter first.\n",
      "2023-02-03 11:16:00,241:WARNING:matchms:ModifiedCosine:Precursor_mz must be of type int or float. Apply 'add_precursor_mz' filter first.\n",
      "2023-02-03 11:16:00,241:WARNING:matchms:ModifiedCosine:Precursor_mz must be of type int or float. Apply 'add_precursor_mz' filter first.\n",
      "2023-02-03 11:16:00,241:WARNING:matchms:ModifiedCosine:Precursor_mz must be of type int or float. Apply 'add_precursor_mz' filter first.\n",
      "2023-02-03 11:16:00,242:WARNING:matchms:ModifiedCosine:Precursor_mz must be of type int or float. Apply 'add_precursor_mz' filter first.\n",
      "2023-02-03 11:16:00,242:WARNING:matchms:ModifiedCosine:Precursor_mz must be of type int or float. Apply 'add_precursor_mz' filter first.\n",
      "2023-02-03 11:16:00,243:WARNING:matchms:ModifiedCosine:Precursor_mz must be of type int or float. Apply 'add_precursor_mz' filter first.\n",
      "2023-02-03 11:16:00,243:WARNING:matchms:ModifiedCosine:Precursor_mz must be of type int or float. Apply 'add_precursor_mz' filter first.\n",
      "2023-02-03 11:16:00,244:WARNING:matchms:ModifiedCosine:Precursor_mz must be of type int or float. Apply 'add_precursor_mz' filter first.\n",
      "2023-02-03 11:16:00,245:WARNING:matchms:ModifiedCosine:Precursor_mz must be of type int or float. Apply 'add_precursor_mz' filter first.\n",
      "2023-02-03 11:16:00,247:WARNING:matchms:ModifiedCosine:Precursor_mz must be of type int or float. Apply 'add_precursor_mz' filter first.\n",
      "2023-02-03 11:16:00,248:WARNING:matchms:ModifiedCosine:Precursor_mz must be of type int or float. Apply 'add_precursor_mz' filter first.\n",
      "2023-02-03 11:16:00,248:WARNING:matchms:ModifiedCosine:Precursor_mz must be of type int or float. Apply 'add_precursor_mz' filter first.\n",
      "2023-02-03 11:16:00,248:WARNING:matchms:ModifiedCosine:Precursor_mz must be of type int or float. Apply 'add_precursor_mz' filter first.\n",
      "2023-02-03 11:16:00,249:WARNING:matchms:ModifiedCosine:Precursor_mz must be of type int or float. Apply 'add_precursor_mz' filter first.\n",
      "2023-02-03 11:16:00,250:WARNING:matchms:ModifiedCosine:Precursor_mz must be of type int or float. Apply 'add_precursor_mz' filter first.\n",
      "2023-02-03 11:16:00,251:WARNING:matchms:ModifiedCosine:Precursor_mz must be of type int or float. Apply 'add_precursor_mz' filter first.\n",
      "2023-02-03 11:16:00,251:WARNING:matchms:ModifiedCosine:Precursor_mz must be of type int or float. Apply 'add_precursor_mz' filter first.\n",
      "2023-02-03 11:16:00,252:WARNING:matchms:ModifiedCosine:Precursor_mz must be of type int or float. Apply 'add_precursor_mz' filter first.\n",
      "2023-02-03 11:16:00,252:WARNING:matchms:ModifiedCosine:Precursor_mz must be of type int or float. Apply 'add_precursor_mz' filter first.\n",
      "2023-02-03 11:16:00,253:WARNING:matchms:ModifiedCosine:Precursor_mz must be of type int or float. Apply 'add_precursor_mz' filter first.\n",
      "2023-02-03 11:16:00,254:WARNING:matchms:ModifiedCosine:Precursor_mz must be of type int or float. Apply 'add_precursor_mz' filter first.\n",
      "2023-02-03 11:16:00,255:WARNING:matchms:ModifiedCosine:Precursor_mz must be of type int or float. Apply 'add_precursor_mz' filter first.\n",
      "2023-02-03 11:16:00,256:WARNING:matchms:ModifiedCosine:Precursor_mz must be of type int or float. Apply 'add_precursor_mz' filter first.\n",
      "2023-02-03 11:16:00,256:WARNING:matchms:ModifiedCosine:Precursor_mz must be of type int or float. Apply 'add_precursor_mz' filter first.\n",
      "2023-02-03 11:16:00,257:WARNING:matchms:ModifiedCosine:Precursor_mz must be of type int or float. Apply 'add_precursor_mz' filter first.\n",
      "2023-02-03 11:16:00,258:WARNING:matchms:ModifiedCosine:Precursor_mz must be of type int or float. Apply 'add_precursor_mz' filter first.\n",
      "2023-02-03 11:16:00,258:WARNING:matchms:ModifiedCosine:Precursor_mz must be of type int or float. Apply 'add_precursor_mz' filter first.\n",
      "2023-02-03 11:16:00,260:WARNING:matchms:ModifiedCosine:Precursor_mz must be of type int or float. Apply 'add_precursor_mz' filter first.\n",
      "2023-02-03 11:16:00,263:WARNING:matchms:ModifiedCosine:Precursor_mz must be of type int or float. Apply 'add_precursor_mz' filter first.\n",
      "2023-02-03 11:16:00,268:WARNING:matchms:ModifiedCosine:Precursor_mz must be of type int or float. Apply 'add_precursor_mz' filter first.\n",
      "2023-02-03 11:16:00,269:WARNING:matchms:ModifiedCosine:Precursor_mz must be of type int or float. Apply 'add_precursor_mz' filter first.\n",
      "2023-02-03 11:16:00,271:WARNING:matchms:ModifiedCosine:Precursor_mz must be of type int or float. Apply 'add_precursor_mz' filter first.\n",
      "2023-02-03 11:16:00,273:WARNING:matchms:ModifiedCosine:Precursor_mz must be of type int or float. Apply 'add_precursor_mz' filter first.\n",
      "2023-02-03 11:16:00,274:WARNING:matchms:ModifiedCosine:Precursor_mz must be of type int or float. Apply 'add_precursor_mz' filter first.\n",
      "2023-02-03 11:16:00,275:WARNING:matchms:ModifiedCosine:Precursor_mz must be of type int or float. Apply 'add_precursor_mz' filter first.\n",
      "2023-02-03 11:16:00,276:WARNING:matchms:ModifiedCosine:Precursor_mz must be of type int or float. Apply 'add_precursor_mz' filter first.\n",
      "2023-02-03 11:16:00,276:WARNING:matchms:ModifiedCosine:Precursor_mz must be of type int or float. Apply 'add_precursor_mz' filter first.\n",
      "2023-02-03 11:16:00,277:WARNING:matchms:ModifiedCosine:Precursor_mz must be of type int or float. Apply 'add_precursor_mz' filter first.\n",
      "2023-02-03 11:16:00,278:WARNING:matchms:ModifiedCosine:Precursor_mz must be of type int or float. Apply 'add_precursor_mz' filter first.\n",
      "2023-02-03 11:16:00,279:WARNING:matchms:ModifiedCosine:Precursor_mz must be of type int or float. Apply 'add_precursor_mz' filter first.\n",
      "2023-02-03 11:16:00,280:WARNING:matchms:ModifiedCosine:Precursor_mz must be of type int or float. Apply 'add_precursor_mz' filter first.\n",
      "2023-02-03 11:16:00,281:WARNING:matchms:ModifiedCosine:Precursor_mz must be of type int or float. Apply 'add_precursor_mz' filter first.\n",
      "2023-02-03 11:16:00,282:WARNING:matchms:ModifiedCosine:Precursor_mz must be of type int or float. Apply 'add_precursor_mz' filter first.\n",
      "2023-02-03 11:16:00,283:WARNING:matchms:ModifiedCosine:Precursor_mz must be of type int or float. Apply 'add_precursor_mz' filter first.\n",
      "2023-02-03 11:16:00,284:WARNING:matchms:ModifiedCosine:Precursor_mz must be of type int or float. Apply 'add_precursor_mz' filter first.\n",
      "2023-02-03 11:16:00,285:WARNING:matchms:ModifiedCosine:Precursor_mz must be of type int or float. Apply 'add_precursor_mz' filter first.\n",
      "2023-02-03 11:16:00,285:WARNING:matchms:ModifiedCosine:Precursor_mz must be of type int or float. Apply 'add_precursor_mz' filter first.\n",
      "2023-02-03 11:16:00,286:WARNING:matchms:ModifiedCosine:Precursor_mz must be of type int or float. Apply 'add_precursor_mz' filter first.\n",
      "2023-02-03 11:16:00,286:WARNING:matchms:ModifiedCosine:Precursor_mz must be of type int or float. Apply 'add_precursor_mz' filter first.\n",
      "2023-02-03 11:16:00,286:WARNING:matchms:ModifiedCosine:Precursor_mz must be of type int or float. Apply 'add_precursor_mz' filter first.\n",
      "2023-02-03 11:16:00,287:WARNING:matchms:ModifiedCosine:Precursor_mz must be of type int or float. Apply 'add_precursor_mz' filter first.\n",
      "2023-02-03 11:16:00,287:WARNING:matchms:ModifiedCosine:Precursor_mz must be of type int or float. Apply 'add_precursor_mz' filter first.\n",
      "2023-02-03 11:16:00,287:WARNING:matchms:ModifiedCosine:Precursor_mz must be of type int or float. Apply 'add_precursor_mz' filter first.\n",
      "2023-02-03 11:16:00,287:WARNING:matchms:ModifiedCosine:Precursor_mz must be of type int or float. Apply 'add_precursor_mz' filter first.\n",
      "2023-02-03 11:16:00,288:WARNING:matchms:ModifiedCosine:Precursor_mz must be of type int or float. Apply 'add_precursor_mz' filter first.\n",
      "2023-02-03 11:16:00,288:WARNING:matchms:ModifiedCosine:Precursor_mz must be of type int or float. Apply 'add_precursor_mz' filter first.\n",
      "2023-02-03 11:16:00,288:WARNING:matchms:ModifiedCosine:Precursor_mz must be of type int or float. Apply 'add_precursor_mz' filter first.\n",
      "2023-02-03 11:16:00,288:WARNING:matchms:ModifiedCosine:Precursor_mz must be of type int or float. Apply 'add_precursor_mz' filter first.\n",
      "2023-02-03 11:16:00,289:WARNING:matchms:ModifiedCosine:Precursor_mz must be of type int or float. Apply 'add_precursor_mz' filter first.\n",
      "2023-02-03 11:16:00,289:WARNING:matchms:ModifiedCosine:Precursor_mz must be of type int or float. Apply 'add_precursor_mz' filter first.\n",
      "2023-02-03 11:16:00,289:WARNING:matchms:ModifiedCosine:Precursor_mz must be of type int or float. Apply 'add_precursor_mz' filter first.\n",
      "2023-02-03 11:16:00,290:WARNING:matchms:ModifiedCosine:Precursor_mz must be of type int or float. Apply 'add_precursor_mz' filter first.\n",
      "2023-02-03 11:16:00,290:WARNING:matchms:ModifiedCosine:Precursor_mz must be of type int or float. Apply 'add_precursor_mz' filter first.\n",
      "2023-02-03 11:16:00,290:WARNING:matchms:ModifiedCosine:Precursor_mz must be of type int or float. Apply 'add_precursor_mz' filter first.\n",
      "2023-02-03 11:16:00,291:WARNING:matchms:ModifiedCosine:Precursor_mz must be of type int or float. Apply 'add_precursor_mz' filter first.\n",
      "2023-02-03 11:16:00,291:WARNING:matchms:ModifiedCosine:Precursor_mz must be of type int or float. Apply 'add_precursor_mz' filter first.\n",
      "2023-02-03 11:16:00,292:WARNING:matchms:ModifiedCosine:Precursor_mz must be of type int or float. Apply 'add_precursor_mz' filter first.\n",
      "2023-02-03 11:16:00,293:WARNING:matchms:ModifiedCosine:Precursor_mz must be of type int or float. Apply 'add_precursor_mz' filter first.\n",
      "2023-02-03 11:16:00,294:WARNING:matchms:ModifiedCosine:Precursor_mz must be of type int or float. Apply 'add_precursor_mz' filter first.\n",
      "2023-02-03 11:16:00,294:WARNING:matchms:ModifiedCosine:Precursor_mz must be of type int or float. Apply 'add_precursor_mz' filter first.\n",
      "2023-02-03 11:16:00,295:WARNING:matchms:ModifiedCosine:Precursor_mz must be of type int or float. Apply 'add_precursor_mz' filter first.\n",
      "2023-02-03 11:16:00,296:WARNING:matchms:ModifiedCosine:Precursor_mz must be of type int or float. Apply 'add_precursor_mz' filter first.\n",
      "2023-02-03 11:16:00,298:WARNING:matchms:ModifiedCosine:Precursor_mz must be of type int or float. Apply 'add_precursor_mz' filter first.\n",
      "2023-02-03 11:16:00,299:WARNING:matchms:ModifiedCosine:Precursor_mz must be of type int or float. Apply 'add_precursor_mz' filter first.\n",
      "2023-02-03 11:16:00,300:WARNING:matchms:ModifiedCosine:Precursor_mz must be of type int or float. Apply 'add_precursor_mz' filter first.\n",
      "2023-02-03 11:16:00,300:WARNING:matchms:ModifiedCosine:Precursor_mz must be of type int or float. Apply 'add_precursor_mz' filter first.\n",
      "2023-02-03 11:16:00,301:WARNING:matchms:ModifiedCosine:Precursor_mz must be of type int or float. Apply 'add_precursor_mz' filter first.\n",
      "2023-02-03 11:16:00,301:WARNING:matchms:ModifiedCosine:Precursor_mz must be of type int or float. Apply 'add_precursor_mz' filter first.\n",
      "2023-02-03 11:16:00,301:WARNING:matchms:ModifiedCosine:Precursor_mz must be of type int or float. Apply 'add_precursor_mz' filter first.\n",
      "2023-02-03 11:16:00,302:WARNING:matchms:ModifiedCosine:Precursor_mz must be of type int or float. Apply 'add_precursor_mz' filter first.\n",
      "2023-02-03 11:16:00,302:WARNING:matchms:ModifiedCosine:Precursor_mz must be of type int or float. Apply 'add_precursor_mz' filter first.\n",
      "2023-02-03 11:16:00,303:WARNING:matchms:ModifiedCosine:Precursor_mz must be of type int or float. Apply 'add_precursor_mz' filter first.\n",
      "2023-02-03 11:16:00,303:WARNING:matchms:ModifiedCosine:Precursor_mz must be of type int or float. Apply 'add_precursor_mz' filter first.\n",
      "2023-02-03 11:16:00,303:WARNING:matchms:ModifiedCosine:Precursor_mz must be of type int or float. Apply 'add_precursor_mz' filter first.\n",
      "2023-02-03 11:16:00,304:WARNING:matchms:ModifiedCosine:Precursor_mz must be of type int or float. Apply 'add_precursor_mz' filter first.\n",
      "2023-02-03 11:16:00,304:WARNING:matchms:ModifiedCosine:Precursor_mz must be of type int or float. Apply 'add_precursor_mz' filter first.\n",
      "2023-02-03 11:16:00,305:WARNING:matchms:ModifiedCosine:Precursor_mz must be of type int or float. Apply 'add_precursor_mz' filter first.\n",
      "2023-02-03 11:16:00,305:WARNING:matchms:ModifiedCosine:Precursor_mz must be of type int or float. Apply 'add_precursor_mz' filter first.\n",
      "2023-02-03 11:16:00,305:WARNING:matchms:ModifiedCosine:Precursor_mz must be of type int or float. Apply 'add_precursor_mz' filter first.\n",
      "2023-02-03 11:16:00,306:WARNING:matchms:ModifiedCosine:Precursor_mz must be of type int or float. Apply 'add_precursor_mz' filter first.\n",
      "2023-02-03 11:16:00,306:WARNING:matchms:ModifiedCosine:Precursor_mz must be of type int or float. Apply 'add_precursor_mz' filter first.\n",
      "2023-02-03 11:16:00,307:WARNING:matchms:ModifiedCosine:Precursor_mz must be of type int or float. Apply 'add_precursor_mz' filter first.\n",
      "2023-02-03 11:16:00,307:WARNING:matchms:ModifiedCosine:Precursor_mz must be of type int or float. Apply 'add_precursor_mz' filter first.\n",
      "2023-02-03 11:16:00,307:WARNING:matchms:ModifiedCosine:Precursor_mz must be of type int or float. Apply 'add_precursor_mz' filter first.\n",
      "2023-02-03 11:16:00,308:WARNING:matchms:ModifiedCosine:Precursor_mz must be of type int or float. Apply 'add_precursor_mz' filter first.\n",
      "2023-02-03 11:16:00,308:WARNING:matchms:ModifiedCosine:Precursor_mz must be of type int or float. Apply 'add_precursor_mz' filter first.\n",
      "2023-02-03 11:16:00,308:WARNING:matchms:ModifiedCosine:Precursor_mz must be of type int or float. Apply 'add_precursor_mz' filter first.\n",
      "2023-02-03 11:16:00,309:WARNING:matchms:ModifiedCosine:Precursor_mz must be of type int or float. Apply 'add_precursor_mz' filter first.\n",
      "2023-02-03 11:16:00,309:WARNING:matchms:ModifiedCosine:Precursor_mz must be of type int or float. Apply 'add_precursor_mz' filter first.\n",
      "2023-02-03 11:16:00,310:WARNING:matchms:ModifiedCosine:Precursor_mz must be of type int or float. Apply 'add_precursor_mz' filter first.\n",
      "2023-02-03 11:16:00,310:WARNING:matchms:ModifiedCosine:Precursor_mz must be of type int or float. Apply 'add_precursor_mz' filter first.\n",
      "2023-02-03 11:16:00,311:WARNING:matchms:ModifiedCosine:Precursor_mz must be of type int or float. Apply 'add_precursor_mz' filter first.\n",
      "2023-02-03 11:16:00,314:WARNING:matchms:ModifiedCosine:Precursor_mz must be of type int or float. Apply 'add_precursor_mz' filter first.\n",
      "2023-02-03 11:16:00,317:WARNING:matchms:ModifiedCosine:Precursor_mz must be of type int or float. Apply 'add_precursor_mz' filter first.\n",
      "2023-02-03 11:16:00,319:WARNING:matchms:ModifiedCosine:Precursor_mz must be of type int or float. Apply 'add_precursor_mz' filter first.\n",
      "2023-02-03 11:16:00,320:WARNING:matchms:ModifiedCosine:Precursor_mz must be of type int or float. Apply 'add_precursor_mz' filter first.\n",
      "2023-02-03 11:16:00,323:WARNING:matchms:ModifiedCosine:Precursor_mz must be of type int or float. Apply 'add_precursor_mz' filter first.\n",
      "2023-02-03 11:16:00,325:WARNING:matchms:ModifiedCosine:Precursor_mz must be of type int or float. Apply 'add_precursor_mz' filter first.\n",
      "2023-02-03 11:16:00,326:WARNING:matchms:ModifiedCosine:Precursor_mz must be of type int or float. Apply 'add_precursor_mz' filter first.\n",
      "2023-02-03 11:16:00,328:WARNING:matchms:ModifiedCosine:Precursor_mz must be of type int or float. Apply 'add_precursor_mz' filter first.\n",
      "2023-02-03 11:16:00,332:WARNING:matchms:ModifiedCosine:Precursor_mz must be of type int or float. Apply 'add_precursor_mz' filter first.\n",
      "2023-02-03 11:16:00,335:WARNING:matchms:ModifiedCosine:Precursor_mz must be of type int or float. Apply 'add_precursor_mz' filter first.\n",
      "2023-02-03 11:16:00,336:WARNING:matchms:ModifiedCosine:Precursor_mz must be of type int or float. Apply 'add_precursor_mz' filter first.\n",
      "2023-02-03 11:16:00,340:WARNING:matchms:ModifiedCosine:Precursor_mz must be of type int or float. Apply 'add_precursor_mz' filter first.\n",
      "2023-02-03 11:16:00,342:WARNING:matchms:ModifiedCosine:Precursor_mz must be of type int or float. Apply 'add_precursor_mz' filter first.\n",
      "2023-02-03 11:16:00,347:WARNING:matchms:ModifiedCosine:Precursor_mz must be of type int or float. Apply 'add_precursor_mz' filter first.\n",
      "2023-02-03 11:16:00,352:WARNING:matchms:ModifiedCosine:Precursor_mz must be of type int or float. Apply 'add_precursor_mz' filter first.\n",
      "2023-02-03 11:16:00,353:WARNING:matchms:ModifiedCosine:Precursor_mz must be of type int or float. Apply 'add_precursor_mz' filter first.\n",
      "2023-02-03 11:16:00,354:WARNING:matchms:ModifiedCosine:Precursor_mz must be of type int or float. Apply 'add_precursor_mz' filter first.\n",
      "2023-02-03 11:16:00,356:WARNING:matchms:ModifiedCosine:Precursor_mz must be of type int or float. Apply 'add_precursor_mz' filter first.\n",
      "2023-02-03 11:16:00,359:WARNING:matchms:ModifiedCosine:Precursor_mz must be of type int or float. Apply 'add_precursor_mz' filter first.\n",
      "2023-02-03 11:16:00,360:WARNING:matchms:ModifiedCosine:Precursor_mz must be of type int or float. Apply 'add_precursor_mz' filter first.\n",
      "2023-02-03 11:16:00,361:WARNING:matchms:ModifiedCosine:Precursor_mz must be of type int or float. Apply 'add_precursor_mz' filter first.\n",
      "2023-02-03 11:16:00,361:WARNING:matchms:ModifiedCosine:Precursor_mz must be of type int or float. Apply 'add_precursor_mz' filter first.\n",
      "2023-02-03 11:16:00,362:WARNING:matchms:ModifiedCosine:Precursor_mz must be of type int or float. Apply 'add_precursor_mz' filter first.\n",
      "2023-02-03 11:16:00,362:WARNING:matchms:ModifiedCosine:Precursor_mz must be of type int or float. Apply 'add_precursor_mz' filter first.\n",
      "2023-02-03 11:16:00,363:WARNING:matchms:ModifiedCosine:Precursor_mz must be of type int or float. Apply 'add_precursor_mz' filter first.\n",
      "2023-02-03 11:16:00,364:WARNING:matchms:ModifiedCosine:Precursor_mz must be of type int or float. Apply 'add_precursor_mz' filter first.\n",
      "2023-02-03 11:16:00,364:WARNING:matchms:ModifiedCosine:Precursor_mz must be of type int or float. Apply 'add_precursor_mz' filter first.\n",
      "2023-02-03 11:16:00,365:WARNING:matchms:ModifiedCosine:Precursor_mz must be of type int or float. Apply 'add_precursor_mz' filter first.\n",
      "2023-02-03 11:16:00,371:WARNING:matchms:ModifiedCosine:Precursor_mz must be of type int or float. Apply 'add_precursor_mz' filter first.\n",
      "2023-02-03 11:16:00,375:WARNING:matchms:ModifiedCosine:Precursor_mz must be of type int or float. Apply 'add_precursor_mz' filter first.\n",
      "2023-02-03 11:16:00,377:WARNING:matchms:ModifiedCosine:Precursor_mz must be of type int or float. Apply 'add_precursor_mz' filter first.\n",
      "2023-02-03 11:16:00,379:WARNING:matchms:ModifiedCosine:Precursor_mz must be of type int or float. Apply 'add_precursor_mz' filter first.\n",
      "2023-02-03 11:16:00,379:WARNING:matchms:ModifiedCosine:Precursor_mz must be of type int or float. Apply 'add_precursor_mz' filter first.\n",
      "2023-02-03 11:16:00,380:WARNING:matchms:ModifiedCosine:Precursor_mz must be of type int or float. Apply 'add_precursor_mz' filter first.\n",
      "2023-02-03 11:16:00,381:WARNING:matchms:ModifiedCosine:Precursor_mz must be of type int or float. Apply 'add_precursor_mz' filter first.\n",
      "2023-02-03 11:16:00,382:WARNING:matchms:ModifiedCosine:Precursor_mz must be of type int or float. Apply 'add_precursor_mz' filter first.\n",
      "2023-02-03 11:16:00,383:WARNING:matchms:ModifiedCosine:Precursor_mz must be of type int or float. Apply 'add_precursor_mz' filter first.\n",
      "2023-02-03 11:16:00,383:WARNING:matchms:ModifiedCosine:Precursor_mz must be of type int or float. Apply 'add_precursor_mz' filter first.\n",
      "2023-02-03 11:16:00,384:WARNING:matchms:ModifiedCosine:Precursor_mz must be of type int or float. Apply 'add_precursor_mz' filter first.\n",
      "2023-02-03 11:16:00,384:WARNING:matchms:ModifiedCosine:Precursor_mz must be of type int or float. Apply 'add_precursor_mz' filter first.\n",
      "2023-02-03 11:16:00,384:WARNING:matchms:ModifiedCosine:Precursor_mz must be of type int or float. Apply 'add_precursor_mz' filter first.\n",
      "2023-02-03 11:16:00,385:WARNING:matchms:ModifiedCosine:Precursor_mz must be of type int or float. Apply 'add_precursor_mz' filter first.\n",
      "2023-02-03 11:16:00,385:WARNING:matchms:ModifiedCosine:Precursor_mz must be of type int or float. Apply 'add_precursor_mz' filter first.\n",
      "2023-02-03 11:16:00,386:WARNING:matchms:ModifiedCosine:Precursor_mz must be of type int or float. Apply 'add_precursor_mz' filter first.\n",
      "2023-02-03 11:16:00,386:WARNING:matchms:ModifiedCosine:Precursor_mz must be of type int or float. Apply 'add_precursor_mz' filter first.\n",
      "2023-02-03 11:16:00,387:WARNING:matchms:ModifiedCosine:Precursor_mz must be of type int or float. Apply 'add_precursor_mz' filter first.\n",
      "2023-02-03 11:16:00,387:WARNING:matchms:ModifiedCosine:Precursor_mz must be of type int or float. Apply 'add_precursor_mz' filter first.\n",
      "2023-02-03 11:16:00,387:WARNING:matchms:ModifiedCosine:Precursor_mz must be of type int or float. Apply 'add_precursor_mz' filter first.\n",
      "2023-02-03 11:16:00,388:WARNING:matchms:ModifiedCosine:Precursor_mz must be of type int or float. Apply 'add_precursor_mz' filter first.\n",
      "2023-02-03 11:16:00,388:WARNING:matchms:ModifiedCosine:Precursor_mz must be of type int or float. Apply 'add_precursor_mz' filter first.\n",
      "2023-02-03 11:16:00,389:WARNING:matchms:ModifiedCosine:Precursor_mz must be of type int or float. Apply 'add_precursor_mz' filter first.\n",
      "2023-02-03 11:16:00,389:WARNING:matchms:ModifiedCosine:Precursor_mz must be of type int or float. Apply 'add_precursor_mz' filter first.\n",
      "2023-02-03 11:16:00,390:WARNING:matchms:ModifiedCosine:Precursor_mz must be of type int or float. Apply 'add_precursor_mz' filter first.\n",
      "2023-02-03 11:16:00,390:WARNING:matchms:ModifiedCosine:Precursor_mz must be of type int or float. Apply 'add_precursor_mz' filter first.\n",
      "2023-02-03 11:16:00,391:WARNING:matchms:ModifiedCosine:Precursor_mz must be of type int or float. Apply 'add_precursor_mz' filter first.\n",
      "2023-02-03 11:16:00,392:WARNING:matchms:ModifiedCosine:Precursor_mz must be of type int or float. Apply 'add_precursor_mz' filter first.\n",
      "2023-02-03 11:16:00,392:WARNING:matchms:ModifiedCosine:Precursor_mz must be of type int or float. Apply 'add_precursor_mz' filter first.\n",
      "2023-02-03 11:16:00,393:WARNING:matchms:ModifiedCosine:Precursor_mz must be of type int or float. Apply 'add_precursor_mz' filter first.\n",
      "2023-02-03 11:16:00,393:WARNING:matchms:ModifiedCosine:Precursor_mz must be of type int or float. Apply 'add_precursor_mz' filter first.\n",
      "2023-02-03 11:16:00,394:WARNING:matchms:ModifiedCosine:Precursor_mz must be of type int or float. Apply 'add_precursor_mz' filter first.\n",
      "2023-02-03 11:16:00,394:WARNING:matchms:ModifiedCosine:Precursor_mz must be of type int or float. Apply 'add_precursor_mz' filter first.\n",
      "2023-02-03 11:16:00,395:WARNING:matchms:ModifiedCosine:Precursor_mz must be of type int or float. Apply 'add_precursor_mz' filter first.\n",
      "2023-02-03 11:16:00,395:WARNING:matchms:ModifiedCosine:Precursor_mz must be of type int or float. Apply 'add_precursor_mz' filter first.\n",
      "2023-02-03 11:16:00,396:WARNING:matchms:ModifiedCosine:Precursor_mz must be of type int or float. Apply 'add_precursor_mz' filter first.\n",
      "2023-02-03 11:16:00,396:WARNING:matchms:ModifiedCosine:Precursor_mz must be of type int or float. Apply 'add_precursor_mz' filter first.\n",
      "2023-02-03 11:16:00,397:WARNING:matchms:ModifiedCosine:Precursor_mz must be of type int or float. Apply 'add_precursor_mz' filter first.\n",
      "2023-02-03 11:16:00,398:WARNING:matchms:ModifiedCosine:Precursor_mz must be of type int or float. Apply 'add_precursor_mz' filter first.\n",
      "2023-02-03 11:16:00,398:WARNING:matchms:ModifiedCosine:Precursor_mz must be of type int or float. Apply 'add_precursor_mz' filter first.\n",
      "2023-02-03 11:16:00,399:WARNING:matchms:ModifiedCosine:Precursor_mz must be of type int or float. Apply 'add_precursor_mz' filter first.\n",
      "2023-02-03 11:16:00,399:WARNING:matchms:ModifiedCosine:Precursor_mz must be of type int or float. Apply 'add_precursor_mz' filter first.\n",
      "2023-02-03 11:16:00,400:WARNING:matchms:ModifiedCosine:Precursor_mz must be of type int or float. Apply 'add_precursor_mz' filter first.\n",
      "2023-02-03 11:16:00,400:WARNING:matchms:ModifiedCosine:Precursor_mz must be of type int or float. Apply 'add_precursor_mz' filter first.\n",
      "2023-02-03 11:16:00,401:WARNING:matchms:ModifiedCosine:Precursor_mz must be of type int or float. Apply 'add_precursor_mz' filter first.\n",
      "2023-02-03 11:16:00,401:WARNING:matchms:ModifiedCosine:Precursor_mz must be of type int or float. Apply 'add_precursor_mz' filter first.\n",
      "2023-02-03 11:16:00,401:WARNING:matchms:ModifiedCosine:Precursor_mz must be of type int or float. Apply 'add_precursor_mz' filter first.\n",
      "2023-02-03 11:16:00,402:WARNING:matchms:ModifiedCosine:Precursor_mz must be of type int or float. Apply 'add_precursor_mz' filter first.\n",
      "2023-02-03 11:16:00,402:WARNING:matchms:ModifiedCosine:Precursor_mz must be of type int or float. Apply 'add_precursor_mz' filter first.\n",
      "2023-02-03 11:16:00,403:WARNING:matchms:ModifiedCosine:Precursor_mz must be of type int or float. Apply 'add_precursor_mz' filter first.\n",
      "2023-02-03 11:16:00,403:WARNING:matchms:ModifiedCosine:Precursor_mz must be of type int or float. Apply 'add_precursor_mz' filter first.\n",
      "2023-02-03 11:16:00,403:WARNING:matchms:ModifiedCosine:Precursor_mz must be of type int or float. Apply 'add_precursor_mz' filter first.\n",
      "2023-02-03 11:16:00,404:WARNING:matchms:ModifiedCosine:Precursor_mz must be of type int or float. Apply 'add_precursor_mz' filter first.\n",
      "2023-02-03 11:16:00,404:WARNING:matchms:ModifiedCosine:Precursor_mz must be of type int or float. Apply 'add_precursor_mz' filter first.\n",
      "2023-02-03 11:16:00,404:WARNING:matchms:ModifiedCosine:Precursor_mz must be of type int or float. Apply 'add_precursor_mz' filter first.\n",
      "2023-02-03 11:16:00,405:WARNING:matchms:ModifiedCosine:Precursor_mz must be of type int or float. Apply 'add_precursor_mz' filter first.\n",
      "2023-02-03 11:16:00,405:WARNING:matchms:ModifiedCosine:Precursor_mz must be of type int or float. Apply 'add_precursor_mz' filter first.\n",
      "2023-02-03 11:16:00,406:WARNING:matchms:ModifiedCosine:Precursor_mz must be of type int or float. Apply 'add_precursor_mz' filter first.\n",
      "2023-02-03 11:16:00,406:WARNING:matchms:ModifiedCosine:Precursor_mz must be of type int or float. Apply 'add_precursor_mz' filter first.\n",
      "2023-02-03 11:16:00,407:WARNING:matchms:ModifiedCosine:Precursor_mz must be of type int or float. Apply 'add_precursor_mz' filter first.\n",
      "2023-02-03 11:16:00,407:WARNING:matchms:ModifiedCosine:Precursor_mz must be of type int or float. Apply 'add_precursor_mz' filter first.\n",
      "2023-02-03 11:16:00,408:WARNING:matchms:ModifiedCosine:Precursor_mz must be of type int or float. Apply 'add_precursor_mz' filter first.\n",
      "2023-02-03 11:16:00,409:WARNING:matchms:ModifiedCosine:Precursor_mz must be of type int or float. Apply 'add_precursor_mz' filter first.\n",
      "2023-02-03 11:16:00,410:WARNING:matchms:ModifiedCosine:Precursor_mz must be of type int or float. Apply 'add_precursor_mz' filter first.\n",
      "2023-02-03 11:16:00,410:WARNING:matchms:ModifiedCosine:Precursor_mz must be of type int or float. Apply 'add_precursor_mz' filter first.\n",
      "2023-02-03 11:16:00,411:WARNING:matchms:ModifiedCosine:Precursor_mz must be of type int or float. Apply 'add_precursor_mz' filter first.\n",
      "2023-02-03 11:16:00,411:WARNING:matchms:ModifiedCosine:Precursor_mz must be of type int or float. Apply 'add_precursor_mz' filter first.\n",
      "2023-02-03 11:16:00,412:WARNING:matchms:ModifiedCosine:Precursor_mz must be of type int or float. Apply 'add_precursor_mz' filter first.\n",
      "2023-02-03 11:16:00,412:WARNING:matchms:ModifiedCosine:Precursor_mz must be of type int or float. Apply 'add_precursor_mz' filter first.\n",
      "2023-02-03 11:16:00,413:WARNING:matchms:ModifiedCosine:Precursor_mz must be of type int or float. Apply 'add_precursor_mz' filter first.\n",
      "2023-02-03 11:16:00,413:WARNING:matchms:ModifiedCosine:Precursor_mz must be of type int or float. Apply 'add_precursor_mz' filter first.\n",
      "2023-02-03 11:16:00,414:WARNING:matchms:ModifiedCosine:Precursor_mz must be of type int or float. Apply 'add_precursor_mz' filter first.\n",
      "2023-02-03 11:16:00,414:WARNING:matchms:ModifiedCosine:Precursor_mz must be of type int or float. Apply 'add_precursor_mz' filter first.\n",
      "2023-02-03 11:16:00,415:WARNING:matchms:ModifiedCosine:Precursor_mz must be of type int or float. Apply 'add_precursor_mz' filter first.\n",
      "2023-02-03 11:16:00,416:WARNING:matchms:ModifiedCosine:Precursor_mz must be of type int or float. Apply 'add_precursor_mz' filter first.\n",
      "2023-02-03 11:16:00,416:WARNING:matchms:ModifiedCosine:Precursor_mz must be of type int or float. Apply 'add_precursor_mz' filter first.\n",
      "2023-02-03 11:16:00,417:WARNING:matchms:ModifiedCosine:Precursor_mz must be of type int or float. Apply 'add_precursor_mz' filter first.\n",
      "2023-02-03 11:16:00,417:WARNING:matchms:ModifiedCosine:Precursor_mz must be of type int or float. Apply 'add_precursor_mz' filter first.\n",
      "2023-02-03 11:16:00,418:WARNING:matchms:ModifiedCosine:Precursor_mz must be of type int or float. Apply 'add_precursor_mz' filter first.\n",
      "2023-02-03 11:16:00,419:WARNING:matchms:ModifiedCosine:Precursor_mz must be of type int or float. Apply 'add_precursor_mz' filter first.\n",
      "2023-02-03 11:16:00,419:WARNING:matchms:ModifiedCosine:Precursor_mz must be of type int or float. Apply 'add_precursor_mz' filter first.\n",
      "2023-02-03 11:16:00,421:WARNING:matchms:ModifiedCosine:Precursor_mz must be of type int or float. Apply 'add_precursor_mz' filter first.\n",
      "2023-02-03 11:16:00,421:WARNING:matchms:ModifiedCosine:Precursor_mz must be of type int or float. Apply 'add_precursor_mz' filter first.\n",
      "2023-02-03 11:16:00,422:WARNING:matchms:ModifiedCosine:Precursor_mz must be of type int or float. Apply 'add_precursor_mz' filter first.\n",
      "2023-02-03 11:16:00,422:WARNING:matchms:ModifiedCosine:Precursor_mz must be of type int or float. Apply 'add_precursor_mz' filter first.\n",
      "2023-02-03 11:16:00,423:WARNING:matchms:ModifiedCosine:Precursor_mz must be of type int or float. Apply 'add_precursor_mz' filter first.\n",
      "2023-02-03 11:16:00,423:WARNING:matchms:ModifiedCosine:Precursor_mz must be of type int or float. Apply 'add_precursor_mz' filter first.\n",
      "2023-02-03 11:16:00,424:WARNING:matchms:ModifiedCosine:Precursor_mz must be of type int or float. Apply 'add_precursor_mz' filter first.\n",
      "2023-02-03 11:16:00,425:WARNING:matchms:ModifiedCosine:Precursor_mz must be of type int or float. Apply 'add_precursor_mz' filter first.\n",
      "2023-02-03 11:16:00,425:WARNING:matchms:ModifiedCosine:Precursor_mz must be of type int or float. Apply 'add_precursor_mz' filter first.\n",
      "2023-02-03 11:16:00,425:WARNING:matchms:ModifiedCosine:Precursor_mz must be of type int or float. Apply 'add_precursor_mz' filter first.\n",
      "2023-02-03 11:16:00,426:WARNING:matchms:ModifiedCosine:Precursor_mz must be of type int or float. Apply 'add_precursor_mz' filter first.\n",
      "2023-02-03 11:16:00,426:WARNING:matchms:ModifiedCosine:Precursor_mz must be of type int or float. Apply 'add_precursor_mz' filter first.\n",
      "2023-02-03 11:16:00,426:WARNING:matchms:ModifiedCosine:Precursor_mz must be of type int or float. Apply 'add_precursor_mz' filter first.\n",
      "2023-02-03 11:16:00,427:WARNING:matchms:ModifiedCosine:Precursor_mz must be of type int or float. Apply 'add_precursor_mz' filter first.\n",
      "2023-02-03 11:16:00,427:WARNING:matchms:ModifiedCosine:Precursor_mz must be of type int or float. Apply 'add_precursor_mz' filter first.\n",
      "2023-02-03 11:16:00,428:WARNING:matchms:ModifiedCosine:Precursor_mz must be of type int or float. Apply 'add_precursor_mz' filter first.\n",
      "2023-02-03 11:16:00,428:WARNING:matchms:ModifiedCosine:Precursor_mz must be of type int or float. Apply 'add_precursor_mz' filter first.\n",
      "2023-02-03 11:16:00,429:WARNING:matchms:ModifiedCosine:Precursor_mz must be of type int or float. Apply 'add_precursor_mz' filter first.\n",
      "2023-02-03 11:16:00,429:WARNING:matchms:ModifiedCosine:Precursor_mz must be of type int or float. Apply 'add_precursor_mz' filter first.\n",
      "2023-02-03 11:16:00,430:WARNING:matchms:ModifiedCosine:Precursor_mz must be of type int or float. Apply 'add_precursor_mz' filter first.\n",
      "2023-02-03 11:16:00,430:WARNING:matchms:ModifiedCosine:Precursor_mz must be of type int or float. Apply 'add_precursor_mz' filter first.\n",
      "2023-02-03 11:16:00,431:WARNING:matchms:ModifiedCosine:Precursor_mz must be of type int or float. Apply 'add_precursor_mz' filter first.\n",
      "2023-02-03 11:16:00,431:WARNING:matchms:ModifiedCosine:Precursor_mz must be of type int or float. Apply 'add_precursor_mz' filter first.\n",
      "2023-02-03 11:16:00,431:WARNING:matchms:ModifiedCosine:Precursor_mz must be of type int or float. Apply 'add_precursor_mz' filter first.\n",
      "2023-02-03 11:16:00,432:WARNING:matchms:ModifiedCosine:Precursor_mz must be of type int or float. Apply 'add_precursor_mz' filter first.\n",
      "2023-02-03 11:16:00,432:WARNING:matchms:ModifiedCosine:Precursor_mz must be of type int or float. Apply 'add_precursor_mz' filter first.\n",
      "2023-02-03 11:16:00,433:WARNING:matchms:ModifiedCosine:Precursor_mz must be of type int or float. Apply 'add_precursor_mz' filter first.\n",
      "2023-02-03 11:16:00,433:WARNING:matchms:ModifiedCosine:Precursor_mz must be of type int or float. Apply 'add_precursor_mz' filter first.\n",
      "2023-02-03 11:16:00,433:WARNING:matchms:ModifiedCosine:Precursor_mz must be of type int or float. Apply 'add_precursor_mz' filter first.\n",
      "2023-02-03 11:16:00,434:WARNING:matchms:ModifiedCosine:Precursor_mz must be of type int or float. Apply 'add_precursor_mz' filter first.\n",
      "2023-02-03 11:16:00,434:WARNING:matchms:ModifiedCosine:Precursor_mz must be of type int or float. Apply 'add_precursor_mz' filter first.\n",
      "2023-02-03 11:16:00,434:WARNING:matchms:ModifiedCosine:Precursor_mz must be of type int or float. Apply 'add_precursor_mz' filter first.\n",
      "2023-02-03 11:16:00,435:WARNING:matchms:ModifiedCosine:Precursor_mz must be of type int or float. Apply 'add_precursor_mz' filter first.\n",
      "2023-02-03 11:16:00,435:WARNING:matchms:ModifiedCosine:Precursor_mz must be of type int or float. Apply 'add_precursor_mz' filter first.\n",
      "2023-02-03 11:16:00,436:WARNING:matchms:ModifiedCosine:Precursor_mz must be of type int or float. Apply 'add_precursor_mz' filter first.\n",
      "2023-02-03 11:16:00,436:WARNING:matchms:ModifiedCosine:Precursor_mz must be of type int or float. Apply 'add_precursor_mz' filter first.\n",
      "2023-02-03 11:16:00,437:WARNING:matchms:ModifiedCosine:Precursor_mz must be of type int or float. Apply 'add_precursor_mz' filter first.\n",
      "2023-02-03 11:16:00,437:WARNING:matchms:ModifiedCosine:Precursor_mz must be of type int or float. Apply 'add_precursor_mz' filter first.\n",
      "2023-02-03 11:16:00,438:WARNING:matchms:ModifiedCosine:Precursor_mz must be of type int or float. Apply 'add_precursor_mz' filter first.\n",
      "2023-02-03 11:16:00,438:WARNING:matchms:ModifiedCosine:Precursor_mz must be of type int or float. Apply 'add_precursor_mz' filter first.\n",
      "2023-02-03 11:16:00,439:WARNING:matchms:ModifiedCosine:Precursor_mz must be of type int or float. Apply 'add_precursor_mz' filter first.\n",
      "2023-02-03 11:16:00,439:WARNING:matchms:ModifiedCosine:Precursor_mz must be of type int or float. Apply 'add_precursor_mz' filter first.\n",
      "2023-02-03 11:16:00,439:WARNING:matchms:ModifiedCosine:Precursor_mz must be of type int or float. Apply 'add_precursor_mz' filter first.\n",
      "2023-02-03 11:16:00,440:WARNING:matchms:ModifiedCosine:Precursor_mz must be of type int or float. Apply 'add_precursor_mz' filter first.\n",
      "2023-02-03 11:16:00,440:WARNING:matchms:ModifiedCosine:Precursor_mz must be of type int or float. Apply 'add_precursor_mz' filter first.\n",
      "2023-02-03 11:16:00,441:WARNING:matchms:ModifiedCosine:Precursor_mz must be of type int or float. Apply 'add_precursor_mz' filter first.\n",
      "2023-02-03 11:16:00,442:WARNING:matchms:ModifiedCosine:Precursor_mz must be of type int or float. Apply 'add_precursor_mz' filter first.\n",
      "2023-02-03 11:16:00,442:WARNING:matchms:ModifiedCosine:Precursor_mz must be of type int or float. Apply 'add_precursor_mz' filter first.\n",
      "2023-02-03 11:16:00,443:WARNING:matchms:ModifiedCosine:Precursor_mz must be of type int or float. Apply 'add_precursor_mz' filter first.\n",
      "2023-02-03 11:16:00,443:WARNING:matchms:ModifiedCosine:Precursor_mz must be of type int or float. Apply 'add_precursor_mz' filter first.\n",
      "2023-02-03 11:16:00,444:WARNING:matchms:ModifiedCosine:Precursor_mz must be of type int or float. Apply 'add_precursor_mz' filter first.\n",
      "2023-02-03 11:16:00,444:WARNING:matchms:ModifiedCosine:Precursor_mz must be of type int or float. Apply 'add_precursor_mz' filter first.\n",
      "2023-02-03 11:16:00,445:WARNING:matchms:ModifiedCosine:Precursor_mz must be of type int or float. Apply 'add_precursor_mz' filter first.\n",
      "2023-02-03 11:16:00,445:WARNING:matchms:ModifiedCosine:Precursor_mz must be of type int or float. Apply 'add_precursor_mz' filter first.\n",
      "2023-02-03 11:16:00,446:WARNING:matchms:ModifiedCosine:Precursor_mz must be of type int or float. Apply 'add_precursor_mz' filter first.\n",
      "2023-02-03 11:16:00,446:WARNING:matchms:ModifiedCosine:Precursor_mz must be of type int or float. Apply 'add_precursor_mz' filter first.\n",
      "2023-02-03 11:16:00,447:WARNING:matchms:ModifiedCosine:Precursor_mz must be of type int or float. Apply 'add_precursor_mz' filter first.\n",
      "2023-02-03 11:16:00,447:WARNING:matchms:ModifiedCosine:Precursor_mz must be of type int or float. Apply 'add_precursor_mz' filter first.\n",
      "2023-02-03 11:16:00,448:WARNING:matchms:ModifiedCosine:Precursor_mz must be of type int or float. Apply 'add_precursor_mz' filter first.\n",
      "2023-02-03 11:16:00,448:WARNING:matchms:ModifiedCosine:Precursor_mz must be of type int or float. Apply 'add_precursor_mz' filter first.\n",
      "2023-02-03 11:16:00,449:WARNING:matchms:ModifiedCosine:Precursor_mz must be of type int or float. Apply 'add_precursor_mz' filter first.\n",
      "2023-02-03 11:16:00,449:WARNING:matchms:ModifiedCosine:Precursor_mz must be of type int or float. Apply 'add_precursor_mz' filter first.\n",
      "2023-02-03 11:16:00,449:WARNING:matchms:ModifiedCosine:Precursor_mz must be of type int or float. Apply 'add_precursor_mz' filter first.\n",
      "2023-02-03 11:16:00,450:WARNING:matchms:ModifiedCosine:Precursor_mz must be of type int or float. Apply 'add_precursor_mz' filter first.\n",
      "2023-02-03 11:16:00,450:WARNING:matchms:ModifiedCosine:Precursor_mz must be of type int or float. Apply 'add_precursor_mz' filter first.\n",
      "2023-02-03 11:16:00,451:WARNING:matchms:ModifiedCosine:Precursor_mz must be of type int or float. Apply 'add_precursor_mz' filter first.\n",
      "2023-02-03 11:16:00,451:WARNING:matchms:ModifiedCosine:Precursor_mz must be of type int or float. Apply 'add_precursor_mz' filter first.\n",
      "2023-02-03 11:16:00,451:WARNING:matchms:ModifiedCosine:Precursor_mz must be of type int or float. Apply 'add_precursor_mz' filter first.\n",
      "2023-02-03 11:16:00,452:WARNING:matchms:ModifiedCosine:Precursor_mz must be of type int or float. Apply 'add_precursor_mz' filter first.\n",
      "2023-02-03 11:16:00,452:WARNING:matchms:ModifiedCosine:Precursor_mz must be of type int or float. Apply 'add_precursor_mz' filter first.\n",
      "2023-02-03 11:16:00,453:WARNING:matchms:ModifiedCosine:Precursor_mz must be of type int or float. Apply 'add_precursor_mz' filter first.\n",
      "2023-02-03 11:16:00,454:WARNING:matchms:ModifiedCosine:Precursor_mz must be of type int or float. Apply 'add_precursor_mz' filter first.\n",
      "2023-02-03 11:16:00,454:WARNING:matchms:ModifiedCosine:Precursor_mz must be of type int or float. Apply 'add_precursor_mz' filter first.\n",
      "2023-02-03 11:16:00,454:WARNING:matchms:ModifiedCosine:Precursor_mz must be of type int or float. Apply 'add_precursor_mz' filter first.\n",
      "2023-02-03 11:16:00,455:WARNING:matchms:ModifiedCosine:Precursor_mz must be of type int or float. Apply 'add_precursor_mz' filter first.\n",
      "2023-02-03 11:16:00,455:WARNING:matchms:ModifiedCosine:Precursor_mz must be of type int or float. Apply 'add_precursor_mz' filter first.\n",
      "2023-02-03 11:16:00,456:WARNING:matchms:ModifiedCosine:Precursor_mz must be of type int or float. Apply 'add_precursor_mz' filter first.\n",
      "2023-02-03 11:16:00,456:WARNING:matchms:ModifiedCosine:Precursor_mz must be of type int or float. Apply 'add_precursor_mz' filter first.\n",
      "2023-02-03 11:16:00,457:WARNING:matchms:ModifiedCosine:Precursor_mz must be of type int or float. Apply 'add_precursor_mz' filter first.\n",
      "2023-02-03 11:16:00,457:WARNING:matchms:ModifiedCosine:Precursor_mz must be of type int or float. Apply 'add_precursor_mz' filter first.\n",
      "2023-02-03 11:16:00,458:WARNING:matchms:ModifiedCosine:Precursor_mz must be of type int or float. Apply 'add_precursor_mz' filter first.\n",
      "2023-02-03 11:16:00,458:WARNING:matchms:ModifiedCosine:Precursor_mz must be of type int or float. Apply 'add_precursor_mz' filter first.\n",
      "2023-02-03 11:16:00,459:WARNING:matchms:ModifiedCosine:Precursor_mz must be of type int or float. Apply 'add_precursor_mz' filter first.\n",
      "2023-02-03 11:16:00,459:WARNING:matchms:ModifiedCosine:Precursor_mz must be of type int or float. Apply 'add_precursor_mz' filter first.\n",
      "2023-02-03 11:16:00,460:WARNING:matchms:ModifiedCosine:Precursor_mz must be of type int or float. Apply 'add_precursor_mz' filter first.\n",
      "2023-02-03 11:16:00,532:WARNING:matchms:ModifiedCosine:Precursor_mz must be of type int or float. Apply 'add_precursor_mz' filter first.\n",
      "2023-02-03 11:16:00,533:WARNING:matchms:ModifiedCosine:Precursor_mz must be of type int or float. Apply 'add_precursor_mz' filter first.\n",
      "2023-02-03 11:16:00,533:WARNING:matchms:ModifiedCosine:Precursor_mz must be of type int or float. Apply 'add_precursor_mz' filter first.\n",
      "2023-02-03 11:16:00,534:WARNING:matchms:ModifiedCosine:Precursor_mz must be of type int or float. Apply 'add_precursor_mz' filter first.\n",
      "2023-02-03 11:16:00,534:WARNING:matchms:ModifiedCosine:Precursor_mz must be of type int or float. Apply 'add_precursor_mz' filter first.\n",
      "2023-02-03 11:16:00,535:WARNING:matchms:ModifiedCosine:Precursor_mz must be of type int or float. Apply 'add_precursor_mz' filter first.\n",
      "2023-02-03 11:16:00,535:WARNING:matchms:ModifiedCosine:Precursor_mz must be of type int or float. Apply 'add_precursor_mz' filter first.\n",
      "2023-02-03 11:16:00,536:WARNING:matchms:ModifiedCosine:Precursor_mz must be of type int or float. Apply 'add_precursor_mz' filter first.\n",
      "2023-02-03 11:16:00,536:WARNING:matchms:ModifiedCosine:Precursor_mz must be of type int or float. Apply 'add_precursor_mz' filter first.\n",
      "2023-02-03 11:16:00,537:WARNING:matchms:ModifiedCosine:Precursor_mz must be of type int or float. Apply 'add_precursor_mz' filter first.\n",
      "2023-02-03 11:16:00,537:WARNING:matchms:ModifiedCosine:Precursor_mz must be of type int or float. Apply 'add_precursor_mz' filter first.\n",
      "2023-02-03 11:16:00,538:WARNING:matchms:ModifiedCosine:Precursor_mz must be of type int or float. Apply 'add_precursor_mz' filter first.\n",
      "2023-02-03 11:16:00,538:WARNING:matchms:ModifiedCosine:Precursor_mz must be of type int or float. Apply 'add_precursor_mz' filter first.\n",
      "2023-02-03 11:16:00,539:WARNING:matchms:ModifiedCosine:Precursor_mz must be of type int or float. Apply 'add_precursor_mz' filter first.\n",
      "2023-02-03 11:16:00,539:WARNING:matchms:ModifiedCosine:Precursor_mz must be of type int or float. Apply 'add_precursor_mz' filter first.\n",
      "2023-02-03 11:16:00,540:WARNING:matchms:ModifiedCosine:Precursor_mz must be of type int or float. Apply 'add_precursor_mz' filter first.\n",
      "2023-02-03 11:16:00,540:WARNING:matchms:ModifiedCosine:Precursor_mz must be of type int or float. Apply 'add_precursor_mz' filter first.\n",
      "2023-02-03 11:16:00,541:WARNING:matchms:ModifiedCosine:Precursor_mz must be of type int or float. Apply 'add_precursor_mz' filter first.\n",
      "2023-02-03 11:16:00,541:WARNING:matchms:ModifiedCosine:Precursor_mz must be of type int or float. Apply 'add_precursor_mz' filter first.\n",
      "2023-02-03 11:16:00,541:WARNING:matchms:ModifiedCosine:Precursor_mz must be of type int or float. Apply 'add_precursor_mz' filter first.\n",
      "2023-02-03 11:16:00,542:WARNING:matchms:ModifiedCosine:Precursor_mz must be of type int or float. Apply 'add_precursor_mz' filter first.\n",
      "2023-02-03 11:16:00,542:WARNING:matchms:ModifiedCosine:Precursor_mz must be of type int or float. Apply 'add_precursor_mz' filter first.\n",
      "2023-02-03 11:16:00,543:WARNING:matchms:ModifiedCosine:Precursor_mz must be of type int or float. Apply 'add_precursor_mz' filter first.\n",
      "2023-02-03 11:16:00,543:WARNING:matchms:ModifiedCosine:Precursor_mz must be of type int or float. Apply 'add_precursor_mz' filter first.\n",
      "2023-02-03 11:16:00,544:WARNING:matchms:ModifiedCosine:Precursor_mz must be of type int or float. Apply 'add_precursor_mz' filter first.\n",
      "2023-02-03 11:16:00,544:WARNING:matchms:ModifiedCosine:Precursor_mz must be of type int or float. Apply 'add_precursor_mz' filter first.\n",
      "2023-02-03 11:16:00,544:WARNING:matchms:ModifiedCosine:Precursor_mz must be of type int or float. Apply 'add_precursor_mz' filter first.\n",
      "2023-02-03 11:16:00,545:WARNING:matchms:ModifiedCosine:Precursor_mz must be of type int or float. Apply 'add_precursor_mz' filter first.\n",
      "2023-02-03 11:16:00,545:WARNING:matchms:ModifiedCosine:Precursor_mz must be of type int or float. Apply 'add_precursor_mz' filter first.\n",
      "2023-02-03 11:16:00,546:WARNING:matchms:ModifiedCosine:Precursor_mz must be of type int or float. Apply 'add_precursor_mz' filter first.\n",
      "2023-02-03 11:16:00,547:WARNING:matchms:ModifiedCosine:Precursor_mz must be of type int or float. Apply 'add_precursor_mz' filter first.\n",
      "2023-02-03 11:16:00,547:WARNING:matchms:ModifiedCosine:Precursor_mz must be of type int or float. Apply 'add_precursor_mz' filter first.\n",
      "2023-02-03 11:16:00,548:WARNING:matchms:ModifiedCosine:Precursor_mz must be of type int or float. Apply 'add_precursor_mz' filter first.\n",
      "2023-02-03 11:16:00,549:WARNING:matchms:ModifiedCosine:Precursor_mz must be of type int or float. Apply 'add_precursor_mz' filter first.\n",
      "2023-02-03 11:16:00,549:WARNING:matchms:ModifiedCosine:Precursor_mz must be of type int or float. Apply 'add_precursor_mz' filter first.\n",
      "2023-02-03 11:16:00,550:WARNING:matchms:ModifiedCosine:Precursor_mz must be of type int or float. Apply 'add_precursor_mz' filter first.\n",
      "2023-02-03 11:16:00,550:WARNING:matchms:ModifiedCosine:Precursor_mz must be of type int or float. Apply 'add_precursor_mz' filter first.\n",
      "2023-02-03 11:16:00,551:WARNING:matchms:ModifiedCosine:Precursor_mz must be of type int or float. Apply 'add_precursor_mz' filter first.\n",
      "2023-02-03 11:16:00,551:WARNING:matchms:ModifiedCosine:Precursor_mz must be of type int or float. Apply 'add_precursor_mz' filter first.\n",
      "2023-02-03 11:16:00,553:WARNING:matchms:ModifiedCosine:Precursor_mz must be of type int or float. Apply 'add_precursor_mz' filter first.\n",
      "2023-02-03 11:16:00,553:WARNING:matchms:ModifiedCosine:Precursor_mz must be of type int or float. Apply 'add_precursor_mz' filter first.\n",
      "2023-02-03 11:16:00,554:WARNING:matchms:ModifiedCosine:Precursor_mz must be of type int or float. Apply 'add_precursor_mz' filter first.\n",
      "2023-02-03 11:16:00,555:WARNING:matchms:ModifiedCosine:Precursor_mz must be of type int or float. Apply 'add_precursor_mz' filter first.\n",
      "2023-02-03 11:16:00,555:WARNING:matchms:ModifiedCosine:Precursor_mz must be of type int or float. Apply 'add_precursor_mz' filter first.\n",
      "2023-02-03 11:16:00,556:WARNING:matchms:ModifiedCosine:Precursor_mz must be of type int or float. Apply 'add_precursor_mz' filter first.\n",
      "2023-02-03 11:16:00,556:WARNING:matchms:ModifiedCosine:Precursor_mz must be of type int or float. Apply 'add_precursor_mz' filter first.\n",
      "2023-02-03 11:16:00,557:WARNING:matchms:ModifiedCosine:Precursor_mz must be of type int or float. Apply 'add_precursor_mz' filter first.\n",
      "2023-02-03 11:16:00,558:WARNING:matchms:ModifiedCosine:Precursor_mz must be of type int or float. Apply 'add_precursor_mz' filter first.\n",
      "2023-02-03 11:16:00,558:WARNING:matchms:ModifiedCosine:Precursor_mz must be of type int or float. Apply 'add_precursor_mz' filter first.\n",
      "2023-02-03 11:16:00,559:WARNING:matchms:ModifiedCosine:Precursor_mz must be of type int or float. Apply 'add_precursor_mz' filter first.\n",
      "2023-02-03 11:16:00,560:WARNING:matchms:ModifiedCosine:Precursor_mz must be of type int or float. Apply 'add_precursor_mz' filter first.\n",
      "2023-02-03 11:16:00,560:WARNING:matchms:ModifiedCosine:Precursor_mz must be of type int or float. Apply 'add_precursor_mz' filter first.\n",
      "2023-02-03 11:16:00,561:WARNING:matchms:ModifiedCosine:Precursor_mz must be of type int or float. Apply 'add_precursor_mz' filter first.\n",
      "2023-02-03 11:16:00,562:WARNING:matchms:ModifiedCosine:Precursor_mz must be of type int or float. Apply 'add_precursor_mz' filter first.\n",
      "2023-02-03 11:16:00,562:WARNING:matchms:ModifiedCosine:Precursor_mz must be of type int or float. Apply 'add_precursor_mz' filter first.\n",
      "2023-02-03 11:16:00,563:WARNING:matchms:ModifiedCosine:Precursor_mz must be of type int or float. Apply 'add_precursor_mz' filter first.\n",
      "2023-02-03 11:16:00,563:WARNING:matchms:ModifiedCosine:Precursor_mz must be of type int or float. Apply 'add_precursor_mz' filter first.\n",
      "2023-02-03 11:16:00,563:WARNING:matchms:ModifiedCosine:Precursor_mz must be of type int or float. Apply 'add_precursor_mz' filter first.\n",
      "2023-02-03 11:16:00,564:WARNING:matchms:ModifiedCosine:Precursor_mz must be of type int or float. Apply 'add_precursor_mz' filter first.\n",
      "2023-02-03 11:16:00,564:WARNING:matchms:ModifiedCosine:Precursor_mz must be of type int or float. Apply 'add_precursor_mz' filter first.\n",
      "2023-02-03 11:16:00,565:WARNING:matchms:ModifiedCosine:Precursor_mz must be of type int or float. Apply 'add_precursor_mz' filter first.\n",
      "2023-02-03 11:16:00,565:WARNING:matchms:ModifiedCosine:Precursor_mz must be of type int or float. Apply 'add_precursor_mz' filter first.\n",
      "2023-02-03 11:16:00,565:WARNING:matchms:ModifiedCosine:Precursor_mz must be of type int or float. Apply 'add_precursor_mz' filter first.\n",
      "2023-02-03 11:16:00,566:WARNING:matchms:ModifiedCosine:Precursor_mz must be of type int or float. Apply 'add_precursor_mz' filter first.\n",
      "2023-02-03 11:16:00,566:WARNING:matchms:ModifiedCosine:Precursor_mz must be of type int or float. Apply 'add_precursor_mz' filter first.\n",
      "2023-02-03 11:16:00,566:WARNING:matchms:ModifiedCosine:Precursor_mz must be of type int or float. Apply 'add_precursor_mz' filter first.\n",
      "2023-02-03 11:16:00,567:WARNING:matchms:ModifiedCosine:Precursor_mz must be of type int or float. Apply 'add_precursor_mz' filter first.\n",
      "2023-02-03 11:16:00,567:WARNING:matchms:ModifiedCosine:Precursor_mz must be of type int or float. Apply 'add_precursor_mz' filter first.\n",
      "2023-02-03 11:16:00,567:WARNING:matchms:ModifiedCosine:Precursor_mz must be of type int or float. Apply 'add_precursor_mz' filter first.\n",
      "2023-02-03 11:16:00,568:WARNING:matchms:ModifiedCosine:Precursor_mz must be of type int or float. Apply 'add_precursor_mz' filter first.\n",
      "2023-02-03 11:16:00,568:WARNING:matchms:ModifiedCosine:Precursor_mz must be of type int or float. Apply 'add_precursor_mz' filter first.\n",
      "2023-02-03 11:16:00,569:WARNING:matchms:ModifiedCosine:Precursor_mz must be of type int or float. Apply 'add_precursor_mz' filter first.\n",
      "2023-02-03 11:16:00,569:WARNING:matchms:ModifiedCosine:Precursor_mz must be of type int or float. Apply 'add_precursor_mz' filter first.\n",
      "2023-02-03 11:16:00,570:WARNING:matchms:ModifiedCosine:Precursor_mz must be of type int or float. Apply 'add_precursor_mz' filter first.\n",
      "2023-02-03 11:16:00,570:WARNING:matchms:ModifiedCosine:Precursor_mz must be of type int or float. Apply 'add_precursor_mz' filter first.\n",
      "2023-02-03 11:16:00,571:WARNING:matchms:ModifiedCosine:Precursor_mz must be of type int or float. Apply 'add_precursor_mz' filter first.\n",
      "2023-02-03 11:16:00,571:WARNING:matchms:ModifiedCosine:Precursor_mz must be of type int or float. Apply 'add_precursor_mz' filter first.\n",
      "2023-02-03 11:16:00,572:WARNING:matchms:ModifiedCosine:Precursor_mz must be of type int or float. Apply 'add_precursor_mz' filter first.\n",
      "2023-02-03 11:16:00,572:WARNING:matchms:ModifiedCosine:Precursor_mz must be of type int or float. Apply 'add_precursor_mz' filter first.\n",
      "2023-02-03 11:16:00,572:WARNING:matchms:ModifiedCosine:Precursor_mz must be of type int or float. Apply 'add_precursor_mz' filter first.\n",
      "2023-02-03 11:16:00,573:WARNING:matchms:ModifiedCosine:Precursor_mz must be of type int or float. Apply 'add_precursor_mz' filter first.\n",
      "2023-02-03 11:16:00,573:WARNING:matchms:ModifiedCosine:Precursor_mz must be of type int or float. Apply 'add_precursor_mz' filter first.\n",
      "2023-02-03 11:16:00,574:WARNING:matchms:ModifiedCosine:Precursor_mz must be of type int or float. Apply 'add_precursor_mz' filter first.\n",
      "2023-02-03 11:16:00,574:WARNING:matchms:ModifiedCosine:Precursor_mz must be of type int or float. Apply 'add_precursor_mz' filter first.\n",
      "2023-02-03 11:16:00,574:WARNING:matchms:ModifiedCosine:Precursor_mz must be of type int or float. Apply 'add_precursor_mz' filter first.\n",
      "2023-02-03 11:16:00,575:WARNING:matchms:ModifiedCosine:Precursor_mz must be of type int or float. Apply 'add_precursor_mz' filter first.\n",
      "2023-02-03 11:16:00,575:WARNING:matchms:ModifiedCosine:Precursor_mz must be of type int or float. Apply 'add_precursor_mz' filter first.\n",
      "2023-02-03 11:16:00,576:WARNING:matchms:ModifiedCosine:Precursor_mz must be of type int or float. Apply 'add_precursor_mz' filter first.\n",
      "2023-02-03 11:16:00,576:WARNING:matchms:ModifiedCosine:Precursor_mz must be of type int or float. Apply 'add_precursor_mz' filter first.\n",
      "2023-02-03 11:16:00,577:WARNING:matchms:ModifiedCosine:Precursor_mz must be of type int or float. Apply 'add_precursor_mz' filter first.\n",
      "2023-02-03 11:16:00,577:WARNING:matchms:ModifiedCosine:Precursor_mz must be of type int or float. Apply 'add_precursor_mz' filter first.\n",
      "2023-02-03 11:16:00,577:WARNING:matchms:ModifiedCosine:Precursor_mz must be of type int or float. Apply 'add_precursor_mz' filter first.\n",
      "2023-02-03 11:16:00,578:WARNING:matchms:ModifiedCosine:Precursor_mz must be of type int or float. Apply 'add_precursor_mz' filter first.\n",
      "2023-02-03 11:16:00,578:WARNING:matchms:ModifiedCosine:Precursor_mz must be of type int or float. Apply 'add_precursor_mz' filter first.\n",
      "2023-02-03 11:16:00,579:WARNING:matchms:ModifiedCosine:Precursor_mz must be of type int or float. Apply 'add_precursor_mz' filter first.\n",
      "2023-02-03 11:16:00,579:WARNING:matchms:ModifiedCosine:Precursor_mz must be of type int or float. Apply 'add_precursor_mz' filter first.\n",
      "2023-02-03 11:16:00,580:WARNING:matchms:ModifiedCosine:Precursor_mz must be of type int or float. Apply 'add_precursor_mz' filter first.\n",
      "2023-02-03 11:16:00,580:WARNING:matchms:ModifiedCosine:Precursor_mz must be of type int or float. Apply 'add_precursor_mz' filter first.\n",
      "2023-02-03 11:16:00,580:WARNING:matchms:ModifiedCosine:Precursor_mz must be of type int or float. Apply 'add_precursor_mz' filter first.\n",
      "2023-02-03 11:16:00,581:WARNING:matchms:ModifiedCosine:Precursor_mz must be of type int or float. Apply 'add_precursor_mz' filter first.\n",
      "2023-02-03 11:16:00,581:WARNING:matchms:ModifiedCosine:Precursor_mz must be of type int or float. Apply 'add_precursor_mz' filter first.\n",
      "2023-02-03 11:16:00,582:WARNING:matchms:ModifiedCosine:Precursor_mz must be of type int or float. Apply 'add_precursor_mz' filter first.\n",
      "2023-02-03 11:16:00,582:WARNING:matchms:ModifiedCosine:Precursor_mz must be of type int or float. Apply 'add_precursor_mz' filter first.\n",
      "2023-02-03 11:16:00,583:WARNING:matchms:ModifiedCosine:Precursor_mz must be of type int or float. Apply 'add_precursor_mz' filter first.\n",
      "2023-02-03 11:16:00,583:WARNING:matchms:ModifiedCosine:Precursor_mz must be of type int or float. Apply 'add_precursor_mz' filter first.\n",
      "2023-02-03 11:16:00,583:WARNING:matchms:ModifiedCosine:Precursor_mz must be of type int or float. Apply 'add_precursor_mz' filter first.\n",
      "2023-02-03 11:16:00,584:WARNING:matchms:ModifiedCosine:Precursor_mz must be of type int or float. Apply 'add_precursor_mz' filter first.\n",
      "2023-02-03 11:16:00,585:WARNING:matchms:ModifiedCosine:Precursor_mz must be of type int or float. Apply 'add_precursor_mz' filter first.\n",
      "2023-02-03 11:16:00,585:WARNING:matchms:ModifiedCosine:Precursor_mz must be of type int or float. Apply 'add_precursor_mz' filter first.\n",
      "2023-02-03 11:16:00,586:WARNING:matchms:ModifiedCosine:Precursor_mz must be of type int or float. Apply 'add_precursor_mz' filter first.\n",
      "2023-02-03 11:16:00,586:WARNING:matchms:ModifiedCosine:Precursor_mz must be of type int or float. Apply 'add_precursor_mz' filter first.\n",
      "2023-02-03 11:16:00,587:WARNING:matchms:ModifiedCosine:Precursor_mz must be of type int or float. Apply 'add_precursor_mz' filter first.\n",
      "2023-02-03 11:16:00,587:WARNING:matchms:ModifiedCosine:Precursor_mz must be of type int or float. Apply 'add_precursor_mz' filter first.\n",
      "2023-02-03 11:16:00,588:WARNING:matchms:ModifiedCosine:Precursor_mz must be of type int or float. Apply 'add_precursor_mz' filter first.\n",
      "2023-02-03 11:16:00,589:WARNING:matchms:ModifiedCosine:Precursor_mz must be of type int or float. Apply 'add_precursor_mz' filter first.\n",
      "2023-02-03 11:16:00,589:WARNING:matchms:ModifiedCosine:Precursor_mz must be of type int or float. Apply 'add_precursor_mz' filter first.\n",
      "2023-02-03 11:16:00,589:WARNING:matchms:ModifiedCosine:Precursor_mz must be of type int or float. Apply 'add_precursor_mz' filter first.\n",
      "2023-02-03 11:16:00,590:WARNING:matchms:ModifiedCosine:Precursor_mz must be of type int or float. Apply 'add_precursor_mz' filter first.\n",
      "2023-02-03 11:16:00,591:WARNING:matchms:ModifiedCosine:Precursor_mz must be of type int or float. Apply 'add_precursor_mz' filter first.\n",
      "2023-02-03 11:16:00,591:WARNING:matchms:ModifiedCosine:Precursor_mz must be of type int or float. Apply 'add_precursor_mz' filter first.\n",
      "2023-02-03 11:16:00,592:WARNING:matchms:ModifiedCosine:Precursor_mz must be of type int or float. Apply 'add_precursor_mz' filter first.\n",
      "2023-02-03 11:16:00,592:WARNING:matchms:ModifiedCosine:Precursor_mz must be of type int or float. Apply 'add_precursor_mz' filter first.\n",
      "2023-02-03 11:16:00,592:WARNING:matchms:ModifiedCosine:Precursor_mz must be of type int or float. Apply 'add_precursor_mz' filter first.\n",
      "2023-02-03 11:16:00,593:WARNING:matchms:ModifiedCosine:Precursor_mz must be of type int or float. Apply 'add_precursor_mz' filter first.\n",
      "2023-02-03 11:16:00,593:WARNING:matchms:ModifiedCosine:Precursor_mz must be of type int or float. Apply 'add_precursor_mz' filter first.\n",
      "2023-02-03 11:16:00,594:WARNING:matchms:ModifiedCosine:Precursor_mz must be of type int or float. Apply 'add_precursor_mz' filter first.\n",
      "2023-02-03 11:16:00,594:WARNING:matchms:ModifiedCosine:Precursor_mz must be of type int or float. Apply 'add_precursor_mz' filter first.\n",
      "2023-02-03 11:16:00,594:WARNING:matchms:ModifiedCosine:Precursor_mz must be of type int or float. Apply 'add_precursor_mz' filter first.\n",
      "2023-02-03 11:16:00,595:WARNING:matchms:ModifiedCosine:Precursor_mz must be of type int or float. Apply 'add_precursor_mz' filter first.\n",
      "2023-02-03 11:16:00,595:WARNING:matchms:ModifiedCosine:Precursor_mz must be of type int or float. Apply 'add_precursor_mz' filter first.\n",
      "2023-02-03 11:16:00,596:WARNING:matchms:ModifiedCosine:Precursor_mz must be of type int or float. Apply 'add_precursor_mz' filter first.\n",
      "2023-02-03 11:16:00,596:WARNING:matchms:ModifiedCosine:Precursor_mz must be of type int or float. Apply 'add_precursor_mz' filter first.\n",
      "2023-02-03 11:16:00,597:WARNING:matchms:ModifiedCosine:Precursor_mz must be of type int or float. Apply 'add_precursor_mz' filter first.\n",
      "2023-02-03 11:16:00,597:WARNING:matchms:ModifiedCosine:Precursor_mz must be of type int or float. Apply 'add_precursor_mz' filter first.\n",
      "2023-02-03 11:16:00,598:WARNING:matchms:ModifiedCosine:Precursor_mz must be of type int or float. Apply 'add_precursor_mz' filter first.\n",
      "2023-02-03 11:16:00,598:WARNING:matchms:ModifiedCosine:Precursor_mz must be of type int or float. Apply 'add_precursor_mz' filter first.\n",
      "2023-02-03 11:16:00,598:WARNING:matchms:ModifiedCosine:Precursor_mz must be of type int or float. Apply 'add_precursor_mz' filter first.\n",
      "2023-02-03 11:16:00,599:WARNING:matchms:ModifiedCosine:Precursor_mz must be of type int or float. Apply 'add_precursor_mz' filter first.\n",
      "2023-02-03 11:16:00,599:WARNING:matchms:ModifiedCosine:Precursor_mz must be of type int or float. Apply 'add_precursor_mz' filter first.\n",
      "2023-02-03 11:16:00,600:WARNING:matchms:ModifiedCosine:Precursor_mz must be of type int or float. Apply 'add_precursor_mz' filter first.\n",
      "2023-02-03 11:16:00,600:WARNING:matchms:ModifiedCosine:Precursor_mz must be of type int or float. Apply 'add_precursor_mz' filter first.\n",
      "2023-02-03 11:16:00,601:WARNING:matchms:ModifiedCosine:Precursor_mz must be of type int or float. Apply 'add_precursor_mz' filter first.\n",
      "2023-02-03 11:16:00,601:WARNING:matchms:ModifiedCosine:Precursor_mz must be of type int or float. Apply 'add_precursor_mz' filter first.\n",
      "2023-02-03 11:16:00,602:WARNING:matchms:ModifiedCosine:Precursor_mz must be of type int or float. Apply 'add_precursor_mz' filter first.\n",
      "2023-02-03 11:16:00,602:WARNING:matchms:ModifiedCosine:Precursor_mz must be of type int or float. Apply 'add_precursor_mz' filter first.\n",
      "2023-02-03 11:16:00,603:WARNING:matchms:ModifiedCosine:Precursor_mz must be of type int or float. Apply 'add_precursor_mz' filter first.\n",
      "2023-02-03 11:16:00,603:WARNING:matchms:ModifiedCosine:Precursor_mz must be of type int or float. Apply 'add_precursor_mz' filter first.\n",
      "2023-02-03 11:16:00,604:WARNING:matchms:ModifiedCosine:Precursor_mz must be of type int or float. Apply 'add_precursor_mz' filter first.\n",
      "2023-02-03 11:16:00,604:WARNING:matchms:ModifiedCosine:Precursor_mz must be of type int or float. Apply 'add_precursor_mz' filter first.\n",
      "2023-02-03 11:16:00,605:WARNING:matchms:ModifiedCosine:Precursor_mz must be of type int or float. Apply 'add_precursor_mz' filter first.\n",
      "2023-02-03 11:16:00,605:WARNING:matchms:ModifiedCosine:Precursor_mz must be of type int or float. Apply 'add_precursor_mz' filter first.\n",
      "2023-02-03 11:16:00,606:WARNING:matchms:ModifiedCosine:Precursor_mz must be of type int or float. Apply 'add_precursor_mz' filter first.\n",
      "2023-02-03 11:16:00,606:WARNING:matchms:ModifiedCosine:Precursor_mz must be of type int or float. Apply 'add_precursor_mz' filter first.\n",
      "2023-02-03 11:16:00,607:WARNING:matchms:ModifiedCosine:Precursor_mz must be of type int or float. Apply 'add_precursor_mz' filter first.\n",
      "2023-02-03 11:16:00,607:WARNING:matchms:ModifiedCosine:Precursor_mz must be of type int or float. Apply 'add_precursor_mz' filter first.\n",
      "2023-02-03 11:16:00,608:WARNING:matchms:ModifiedCosine:Precursor_mz must be of type int or float. Apply 'add_precursor_mz' filter first.\n",
      "2023-02-03 11:16:00,608:WARNING:matchms:ModifiedCosine:Precursor_mz must be of type int or float. Apply 'add_precursor_mz' filter first.\n",
      "2023-02-03 11:16:00,608:WARNING:matchms:ModifiedCosine:Precursor_mz must be of type int or float. Apply 'add_precursor_mz' filter first.\n",
      "2023-02-03 11:16:00,609:WARNING:matchms:ModifiedCosine:Precursor_mz must be of type int or float. Apply 'add_precursor_mz' filter first.\n",
      "2023-02-03 11:16:00,609:WARNING:matchms:ModifiedCosine:Precursor_mz must be of type int or float. Apply 'add_precursor_mz' filter first.\n",
      "2023-02-03 11:16:00,609:WARNING:matchms:ModifiedCosine:Precursor_mz must be of type int or float. Apply 'add_precursor_mz' filter first.\n",
      "2023-02-03 11:16:00,610:WARNING:matchms:ModifiedCosine:Precursor_mz must be of type int or float. Apply 'add_precursor_mz' filter first.\n",
      "2023-02-03 11:16:00,610:WARNING:matchms:ModifiedCosine:Precursor_mz must be of type int or float. Apply 'add_precursor_mz' filter first.\n",
      "2023-02-03 11:16:00,611:WARNING:matchms:ModifiedCosine:Precursor_mz must be of type int or float. Apply 'add_precursor_mz' filter first.\n",
      "2023-02-03 11:16:00,611:WARNING:matchms:ModifiedCosine:Precursor_mz must be of type int or float. Apply 'add_precursor_mz' filter first.\n",
      "2023-02-03 11:16:00,612:WARNING:matchms:ModifiedCosine:Precursor_mz must be of type int or float. Apply 'add_precursor_mz' filter first.\n",
      "2023-02-03 11:16:00,612:WARNING:matchms:ModifiedCosine:Precursor_mz must be of type int or float. Apply 'add_precursor_mz' filter first.\n",
      "2023-02-03 11:16:00,613:WARNING:matchms:ModifiedCosine:Precursor_mz must be of type int or float. Apply 'add_precursor_mz' filter first.\n",
      "2023-02-03 11:16:00,613:WARNING:matchms:ModifiedCosine:Precursor_mz must be of type int or float. Apply 'add_precursor_mz' filter first.\n",
      "2023-02-03 11:16:00,614:WARNING:matchms:ModifiedCosine:Precursor_mz must be of type int or float. Apply 'add_precursor_mz' filter first.\n",
      "2023-02-03 11:16:00,614:WARNING:matchms:ModifiedCosine:Precursor_mz must be of type int or float. Apply 'add_precursor_mz' filter first.\n",
      "2023-02-03 11:16:00,615:WARNING:matchms:ModifiedCosine:Precursor_mz must be of type int or float. Apply 'add_precursor_mz' filter first.\n",
      "2023-02-03 11:16:00,615:WARNING:matchms:ModifiedCosine:Precursor_mz must be of type int or float. Apply 'add_precursor_mz' filter first.\n",
      "2023-02-03 11:16:00,616:WARNING:matchms:ModifiedCosine:Precursor_mz must be of type int or float. Apply 'add_precursor_mz' filter first.\n",
      "2023-02-03 11:16:00,616:WARNING:matchms:ModifiedCosine:Precursor_mz must be of type int or float. Apply 'add_precursor_mz' filter first.\n",
      "2023-02-03 11:16:00,617:WARNING:matchms:ModifiedCosine:Precursor_mz must be of type int or float. Apply 'add_precursor_mz' filter first.\n",
      "2023-02-03 11:16:00,617:WARNING:matchms:ModifiedCosine:Precursor_mz must be of type int or float. Apply 'add_precursor_mz' filter first.\n",
      "2023-02-03 11:16:00,617:WARNING:matchms:ModifiedCosine:Precursor_mz must be of type int or float. Apply 'add_precursor_mz' filter first.\n",
      "2023-02-03 11:16:00,618:WARNING:matchms:ModifiedCosine:Precursor_mz must be of type int or float. Apply 'add_precursor_mz' filter first.\n",
      "2023-02-03 11:16:00,618:WARNING:matchms:ModifiedCosine:Precursor_mz must be of type int or float. Apply 'add_precursor_mz' filter first.\n",
      "2023-02-03 11:16:00,619:WARNING:matchms:ModifiedCosine:Precursor_mz must be of type int or float. Apply 'add_precursor_mz' filter first.\n",
      "2023-02-03 11:16:00,619:WARNING:matchms:ModifiedCosine:Precursor_mz must be of type int or float. Apply 'add_precursor_mz' filter first.\n",
      "2023-02-03 11:16:00,620:WARNING:matchms:ModifiedCosine:Precursor_mz must be of type int or float. Apply 'add_precursor_mz' filter first.\n",
      "2023-02-03 11:16:00,620:WARNING:matchms:ModifiedCosine:Precursor_mz must be of type int or float. Apply 'add_precursor_mz' filter first.\n",
      "2023-02-03 11:16:00,621:WARNING:matchms:ModifiedCosine:Precursor_mz must be of type int or float. Apply 'add_precursor_mz' filter first.\n",
      "2023-02-03 11:16:00,621:WARNING:matchms:ModifiedCosine:Precursor_mz must be of type int or float. Apply 'add_precursor_mz' filter first.\n",
      "2023-02-03 11:16:00,622:WARNING:matchms:ModifiedCosine:Precursor_mz must be of type int or float. Apply 'add_precursor_mz' filter first.\n",
      "2023-02-03 11:16:00,623:WARNING:matchms:ModifiedCosine:Precursor_mz must be of type int or float. Apply 'add_precursor_mz' filter first.\n",
      "2023-02-03 11:16:00,623:WARNING:matchms:ModifiedCosine:Precursor_mz must be of type int or float. Apply 'add_precursor_mz' filter first.\n",
      "2023-02-03 11:16:00,624:WARNING:matchms:ModifiedCosine:Precursor_mz must be of type int or float. Apply 'add_precursor_mz' filter first.\n",
      "2023-02-03 11:16:00,624:WARNING:matchms:ModifiedCosine:Precursor_mz must be of type int or float. Apply 'add_precursor_mz' filter first.\n",
      "2023-02-03 11:16:00,625:WARNING:matchms:ModifiedCosine:Precursor_mz must be of type int or float. Apply 'add_precursor_mz' filter first.\n",
      "2023-02-03 11:16:00,625:WARNING:matchms:ModifiedCosine:Precursor_mz must be of type int or float. Apply 'add_precursor_mz' filter first.\n",
      "2023-02-03 11:16:00,626:WARNING:matchms:ModifiedCosine:Precursor_mz must be of type int or float. Apply 'add_precursor_mz' filter first.\n",
      "2023-02-03 11:16:00,626:WARNING:matchms:ModifiedCosine:Precursor_mz must be of type int or float. Apply 'add_precursor_mz' filter first.\n",
      "2023-02-03 11:16:00,626:WARNING:matchms:ModifiedCosine:Precursor_mz must be of type int or float. Apply 'add_precursor_mz' filter first.\n",
      "2023-02-03 11:16:00,627:WARNING:matchms:ModifiedCosine:Precursor_mz must be of type int or float. Apply 'add_precursor_mz' filter first.\n",
      "2023-02-03 11:16:00,627:WARNING:matchms:ModifiedCosine:Precursor_mz must be of type int or float. Apply 'add_precursor_mz' filter first.\n",
      "2023-02-03 11:16:00,628:WARNING:matchms:ModifiedCosine:Precursor_mz must be of type int or float. Apply 'add_precursor_mz' filter first.\n",
      "2023-02-03 11:16:00,628:WARNING:matchms:ModifiedCosine:Precursor_mz must be of type int or float. Apply 'add_precursor_mz' filter first.\n",
      "2023-02-03 11:16:00,628:WARNING:matchms:ModifiedCosine:Precursor_mz must be of type int or float. Apply 'add_precursor_mz' filter first.\n",
      "2023-02-03 11:16:00,629:WARNING:matchms:ModifiedCosine:Precursor_mz must be of type int or float. Apply 'add_precursor_mz' filter first.\n",
      "2023-02-03 11:16:00,629:WARNING:matchms:ModifiedCosine:Precursor_mz must be of type int or float. Apply 'add_precursor_mz' filter first.\n",
      "2023-02-03 11:16:00,630:WARNING:matchms:ModifiedCosine:Precursor_mz must be of type int or float. Apply 'add_precursor_mz' filter first.\n",
      "2023-02-03 11:16:00,630:WARNING:matchms:ModifiedCosine:Precursor_mz must be of type int or float. Apply 'add_precursor_mz' filter first.\n",
      "2023-02-03 11:16:00,631:WARNING:matchms:ModifiedCosine:Precursor_mz must be of type int or float. Apply 'add_precursor_mz' filter first.\n",
      "2023-02-03 11:16:00,631:WARNING:matchms:ModifiedCosine:Precursor_mz must be of type int or float. Apply 'add_precursor_mz' filter first.\n",
      "2023-02-03 11:16:00,632:WARNING:matchms:ModifiedCosine:Precursor_mz must be of type int or float. Apply 'add_precursor_mz' filter first.\n",
      "2023-02-03 11:16:00,632:WARNING:matchms:ModifiedCosine:Precursor_mz must be of type int or float. Apply 'add_precursor_mz' filter first.\n",
      "2023-02-03 11:16:00,633:WARNING:matchms:ModifiedCosine:Precursor_mz must be of type int or float. Apply 'add_precursor_mz' filter first.\n",
      "2023-02-03 11:16:00,633:WARNING:matchms:ModifiedCosine:Precursor_mz must be of type int or float. Apply 'add_precursor_mz' filter first.\n",
      "2023-02-03 11:16:00,634:WARNING:matchms:ModifiedCosine:Precursor_mz must be of type int or float. Apply 'add_precursor_mz' filter first.\n",
      "2023-02-03 11:16:00,634:WARNING:matchms:ModifiedCosine:Precursor_mz must be of type int or float. Apply 'add_precursor_mz' filter first.\n",
      "2023-02-03 11:16:00,634:WARNING:matchms:ModifiedCosine:Precursor_mz must be of type int or float. Apply 'add_precursor_mz' filter first.\n",
      "2023-02-03 11:16:00,635:WARNING:matchms:ModifiedCosine:Precursor_mz must be of type int or float. Apply 'add_precursor_mz' filter first.\n",
      "2023-02-03 11:16:00,635:WARNING:matchms:ModifiedCosine:Precursor_mz must be of type int or float. Apply 'add_precursor_mz' filter first.\n",
      "2023-02-03 11:16:00,636:WARNING:matchms:ModifiedCosine:Precursor_mz must be of type int or float. Apply 'add_precursor_mz' filter first.\n",
      "2023-02-03 11:16:00,636:WARNING:matchms:ModifiedCosine:Precursor_mz must be of type int or float. Apply 'add_precursor_mz' filter first.\n",
      "2023-02-03 11:16:00,637:WARNING:matchms:ModifiedCosine:Precursor_mz must be of type int or float. Apply 'add_precursor_mz' filter first.\n",
      "2023-02-03 11:16:00,637:WARNING:matchms:ModifiedCosine:Precursor_mz must be of type int or float. Apply 'add_precursor_mz' filter first.\n",
      "2023-02-03 11:16:00,638:WARNING:matchms:ModifiedCosine:Precursor_mz must be of type int or float. Apply 'add_precursor_mz' filter first.\n",
      "2023-02-03 11:16:00,638:WARNING:matchms:ModifiedCosine:Precursor_mz must be of type int or float. Apply 'add_precursor_mz' filter first.\n",
      "2023-02-03 11:16:00,638:WARNING:matchms:ModifiedCosine:Precursor_mz must be of type int or float. Apply 'add_precursor_mz' filter first.\n",
      "2023-02-03 11:16:00,639:WARNING:matchms:ModifiedCosine:Precursor_mz must be of type int or float. Apply 'add_precursor_mz' filter first.\n",
      "2023-02-03 11:16:00,639:WARNING:matchms:ModifiedCosine:Precursor_mz must be of type int or float. Apply 'add_precursor_mz' filter first.\n",
      "2023-02-03 11:16:00,640:WARNING:matchms:ModifiedCosine:Precursor_mz must be of type int or float. Apply 'add_precursor_mz' filter first.\n",
      "2023-02-03 11:16:00,640:WARNING:matchms:ModifiedCosine:Precursor_mz must be of type int or float. Apply 'add_precursor_mz' filter first.\n",
      "2023-02-03 11:16:00,641:WARNING:matchms:ModifiedCosine:Precursor_mz must be of type int or float. Apply 'add_precursor_mz' filter first.\n",
      "2023-02-03 11:16:00,641:WARNING:matchms:ModifiedCosine:Precursor_mz must be of type int or float. Apply 'add_precursor_mz' filter first.\n",
      "2023-02-03 11:16:00,642:WARNING:matchms:ModifiedCosine:Precursor_mz must be of type int or float. Apply 'add_precursor_mz' filter first.\n",
      "2023-02-03 11:16:00,642:WARNING:matchms:ModifiedCosine:Precursor_mz must be of type int or float. Apply 'add_precursor_mz' filter first.\n",
      "2023-02-03 11:16:00,642:WARNING:matchms:ModifiedCosine:Precursor_mz must be of type int or float. Apply 'add_precursor_mz' filter first.\n",
      "2023-02-03 11:16:00,643:WARNING:matchms:ModifiedCosine:Precursor_mz must be of type int or float. Apply 'add_precursor_mz' filter first.\n",
      "2023-02-03 11:16:00,643:WARNING:matchms:ModifiedCosine:Precursor_mz must be of type int or float. Apply 'add_precursor_mz' filter first.\n",
      "2023-02-03 11:16:00,644:WARNING:matchms:ModifiedCosine:Precursor_mz must be of type int or float. Apply 'add_precursor_mz' filter first.\n",
      "2023-02-03 11:16:00,644:WARNING:matchms:ModifiedCosine:Precursor_mz must be of type int or float. Apply 'add_precursor_mz' filter first.\n",
      "2023-02-03 11:16:00,645:WARNING:matchms:ModifiedCosine:Precursor_mz must be of type int or float. Apply 'add_precursor_mz' filter first.\n",
      "2023-02-03 11:16:00,645:WARNING:matchms:ModifiedCosine:Precursor_mz must be of type int or float. Apply 'add_precursor_mz' filter first.\n",
      "2023-02-03 11:16:00,646:WARNING:matchms:ModifiedCosine:Precursor_mz must be of type int or float. Apply 'add_precursor_mz' filter first.\n",
      "2023-02-03 11:16:00,646:WARNING:matchms:ModifiedCosine:Precursor_mz must be of type int or float. Apply 'add_precursor_mz' filter first.\n",
      "2023-02-03 11:16:00,647:WARNING:matchms:ModifiedCosine:Precursor_mz must be of type int or float. Apply 'add_precursor_mz' filter first.\n",
      "2023-02-03 11:16:00,647:WARNING:matchms:ModifiedCosine:Precursor_mz must be of type int or float. Apply 'add_precursor_mz' filter first.\n",
      "2023-02-03 11:16:00,648:WARNING:matchms:ModifiedCosine:Precursor_mz must be of type int or float. Apply 'add_precursor_mz' filter first.\n",
      "2023-02-03 11:16:00,648:WARNING:matchms:ModifiedCosine:Precursor_mz must be of type int or float. Apply 'add_precursor_mz' filter first.\n",
      "2023-02-03 11:16:00,649:WARNING:matchms:ModifiedCosine:Precursor_mz must be of type int or float. Apply 'add_precursor_mz' filter first.\n",
      "2023-02-03 11:16:00,649:WARNING:matchms:ModifiedCosine:Precursor_mz must be of type int or float. Apply 'add_precursor_mz' filter first.\n",
      "2023-02-03 11:16:00,649:WARNING:matchms:ModifiedCosine:Precursor_mz must be of type int or float. Apply 'add_precursor_mz' filter first.\n",
      "2023-02-03 11:16:00,650:WARNING:matchms:ModifiedCosine:Precursor_mz must be of type int or float. Apply 'add_precursor_mz' filter first.\n",
      "2023-02-03 11:16:00,650:WARNING:matchms:ModifiedCosine:Precursor_mz must be of type int or float. Apply 'add_precursor_mz' filter first.\n",
      "2023-02-03 11:16:00,651:WARNING:matchms:ModifiedCosine:Precursor_mz must be of type int or float. Apply 'add_precursor_mz' filter first.\n",
      "2023-02-03 11:16:00,651:WARNING:matchms:ModifiedCosine:Precursor_mz must be of type int or float. Apply 'add_precursor_mz' filter first.\n",
      "2023-02-03 11:16:00,652:WARNING:matchms:ModifiedCosine:Precursor_mz must be of type int or float. Apply 'add_precursor_mz' filter first.\n",
      "2023-02-03 11:16:00,652:WARNING:matchms:ModifiedCosine:Precursor_mz must be of type int or float. Apply 'add_precursor_mz' filter first.\n",
      "2023-02-03 11:16:00,652:WARNING:matchms:ModifiedCosine:Precursor_mz must be of type int or float. Apply 'add_precursor_mz' filter first.\n",
      "2023-02-03 11:16:00,653:WARNING:matchms:ModifiedCosine:Precursor_mz must be of type int or float. Apply 'add_precursor_mz' filter first.\n",
      "2023-02-03 11:16:00,653:WARNING:matchms:ModifiedCosine:Precursor_mz must be of type int or float. Apply 'add_precursor_mz' filter first.\n",
      "2023-02-03 11:16:00,654:WARNING:matchms:ModifiedCosine:Precursor_mz must be of type int or float. Apply 'add_precursor_mz' filter first.\n",
      "2023-02-03 11:16:00,654:WARNING:matchms:ModifiedCosine:Precursor_mz must be of type int or float. Apply 'add_precursor_mz' filter first.\n",
      "2023-02-03 11:16:00,654:WARNING:matchms:ModifiedCosine:Precursor_mz must be of type int or float. Apply 'add_precursor_mz' filter first.\n",
      "2023-02-03 11:16:00,655:WARNING:matchms:ModifiedCosine:Precursor_mz must be of type int or float. Apply 'add_precursor_mz' filter first.\n",
      "2023-02-03 11:16:00,655:WARNING:matchms:ModifiedCosine:Precursor_mz must be of type int or float. Apply 'add_precursor_mz' filter first.\n",
      "2023-02-03 11:16:00,656:WARNING:matchms:ModifiedCosine:Precursor_mz must be of type int or float. Apply 'add_precursor_mz' filter first.\n",
      "2023-02-03 11:16:00,656:WARNING:matchms:ModifiedCosine:Precursor_mz must be of type int or float. Apply 'add_precursor_mz' filter first.\n",
      "2023-02-03 11:16:00,657:WARNING:matchms:ModifiedCosine:Precursor_mz must be of type int or float. Apply 'add_precursor_mz' filter first.\n",
      "2023-02-03 11:16:00,657:WARNING:matchms:ModifiedCosine:Precursor_mz must be of type int or float. Apply 'add_precursor_mz' filter first.\n",
      "2023-02-03 11:16:00,658:WARNING:matchms:ModifiedCosine:Precursor_mz must be of type int or float. Apply 'add_precursor_mz' filter first.\n",
      "2023-02-03 11:16:00,658:WARNING:matchms:ModifiedCosine:Precursor_mz must be of type int or float. Apply 'add_precursor_mz' filter first.\n",
      "2023-02-03 11:16:00,659:WARNING:matchms:ModifiedCosine:Precursor_mz must be of type int or float. Apply 'add_precursor_mz' filter first.\n",
      "2023-02-03 11:16:00,659:WARNING:matchms:ModifiedCosine:Precursor_mz must be of type int or float. Apply 'add_precursor_mz' filter first.\n",
      "2023-02-03 11:16:00,660:WARNING:matchms:ModifiedCosine:Precursor_mz must be of type int or float. Apply 'add_precursor_mz' filter first.\n",
      "2023-02-03 11:16:00,660:WARNING:matchms:ModifiedCosine:Precursor_mz must be of type int or float. Apply 'add_precursor_mz' filter first.\n",
      "2023-02-03 11:16:00,660:WARNING:matchms:ModifiedCosine:Precursor_mz must be of type int or float. Apply 'add_precursor_mz' filter first.\n",
      "2023-02-03 11:16:00,661:WARNING:matchms:ModifiedCosine:Precursor_mz must be of type int or float. Apply 'add_precursor_mz' filter first.\n",
      "2023-02-03 11:16:00,661:WARNING:matchms:ModifiedCosine:Precursor_mz must be of type int or float. Apply 'add_precursor_mz' filter first.\n",
      "2023-02-03 11:16:00,662:WARNING:matchms:ModifiedCosine:Precursor_mz must be of type int or float. Apply 'add_precursor_mz' filter first.\n",
      "2023-02-03 11:16:00,662:WARNING:matchms:ModifiedCosine:Precursor_mz must be of type int or float. Apply 'add_precursor_mz' filter first.\n",
      "2023-02-03 11:16:00,663:WARNING:matchms:ModifiedCosine:Precursor_mz must be of type int or float. Apply 'add_precursor_mz' filter first.\n",
      "2023-02-03 11:16:00,664:WARNING:matchms:ModifiedCosine:Precursor_mz must be of type int or float. Apply 'add_precursor_mz' filter first.\n",
      "2023-02-03 11:16:00,664:WARNING:matchms:ModifiedCosine:Precursor_mz must be of type int or float. Apply 'add_precursor_mz' filter first.\n",
      "2023-02-03 11:16:00,665:WARNING:matchms:ModifiedCosine:Precursor_mz must be of type int or float. Apply 'add_precursor_mz' filter first.\n",
      "2023-02-03 11:16:00,665:WARNING:matchms:ModifiedCosine:Precursor_mz must be of type int or float. Apply 'add_precursor_mz' filter first.\n",
      "2023-02-03 11:16:00,666:WARNING:matchms:ModifiedCosine:Precursor_mz must be of type int or float. Apply 'add_precursor_mz' filter first.\n",
      "2023-02-03 11:16:00,666:WARNING:matchms:ModifiedCosine:Precursor_mz must be of type int or float. Apply 'add_precursor_mz' filter first.\n",
      "2023-02-03 11:16:00,667:WARNING:matchms:ModifiedCosine:Precursor_mz must be of type int or float. Apply 'add_precursor_mz' filter first.\n",
      "2023-02-03 11:16:00,667:WARNING:matchms:ModifiedCosine:Precursor_mz must be of type int or float. Apply 'add_precursor_mz' filter first.\n",
      "2023-02-03 11:16:00,667:WARNING:matchms:ModifiedCosine:Precursor_mz must be of type int or float. Apply 'add_precursor_mz' filter first.\n",
      "2023-02-03 11:16:00,668:WARNING:matchms:ModifiedCosine:Precursor_mz must be of type int or float. Apply 'add_precursor_mz' filter first.\n",
      "2023-02-03 11:16:00,668:WARNING:matchms:ModifiedCosine:Precursor_mz must be of type int or float. Apply 'add_precursor_mz' filter first.\n",
      "2023-02-03 11:16:00,669:WARNING:matchms:ModifiedCosine:Precursor_mz must be of type int or float. Apply 'add_precursor_mz' filter first.\n",
      "2023-02-03 11:16:00,669:WARNING:matchms:ModifiedCosine:Precursor_mz must be of type int or float. Apply 'add_precursor_mz' filter first.\n",
      "2023-02-03 11:16:00,670:WARNING:matchms:ModifiedCosine:Precursor_mz must be of type int or float. Apply 'add_precursor_mz' filter first.\n",
      "2023-02-03 11:16:00,670:WARNING:matchms:ModifiedCosine:Precursor_mz must be of type int or float. Apply 'add_precursor_mz' filter first.\n",
      "2023-02-03 11:16:00,670:WARNING:matchms:ModifiedCosine:Precursor_mz must be of type int or float. Apply 'add_precursor_mz' filter first.\n",
      "2023-02-03 11:16:00,671:WARNING:matchms:ModifiedCosine:Precursor_mz must be of type int or float. Apply 'add_precursor_mz' filter first.\n",
      "2023-02-03 11:16:00,671:WARNING:matchms:ModifiedCosine:Precursor_mz must be of type int or float. Apply 'add_precursor_mz' filter first.\n",
      "2023-02-03 11:16:00,671:WARNING:matchms:ModifiedCosine:Precursor_mz must be of type int or float. Apply 'add_precursor_mz' filter first.\n",
      "2023-02-03 11:16:00,672:WARNING:matchms:ModifiedCosine:Precursor_mz must be of type int or float. Apply 'add_precursor_mz' filter first.\n",
      "2023-02-03 11:16:00,672:WARNING:matchms:ModifiedCosine:Precursor_mz must be of type int or float. Apply 'add_precursor_mz' filter first.\n",
      "2023-02-03 11:16:00,673:WARNING:matchms:ModifiedCosine:Precursor_mz must be of type int or float. Apply 'add_precursor_mz' filter first.\n",
      "2023-02-03 11:16:00,673:WARNING:matchms:ModifiedCosine:Precursor_mz must be of type int or float. Apply 'add_precursor_mz' filter first.\n",
      "2023-02-03 11:16:00,674:WARNING:matchms:ModifiedCosine:Precursor_mz must be of type int or float. Apply 'add_precursor_mz' filter first.\n",
      "2023-02-03 11:16:00,675:WARNING:matchms:ModifiedCosine:Precursor_mz must be of type int or float. Apply 'add_precursor_mz' filter first.\n",
      "2023-02-03 11:16:00,678:WARNING:matchms:ModifiedCosine:Precursor_mz must be of type int or float. Apply 'add_precursor_mz' filter first.\n",
      "2023-02-03 11:16:00,679:WARNING:matchms:ModifiedCosine:Precursor_mz must be of type int or float. Apply 'add_precursor_mz' filter first.\n",
      "2023-02-03 11:16:00,680:WARNING:matchms:ModifiedCosine:Precursor_mz must be of type int or float. Apply 'add_precursor_mz' filter first.\n",
      "2023-02-03 11:16:00,682:WARNING:matchms:ModifiedCosine:Precursor_mz must be of type int or float. Apply 'add_precursor_mz' filter first.\n",
      "2023-02-03 11:16:00,684:WARNING:matchms:ModifiedCosine:Precursor_mz must be of type int or float. Apply 'add_precursor_mz' filter first.\n",
      "2023-02-03 11:16:00,685:WARNING:matchms:ModifiedCosine:Precursor_mz must be of type int or float. Apply 'add_precursor_mz' filter first.\n",
      "2023-02-03 11:16:00,687:WARNING:matchms:ModifiedCosine:Precursor_mz must be of type int or float. Apply 'add_precursor_mz' filter first.\n",
      "2023-02-03 11:16:00,687:WARNING:matchms:ModifiedCosine:Precursor_mz must be of type int or float. Apply 'add_precursor_mz' filter first.\n",
      "2023-02-03 11:16:00,688:WARNING:matchms:ModifiedCosine:Precursor_mz must be of type int or float. Apply 'add_precursor_mz' filter first.\n",
      "2023-02-03 11:16:00,688:WARNING:matchms:ModifiedCosine:Precursor_mz must be of type int or float. Apply 'add_precursor_mz' filter first.\n",
      "2023-02-03 11:16:00,688:WARNING:matchms:ModifiedCosine:Precursor_mz must be of type int or float. Apply 'add_precursor_mz' filter first.\n",
      "2023-02-03 11:16:00,689:WARNING:matchms:ModifiedCosine:Precursor_mz must be of type int or float. Apply 'add_precursor_mz' filter first.\n",
      "2023-02-03 11:16:00,689:WARNING:matchms:ModifiedCosine:Precursor_mz must be of type int or float. Apply 'add_precursor_mz' filter first.\n",
      "2023-02-03 11:16:00,690:WARNING:matchms:ModifiedCosine:Precursor_mz must be of type int or float. Apply 'add_precursor_mz' filter first.\n",
      "2023-02-03 11:16:00,690:WARNING:matchms:ModifiedCosine:Precursor_mz must be of type int or float. Apply 'add_precursor_mz' filter first.\n",
      "2023-02-03 11:16:00,691:WARNING:matchms:ModifiedCosine:Precursor_mz must be of type int or float. Apply 'add_precursor_mz' filter first.\n",
      "2023-02-03 11:16:00,691:WARNING:matchms:ModifiedCosine:Precursor_mz must be of type int or float. Apply 'add_precursor_mz' filter first.\n",
      "2023-02-03 11:16:00,692:WARNING:matchms:ModifiedCosine:Precursor_mz must be of type int or float. Apply 'add_precursor_mz' filter first.\n",
      "2023-02-03 11:16:00,693:WARNING:matchms:ModifiedCosine:Precursor_mz must be of type int or float. Apply 'add_precursor_mz' filter first.\n",
      "2023-02-03 11:16:00,693:WARNING:matchms:ModifiedCosine:Precursor_mz must be of type int or float. Apply 'add_precursor_mz' filter first.\n",
      "2023-02-03 11:16:00,695:WARNING:matchms:ModifiedCosine:Precursor_mz must be of type int or float. Apply 'add_precursor_mz' filter first.\n",
      "2023-02-03 11:16:00,696:WARNING:matchms:ModifiedCosine:Precursor_mz must be of type int or float. Apply 'add_precursor_mz' filter first.\n",
      "2023-02-03 11:16:00,697:WARNING:matchms:ModifiedCosine:Precursor_mz must be of type int or float. Apply 'add_precursor_mz' filter first.\n",
      "2023-02-03 11:16:00,698:WARNING:matchms:ModifiedCosine:Precursor_mz must be of type int or float. Apply 'add_precursor_mz' filter first.\n",
      "2023-02-03 11:16:00,698:WARNING:matchms:ModifiedCosine:Precursor_mz must be of type int or float. Apply 'add_precursor_mz' filter first.\n",
      "2023-02-03 11:16:00,699:WARNING:matchms:ModifiedCosine:Precursor_mz must be of type int or float. Apply 'add_precursor_mz' filter first.\n",
      "2023-02-03 11:16:00,699:WARNING:matchms:ModifiedCosine:Precursor_mz must be of type int or float. Apply 'add_precursor_mz' filter first.\n",
      "2023-02-03 11:16:00,700:WARNING:matchms:ModifiedCosine:Precursor_mz must be of type int or float. Apply 'add_precursor_mz' filter first.\n",
      "2023-02-03 11:16:00,700:WARNING:matchms:ModifiedCosine:Precursor_mz must be of type int or float. Apply 'add_precursor_mz' filter first.\n",
      "2023-02-03 11:16:00,701:WARNING:matchms:ModifiedCosine:Precursor_mz must be of type int or float. Apply 'add_precursor_mz' filter first.\n",
      "2023-02-03 11:16:00,701:WARNING:matchms:ModifiedCosine:Precursor_mz must be of type int or float. Apply 'add_precursor_mz' filter first.\n",
      "2023-02-03 11:16:00,810:WARNING:matchms:ModifiedCosine:Precursor_mz must be of type int or float. Apply 'add_precursor_mz' filter first.\n",
      "2023-02-03 11:16:00,814:WARNING:matchms:ModifiedCosine:Precursor_mz must be of type int or float. Apply 'add_precursor_mz' filter first.\n",
      "2023-02-03 11:16:00,819:WARNING:matchms:ModifiedCosine:Precursor_mz must be of type int or float. Apply 'add_precursor_mz' filter first.\n",
      "2023-02-03 11:16:00,826:WARNING:matchms:ModifiedCosine:Precursor_mz must be of type int or float. Apply 'add_precursor_mz' filter first.\n",
      "2023-02-03 11:16:00,841:WARNING:matchms:ModifiedCosine:Precursor_mz must be of type int or float. Apply 'add_precursor_mz' filter first.\n",
      "2023-02-03 11:16:00,855:WARNING:matchms:ModifiedCosine:Precursor_mz must be of type int or float. Apply 'add_precursor_mz' filter first.\n",
      "2023-02-03 11:16:00,856:WARNING:matchms:ModifiedCosine:Precursor_mz must be of type int or float. Apply 'add_precursor_mz' filter first.\n",
      "2023-02-03 11:16:00,858:WARNING:matchms:ModifiedCosine:Precursor_mz must be of type int or float. Apply 'add_precursor_mz' filter first.\n",
      "2023-02-03 11:16:00,858:WARNING:matchms:ModifiedCosine:Precursor_mz must be of type int or float. Apply 'add_precursor_mz' filter first.\n",
      "2023-02-03 11:16:00,860:WARNING:matchms:ModifiedCosine:Precursor_mz must be of type int or float. Apply 'add_precursor_mz' filter first.\n",
      "2023-02-03 11:16:00,861:WARNING:matchms:ModifiedCosine:Precursor_mz must be of type int or float. Apply 'add_precursor_mz' filter first.\n",
      "2023-02-03 11:16:00,867:WARNING:matchms:ModifiedCosine:Precursor_mz must be of type int or float. Apply 'add_precursor_mz' filter first.\n",
      "2023-02-03 11:16:00,871:WARNING:matchms:ModifiedCosine:Precursor_mz must be of type int or float. Apply 'add_precursor_mz' filter first.\n",
      "2023-02-03 11:16:00,875:WARNING:matchms:ModifiedCosine:Precursor_mz must be of type int or float. Apply 'add_precursor_mz' filter first.\n",
      "2023-02-03 11:16:00,879:WARNING:matchms:ModifiedCosine:Precursor_mz must be of type int or float. Apply 'add_precursor_mz' filter first.\n",
      "2023-02-03 11:16:00,881:WARNING:matchms:ModifiedCosine:Precursor_mz must be of type int or float. Apply 'add_precursor_mz' filter first.\n",
      "2023-02-03 11:16:00,881:WARNING:matchms:ModifiedCosine:Precursor_mz must be of type int or float. Apply 'add_precursor_mz' filter first.\n",
      "2023-02-03 11:16:00,883:WARNING:matchms:ModifiedCosine:Precursor_mz must be of type int or float. Apply 'add_precursor_mz' filter first.\n",
      "2023-02-03 11:16:00,885:WARNING:matchms:ModifiedCosine:Precursor_mz must be of type int or float. Apply 'add_precursor_mz' filter first.\n",
      "2023-02-03 11:16:00,886:WARNING:matchms:ModifiedCosine:Precursor_mz must be of type int or float. Apply 'add_precursor_mz' filter first.\n",
      "2023-02-03 11:16:00,888:WARNING:matchms:ModifiedCosine:Precursor_mz must be of type int or float. Apply 'add_precursor_mz' filter first.\n",
      "2023-02-03 11:16:00,889:WARNING:matchms:ModifiedCosine:Precursor_mz must be of type int or float. Apply 'add_precursor_mz' filter first.\n",
      "2023-02-03 11:16:00,890:WARNING:matchms:ModifiedCosine:Precursor_mz must be of type int or float. Apply 'add_precursor_mz' filter first.\n",
      "2023-02-03 11:16:00,891:WARNING:matchms:ModifiedCosine:Precursor_mz must be of type int or float. Apply 'add_precursor_mz' filter first.\n",
      "2023-02-03 11:16:00,891:WARNING:matchms:ModifiedCosine:Precursor_mz must be of type int or float. Apply 'add_precursor_mz' filter first.\n",
      "2023-02-03 11:16:00,892:WARNING:matchms:ModifiedCosine:Precursor_mz must be of type int or float. Apply 'add_precursor_mz' filter first.\n",
      "2023-02-03 11:16:00,893:WARNING:matchms:ModifiedCosine:Precursor_mz must be of type int or float. Apply 'add_precursor_mz' filter first.\n",
      "2023-02-03 11:16:00,895:WARNING:matchms:ModifiedCosine:Precursor_mz must be of type int or float. Apply 'add_precursor_mz' filter first.\n",
      "2023-02-03 11:16:00,896:WARNING:matchms:ModifiedCosine:Precursor_mz must be of type int or float. Apply 'add_precursor_mz' filter first.\n",
      "2023-02-03 11:16:00,898:WARNING:matchms:ModifiedCosine:Precursor_mz must be of type int or float. Apply 'add_precursor_mz' filter first.\n",
      "2023-02-03 11:16:00,899:WARNING:matchms:ModifiedCosine:Precursor_mz must be of type int or float. Apply 'add_precursor_mz' filter first.\n",
      "2023-02-03 11:16:00,899:WARNING:matchms:ModifiedCosine:Precursor_mz must be of type int or float. Apply 'add_precursor_mz' filter first.\n",
      "2023-02-03 11:16:00,900:WARNING:matchms:ModifiedCosine:Precursor_mz must be of type int or float. Apply 'add_precursor_mz' filter first.\n",
      "2023-02-03 11:16:00,902:WARNING:matchms:ModifiedCosine:Precursor_mz must be of type int or float. Apply 'add_precursor_mz' filter first.\n",
      "2023-02-03 11:16:00,904:WARNING:matchms:ModifiedCosine:Precursor_mz must be of type int or float. Apply 'add_precursor_mz' filter first.\n",
      "2023-02-03 11:16:00,906:WARNING:matchms:ModifiedCosine:Precursor_mz must be of type int or float. Apply 'add_precursor_mz' filter first.\n",
      "2023-02-03 11:16:00,907:WARNING:matchms:ModifiedCosine:Precursor_mz must be of type int or float. Apply 'add_precursor_mz' filter first.\n",
      "2023-02-03 11:16:00,910:WARNING:matchms:ModifiedCosine:Precursor_mz must be of type int or float. Apply 'add_precursor_mz' filter first.\n",
      "2023-02-03 11:16:00,910:WARNING:matchms:ModifiedCosine:Precursor_mz must be of type int or float. Apply 'add_precursor_mz' filter first.\n",
      "2023-02-03 11:16:00,911:WARNING:matchms:ModifiedCosine:Precursor_mz must be of type int or float. Apply 'add_precursor_mz' filter first.\n",
      "2023-02-03 11:16:00,912:WARNING:matchms:ModifiedCosine:Precursor_mz must be of type int or float. Apply 'add_precursor_mz' filter first.\n",
      "2023-02-03 11:16:00,912:WARNING:matchms:ModifiedCosine:Precursor_mz must be of type int or float. Apply 'add_precursor_mz' filter first.\n",
      "2023-02-03 11:16:00,913:WARNING:matchms:ModifiedCosine:Precursor_mz must be of type int or float. Apply 'add_precursor_mz' filter first.\n",
      "2023-02-03 11:16:00,914:WARNING:matchms:ModifiedCosine:Precursor_mz must be of type int or float. Apply 'add_precursor_mz' filter first.\n",
      "2023-02-03 11:16:00,916:WARNING:matchms:ModifiedCosine:Precursor_mz must be of type int or float. Apply 'add_precursor_mz' filter first.\n",
      "2023-02-03 11:16:00,917:WARNING:matchms:ModifiedCosine:Precursor_mz must be of type int or float. Apply 'add_precursor_mz' filter first.\n",
      "2023-02-03 11:16:00,919:WARNING:matchms:ModifiedCosine:Precursor_mz must be of type int or float. Apply 'add_precursor_mz' filter first.\n",
      "2023-02-03 11:16:00,919:WARNING:matchms:ModifiedCosine:Precursor_mz must be of type int or float. Apply 'add_precursor_mz' filter first.\n",
      "2023-02-03 11:16:00,920:WARNING:matchms:ModifiedCosine:Precursor_mz must be of type int or float. Apply 'add_precursor_mz' filter first.\n",
      "2023-02-03 11:16:00,922:WARNING:matchms:ModifiedCosine:Precursor_mz must be of type int or float. Apply 'add_precursor_mz' filter first.\n",
      "2023-02-03 11:16:00,923:WARNING:matchms:ModifiedCosine:Precursor_mz must be of type int or float. Apply 'add_precursor_mz' filter first.\n",
      "2023-02-03 11:16:00,924:WARNING:matchms:ModifiedCosine:Precursor_mz must be of type int or float. Apply 'add_precursor_mz' filter first.\n",
      "2023-02-03 11:16:00,925:WARNING:matchms:ModifiedCosine:Precursor_mz must be of type int or float. Apply 'add_precursor_mz' filter first.\n",
      "2023-02-03 11:16:00,926:WARNING:matchms:ModifiedCosine:Precursor_mz must be of type int or float. Apply 'add_precursor_mz' filter first.\n",
      "2023-02-03 11:16:00,927:WARNING:matchms:ModifiedCosine:Precursor_mz must be of type int or float. Apply 'add_precursor_mz' filter first.\n",
      "2023-02-03 11:16:00,928:WARNING:matchms:ModifiedCosine:Precursor_mz must be of type int or float. Apply 'add_precursor_mz' filter first.\n",
      "2023-02-03 11:16:00,929:WARNING:matchms:ModifiedCosine:Precursor_mz must be of type int or float. Apply 'add_precursor_mz' filter first.\n",
      "2023-02-03 11:16:00,930:WARNING:matchms:ModifiedCosine:Precursor_mz must be of type int or float. Apply 'add_precursor_mz' filter first.\n",
      "2023-02-03 11:16:00,930:WARNING:matchms:ModifiedCosine:Precursor_mz must be of type int or float. Apply 'add_precursor_mz' filter first.\n",
      "2023-02-03 11:16:00,932:WARNING:matchms:ModifiedCosine:Precursor_mz must be of type int or float. Apply 'add_precursor_mz' filter first.\n",
      "2023-02-03 11:16:00,932:WARNING:matchms:ModifiedCosine:Precursor_mz must be of type int or float. Apply 'add_precursor_mz' filter first.\n",
      "2023-02-03 11:16:00,934:WARNING:matchms:ModifiedCosine:Precursor_mz must be of type int or float. Apply 'add_precursor_mz' filter first.\n",
      "2023-02-03 11:16:00,936:WARNING:matchms:ModifiedCosine:Precursor_mz must be of type int or float. Apply 'add_precursor_mz' filter first.\n",
      "2023-02-03 11:16:00,936:WARNING:matchms:ModifiedCosine:Precursor_mz must be of type int or float. Apply 'add_precursor_mz' filter first.\n",
      "2023-02-03 11:16:00,937:WARNING:matchms:ModifiedCosine:Precursor_mz must be of type int or float. Apply 'add_precursor_mz' filter first.\n",
      "2023-02-03 11:16:00,938:WARNING:matchms:ModifiedCosine:Precursor_mz must be of type int or float. Apply 'add_precursor_mz' filter first.\n",
      "2023-02-03 11:16:00,940:WARNING:matchms:ModifiedCosine:Precursor_mz must be of type int or float. Apply 'add_precursor_mz' filter first.\n",
      "2023-02-03 11:16:00,940:WARNING:matchms:ModifiedCosine:Precursor_mz must be of type int or float. Apply 'add_precursor_mz' filter first.\n",
      "2023-02-03 11:16:00,946:WARNING:matchms:ModifiedCosine:Precursor_mz must be of type int or float. Apply 'add_precursor_mz' filter first.\n",
      "2023-02-03 11:16:00,949:WARNING:matchms:ModifiedCosine:Precursor_mz must be of type int or float. Apply 'add_precursor_mz' filter first.\n",
      "2023-02-03 11:16:00,952:WARNING:matchms:ModifiedCosine:Precursor_mz must be of type int or float. Apply 'add_precursor_mz' filter first.\n",
      "2023-02-03 11:16:00,953:WARNING:matchms:ModifiedCosine:Precursor_mz must be of type int or float. Apply 'add_precursor_mz' filter first.\n",
      "2023-02-03 11:16:00,954:WARNING:matchms:ModifiedCosine:Precursor_mz must be of type int or float. Apply 'add_precursor_mz' filter first.\n",
      "2023-02-03 11:16:00,956:WARNING:matchms:ModifiedCosine:Precursor_mz must be of type int or float. Apply 'add_precursor_mz' filter first.\n",
      "2023-02-03 11:16:00,958:WARNING:matchms:ModifiedCosine:Precursor_mz must be of type int or float. Apply 'add_precursor_mz' filter first.\n",
      "2023-02-03 11:16:00,958:WARNING:matchms:ModifiedCosine:Precursor_mz must be of type int or float. Apply 'add_precursor_mz' filter first.\n",
      "2023-02-03 11:16:00,959:WARNING:matchms:ModifiedCosine:Precursor_mz must be of type int or float. Apply 'add_precursor_mz' filter first.\n",
      "2023-02-03 11:16:00,964:WARNING:matchms:ModifiedCosine:Precursor_mz must be of type int or float. Apply 'add_precursor_mz' filter first.\n",
      "2023-02-03 11:16:00,967:WARNING:matchms:ModifiedCosine:Precursor_mz must be of type int or float. Apply 'add_precursor_mz' filter first.\n",
      "2023-02-03 11:16:00,967:WARNING:matchms:ModifiedCosine:Precursor_mz must be of type int or float. Apply 'add_precursor_mz' filter first.\n",
      "2023-02-03 11:16:00,974:WARNING:matchms:ModifiedCosine:Precursor_mz must be of type int or float. Apply 'add_precursor_mz' filter first.\n",
      "2023-02-03 11:16:00,975:WARNING:matchms:ModifiedCosine:Precursor_mz must be of type int or float. Apply 'add_precursor_mz' filter first.\n",
      "2023-02-03 11:16:00,976:WARNING:matchms:ModifiedCosine:Precursor_mz must be of type int or float. Apply 'add_precursor_mz' filter first.\n",
      "2023-02-03 11:16:00,977:WARNING:matchms:ModifiedCosine:Precursor_mz must be of type int or float. Apply 'add_precursor_mz' filter first.\n",
      "2023-02-03 11:16:00,981:WARNING:matchms:ModifiedCosine:Precursor_mz must be of type int or float. Apply 'add_precursor_mz' filter first.\n",
      "2023-02-03 11:16:00,983:WARNING:matchms:ModifiedCosine:Precursor_mz must be of type int or float. Apply 'add_precursor_mz' filter first.\n",
      "2023-02-03 11:16:00,984:WARNING:matchms:ModifiedCosine:Precursor_mz must be of type int or float. Apply 'add_precursor_mz' filter first.\n",
      "2023-02-03 11:16:00,985:WARNING:matchms:ModifiedCosine:Precursor_mz must be of type int or float. Apply 'add_precursor_mz' filter first.\n",
      "2023-02-03 11:16:00,987:WARNING:matchms:ModifiedCosine:Precursor_mz must be of type int or float. Apply 'add_precursor_mz' filter first.\n",
      "2023-02-03 11:16:00,988:WARNING:matchms:ModifiedCosine:Precursor_mz must be of type int or float. Apply 'add_precursor_mz' filter first.\n",
      "2023-02-03 11:16:00,991:WARNING:matchms:ModifiedCosine:Precursor_mz must be of type int or float. Apply 'add_precursor_mz' filter first.\n",
      "2023-02-03 11:16:00,993:WARNING:matchms:ModifiedCosine:Precursor_mz must be of type int or float. Apply 'add_precursor_mz' filter first.\n",
      "2023-02-03 11:16:00,994:WARNING:matchms:ModifiedCosine:Precursor_mz must be of type int or float. Apply 'add_precursor_mz' filter first.\n",
      "2023-02-03 11:16:00,995:WARNING:matchms:ModifiedCosine:Precursor_mz must be of type int or float. Apply 'add_precursor_mz' filter first.\n",
      "2023-02-03 11:16:00,996:WARNING:matchms:ModifiedCosine:Precursor_mz must be of type int or float. Apply 'add_precursor_mz' filter first.\n",
      "2023-02-03 11:16:00,997:WARNING:matchms:ModifiedCosine:Precursor_mz must be of type int or float. Apply 'add_precursor_mz' filter first.\n",
      "2023-02-03 11:16:01,000:WARNING:matchms:ModifiedCosine:Precursor_mz must be of type int or float. Apply 'add_precursor_mz' filter first.\n",
      "2023-02-03 11:16:01,001:WARNING:matchms:ModifiedCosine:Precursor_mz must be of type int or float. Apply 'add_precursor_mz' filter first.\n",
      "2023-02-03 11:16:01,004:WARNING:matchms:ModifiedCosine:Precursor_mz must be of type int or float. Apply 'add_precursor_mz' filter first.\n",
      "2023-02-03 11:16:01,006:WARNING:matchms:ModifiedCosine:Precursor_mz must be of type int or float. Apply 'add_precursor_mz' filter first.\n",
      "2023-02-03 11:16:01,012:WARNING:matchms:ModifiedCosine:Precursor_mz must be of type int or float. Apply 'add_precursor_mz' filter first.\n",
      "2023-02-03 11:16:01,022:WARNING:matchms:ModifiedCosine:Precursor_mz must be of type int or float. Apply 'add_precursor_mz' filter first.\n",
      "2023-02-03 11:16:01,026:WARNING:matchms:ModifiedCosine:Precursor_mz must be of type int or float. Apply 'add_precursor_mz' filter first.\n",
      "2023-02-03 11:16:01,027:WARNING:matchms:ModifiedCosine:Precursor_mz must be of type int or float. Apply 'add_precursor_mz' filter first.\n",
      "2023-02-03 11:16:01,028:WARNING:matchms:ModifiedCosine:Precursor_mz must be of type int or float. Apply 'add_precursor_mz' filter first.\n",
      "2023-02-03 11:16:01,029:WARNING:matchms:ModifiedCosine:Precursor_mz must be of type int or float. Apply 'add_precursor_mz' filter first.\n",
      "2023-02-03 11:16:01,032:WARNING:matchms:ModifiedCosine:Precursor_mz must be of type int or float. Apply 'add_precursor_mz' filter first.\n",
      "2023-02-03 11:16:01,036:WARNING:matchms:ModifiedCosine:Precursor_mz must be of type int or float. Apply 'add_precursor_mz' filter first.\n",
      "2023-02-03 11:16:01,038:WARNING:matchms:ModifiedCosine:Precursor_mz must be of type int or float. Apply 'add_precursor_mz' filter first.\n",
      "2023-02-03 11:16:01,039:WARNING:matchms:ModifiedCosine:Precursor_mz must be of type int or float. Apply 'add_precursor_mz' filter first.\n",
      "2023-02-03 11:16:01,040:WARNING:matchms:ModifiedCosine:Precursor_mz must be of type int or float. Apply 'add_precursor_mz' filter first.\n",
      "2023-02-03 11:16:01,040:WARNING:matchms:ModifiedCosine:Precursor_mz must be of type int or float. Apply 'add_precursor_mz' filter first.\n",
      "2023-02-03 11:16:01,041:WARNING:matchms:ModifiedCosine:Precursor_mz must be of type int or float. Apply 'add_precursor_mz' filter first.\n",
      "2023-02-03 11:16:01,042:WARNING:matchms:ModifiedCosine:Precursor_mz must be of type int or float. Apply 'add_precursor_mz' filter first.\n",
      "2023-02-03 11:16:01,043:WARNING:matchms:ModifiedCosine:Precursor_mz must be of type int or float. Apply 'add_precursor_mz' filter first.\n",
      "2023-02-03 11:16:01,047:WARNING:matchms:ModifiedCosine:Precursor_mz must be of type int or float. Apply 'add_precursor_mz' filter first.\n",
      "2023-02-03 11:16:01,049:WARNING:matchms:ModifiedCosine:Precursor_mz must be of type int or float. Apply 'add_precursor_mz' filter first.\n",
      "2023-02-03 11:16:01,050:WARNING:matchms:ModifiedCosine:Precursor_mz must be of type int or float. Apply 'add_precursor_mz' filter first.\n",
      "2023-02-03 11:16:01,051:WARNING:matchms:ModifiedCosine:Precursor_mz must be of type int or float. Apply 'add_precursor_mz' filter first.\n",
      "2023-02-03 11:16:01,052:WARNING:matchms:ModifiedCosine:Precursor_mz must be of type int or float. Apply 'add_precursor_mz' filter first.\n",
      "2023-02-03 11:16:01,053:WARNING:matchms:ModifiedCosine:Precursor_mz must be of type int or float. Apply 'add_precursor_mz' filter first.\n",
      "2023-02-03 11:16:01,053:WARNING:matchms:ModifiedCosine:Precursor_mz must be of type int or float. Apply 'add_precursor_mz' filter first.\n",
      "2023-02-03 11:16:01,056:WARNING:matchms:ModifiedCosine:Precursor_mz must be of type int or float. Apply 'add_precursor_mz' filter first.\n",
      "2023-02-03 11:16:01,060:WARNING:matchms:ModifiedCosine:Precursor_mz must be of type int or float. Apply 'add_precursor_mz' filter first.\n",
      "2023-02-03 11:16:01,063:WARNING:matchms:ModifiedCosine:Precursor_mz must be of type int or float. Apply 'add_precursor_mz' filter first.\n",
      "2023-02-03 11:16:01,064:WARNING:matchms:ModifiedCosine:Precursor_mz must be of type int or float. Apply 'add_precursor_mz' filter first.\n",
      "2023-02-03 11:16:01,065:WARNING:matchms:ModifiedCosine:Precursor_mz must be of type int or float. Apply 'add_precursor_mz' filter first.\n",
      "2023-02-03 11:16:01,065:WARNING:matchms:ModifiedCosine:Precursor_mz must be of type int or float. Apply 'add_precursor_mz' filter first.\n",
      "2023-02-03 11:16:01,066:WARNING:matchms:ModifiedCosine:Precursor_mz must be of type int or float. Apply 'add_precursor_mz' filter first.\n",
      "2023-02-03 11:16:01,067:WARNING:matchms:ModifiedCosine:Precursor_mz must be of type int or float. Apply 'add_precursor_mz' filter first.\n",
      "2023-02-03 11:16:01,067:WARNING:matchms:ModifiedCosine:Precursor_mz must be of type int or float. Apply 'add_precursor_mz' filter first.\n",
      "2023-02-03 11:16:01,068:WARNING:matchms:ModifiedCosine:Precursor_mz must be of type int or float. Apply 'add_precursor_mz' filter first.\n",
      "2023-02-03 11:16:01,068:WARNING:matchms:ModifiedCosine:Precursor_mz must be of type int or float. Apply 'add_precursor_mz' filter first.\n",
      "2023-02-03 11:16:01,069:WARNING:matchms:ModifiedCosine:Precursor_mz must be of type int or float. Apply 'add_precursor_mz' filter first.\n",
      "2023-02-03 11:16:01,069:WARNING:matchms:ModifiedCosine:Precursor_mz must be of type int or float. Apply 'add_precursor_mz' filter first.\n",
      "2023-02-03 11:16:01,070:WARNING:matchms:ModifiedCosine:Precursor_mz must be of type int or float. Apply 'add_precursor_mz' filter first.\n",
      "2023-02-03 11:16:01,070:WARNING:matchms:ModifiedCosine:Precursor_mz must be of type int or float. Apply 'add_precursor_mz' filter first.\n",
      "2023-02-03 11:16:01,072:WARNING:matchms:ModifiedCosine:Precursor_mz must be of type int or float. Apply 'add_precursor_mz' filter first.\n",
      "2023-02-03 11:16:01,073:WARNING:matchms:ModifiedCosine:Precursor_mz must be of type int or float. Apply 'add_precursor_mz' filter first.\n",
      "2023-02-03 11:16:01,074:WARNING:matchms:ModifiedCosine:Precursor_mz must be of type int or float. Apply 'add_precursor_mz' filter first.\n",
      "2023-02-03 11:16:01,078:WARNING:matchms:ModifiedCosine:Precursor_mz must be of type int or float. Apply 'add_precursor_mz' filter first.\n",
      "2023-02-03 11:16:01,078:WARNING:matchms:ModifiedCosine:Precursor_mz must be of type int or float. Apply 'add_precursor_mz' filter first.\n",
      "2023-02-03 11:16:01,079:WARNING:matchms:ModifiedCosine:Precursor_mz must be of type int or float. Apply 'add_precursor_mz' filter first.\n",
      "2023-02-03 11:16:01,080:WARNING:matchms:ModifiedCosine:Precursor_mz must be of type int or float. Apply 'add_precursor_mz' filter first.\n",
      "2023-02-03 11:16:01,081:WARNING:matchms:ModifiedCosine:Precursor_mz must be of type int or float. Apply 'add_precursor_mz' filter first.\n",
      "2023-02-03 11:16:01,084:WARNING:matchms:ModifiedCosine:Precursor_mz must be of type int or float. Apply 'add_precursor_mz' filter first.\n",
      "2023-02-03 11:16:01,085:WARNING:matchms:ModifiedCosine:Precursor_mz must be of type int or float. Apply 'add_precursor_mz' filter first.\n",
      "2023-02-03 11:16:01,093:WARNING:matchms:ModifiedCosine:Precursor_mz must be of type int or float. Apply 'add_precursor_mz' filter first.\n",
      "2023-02-03 11:16:01,095:WARNING:matchms:ModifiedCosine:Precursor_mz must be of type int or float. Apply 'add_precursor_mz' filter first.\n",
      "2023-02-03 11:16:01,095:WARNING:matchms:ModifiedCosine:Precursor_mz must be of type int or float. Apply 'add_precursor_mz' filter first.\n",
      "2023-02-03 11:16:01,098:WARNING:matchms:ModifiedCosine:Precursor_mz must be of type int or float. Apply 'add_precursor_mz' filter first.\n",
      "2023-02-03 11:16:01,102:WARNING:matchms:ModifiedCosine:Precursor_mz must be of type int or float. Apply 'add_precursor_mz' filter first.\n",
      "2023-02-03 11:16:01,103:WARNING:matchms:ModifiedCosine:Precursor_mz must be of type int or float. Apply 'add_precursor_mz' filter first.\n",
      "2023-02-03 11:16:01,105:WARNING:matchms:ModifiedCosine:Precursor_mz must be of type int or float. Apply 'add_precursor_mz' filter first.\n",
      "2023-02-03 11:16:01,110:WARNING:matchms:ModifiedCosine:Precursor_mz must be of type int or float. Apply 'add_precursor_mz' filter first.\n",
      "2023-02-03 11:16:01,113:WARNING:matchms:ModifiedCosine:Precursor_mz must be of type int or float. Apply 'add_precursor_mz' filter first.\n",
      "2023-02-03 11:16:01,116:WARNING:matchms:ModifiedCosine:Precursor_mz must be of type int or float. Apply 'add_precursor_mz' filter first.\n",
      "2023-02-03 11:16:01,116:WARNING:matchms:ModifiedCosine:Precursor_mz must be of type int or float. Apply 'add_precursor_mz' filter first.\n",
      "2023-02-03 11:16:01,127:WARNING:matchms:ModifiedCosine:Precursor_mz must be of type int or float. Apply 'add_precursor_mz' filter first.\n",
      "2023-02-03 11:16:01,135:WARNING:matchms:ModifiedCosine:Precursor_mz must be of type int or float. Apply 'add_precursor_mz' filter first.\n",
      "2023-02-03 11:16:01,136:WARNING:matchms:ModifiedCosine:Precursor_mz must be of type int or float. Apply 'add_precursor_mz' filter first.\n",
      "2023-02-03 11:16:01,139:WARNING:matchms:ModifiedCosine:Precursor_mz must be of type int or float. Apply 'add_precursor_mz' filter first.\n",
      "2023-02-03 11:16:01,142:WARNING:matchms:ModifiedCosine:Precursor_mz must be of type int or float. Apply 'add_precursor_mz' filter first.\n",
      "2023-02-03 11:16:01,145:WARNING:matchms:ModifiedCosine:Precursor_mz must be of type int or float. Apply 'add_precursor_mz' filter first.\n",
      "2023-02-03 11:16:01,152:WARNING:matchms:ModifiedCosine:Precursor_mz must be of type int or float. Apply 'add_precursor_mz' filter first.\n",
      "2023-02-03 11:16:01,153:WARNING:matchms:ModifiedCosine:Precursor_mz must be of type int or float. Apply 'add_precursor_mz' filter first.\n",
      "2023-02-03 11:16:01,156:WARNING:matchms:ModifiedCosine:Precursor_mz must be of type int or float. Apply 'add_precursor_mz' filter first.\n",
      "2023-02-03 11:16:01,161:WARNING:matchms:ModifiedCosine:Precursor_mz must be of type int or float. Apply 'add_precursor_mz' filter first.\n",
      "2023-02-03 11:16:01,165:WARNING:matchms:ModifiedCosine:Precursor_mz must be of type int or float. Apply 'add_precursor_mz' filter first.\n",
      "2023-02-03 11:16:01,165:WARNING:matchms:ModifiedCosine:Precursor_mz must be of type int or float. Apply 'add_precursor_mz' filter first.\n",
      "2023-02-03 11:16:01,166:WARNING:matchms:ModifiedCosine:Precursor_mz must be of type int or float. Apply 'add_precursor_mz' filter first.\n",
      "2023-02-03 11:16:01,167:WARNING:matchms:ModifiedCosine:Precursor_mz must be of type int or float. Apply 'add_precursor_mz' filter first.\n",
      "2023-02-03 11:16:01,167:WARNING:matchms:ModifiedCosine:Precursor_mz must be of type int or float. Apply 'add_precursor_mz' filter first.\n",
      "2023-02-03 11:16:01,168:WARNING:matchms:ModifiedCosine:Precursor_mz must be of type int or float. Apply 'add_precursor_mz' filter first.\n",
      "2023-02-03 11:16:01,173:WARNING:matchms:ModifiedCosine:Precursor_mz must be of type int or float. Apply 'add_precursor_mz' filter first.\n",
      "2023-02-03 11:16:01,174:WARNING:matchms:ModifiedCosine:Precursor_mz must be of type int or float. Apply 'add_precursor_mz' filter first.\n",
      "2023-02-03 11:16:01,174:WARNING:matchms:ModifiedCosine:Precursor_mz must be of type int or float. Apply 'add_precursor_mz' filter first.\n",
      "2023-02-03 11:16:01,175:WARNING:matchms:ModifiedCosine:Precursor_mz must be of type int or float. Apply 'add_precursor_mz' filter first.\n",
      "2023-02-03 11:16:01,176:WARNING:matchms:ModifiedCosine:Precursor_mz must be of type int or float. Apply 'add_precursor_mz' filter first.\n",
      "2023-02-03 11:16:01,176:WARNING:matchms:ModifiedCosine:Precursor_mz must be of type int or float. Apply 'add_precursor_mz' filter first.\n",
      "2023-02-03 11:16:01,177:WARNING:matchms:ModifiedCosine:Precursor_mz must be of type int or float. Apply 'add_precursor_mz' filter first.\n",
      "2023-02-03 11:16:01,177:WARNING:matchms:ModifiedCosine:Precursor_mz must be of type int or float. Apply 'add_precursor_mz' filter first.\n",
      "2023-02-03 11:16:01,178:WARNING:matchms:ModifiedCosine:Precursor_mz must be of type int or float. Apply 'add_precursor_mz' filter first.\n",
      "2023-02-03 11:16:01,178:WARNING:matchms:ModifiedCosine:Precursor_mz must be of type int or float. Apply 'add_precursor_mz' filter first.\n",
      "2023-02-03 11:16:01,179:WARNING:matchms:ModifiedCosine:Precursor_mz must be of type int or float. Apply 'add_precursor_mz' filter first.\n",
      "2023-02-03 11:16:01,179:WARNING:matchms:ModifiedCosine:Precursor_mz must be of type int or float. Apply 'add_precursor_mz' filter first.\n",
      "2023-02-03 11:16:01,179:WARNING:matchms:ModifiedCosine:Precursor_mz must be of type int or float. Apply 'add_precursor_mz' filter first.\n",
      "2023-02-03 11:16:01,180:WARNING:matchms:ModifiedCosine:Precursor_mz must be of type int or float. Apply 'add_precursor_mz' filter first.\n",
      "2023-02-03 11:16:01,180:WARNING:matchms:ModifiedCosine:Precursor_mz must be of type int or float. Apply 'add_precursor_mz' filter first.\n",
      "2023-02-03 11:16:01,181:WARNING:matchms:ModifiedCosine:Precursor_mz must be of type int or float. Apply 'add_precursor_mz' filter first.\n",
      "2023-02-03 11:16:01,181:WARNING:matchms:ModifiedCosine:Precursor_mz must be of type int or float. Apply 'add_precursor_mz' filter first.\n",
      "2023-02-03 11:16:01,182:WARNING:matchms:ModifiedCosine:Precursor_mz must be of type int or float. Apply 'add_precursor_mz' filter first.\n",
      "2023-02-03 11:16:01,182:WARNING:matchms:ModifiedCosine:Precursor_mz must be of type int or float. Apply 'add_precursor_mz' filter first.\n",
      "2023-02-03 11:16:01,182:WARNING:matchms:ModifiedCosine:Precursor_mz must be of type int or float. Apply 'add_precursor_mz' filter first.\n",
      "2023-02-03 11:16:01,183:WARNING:matchms:ModifiedCosine:Precursor_mz must be of type int or float. Apply 'add_precursor_mz' filter first.\n",
      "2023-02-03 11:16:01,183:WARNING:matchms:ModifiedCosine:Precursor_mz must be of type int or float. Apply 'add_precursor_mz' filter first.\n"
     ]
    },
    {
     "name": "stderr",
     "output_type": "stream",
     "text": [
      "Spectrum binning: 100%|██████████| 33/33 [00:00<00:00, 12648.45it/s]\n",
      "Create BinnedSpectrum instances: 100%|██████████| 33/33 [00:00<00:00, 197731.47it/s]\n",
      "Calculating vectors of reference spectrums:   0%|          | 0/33 [00:00<?, ?it/s]2023-02-03 11:16:01.620060: W tensorflow/tsl/platform/profile_utils/cpu_utils.cc:128] Failed to get CPU frequency: 0 Hz\n",
      "2023-02-03 11:16:01.724520: I tensorflow/core/grappler/optimizers/custom_graph_optimizer_registry.cc:114] Plugin optimizer for device_type GPU is enabled.\n"
     ]
    },
    {
     "name": "stdout",
     "output_type": "stream",
     "text": [
      "1/1 [==============================] - 0s 200ms/step\n"
     ]
    },
    {
     "name": "stderr",
     "output_type": "stream",
     "text": [
      "Calculating vectors of reference spectrums:   3%|▎         | 1/33 [00:00<00:08,  3.61it/s]"
     ]
    },
    {
     "name": "stdout",
     "output_type": "stream",
     "text": [
      "1/1 [==============================] - 0s 22ms/step\n",
      "1/1 [==============================] - 0s 19ms/step\n"
     ]
    },
    {
     "name": "stderr",
     "output_type": "stream",
     "text": [
      "Calculating vectors of reference spectrums:   9%|▉         | 3/33 [00:00<00:03,  8.95it/s]"
     ]
    },
    {
     "name": "stdout",
     "output_type": "stream",
     "text": [
      "1/1 [==============================] - 0s 17ms/step\n",
      "1/1 [==============================] - 0s 17ms/step\n",
      "1/1 [==============================] - 0s 18ms/step\n"
     ]
    },
    {
     "name": "stderr",
     "output_type": "stream",
     "text": [
      "Calculating vectors of reference spectrums:  18%|█▊        | 6/33 [00:00<00:01, 13.93it/s]"
     ]
    },
    {
     "name": "stdout",
     "output_type": "stream",
     "text": [
      "1/1 [==============================] - 0s 17ms/step\n",
      "1/1 [==============================] - 0s 17ms/step\n",
      "1/1 [==============================] - 0s 18ms/step\n"
     ]
    },
    {
     "name": "stderr",
     "output_type": "stream",
     "text": [
      "Calculating vectors of reference spectrums:  27%|██▋       | 9/33 [00:00<00:01, 16.59it/s]"
     ]
    },
    {
     "name": "stdout",
     "output_type": "stream",
     "text": [
      "1/1 [==============================] - 0s 17ms/step\n",
      "1/1 [==============================] - 0s 18ms/step\n",
      "1/1 [==============================] - 0s 16ms/step\n"
     ]
    },
    {
     "name": "stderr",
     "output_type": "stream",
     "text": [
      "Calculating vectors of reference spectrums:  36%|███▋      | 12/33 [00:00<00:01, 18.19it/s]"
     ]
    },
    {
     "name": "stdout",
     "output_type": "stream",
     "text": [
      "1/1 [==============================] - 0s 15ms/step\n",
      "1/1 [==============================] - 0s 15ms/step\n",
      "1/1 [==============================] - 0s 15ms/step\n"
     ]
    },
    {
     "name": "stderr",
     "output_type": "stream",
     "text": [
      "Calculating vectors of reference spectrums:  45%|████▌     | 15/33 [00:00<00:00, 19.77it/s]"
     ]
    },
    {
     "name": "stdout",
     "output_type": "stream",
     "text": [
      "1/1 [==============================] - 0s 18ms/step\n",
      "1/1 [==============================] - 0s 16ms/step\n",
      "1/1 [==============================] - 0s 16ms/step\n"
     ]
    },
    {
     "name": "stderr",
     "output_type": "stream",
     "text": [
      "Calculating vectors of reference spectrums:  55%|█████▍    | 18/33 [00:01<00:00, 20.65it/s]"
     ]
    },
    {
     "name": "stdout",
     "output_type": "stream",
     "text": [
      "1/1 [==============================] - 0s 16ms/step\n",
      "1/1 [==============================] - 0s 16ms/step\n",
      "1/1 [==============================] - 0s 17ms/step\n"
     ]
    },
    {
     "name": "stderr",
     "output_type": "stream",
     "text": [
      "Calculating vectors of reference spectrums:  64%|██████▎   | 21/33 [00:01<00:00, 21.39it/s]"
     ]
    },
    {
     "name": "stdout",
     "output_type": "stream",
     "text": [
      "1/1 [==============================] - 0s 15ms/step\n",
      "1/1 [==============================] - 0s 15ms/step\n",
      "1/1 [==============================] - 0s 13ms/step\n"
     ]
    },
    {
     "name": "stderr",
     "output_type": "stream",
     "text": [
      "Calculating vectors of reference spectrums:  73%|███████▎  | 24/33 [00:01<00:00, 22.45it/s]"
     ]
    },
    {
     "name": "stdout",
     "output_type": "stream",
     "text": [
      "1/1 [==============================] - 0s 13ms/step\n",
      "1/1 [==============================] - 0s 15ms/step\n",
      "1/1 [==============================] - 0s 13ms/step\n"
     ]
    },
    {
     "name": "stderr",
     "output_type": "stream",
     "text": [
      "Calculating vectors of reference spectrums:  82%|████████▏ | 27/33 [00:01<00:00, 23.55it/s]"
     ]
    },
    {
     "name": "stdout",
     "output_type": "stream",
     "text": [
      "1/1 [==============================] - 0s 14ms/step\n",
      "1/1 [==============================] - 0s 13ms/step\n",
      "1/1 [==============================] - 0s 12ms/step\n"
     ]
    },
    {
     "name": "stderr",
     "output_type": "stream",
     "text": [
      "Calculating vectors of reference spectrums:  91%|█████████ | 30/33 [00:01<00:00, 24.57it/s]"
     ]
    },
    {
     "name": "stdout",
     "output_type": "stream",
     "text": [
      "1/1 [==============================] - 0s 12ms/step\n",
      "1/1 [==============================] - 0s 13ms/step\n",
      "1/1 [==============================] - 0s 13ms/step\n"
     ]
    },
    {
     "name": "stderr",
     "output_type": "stream",
     "text": [
      "Calculating vectors of reference spectrums: 100%|██████████| 33/33 [00:01<00:00, 20.03it/s]\n"
     ]
    }
   ],
   "source": [
    "from template_processing_funs import compute_similarities_cosine, compute_similarities_ms2ds, compute_similarities_s2v\n",
    "scores_s2v = compute_similarities_s2v(all_spectra, models_and_library_folder_pos)\n",
    "scores_cos = compute_similarities_cosine(all_spectra, type=\"ModifiedCosine\")\n",
    "scores_ms2ds = compute_similarities_ms2ds(all_spectra, models_and_library_folder_pos)"
   ]
  },
  {
   "attachments": {},
   "cell_type": "markdown",
   "metadata": {},
   "source": [
    "### Run K-Medoid Clustering Grid\n",
    "\n",
    "Here, K-Medoid clustering is run for many levels of K to achieve a good Silhouette score.\n",
    "\n",
    "Idea: this particular code can be run and rerun easily; the grid can be modified until a suitable K is found.\n",
    "\n",
    "Return: A classification table with suitable K clustering coefficients. Small K for broad trends, large K for granularity in the t-SNE embedding."
   ]
  },
  {
   "cell_type": "code",
   "execution_count": 15,
   "metadata": {},
   "outputs": [
    {
     "ename": "SyntaxError",
     "evalue": "invalid syntax (1347755551.py, line 1)",
     "output_type": "error",
     "traceback": [
      "\u001b[0;36m  Cell \u001b[0;32mIn[15], line 1\u001b[0;36m\u001b[0m\n\u001b[0;31m    k_grid = [5,10,15...]\u001b[0m\n\u001b[0m                       ^\u001b[0m\n\u001b[0;31mSyntaxError\u001b[0m\u001b[0;31m:\u001b[0m invalid syntax\n"
     ]
    }
   ],
   "source": []
  },
  {
   "cell_type": "code",
   "execution_count": 16,
   "metadata": {},
   "outputs": [],
   "source": [
    "import kmedoids\n",
    "from scipy.spatial.distance import pdist, squareform\n",
    "from scipy.stats import pearsonr, spearmanr  \n",
    "import sklearn\n",
    "import plotly.express as px\n",
    "from sklearn.manifold import TSNE"
   ]
  },
  {
   "cell_type": "code",
   "execution_count": 17,
   "metadata": {},
   "outputs": [
    {
     "name": "stdout",
     "output_type": "stream",
     "text": [
      "['kmedoid_2', 'kmedoid_4', 'kmedoid_6', 'kmedoid_8', 'kmedoid_10', 'kmedoid_12', 'kmedoid_14', 'kmedoid_16', 'kmedoid_18', 'kmedoid_20', 'kmedoid_22', 'kmedoid_24', 'kmedoid_26', 'kmedoid_28', 'specxplore_id']\n"
     ]
    }
   ],
   "source": [
    "dist = 1.- scores_ms2ds\n",
    "# Deal with floating point issues\n",
    "dist = np.round(dist, 4)\n",
    "dist = np.clip(dist, a_min = 0, a_max = 1)\n",
    "\n",
    "kclass_table = pd.DataFrame()\n",
    "scores = []\n",
    "n_clusters = np.arange(2, 30, 2).tolist()\n",
    "for k in n_clusters:\n",
    "    cluster = kmedoids.KMedoids(\n",
    "        n_clusters=k, metric='precomputed', random_state=0, \n",
    "        method = \"fasterpam\")  \n",
    "    cluster_km = cluster.fit_predict(dist)\n",
    "    cluster_km = [\"KM_\" + str(elem) for elem in cluster_km]\n",
    "    kclass_table[f\"kmedoid_{k}\"] = cluster_km\n",
    "    scores.append(\n",
    "        sklearn.metrics.silhouette_score(\n",
    "            X = dist, labels = cluster_km, metric= \"precomputed\"))\n",
    "kclass_table[\"specxplore_id\"] = kclass_table.index\n",
    "kclass_table.head()\n",
    "print(list(kclass_table.columns))"
   ]
  },
  {
   "cell_type": "code",
   "execution_count": 18,
   "metadata": {},
   "outputs": [
    {
     "data": {
      "application/vnd.plotly.v1+json": {
       "config": {
        "plotlyServerURL": "https://plot.ly"
       },
       "data": [
        {
         "hovertemplate": "x=%{x}<br>y=%{y}<extra></extra>",
         "legendgroup": "",
         "marker": {
          "color": "#636efa",
          "symbol": "circle"
         },
         "mode": "markers",
         "name": "",
         "orientation": "v",
         "showlegend": false,
         "type": "scatter",
         "x": [
          2,
          4,
          6,
          8,
          10,
          12,
          14,
          16,
          18,
          20,
          22,
          24,
          26,
          28
         ],
         "xaxis": "x",
         "y": [
          0.31972856339475775,
          0.25491053140862374,
          0.23611315987869785,
          0.29068423703409507,
          0.3121232106739599,
          0.3182588063505234,
          0.29990053012149687,
          0.27573247276422574,
          0.31822320574447754,
          0.2585946605484868,
          0.2581400401610425,
          0.22804635379952365,
          0.32858210642613156,
          0.242503508423006
         ],
         "yaxis": "y"
        }
       ],
       "layout": {
        "legend": {
         "tracegroupgap": 0
        },
        "margin": {
         "t": 60
        },
        "template": {
         "data": {
          "bar": [
           {
            "error_x": {
             "color": "#2a3f5f"
            },
            "error_y": {
             "color": "#2a3f5f"
            },
            "marker": {
             "line": {
              "color": "#E5ECF6",
              "width": 0.5
             },
             "pattern": {
              "fillmode": "overlay",
              "size": 10,
              "solidity": 0.2
             }
            },
            "type": "bar"
           }
          ],
          "barpolar": [
           {
            "marker": {
             "line": {
              "color": "#E5ECF6",
              "width": 0.5
             },
             "pattern": {
              "fillmode": "overlay",
              "size": 10,
              "solidity": 0.2
             }
            },
            "type": "barpolar"
           }
          ],
          "carpet": [
           {
            "aaxis": {
             "endlinecolor": "#2a3f5f",
             "gridcolor": "white",
             "linecolor": "white",
             "minorgridcolor": "white",
             "startlinecolor": "#2a3f5f"
            },
            "baxis": {
             "endlinecolor": "#2a3f5f",
             "gridcolor": "white",
             "linecolor": "white",
             "minorgridcolor": "white",
             "startlinecolor": "#2a3f5f"
            },
            "type": "carpet"
           }
          ],
          "choropleth": [
           {
            "colorbar": {
             "outlinewidth": 0,
             "ticks": ""
            },
            "type": "choropleth"
           }
          ],
          "contour": [
           {
            "colorbar": {
             "outlinewidth": 0,
             "ticks": ""
            },
            "colorscale": [
             [
              0,
              "#0d0887"
             ],
             [
              0.1111111111111111,
              "#46039f"
             ],
             [
              0.2222222222222222,
              "#7201a8"
             ],
             [
              0.3333333333333333,
              "#9c179e"
             ],
             [
              0.4444444444444444,
              "#bd3786"
             ],
             [
              0.5555555555555556,
              "#d8576b"
             ],
             [
              0.6666666666666666,
              "#ed7953"
             ],
             [
              0.7777777777777778,
              "#fb9f3a"
             ],
             [
              0.8888888888888888,
              "#fdca26"
             ],
             [
              1,
              "#f0f921"
             ]
            ],
            "type": "contour"
           }
          ],
          "contourcarpet": [
           {
            "colorbar": {
             "outlinewidth": 0,
             "ticks": ""
            },
            "type": "contourcarpet"
           }
          ],
          "heatmap": [
           {
            "colorbar": {
             "outlinewidth": 0,
             "ticks": ""
            },
            "colorscale": [
             [
              0,
              "#0d0887"
             ],
             [
              0.1111111111111111,
              "#46039f"
             ],
             [
              0.2222222222222222,
              "#7201a8"
             ],
             [
              0.3333333333333333,
              "#9c179e"
             ],
             [
              0.4444444444444444,
              "#bd3786"
             ],
             [
              0.5555555555555556,
              "#d8576b"
             ],
             [
              0.6666666666666666,
              "#ed7953"
             ],
             [
              0.7777777777777778,
              "#fb9f3a"
             ],
             [
              0.8888888888888888,
              "#fdca26"
             ],
             [
              1,
              "#f0f921"
             ]
            ],
            "type": "heatmap"
           }
          ],
          "heatmapgl": [
           {
            "colorbar": {
             "outlinewidth": 0,
             "ticks": ""
            },
            "colorscale": [
             [
              0,
              "#0d0887"
             ],
             [
              0.1111111111111111,
              "#46039f"
             ],
             [
              0.2222222222222222,
              "#7201a8"
             ],
             [
              0.3333333333333333,
              "#9c179e"
             ],
             [
              0.4444444444444444,
              "#bd3786"
             ],
             [
              0.5555555555555556,
              "#d8576b"
             ],
             [
              0.6666666666666666,
              "#ed7953"
             ],
             [
              0.7777777777777778,
              "#fb9f3a"
             ],
             [
              0.8888888888888888,
              "#fdca26"
             ],
             [
              1,
              "#f0f921"
             ]
            ],
            "type": "heatmapgl"
           }
          ],
          "histogram": [
           {
            "marker": {
             "pattern": {
              "fillmode": "overlay",
              "size": 10,
              "solidity": 0.2
             }
            },
            "type": "histogram"
           }
          ],
          "histogram2d": [
           {
            "colorbar": {
             "outlinewidth": 0,
             "ticks": ""
            },
            "colorscale": [
             [
              0,
              "#0d0887"
             ],
             [
              0.1111111111111111,
              "#46039f"
             ],
             [
              0.2222222222222222,
              "#7201a8"
             ],
             [
              0.3333333333333333,
              "#9c179e"
             ],
             [
              0.4444444444444444,
              "#bd3786"
             ],
             [
              0.5555555555555556,
              "#d8576b"
             ],
             [
              0.6666666666666666,
              "#ed7953"
             ],
             [
              0.7777777777777778,
              "#fb9f3a"
             ],
             [
              0.8888888888888888,
              "#fdca26"
             ],
             [
              1,
              "#f0f921"
             ]
            ],
            "type": "histogram2d"
           }
          ],
          "histogram2dcontour": [
           {
            "colorbar": {
             "outlinewidth": 0,
             "ticks": ""
            },
            "colorscale": [
             [
              0,
              "#0d0887"
             ],
             [
              0.1111111111111111,
              "#46039f"
             ],
             [
              0.2222222222222222,
              "#7201a8"
             ],
             [
              0.3333333333333333,
              "#9c179e"
             ],
             [
              0.4444444444444444,
              "#bd3786"
             ],
             [
              0.5555555555555556,
              "#d8576b"
             ],
             [
              0.6666666666666666,
              "#ed7953"
             ],
             [
              0.7777777777777778,
              "#fb9f3a"
             ],
             [
              0.8888888888888888,
              "#fdca26"
             ],
             [
              1,
              "#f0f921"
             ]
            ],
            "type": "histogram2dcontour"
           }
          ],
          "mesh3d": [
           {
            "colorbar": {
             "outlinewidth": 0,
             "ticks": ""
            },
            "type": "mesh3d"
           }
          ],
          "parcoords": [
           {
            "line": {
             "colorbar": {
              "outlinewidth": 0,
              "ticks": ""
             }
            },
            "type": "parcoords"
           }
          ],
          "pie": [
           {
            "automargin": true,
            "type": "pie"
           }
          ],
          "scatter": [
           {
            "fillpattern": {
             "fillmode": "overlay",
             "size": 10,
             "solidity": 0.2
            },
            "type": "scatter"
           }
          ],
          "scatter3d": [
           {
            "line": {
             "colorbar": {
              "outlinewidth": 0,
              "ticks": ""
             }
            },
            "marker": {
             "colorbar": {
              "outlinewidth": 0,
              "ticks": ""
             }
            },
            "type": "scatter3d"
           }
          ],
          "scattercarpet": [
           {
            "marker": {
             "colorbar": {
              "outlinewidth": 0,
              "ticks": ""
             }
            },
            "type": "scattercarpet"
           }
          ],
          "scattergeo": [
           {
            "marker": {
             "colorbar": {
              "outlinewidth": 0,
              "ticks": ""
             }
            },
            "type": "scattergeo"
           }
          ],
          "scattergl": [
           {
            "marker": {
             "colorbar": {
              "outlinewidth": 0,
              "ticks": ""
             }
            },
            "type": "scattergl"
           }
          ],
          "scattermapbox": [
           {
            "marker": {
             "colorbar": {
              "outlinewidth": 0,
              "ticks": ""
             }
            },
            "type": "scattermapbox"
           }
          ],
          "scatterpolar": [
           {
            "marker": {
             "colorbar": {
              "outlinewidth": 0,
              "ticks": ""
             }
            },
            "type": "scatterpolar"
           }
          ],
          "scatterpolargl": [
           {
            "marker": {
             "colorbar": {
              "outlinewidth": 0,
              "ticks": ""
             }
            },
            "type": "scatterpolargl"
           }
          ],
          "scatterternary": [
           {
            "marker": {
             "colorbar": {
              "outlinewidth": 0,
              "ticks": ""
             }
            },
            "type": "scatterternary"
           }
          ],
          "surface": [
           {
            "colorbar": {
             "outlinewidth": 0,
             "ticks": ""
            },
            "colorscale": [
             [
              0,
              "#0d0887"
             ],
             [
              0.1111111111111111,
              "#46039f"
             ],
             [
              0.2222222222222222,
              "#7201a8"
             ],
             [
              0.3333333333333333,
              "#9c179e"
             ],
             [
              0.4444444444444444,
              "#bd3786"
             ],
             [
              0.5555555555555556,
              "#d8576b"
             ],
             [
              0.6666666666666666,
              "#ed7953"
             ],
             [
              0.7777777777777778,
              "#fb9f3a"
             ],
             [
              0.8888888888888888,
              "#fdca26"
             ],
             [
              1,
              "#f0f921"
             ]
            ],
            "type": "surface"
           }
          ],
          "table": [
           {
            "cells": {
             "fill": {
              "color": "#EBF0F8"
             },
             "line": {
              "color": "white"
             }
            },
            "header": {
             "fill": {
              "color": "#C8D4E3"
             },
             "line": {
              "color": "white"
             }
            },
            "type": "table"
           }
          ]
         },
         "layout": {
          "annotationdefaults": {
           "arrowcolor": "#2a3f5f",
           "arrowhead": 0,
           "arrowwidth": 1
          },
          "autotypenumbers": "strict",
          "coloraxis": {
           "colorbar": {
            "outlinewidth": 0,
            "ticks": ""
           }
          },
          "colorscale": {
           "diverging": [
            [
             0,
             "#8e0152"
            ],
            [
             0.1,
             "#c51b7d"
            ],
            [
             0.2,
             "#de77ae"
            ],
            [
             0.3,
             "#f1b6da"
            ],
            [
             0.4,
             "#fde0ef"
            ],
            [
             0.5,
             "#f7f7f7"
            ],
            [
             0.6,
             "#e6f5d0"
            ],
            [
             0.7,
             "#b8e186"
            ],
            [
             0.8,
             "#7fbc41"
            ],
            [
             0.9,
             "#4d9221"
            ],
            [
             1,
             "#276419"
            ]
           ],
           "sequential": [
            [
             0,
             "#0d0887"
            ],
            [
             0.1111111111111111,
             "#46039f"
            ],
            [
             0.2222222222222222,
             "#7201a8"
            ],
            [
             0.3333333333333333,
             "#9c179e"
            ],
            [
             0.4444444444444444,
             "#bd3786"
            ],
            [
             0.5555555555555556,
             "#d8576b"
            ],
            [
             0.6666666666666666,
             "#ed7953"
            ],
            [
             0.7777777777777778,
             "#fb9f3a"
            ],
            [
             0.8888888888888888,
             "#fdca26"
            ],
            [
             1,
             "#f0f921"
            ]
           ],
           "sequentialminus": [
            [
             0,
             "#0d0887"
            ],
            [
             0.1111111111111111,
             "#46039f"
            ],
            [
             0.2222222222222222,
             "#7201a8"
            ],
            [
             0.3333333333333333,
             "#9c179e"
            ],
            [
             0.4444444444444444,
             "#bd3786"
            ],
            [
             0.5555555555555556,
             "#d8576b"
            ],
            [
             0.6666666666666666,
             "#ed7953"
            ],
            [
             0.7777777777777778,
             "#fb9f3a"
            ],
            [
             0.8888888888888888,
             "#fdca26"
            ],
            [
             1,
             "#f0f921"
            ]
           ]
          },
          "colorway": [
           "#636efa",
           "#EF553B",
           "#00cc96",
           "#ab63fa",
           "#FFA15A",
           "#19d3f3",
           "#FF6692",
           "#B6E880",
           "#FF97FF",
           "#FECB52"
          ],
          "font": {
           "color": "#2a3f5f"
          },
          "geo": {
           "bgcolor": "white",
           "lakecolor": "white",
           "landcolor": "#E5ECF6",
           "showlakes": true,
           "showland": true,
           "subunitcolor": "white"
          },
          "hoverlabel": {
           "align": "left"
          },
          "hovermode": "closest",
          "mapbox": {
           "style": "light"
          },
          "paper_bgcolor": "white",
          "plot_bgcolor": "#E5ECF6",
          "polar": {
           "angularaxis": {
            "gridcolor": "white",
            "linecolor": "white",
            "ticks": ""
           },
           "bgcolor": "#E5ECF6",
           "radialaxis": {
            "gridcolor": "white",
            "linecolor": "white",
            "ticks": ""
           }
          },
          "scene": {
           "xaxis": {
            "backgroundcolor": "#E5ECF6",
            "gridcolor": "white",
            "gridwidth": 2,
            "linecolor": "white",
            "showbackground": true,
            "ticks": "",
            "zerolinecolor": "white"
           },
           "yaxis": {
            "backgroundcolor": "#E5ECF6",
            "gridcolor": "white",
            "gridwidth": 2,
            "linecolor": "white",
            "showbackground": true,
            "ticks": "",
            "zerolinecolor": "white"
           },
           "zaxis": {
            "backgroundcolor": "#E5ECF6",
            "gridcolor": "white",
            "gridwidth": 2,
            "linecolor": "white",
            "showbackground": true,
            "ticks": "",
            "zerolinecolor": "white"
           }
          },
          "shapedefaults": {
           "line": {
            "color": "#2a3f5f"
           }
          },
          "ternary": {
           "aaxis": {
            "gridcolor": "white",
            "linecolor": "white",
            "ticks": ""
           },
           "baxis": {
            "gridcolor": "white",
            "linecolor": "white",
            "ticks": ""
           },
           "bgcolor": "#E5ECF6",
           "caxis": {
            "gridcolor": "white",
            "linecolor": "white",
            "ticks": ""
           }
          },
          "title": {
           "x": 0.05
          },
          "xaxis": {
           "automargin": true,
           "gridcolor": "white",
           "linecolor": "white",
           "ticks": "",
           "title": {
            "standoff": 15
           },
           "zerolinecolor": "white",
           "zerolinewidth": 2
          },
          "yaxis": {
           "automargin": true,
           "gridcolor": "white",
           "linecolor": "white",
           "ticks": "",
           "title": {
            "standoff": 15
           },
           "zerolinecolor": "white",
           "zerolinewidth": 2
          }
         }
        },
        "xaxis": {
         "anchor": "y",
         "domain": [
          0,
          1
         ],
         "title": {
          "text": "x"
         }
        },
        "yaxis": {
         "anchor": "x",
         "domain": [
          0,
          1
         ],
         "title": {
          "text": "y"
         }
        }
       }
      }
     },
     "metadata": {},
     "output_type": "display_data"
    }
   ],
   "source": [
    "fig = px.scatter(x=n_clusters, y=scores)\n",
    "fig.show()"
   ]
  },
  {
   "cell_type": "code",
   "execution_count": 19,
   "metadata": {},
   "outputs": [],
   "source": [
    "km = \"kmedoid_20\""
   ]
  },
  {
   "attachments": {},
   "cell_type": "markdown",
   "metadata": {},
   "source": [
    "### Run t-SNE Grid\n",
    "\n",
    "Here, a t-SNE tuning round is done to assess what levels of perplexity would lead to good distance preservation properties of the embedding. Learning rate and number of iterations may also be investigated, but this tuning will be slower.\n",
    "\n",
    "Speed depends on data size and settings. A single run may take a couple of minutes for large datasets and certain settings."
   ]
  },
  {
   "cell_type": "code",
   "execution_count": 21,
   "metadata": {},
   "outputs": [],
   "source": [
    "spearman_list = []\n",
    "pearson_list = []\n",
    "perplexities = [2,3,4,5,6,7,8,9,10,15,20,25]\n",
    "for perplexity in perplexities:\n",
    "    model = TSNE(\n",
    "        metric=\"precomputed\", random_state = 123, init = \"random\",\n",
    "        perplexity = perplexity)\n",
    "    z = model.fit_transform(dist)\n",
    "    dist_tsne = squareform(pdist(z, 'seuclidean'))\n",
    "    spearman_list.append(np.array(spearmanr(dist.flat, dist_tsne.flat))[0])\n",
    "    pearson_list.append(np.array(pearsonr(dist.flat, dist_tsne.flat))[0])"
   ]
  },
  {
   "cell_type": "code",
   "execution_count": 22,
   "metadata": {},
   "outputs": [
    {
     "data": {
      "application/vnd.plotly.v1+json": {
       "config": {
        "plotlyServerURL": "https://plot.ly"
       },
       "data": [
        {
         "hovertemplate": "x=%{x}<br>y=%{y}<extra></extra>",
         "legendgroup": "",
         "marker": {
          "color": "#636efa",
          "symbol": "circle"
         },
         "mode": "markers",
         "name": "",
         "orientation": "v",
         "showlegend": false,
         "type": "scatter",
         "x": [
          2,
          3,
          4,
          5,
          6,
          7,
          8,
          9,
          10,
          15,
          20,
          25
         ],
         "xaxis": "x",
         "y": [
          0.3972967581075689,
          0.5821350574662644,
          0.6602348861859986,
          0.47473491884751534,
          0.6675847083780617,
          0.7058233342406356,
          0.6825646751924521,
          0.7357069987595116,
          0.7188069979882696,
          0.7436015578301148,
          0.8023443830932985,
          0.875509875446744
         ],
         "yaxis": "y"
        }
       ],
       "layout": {
        "legend": {
         "tracegroupgap": 0
        },
        "template": {
         "data": {
          "bar": [
           {
            "error_x": {
             "color": "#2a3f5f"
            },
            "error_y": {
             "color": "#2a3f5f"
            },
            "marker": {
             "line": {
              "color": "#E5ECF6",
              "width": 0.5
             },
             "pattern": {
              "fillmode": "overlay",
              "size": 10,
              "solidity": 0.2
             }
            },
            "type": "bar"
           }
          ],
          "barpolar": [
           {
            "marker": {
             "line": {
              "color": "#E5ECF6",
              "width": 0.5
             },
             "pattern": {
              "fillmode": "overlay",
              "size": 10,
              "solidity": 0.2
             }
            },
            "type": "barpolar"
           }
          ],
          "carpet": [
           {
            "aaxis": {
             "endlinecolor": "#2a3f5f",
             "gridcolor": "white",
             "linecolor": "white",
             "minorgridcolor": "white",
             "startlinecolor": "#2a3f5f"
            },
            "baxis": {
             "endlinecolor": "#2a3f5f",
             "gridcolor": "white",
             "linecolor": "white",
             "minorgridcolor": "white",
             "startlinecolor": "#2a3f5f"
            },
            "type": "carpet"
           }
          ],
          "choropleth": [
           {
            "colorbar": {
             "outlinewidth": 0,
             "ticks": ""
            },
            "type": "choropleth"
           }
          ],
          "contour": [
           {
            "colorbar": {
             "outlinewidth": 0,
             "ticks": ""
            },
            "colorscale": [
             [
              0,
              "#0d0887"
             ],
             [
              0.1111111111111111,
              "#46039f"
             ],
             [
              0.2222222222222222,
              "#7201a8"
             ],
             [
              0.3333333333333333,
              "#9c179e"
             ],
             [
              0.4444444444444444,
              "#bd3786"
             ],
             [
              0.5555555555555556,
              "#d8576b"
             ],
             [
              0.6666666666666666,
              "#ed7953"
             ],
             [
              0.7777777777777778,
              "#fb9f3a"
             ],
             [
              0.8888888888888888,
              "#fdca26"
             ],
             [
              1,
              "#f0f921"
             ]
            ],
            "type": "contour"
           }
          ],
          "contourcarpet": [
           {
            "colorbar": {
             "outlinewidth": 0,
             "ticks": ""
            },
            "type": "contourcarpet"
           }
          ],
          "heatmap": [
           {
            "colorbar": {
             "outlinewidth": 0,
             "ticks": ""
            },
            "colorscale": [
             [
              0,
              "#0d0887"
             ],
             [
              0.1111111111111111,
              "#46039f"
             ],
             [
              0.2222222222222222,
              "#7201a8"
             ],
             [
              0.3333333333333333,
              "#9c179e"
             ],
             [
              0.4444444444444444,
              "#bd3786"
             ],
             [
              0.5555555555555556,
              "#d8576b"
             ],
             [
              0.6666666666666666,
              "#ed7953"
             ],
             [
              0.7777777777777778,
              "#fb9f3a"
             ],
             [
              0.8888888888888888,
              "#fdca26"
             ],
             [
              1,
              "#f0f921"
             ]
            ],
            "type": "heatmap"
           }
          ],
          "heatmapgl": [
           {
            "colorbar": {
             "outlinewidth": 0,
             "ticks": ""
            },
            "colorscale": [
             [
              0,
              "#0d0887"
             ],
             [
              0.1111111111111111,
              "#46039f"
             ],
             [
              0.2222222222222222,
              "#7201a8"
             ],
             [
              0.3333333333333333,
              "#9c179e"
             ],
             [
              0.4444444444444444,
              "#bd3786"
             ],
             [
              0.5555555555555556,
              "#d8576b"
             ],
             [
              0.6666666666666666,
              "#ed7953"
             ],
             [
              0.7777777777777778,
              "#fb9f3a"
             ],
             [
              0.8888888888888888,
              "#fdca26"
             ],
             [
              1,
              "#f0f921"
             ]
            ],
            "type": "heatmapgl"
           }
          ],
          "histogram": [
           {
            "marker": {
             "pattern": {
              "fillmode": "overlay",
              "size": 10,
              "solidity": 0.2
             }
            },
            "type": "histogram"
           }
          ],
          "histogram2d": [
           {
            "colorbar": {
             "outlinewidth": 0,
             "ticks": ""
            },
            "colorscale": [
             [
              0,
              "#0d0887"
             ],
             [
              0.1111111111111111,
              "#46039f"
             ],
             [
              0.2222222222222222,
              "#7201a8"
             ],
             [
              0.3333333333333333,
              "#9c179e"
             ],
             [
              0.4444444444444444,
              "#bd3786"
             ],
             [
              0.5555555555555556,
              "#d8576b"
             ],
             [
              0.6666666666666666,
              "#ed7953"
             ],
             [
              0.7777777777777778,
              "#fb9f3a"
             ],
             [
              0.8888888888888888,
              "#fdca26"
             ],
             [
              1,
              "#f0f921"
             ]
            ],
            "type": "histogram2d"
           }
          ],
          "histogram2dcontour": [
           {
            "colorbar": {
             "outlinewidth": 0,
             "ticks": ""
            },
            "colorscale": [
             [
              0,
              "#0d0887"
             ],
             [
              0.1111111111111111,
              "#46039f"
             ],
             [
              0.2222222222222222,
              "#7201a8"
             ],
             [
              0.3333333333333333,
              "#9c179e"
             ],
             [
              0.4444444444444444,
              "#bd3786"
             ],
             [
              0.5555555555555556,
              "#d8576b"
             ],
             [
              0.6666666666666666,
              "#ed7953"
             ],
             [
              0.7777777777777778,
              "#fb9f3a"
             ],
             [
              0.8888888888888888,
              "#fdca26"
             ],
             [
              1,
              "#f0f921"
             ]
            ],
            "type": "histogram2dcontour"
           }
          ],
          "mesh3d": [
           {
            "colorbar": {
             "outlinewidth": 0,
             "ticks": ""
            },
            "type": "mesh3d"
           }
          ],
          "parcoords": [
           {
            "line": {
             "colorbar": {
              "outlinewidth": 0,
              "ticks": ""
             }
            },
            "type": "parcoords"
           }
          ],
          "pie": [
           {
            "automargin": true,
            "type": "pie"
           }
          ],
          "scatter": [
           {
            "fillpattern": {
             "fillmode": "overlay",
             "size": 10,
             "solidity": 0.2
            },
            "type": "scatter"
           }
          ],
          "scatter3d": [
           {
            "line": {
             "colorbar": {
              "outlinewidth": 0,
              "ticks": ""
             }
            },
            "marker": {
             "colorbar": {
              "outlinewidth": 0,
              "ticks": ""
             }
            },
            "type": "scatter3d"
           }
          ],
          "scattercarpet": [
           {
            "marker": {
             "colorbar": {
              "outlinewidth": 0,
              "ticks": ""
             }
            },
            "type": "scattercarpet"
           }
          ],
          "scattergeo": [
           {
            "marker": {
             "colorbar": {
              "outlinewidth": 0,
              "ticks": ""
             }
            },
            "type": "scattergeo"
           }
          ],
          "scattergl": [
           {
            "marker": {
             "colorbar": {
              "outlinewidth": 0,
              "ticks": ""
             }
            },
            "type": "scattergl"
           }
          ],
          "scattermapbox": [
           {
            "marker": {
             "colorbar": {
              "outlinewidth": 0,
              "ticks": ""
             }
            },
            "type": "scattermapbox"
           }
          ],
          "scatterpolar": [
           {
            "marker": {
             "colorbar": {
              "outlinewidth": 0,
              "ticks": ""
             }
            },
            "type": "scatterpolar"
           }
          ],
          "scatterpolargl": [
           {
            "marker": {
             "colorbar": {
              "outlinewidth": 0,
              "ticks": ""
             }
            },
            "type": "scatterpolargl"
           }
          ],
          "scatterternary": [
           {
            "marker": {
             "colorbar": {
              "outlinewidth": 0,
              "ticks": ""
             }
            },
            "type": "scatterternary"
           }
          ],
          "surface": [
           {
            "colorbar": {
             "outlinewidth": 0,
             "ticks": ""
            },
            "colorscale": [
             [
              0,
              "#0d0887"
             ],
             [
              0.1111111111111111,
              "#46039f"
             ],
             [
              0.2222222222222222,
              "#7201a8"
             ],
             [
              0.3333333333333333,
              "#9c179e"
             ],
             [
              0.4444444444444444,
              "#bd3786"
             ],
             [
              0.5555555555555556,
              "#d8576b"
             ],
             [
              0.6666666666666666,
              "#ed7953"
             ],
             [
              0.7777777777777778,
              "#fb9f3a"
             ],
             [
              0.8888888888888888,
              "#fdca26"
             ],
             [
              1,
              "#f0f921"
             ]
            ],
            "type": "surface"
           }
          ],
          "table": [
           {
            "cells": {
             "fill": {
              "color": "#EBF0F8"
             },
             "line": {
              "color": "white"
             }
            },
            "header": {
             "fill": {
              "color": "#C8D4E3"
             },
             "line": {
              "color": "white"
             }
            },
            "type": "table"
           }
          ]
         },
         "layout": {
          "annotationdefaults": {
           "arrowcolor": "#2a3f5f",
           "arrowhead": 0,
           "arrowwidth": 1
          },
          "autotypenumbers": "strict",
          "coloraxis": {
           "colorbar": {
            "outlinewidth": 0,
            "ticks": ""
           }
          },
          "colorscale": {
           "diverging": [
            [
             0,
             "#8e0152"
            ],
            [
             0.1,
             "#c51b7d"
            ],
            [
             0.2,
             "#de77ae"
            ],
            [
             0.3,
             "#f1b6da"
            ],
            [
             0.4,
             "#fde0ef"
            ],
            [
             0.5,
             "#f7f7f7"
            ],
            [
             0.6,
             "#e6f5d0"
            ],
            [
             0.7,
             "#b8e186"
            ],
            [
             0.8,
             "#7fbc41"
            ],
            [
             0.9,
             "#4d9221"
            ],
            [
             1,
             "#276419"
            ]
           ],
           "sequential": [
            [
             0,
             "#0d0887"
            ],
            [
             0.1111111111111111,
             "#46039f"
            ],
            [
             0.2222222222222222,
             "#7201a8"
            ],
            [
             0.3333333333333333,
             "#9c179e"
            ],
            [
             0.4444444444444444,
             "#bd3786"
            ],
            [
             0.5555555555555556,
             "#d8576b"
            ],
            [
             0.6666666666666666,
             "#ed7953"
            ],
            [
             0.7777777777777778,
             "#fb9f3a"
            ],
            [
             0.8888888888888888,
             "#fdca26"
            ],
            [
             1,
             "#f0f921"
            ]
           ],
           "sequentialminus": [
            [
             0,
             "#0d0887"
            ],
            [
             0.1111111111111111,
             "#46039f"
            ],
            [
             0.2222222222222222,
             "#7201a8"
            ],
            [
             0.3333333333333333,
             "#9c179e"
            ],
            [
             0.4444444444444444,
             "#bd3786"
            ],
            [
             0.5555555555555556,
             "#d8576b"
            ],
            [
             0.6666666666666666,
             "#ed7953"
            ],
            [
             0.7777777777777778,
             "#fb9f3a"
            ],
            [
             0.8888888888888888,
             "#fdca26"
            ],
            [
             1,
             "#f0f921"
            ]
           ]
          },
          "colorway": [
           "#636efa",
           "#EF553B",
           "#00cc96",
           "#ab63fa",
           "#FFA15A",
           "#19d3f3",
           "#FF6692",
           "#B6E880",
           "#FF97FF",
           "#FECB52"
          ],
          "font": {
           "color": "#2a3f5f"
          },
          "geo": {
           "bgcolor": "white",
           "lakecolor": "white",
           "landcolor": "#E5ECF6",
           "showlakes": true,
           "showland": true,
           "subunitcolor": "white"
          },
          "hoverlabel": {
           "align": "left"
          },
          "hovermode": "closest",
          "mapbox": {
           "style": "light"
          },
          "paper_bgcolor": "white",
          "plot_bgcolor": "#E5ECF6",
          "polar": {
           "angularaxis": {
            "gridcolor": "white",
            "linecolor": "white",
            "ticks": ""
           },
           "bgcolor": "#E5ECF6",
           "radialaxis": {
            "gridcolor": "white",
            "linecolor": "white",
            "ticks": ""
           }
          },
          "scene": {
           "xaxis": {
            "backgroundcolor": "#E5ECF6",
            "gridcolor": "white",
            "gridwidth": 2,
            "linecolor": "white",
            "showbackground": true,
            "ticks": "",
            "zerolinecolor": "white"
           },
           "yaxis": {
            "backgroundcolor": "#E5ECF6",
            "gridcolor": "white",
            "gridwidth": 2,
            "linecolor": "white",
            "showbackground": true,
            "ticks": "",
            "zerolinecolor": "white"
           },
           "zaxis": {
            "backgroundcolor": "#E5ECF6",
            "gridcolor": "white",
            "gridwidth": 2,
            "linecolor": "white",
            "showbackground": true,
            "ticks": "",
            "zerolinecolor": "white"
           }
          },
          "shapedefaults": {
           "line": {
            "color": "#2a3f5f"
           }
          },
          "ternary": {
           "aaxis": {
            "gridcolor": "white",
            "linecolor": "white",
            "ticks": ""
           },
           "baxis": {
            "gridcolor": "white",
            "linecolor": "white",
            "ticks": ""
           },
           "bgcolor": "#E5ECF6",
           "caxis": {
            "gridcolor": "white",
            "linecolor": "white",
            "ticks": ""
           }
          },
          "title": {
           "x": 0.05
          },
          "xaxis": {
           "automargin": true,
           "gridcolor": "white",
           "linecolor": "white",
           "ticks": "",
           "title": {
            "standoff": 15
           },
           "zerolinecolor": "white",
           "zerolinewidth": 2
          },
          "yaxis": {
           "automargin": true,
           "gridcolor": "white",
           "linecolor": "white",
           "ticks": "",
           "title": {
            "standoff": 15
           },
           "zerolinecolor": "white",
           "zerolinewidth": 2
          }
         }
        },
        "title": {
         "text": "Spearman vs Perplexity"
        },
        "xaxis": {
         "anchor": "y",
         "domain": [
          0,
          1
         ],
         "title": {
          "text": "x"
         }
        },
        "yaxis": {
         "anchor": "x",
         "domain": [
          0,
          1
         ],
         "title": {
          "text": "y"
         }
        }
       }
      }
     },
     "metadata": {},
     "output_type": "display_data"
    },
    {
     "data": {
      "application/vnd.plotly.v1+json": {
       "config": {
        "plotlyServerURL": "https://plot.ly"
       },
       "data": [
        {
         "hovertemplate": "x=%{x}<br>y=%{y}<extra></extra>",
         "legendgroup": "",
         "marker": {
          "color": "#636efa",
          "symbol": "circle"
         },
         "mode": "markers",
         "name": "",
         "orientation": "v",
         "showlegend": false,
         "type": "scatter",
         "x": [
          2,
          3,
          4,
          5,
          6,
          7,
          8,
          9,
          10,
          15,
          20,
          25
         ],
         "xaxis": "x",
         "y": [
          0.4443793332041147,
          0.618826253719778,
          0.6848813044103309,
          0.5033662295591478,
          0.6502988279481574,
          0.7203982470748873,
          0.7072042489580621,
          0.7636327184647986,
          0.7365186322316261,
          0.7557269695531817,
          0.8142890949732768,
          0.8854742984080821
         ],
         "yaxis": "y"
        }
       ],
       "layout": {
        "legend": {
         "tracegroupgap": 0
        },
        "template": {
         "data": {
          "bar": [
           {
            "error_x": {
             "color": "#2a3f5f"
            },
            "error_y": {
             "color": "#2a3f5f"
            },
            "marker": {
             "line": {
              "color": "#E5ECF6",
              "width": 0.5
             },
             "pattern": {
              "fillmode": "overlay",
              "size": 10,
              "solidity": 0.2
             }
            },
            "type": "bar"
           }
          ],
          "barpolar": [
           {
            "marker": {
             "line": {
              "color": "#E5ECF6",
              "width": 0.5
             },
             "pattern": {
              "fillmode": "overlay",
              "size": 10,
              "solidity": 0.2
             }
            },
            "type": "barpolar"
           }
          ],
          "carpet": [
           {
            "aaxis": {
             "endlinecolor": "#2a3f5f",
             "gridcolor": "white",
             "linecolor": "white",
             "minorgridcolor": "white",
             "startlinecolor": "#2a3f5f"
            },
            "baxis": {
             "endlinecolor": "#2a3f5f",
             "gridcolor": "white",
             "linecolor": "white",
             "minorgridcolor": "white",
             "startlinecolor": "#2a3f5f"
            },
            "type": "carpet"
           }
          ],
          "choropleth": [
           {
            "colorbar": {
             "outlinewidth": 0,
             "ticks": ""
            },
            "type": "choropleth"
           }
          ],
          "contour": [
           {
            "colorbar": {
             "outlinewidth": 0,
             "ticks": ""
            },
            "colorscale": [
             [
              0,
              "#0d0887"
             ],
             [
              0.1111111111111111,
              "#46039f"
             ],
             [
              0.2222222222222222,
              "#7201a8"
             ],
             [
              0.3333333333333333,
              "#9c179e"
             ],
             [
              0.4444444444444444,
              "#bd3786"
             ],
             [
              0.5555555555555556,
              "#d8576b"
             ],
             [
              0.6666666666666666,
              "#ed7953"
             ],
             [
              0.7777777777777778,
              "#fb9f3a"
             ],
             [
              0.8888888888888888,
              "#fdca26"
             ],
             [
              1,
              "#f0f921"
             ]
            ],
            "type": "contour"
           }
          ],
          "contourcarpet": [
           {
            "colorbar": {
             "outlinewidth": 0,
             "ticks": ""
            },
            "type": "contourcarpet"
           }
          ],
          "heatmap": [
           {
            "colorbar": {
             "outlinewidth": 0,
             "ticks": ""
            },
            "colorscale": [
             [
              0,
              "#0d0887"
             ],
             [
              0.1111111111111111,
              "#46039f"
             ],
             [
              0.2222222222222222,
              "#7201a8"
             ],
             [
              0.3333333333333333,
              "#9c179e"
             ],
             [
              0.4444444444444444,
              "#bd3786"
             ],
             [
              0.5555555555555556,
              "#d8576b"
             ],
             [
              0.6666666666666666,
              "#ed7953"
             ],
             [
              0.7777777777777778,
              "#fb9f3a"
             ],
             [
              0.8888888888888888,
              "#fdca26"
             ],
             [
              1,
              "#f0f921"
             ]
            ],
            "type": "heatmap"
           }
          ],
          "heatmapgl": [
           {
            "colorbar": {
             "outlinewidth": 0,
             "ticks": ""
            },
            "colorscale": [
             [
              0,
              "#0d0887"
             ],
             [
              0.1111111111111111,
              "#46039f"
             ],
             [
              0.2222222222222222,
              "#7201a8"
             ],
             [
              0.3333333333333333,
              "#9c179e"
             ],
             [
              0.4444444444444444,
              "#bd3786"
             ],
             [
              0.5555555555555556,
              "#d8576b"
             ],
             [
              0.6666666666666666,
              "#ed7953"
             ],
             [
              0.7777777777777778,
              "#fb9f3a"
             ],
             [
              0.8888888888888888,
              "#fdca26"
             ],
             [
              1,
              "#f0f921"
             ]
            ],
            "type": "heatmapgl"
           }
          ],
          "histogram": [
           {
            "marker": {
             "pattern": {
              "fillmode": "overlay",
              "size": 10,
              "solidity": 0.2
             }
            },
            "type": "histogram"
           }
          ],
          "histogram2d": [
           {
            "colorbar": {
             "outlinewidth": 0,
             "ticks": ""
            },
            "colorscale": [
             [
              0,
              "#0d0887"
             ],
             [
              0.1111111111111111,
              "#46039f"
             ],
             [
              0.2222222222222222,
              "#7201a8"
             ],
             [
              0.3333333333333333,
              "#9c179e"
             ],
             [
              0.4444444444444444,
              "#bd3786"
             ],
             [
              0.5555555555555556,
              "#d8576b"
             ],
             [
              0.6666666666666666,
              "#ed7953"
             ],
             [
              0.7777777777777778,
              "#fb9f3a"
             ],
             [
              0.8888888888888888,
              "#fdca26"
             ],
             [
              1,
              "#f0f921"
             ]
            ],
            "type": "histogram2d"
           }
          ],
          "histogram2dcontour": [
           {
            "colorbar": {
             "outlinewidth": 0,
             "ticks": ""
            },
            "colorscale": [
             [
              0,
              "#0d0887"
             ],
             [
              0.1111111111111111,
              "#46039f"
             ],
             [
              0.2222222222222222,
              "#7201a8"
             ],
             [
              0.3333333333333333,
              "#9c179e"
             ],
             [
              0.4444444444444444,
              "#bd3786"
             ],
             [
              0.5555555555555556,
              "#d8576b"
             ],
             [
              0.6666666666666666,
              "#ed7953"
             ],
             [
              0.7777777777777778,
              "#fb9f3a"
             ],
             [
              0.8888888888888888,
              "#fdca26"
             ],
             [
              1,
              "#f0f921"
             ]
            ],
            "type": "histogram2dcontour"
           }
          ],
          "mesh3d": [
           {
            "colorbar": {
             "outlinewidth": 0,
             "ticks": ""
            },
            "type": "mesh3d"
           }
          ],
          "parcoords": [
           {
            "line": {
             "colorbar": {
              "outlinewidth": 0,
              "ticks": ""
             }
            },
            "type": "parcoords"
           }
          ],
          "pie": [
           {
            "automargin": true,
            "type": "pie"
           }
          ],
          "scatter": [
           {
            "fillpattern": {
             "fillmode": "overlay",
             "size": 10,
             "solidity": 0.2
            },
            "type": "scatter"
           }
          ],
          "scatter3d": [
           {
            "line": {
             "colorbar": {
              "outlinewidth": 0,
              "ticks": ""
             }
            },
            "marker": {
             "colorbar": {
              "outlinewidth": 0,
              "ticks": ""
             }
            },
            "type": "scatter3d"
           }
          ],
          "scattercarpet": [
           {
            "marker": {
             "colorbar": {
              "outlinewidth": 0,
              "ticks": ""
             }
            },
            "type": "scattercarpet"
           }
          ],
          "scattergeo": [
           {
            "marker": {
             "colorbar": {
              "outlinewidth": 0,
              "ticks": ""
             }
            },
            "type": "scattergeo"
           }
          ],
          "scattergl": [
           {
            "marker": {
             "colorbar": {
              "outlinewidth": 0,
              "ticks": ""
             }
            },
            "type": "scattergl"
           }
          ],
          "scattermapbox": [
           {
            "marker": {
             "colorbar": {
              "outlinewidth": 0,
              "ticks": ""
             }
            },
            "type": "scattermapbox"
           }
          ],
          "scatterpolar": [
           {
            "marker": {
             "colorbar": {
              "outlinewidth": 0,
              "ticks": ""
             }
            },
            "type": "scatterpolar"
           }
          ],
          "scatterpolargl": [
           {
            "marker": {
             "colorbar": {
              "outlinewidth": 0,
              "ticks": ""
             }
            },
            "type": "scatterpolargl"
           }
          ],
          "scatterternary": [
           {
            "marker": {
             "colorbar": {
              "outlinewidth": 0,
              "ticks": ""
             }
            },
            "type": "scatterternary"
           }
          ],
          "surface": [
           {
            "colorbar": {
             "outlinewidth": 0,
             "ticks": ""
            },
            "colorscale": [
             [
              0,
              "#0d0887"
             ],
             [
              0.1111111111111111,
              "#46039f"
             ],
             [
              0.2222222222222222,
              "#7201a8"
             ],
             [
              0.3333333333333333,
              "#9c179e"
             ],
             [
              0.4444444444444444,
              "#bd3786"
             ],
             [
              0.5555555555555556,
              "#d8576b"
             ],
             [
              0.6666666666666666,
              "#ed7953"
             ],
             [
              0.7777777777777778,
              "#fb9f3a"
             ],
             [
              0.8888888888888888,
              "#fdca26"
             ],
             [
              1,
              "#f0f921"
             ]
            ],
            "type": "surface"
           }
          ],
          "table": [
           {
            "cells": {
             "fill": {
              "color": "#EBF0F8"
             },
             "line": {
              "color": "white"
             }
            },
            "header": {
             "fill": {
              "color": "#C8D4E3"
             },
             "line": {
              "color": "white"
             }
            },
            "type": "table"
           }
          ]
         },
         "layout": {
          "annotationdefaults": {
           "arrowcolor": "#2a3f5f",
           "arrowhead": 0,
           "arrowwidth": 1
          },
          "autotypenumbers": "strict",
          "coloraxis": {
           "colorbar": {
            "outlinewidth": 0,
            "ticks": ""
           }
          },
          "colorscale": {
           "diverging": [
            [
             0,
             "#8e0152"
            ],
            [
             0.1,
             "#c51b7d"
            ],
            [
             0.2,
             "#de77ae"
            ],
            [
             0.3,
             "#f1b6da"
            ],
            [
             0.4,
             "#fde0ef"
            ],
            [
             0.5,
             "#f7f7f7"
            ],
            [
             0.6,
             "#e6f5d0"
            ],
            [
             0.7,
             "#b8e186"
            ],
            [
             0.8,
             "#7fbc41"
            ],
            [
             0.9,
             "#4d9221"
            ],
            [
             1,
             "#276419"
            ]
           ],
           "sequential": [
            [
             0,
             "#0d0887"
            ],
            [
             0.1111111111111111,
             "#46039f"
            ],
            [
             0.2222222222222222,
             "#7201a8"
            ],
            [
             0.3333333333333333,
             "#9c179e"
            ],
            [
             0.4444444444444444,
             "#bd3786"
            ],
            [
             0.5555555555555556,
             "#d8576b"
            ],
            [
             0.6666666666666666,
             "#ed7953"
            ],
            [
             0.7777777777777778,
             "#fb9f3a"
            ],
            [
             0.8888888888888888,
             "#fdca26"
            ],
            [
             1,
             "#f0f921"
            ]
           ],
           "sequentialminus": [
            [
             0,
             "#0d0887"
            ],
            [
             0.1111111111111111,
             "#46039f"
            ],
            [
             0.2222222222222222,
             "#7201a8"
            ],
            [
             0.3333333333333333,
             "#9c179e"
            ],
            [
             0.4444444444444444,
             "#bd3786"
            ],
            [
             0.5555555555555556,
             "#d8576b"
            ],
            [
             0.6666666666666666,
             "#ed7953"
            ],
            [
             0.7777777777777778,
             "#fb9f3a"
            ],
            [
             0.8888888888888888,
             "#fdca26"
            ],
            [
             1,
             "#f0f921"
            ]
           ]
          },
          "colorway": [
           "#636efa",
           "#EF553B",
           "#00cc96",
           "#ab63fa",
           "#FFA15A",
           "#19d3f3",
           "#FF6692",
           "#B6E880",
           "#FF97FF",
           "#FECB52"
          ],
          "font": {
           "color": "#2a3f5f"
          },
          "geo": {
           "bgcolor": "white",
           "lakecolor": "white",
           "landcolor": "#E5ECF6",
           "showlakes": true,
           "showland": true,
           "subunitcolor": "white"
          },
          "hoverlabel": {
           "align": "left"
          },
          "hovermode": "closest",
          "mapbox": {
           "style": "light"
          },
          "paper_bgcolor": "white",
          "plot_bgcolor": "#E5ECF6",
          "polar": {
           "angularaxis": {
            "gridcolor": "white",
            "linecolor": "white",
            "ticks": ""
           },
           "bgcolor": "#E5ECF6",
           "radialaxis": {
            "gridcolor": "white",
            "linecolor": "white",
            "ticks": ""
           }
          },
          "scene": {
           "xaxis": {
            "backgroundcolor": "#E5ECF6",
            "gridcolor": "white",
            "gridwidth": 2,
            "linecolor": "white",
            "showbackground": true,
            "ticks": "",
            "zerolinecolor": "white"
           },
           "yaxis": {
            "backgroundcolor": "#E5ECF6",
            "gridcolor": "white",
            "gridwidth": 2,
            "linecolor": "white",
            "showbackground": true,
            "ticks": "",
            "zerolinecolor": "white"
           },
           "zaxis": {
            "backgroundcolor": "#E5ECF6",
            "gridcolor": "white",
            "gridwidth": 2,
            "linecolor": "white",
            "showbackground": true,
            "ticks": "",
            "zerolinecolor": "white"
           }
          },
          "shapedefaults": {
           "line": {
            "color": "#2a3f5f"
           }
          },
          "ternary": {
           "aaxis": {
            "gridcolor": "white",
            "linecolor": "white",
            "ticks": ""
           },
           "baxis": {
            "gridcolor": "white",
            "linecolor": "white",
            "ticks": ""
           },
           "bgcolor": "#E5ECF6",
           "caxis": {
            "gridcolor": "white",
            "linecolor": "white",
            "ticks": ""
           }
          },
          "title": {
           "x": 0.05
          },
          "xaxis": {
           "automargin": true,
           "gridcolor": "white",
           "linecolor": "white",
           "ticks": "",
           "title": {
            "standoff": 15
           },
           "zerolinecolor": "white",
           "zerolinewidth": 2
          },
          "yaxis": {
           "automargin": true,
           "gridcolor": "white",
           "linecolor": "white",
           "ticks": "",
           "title": {
            "standoff": 15
           },
           "zerolinecolor": "white",
           "zerolinewidth": 2
          }
         }
        },
        "title": {
         "text": "Pearson vs Perplexity"
        },
        "xaxis": {
         "anchor": "y",
         "domain": [
          0,
          1
         ],
         "title": {
          "text": "x"
         }
        },
        "yaxis": {
         "anchor": "x",
         "domain": [
          0,
          1
         ],
         "title": {
          "text": "y"
         }
        }
       }
      }
     },
     "metadata": {},
     "output_type": "display_data"
    }
   ],
   "source": [
    "fig = px.scatter(\n",
    "    x=perplexities, y=spearman_list, title=\"Spearman vs Perplexity\")\n",
    "fig.show()\n",
    "fig = px.scatter(\n",
    "    x=perplexities, y=pearson_list, title=\"Pearson vs Perplexity\")\n",
    "fig.show()"
   ]
  },
  {
   "cell_type": "code",
   "execution_count": 23,
   "metadata": {},
   "outputs": [],
   "source": [
    "model = TSNE(\n",
    "    metric=\"precomputed\", random_state = 123, init = \"random\",\n",
    "    perplexity = 10)\n",
    "z = model.fit_transform(dist)"
   ]
  },
  {
   "cell_type": "code",
   "execution_count": 24,
   "metadata": {},
   "outputs": [
    {
     "data": {
      "application/vnd.plotly.v1+json": {
       "config": {
        "plotlyServerURL": "https://plot.ly"
       },
       "data": [
        {
         "customdata": [
          [
           "KM_12"
          ],
          [
           "KM_12"
          ]
         ],
         "hovertemplate": "clust=%{customdata[0]}<br>x=%{x}<br>y=%{y}<extra></extra>",
         "legendgroup": "KM_12",
         "marker": {
          "color": "#636efa",
          "symbol": "circle"
         },
         "mode": "markers",
         "name": "KM_12",
         "orientation": "v",
         "showlegend": true,
         "type": "scatter",
         "x": [
          -1171.96533203125,
          -1059.577880859375
         ],
         "xaxis": "x",
         "y": [
          -481.1708068847656,
          -391.51116943359375
         ],
         "yaxis": "y"
        },
        {
         "customdata": [
          [
           "KM_2"
          ]
         ],
         "hovertemplate": "clust=%{customdata[0]}<br>x=%{x}<br>y=%{y}<extra></extra>",
         "legendgroup": "KM_2",
         "marker": {
          "color": "#EF553B",
          "symbol": "circle"
         },
         "mode": "markers",
         "name": "KM_2",
         "orientation": "v",
         "showlegend": true,
         "type": "scatter",
         "x": [
          -1183.4920654296875
         ],
         "xaxis": "x",
         "y": [
          -553.5272827148438
         ],
         "yaxis": "y"
        },
        {
         "customdata": [
          [
           "KM_4"
          ]
         ],
         "hovertemplate": "clust=%{customdata[0]}<br>x=%{x}<br>y=%{y}<extra></extra>",
         "legendgroup": "KM_4",
         "marker": {
          "color": "#00cc96",
          "symbol": "circle"
         },
         "mode": "markers",
         "name": "KM_4",
         "orientation": "v",
         "showlegend": true,
         "type": "scatter",
         "x": [
          -1259.7918701171875
         ],
         "xaxis": "x",
         "y": [
          -387.56005859375
         ],
         "yaxis": "y"
        },
        {
         "customdata": [
          [
           "KM_16"
          ],
          [
           "KM_16"
          ],
          [
           "KM_16"
          ]
         ],
         "hovertemplate": "clust=%{customdata[0]}<br>x=%{x}<br>y=%{y}<extra></extra>",
         "legendgroup": "KM_16",
         "marker": {
          "color": "#ab63fa",
          "symbol": "circle"
         },
         "mode": "markers",
         "name": "KM_16",
         "orientation": "v",
         "showlegend": true,
         "type": "scatter",
         "x": [
          -939.5715942382812,
          -890.9286499023438,
          -958.1690673828125
         ],
         "xaxis": "x",
         "y": [
          -506.9971008300781,
          -596.008544921875,
          -632.4238891601562
         ],
         "yaxis": "y"
        },
        {
         "customdata": [
          [
           "KM_11"
          ],
          [
           "KM_11"
          ],
          [
           "KM_11"
          ]
         ],
         "hovertemplate": "clust=%{customdata[0]}<br>x=%{x}<br>y=%{y}<extra></extra>",
         "legendgroup": "KM_11",
         "marker": {
          "color": "#FFA15A",
          "symbol": "circle"
         },
         "mode": "markers",
         "name": "KM_11",
         "orientation": "v",
         "showlegend": true,
         "type": "scatter",
         "x": [
          -427.9380187988281,
          -371.265625,
          -432.7730712890625
         ],
         "xaxis": "x",
         "y": [
          -235.93568420410156,
          -84.5886459350586,
          -16.49376678466797
         ],
         "yaxis": "y"
        },
        {
         "customdata": [
          [
           "KM_13"
          ]
         ],
         "hovertemplate": "clust=%{customdata[0]}<br>x=%{x}<br>y=%{y}<extra></extra>",
         "legendgroup": "KM_13",
         "marker": {
          "color": "#19d3f3",
          "symbol": "circle"
         },
         "mode": "markers",
         "name": "KM_13",
         "orientation": "v",
         "showlegend": true,
         "type": "scatter",
         "x": [
          -210.94444274902344
         ],
         "xaxis": "x",
         "y": [
          -117.28215026855469
         ],
         "yaxis": "y"
        },
        {
         "customdata": [
          [
           "KM_8"
          ]
         ],
         "hovertemplate": "clust=%{customdata[0]}<br>x=%{x}<br>y=%{y}<extra></extra>",
         "legendgroup": "KM_8",
         "marker": {
          "color": "#FF6692",
          "symbol": "circle"
         },
         "mode": "markers",
         "name": "KM_8",
         "orientation": "v",
         "showlegend": true,
         "type": "scatter",
         "x": [
          -563.5342407226562
         ],
         "xaxis": "x",
         "y": [
          -64.04724884033203
         ],
         "yaxis": "y"
        },
        {
         "customdata": [
          [
           "KM_0"
          ]
         ],
         "hovertemplate": "clust=%{customdata[0]}<br>x=%{x}<br>y=%{y}<extra></extra>",
         "legendgroup": "KM_0",
         "marker": {
          "color": "#B6E880",
          "symbol": "circle"
         },
         "mode": "markers",
         "name": "KM_0",
         "orientation": "v",
         "showlegend": true,
         "type": "scatter",
         "x": [
          -146.07485961914062
         ],
         "xaxis": "x",
         "y": [
          -322.20263671875
         ],
         "yaxis": "y"
        },
        {
         "customdata": [
          [
           "KM_6"
          ],
          [
           "KM_6"
          ],
          [
           "KM_6"
          ]
         ],
         "hovertemplate": "clust=%{customdata[0]}<br>x=%{x}<br>y=%{y}<extra></extra>",
         "legendgroup": "KM_6",
         "marker": {
          "color": "#FF97FF",
          "symbol": "circle"
         },
         "mode": "markers",
         "name": "KM_6",
         "orientation": "v",
         "showlegend": true,
         "type": "scatter",
         "x": [
          -296.683349609375,
          -504.5946960449219,
          -459.0562438964844
         ],
         "xaxis": "x",
         "y": [
          112.80126953125,
          285.5848693847656,
          195.9693145751953
         ],
         "yaxis": "y"
        },
        {
         "customdata": [
          [
           "KM_14"
          ]
         ],
         "hovertemplate": "clust=%{customdata[0]}<br>x=%{x}<br>y=%{y}<extra></extra>",
         "legendgroup": "KM_14",
         "marker": {
          "color": "#FECB52",
          "symbol": "circle"
         },
         "mode": "markers",
         "name": "KM_14",
         "orientation": "v",
         "showlegend": true,
         "type": "scatter",
         "x": [
          -311.9797668457031
         ],
         "xaxis": "x",
         "y": [
          -15.513669967651367
         ],
         "yaxis": "y"
        },
        {
         "customdata": [
          [
           "KM_17"
          ],
          [
           "KM_17"
          ]
         ],
         "hovertemplate": "clust=%{customdata[0]}<br>x=%{x}<br>y=%{y}<extra></extra>",
         "legendgroup": "KM_17",
         "marker": {
          "color": "#636efa",
          "symbol": "circle"
         },
         "mode": "markers",
         "name": "KM_17",
         "orientation": "v",
         "showlegend": true,
         "type": "scatter",
         "x": [
          -709.31884765625,
          -736.7564086914062
         ],
         "xaxis": "x",
         "y": [
          -121.99392700195312,
          -55.069915771484375
         ],
         "yaxis": "y"
        },
        {
         "customdata": [
          [
           "KM_3"
          ],
          [
           "KM_3"
          ],
          [
           "KM_3"
          ],
          [
           "KM_3"
          ]
         ],
         "hovertemplate": "clust=%{customdata[0]}<br>x=%{x}<br>y=%{y}<extra></extra>",
         "legendgroup": "KM_3",
         "marker": {
          "color": "#EF553B",
          "symbol": "circle"
         },
         "mode": "markers",
         "name": "KM_3",
         "orientation": "v",
         "showlegend": true,
         "type": "scatter",
         "x": [
          -782.1349487304688,
          -724.6098022460938,
          -680.945068359375,
          -803.89306640625
         ],
         "xaxis": "x",
         "y": [
          125.9696044921875,
          210.0025634765625,
          129.02737426757812,
          264.6962585449219
         ],
         "yaxis": "y"
        },
        {
         "customdata": [
          [
           "KM_5"
          ]
         ],
         "hovertemplate": "clust=%{customdata[0]}<br>x=%{x}<br>y=%{y}<extra></extra>",
         "legendgroup": "KM_5",
         "marker": {
          "color": "#00cc96",
          "symbol": "circle"
         },
         "mode": "markers",
         "name": "KM_5",
         "orientation": "v",
         "showlegend": true,
         "type": "scatter",
         "x": [
          -160.13177490234375
         ],
         "xaxis": "x",
         "y": [
          -221.77748107910156
         ],
         "yaxis": "y"
        },
        {
         "customdata": [
          [
           "KM_1"
          ],
          [
           "KM_1"
          ]
         ],
         "hovertemplate": "clust=%{customdata[0]}<br>x=%{x}<br>y=%{y}<extra></extra>",
         "legendgroup": "KM_1",
         "marker": {
          "color": "#ab63fa",
          "symbol": "circle"
         },
         "mode": "markers",
         "name": "KM_1",
         "orientation": "v",
         "showlegend": true,
         "type": "scatter",
         "x": [
          -814.6812744140625,
          -770.7850952148438
         ],
         "xaxis": "x",
         "y": [
          -400.9193420410156,
          -449.0320129394531
         ],
         "yaxis": "y"
        },
        {
         "customdata": [
          [
           "KM_19"
          ]
         ],
         "hovertemplate": "clust=%{customdata[0]}<br>x=%{x}<br>y=%{y}<extra></extra>",
         "legendgroup": "KM_19",
         "marker": {
          "color": "#FFA15A",
          "symbol": "circle"
         },
         "mode": "markers",
         "name": "KM_19",
         "orientation": "v",
         "showlegend": true,
         "type": "scatter",
         "x": [
          -150.7152862548828
         ],
         "xaxis": "x",
         "y": [
          -55.665771484375
         ],
         "yaxis": "y"
        },
        {
         "customdata": [
          [
           "KM_15"
          ],
          [
           "KM_15"
          ]
         ],
         "hovertemplate": "clust=%{customdata[0]}<br>x=%{x}<br>y=%{y}<extra></extra>",
         "legendgroup": "KM_15",
         "marker": {
          "color": "#19d3f3",
          "symbol": "circle"
         },
         "mode": "markers",
         "name": "KM_15",
         "orientation": "v",
         "showlegend": true,
         "type": "scatter",
         "x": [
          -614.7384033203125,
          -650.8345336914062
         ],
         "xaxis": "x",
         "y": [
          239.06857299804688,
          330.28875732421875
         ],
         "yaxis": "y"
        },
        {
         "customdata": [
          [
           "KM_7"
          ]
         ],
         "hovertemplate": "clust=%{customdata[0]}<br>x=%{x}<br>y=%{y}<extra></extra>",
         "legendgroup": "KM_7",
         "marker": {
          "color": "#FF6692",
          "symbol": "circle"
         },
         "mode": "markers",
         "name": "KM_7",
         "orientation": "v",
         "showlegend": true,
         "type": "scatter",
         "x": [
          -1019.3974609375
         ],
         "xaxis": "x",
         "y": [
          -185.07322692871094
         ],
         "yaxis": "y"
        },
        {
         "customdata": [
          [
           "KM_18"
          ]
         ],
         "hovertemplate": "clust=%{customdata[0]}<br>x=%{x}<br>y=%{y}<extra></extra>",
         "legendgroup": "KM_18",
         "marker": {
          "color": "#B6E880",
          "symbol": "circle"
         },
         "mode": "markers",
         "name": "KM_18",
         "orientation": "v",
         "showlegend": true,
         "type": "scatter",
         "x": [
          -883.322265625
         ],
         "xaxis": "x",
         "y": [
          -38.932151794433594
         ],
         "yaxis": "y"
        },
        {
         "customdata": [
          [
           "KM_10"
          ]
         ],
         "hovertemplate": "clust=%{customdata[0]}<br>x=%{x}<br>y=%{y}<extra></extra>",
         "legendgroup": "KM_10",
         "marker": {
          "color": "#FF97FF",
          "symbol": "circle"
         },
         "mode": "markers",
         "name": "KM_10",
         "orientation": "v",
         "showlegend": true,
         "type": "scatter",
         "x": [
          -900.978271484375
         ],
         "xaxis": "x",
         "y": [
          221.31161499023438
         ],
         "yaxis": "y"
        },
        {
         "customdata": [
          [
           "KM_9"
          ]
         ],
         "hovertemplate": "clust=%{customdata[0]}<br>x=%{x}<br>y=%{y}<extra></extra>",
         "legendgroup": "KM_9",
         "marker": {
          "color": "#FECB52",
          "symbol": "circle"
         },
         "mode": "markers",
         "name": "KM_9",
         "orientation": "v",
         "showlegend": true,
         "type": "scatter",
         "x": [
          -929.0216674804688
         ],
         "xaxis": "x",
         "y": [
          -152.1854705810547
         ],
         "yaxis": "y"
        }
       ],
       "layout": {
        "autosize": false,
        "height": 800,
        "legend": {
         "title": {
          "text": "clust"
         },
         "tracegroupgap": 0
        },
        "margin": {
         "t": 60
        },
        "template": {
         "data": {
          "bar": [
           {
            "error_x": {
             "color": "#2a3f5f"
            },
            "error_y": {
             "color": "#2a3f5f"
            },
            "marker": {
             "line": {
              "color": "#E5ECF6",
              "width": 0.5
             },
             "pattern": {
              "fillmode": "overlay",
              "size": 10,
              "solidity": 0.2
             }
            },
            "type": "bar"
           }
          ],
          "barpolar": [
           {
            "marker": {
             "line": {
              "color": "#E5ECF6",
              "width": 0.5
             },
             "pattern": {
              "fillmode": "overlay",
              "size": 10,
              "solidity": 0.2
             }
            },
            "type": "barpolar"
           }
          ],
          "carpet": [
           {
            "aaxis": {
             "endlinecolor": "#2a3f5f",
             "gridcolor": "white",
             "linecolor": "white",
             "minorgridcolor": "white",
             "startlinecolor": "#2a3f5f"
            },
            "baxis": {
             "endlinecolor": "#2a3f5f",
             "gridcolor": "white",
             "linecolor": "white",
             "minorgridcolor": "white",
             "startlinecolor": "#2a3f5f"
            },
            "type": "carpet"
           }
          ],
          "choropleth": [
           {
            "colorbar": {
             "outlinewidth": 0,
             "ticks": ""
            },
            "type": "choropleth"
           }
          ],
          "contour": [
           {
            "colorbar": {
             "outlinewidth": 0,
             "ticks": ""
            },
            "colorscale": [
             [
              0,
              "#0d0887"
             ],
             [
              0.1111111111111111,
              "#46039f"
             ],
             [
              0.2222222222222222,
              "#7201a8"
             ],
             [
              0.3333333333333333,
              "#9c179e"
             ],
             [
              0.4444444444444444,
              "#bd3786"
             ],
             [
              0.5555555555555556,
              "#d8576b"
             ],
             [
              0.6666666666666666,
              "#ed7953"
             ],
             [
              0.7777777777777778,
              "#fb9f3a"
             ],
             [
              0.8888888888888888,
              "#fdca26"
             ],
             [
              1,
              "#f0f921"
             ]
            ],
            "type": "contour"
           }
          ],
          "contourcarpet": [
           {
            "colorbar": {
             "outlinewidth": 0,
             "ticks": ""
            },
            "type": "contourcarpet"
           }
          ],
          "heatmap": [
           {
            "colorbar": {
             "outlinewidth": 0,
             "ticks": ""
            },
            "colorscale": [
             [
              0,
              "#0d0887"
             ],
             [
              0.1111111111111111,
              "#46039f"
             ],
             [
              0.2222222222222222,
              "#7201a8"
             ],
             [
              0.3333333333333333,
              "#9c179e"
             ],
             [
              0.4444444444444444,
              "#bd3786"
             ],
             [
              0.5555555555555556,
              "#d8576b"
             ],
             [
              0.6666666666666666,
              "#ed7953"
             ],
             [
              0.7777777777777778,
              "#fb9f3a"
             ],
             [
              0.8888888888888888,
              "#fdca26"
             ],
             [
              1,
              "#f0f921"
             ]
            ],
            "type": "heatmap"
           }
          ],
          "heatmapgl": [
           {
            "colorbar": {
             "outlinewidth": 0,
             "ticks": ""
            },
            "colorscale": [
             [
              0,
              "#0d0887"
             ],
             [
              0.1111111111111111,
              "#46039f"
             ],
             [
              0.2222222222222222,
              "#7201a8"
             ],
             [
              0.3333333333333333,
              "#9c179e"
             ],
             [
              0.4444444444444444,
              "#bd3786"
             ],
             [
              0.5555555555555556,
              "#d8576b"
             ],
             [
              0.6666666666666666,
              "#ed7953"
             ],
             [
              0.7777777777777778,
              "#fb9f3a"
             ],
             [
              0.8888888888888888,
              "#fdca26"
             ],
             [
              1,
              "#f0f921"
             ]
            ],
            "type": "heatmapgl"
           }
          ],
          "histogram": [
           {
            "marker": {
             "pattern": {
              "fillmode": "overlay",
              "size": 10,
              "solidity": 0.2
             }
            },
            "type": "histogram"
           }
          ],
          "histogram2d": [
           {
            "colorbar": {
             "outlinewidth": 0,
             "ticks": ""
            },
            "colorscale": [
             [
              0,
              "#0d0887"
             ],
             [
              0.1111111111111111,
              "#46039f"
             ],
             [
              0.2222222222222222,
              "#7201a8"
             ],
             [
              0.3333333333333333,
              "#9c179e"
             ],
             [
              0.4444444444444444,
              "#bd3786"
             ],
             [
              0.5555555555555556,
              "#d8576b"
             ],
             [
              0.6666666666666666,
              "#ed7953"
             ],
             [
              0.7777777777777778,
              "#fb9f3a"
             ],
             [
              0.8888888888888888,
              "#fdca26"
             ],
             [
              1,
              "#f0f921"
             ]
            ],
            "type": "histogram2d"
           }
          ],
          "histogram2dcontour": [
           {
            "colorbar": {
             "outlinewidth": 0,
             "ticks": ""
            },
            "colorscale": [
             [
              0,
              "#0d0887"
             ],
             [
              0.1111111111111111,
              "#46039f"
             ],
             [
              0.2222222222222222,
              "#7201a8"
             ],
             [
              0.3333333333333333,
              "#9c179e"
             ],
             [
              0.4444444444444444,
              "#bd3786"
             ],
             [
              0.5555555555555556,
              "#d8576b"
             ],
             [
              0.6666666666666666,
              "#ed7953"
             ],
             [
              0.7777777777777778,
              "#fb9f3a"
             ],
             [
              0.8888888888888888,
              "#fdca26"
             ],
             [
              1,
              "#f0f921"
             ]
            ],
            "type": "histogram2dcontour"
           }
          ],
          "mesh3d": [
           {
            "colorbar": {
             "outlinewidth": 0,
             "ticks": ""
            },
            "type": "mesh3d"
           }
          ],
          "parcoords": [
           {
            "line": {
             "colorbar": {
              "outlinewidth": 0,
              "ticks": ""
             }
            },
            "type": "parcoords"
           }
          ],
          "pie": [
           {
            "automargin": true,
            "type": "pie"
           }
          ],
          "scatter": [
           {
            "fillpattern": {
             "fillmode": "overlay",
             "size": 10,
             "solidity": 0.2
            },
            "type": "scatter"
           }
          ],
          "scatter3d": [
           {
            "line": {
             "colorbar": {
              "outlinewidth": 0,
              "ticks": ""
             }
            },
            "marker": {
             "colorbar": {
              "outlinewidth": 0,
              "ticks": ""
             }
            },
            "type": "scatter3d"
           }
          ],
          "scattercarpet": [
           {
            "marker": {
             "colorbar": {
              "outlinewidth": 0,
              "ticks": ""
             }
            },
            "type": "scattercarpet"
           }
          ],
          "scattergeo": [
           {
            "marker": {
             "colorbar": {
              "outlinewidth": 0,
              "ticks": ""
             }
            },
            "type": "scattergeo"
           }
          ],
          "scattergl": [
           {
            "marker": {
             "colorbar": {
              "outlinewidth": 0,
              "ticks": ""
             }
            },
            "type": "scattergl"
           }
          ],
          "scattermapbox": [
           {
            "marker": {
             "colorbar": {
              "outlinewidth": 0,
              "ticks": ""
             }
            },
            "type": "scattermapbox"
           }
          ],
          "scatterpolar": [
           {
            "marker": {
             "colorbar": {
              "outlinewidth": 0,
              "ticks": ""
             }
            },
            "type": "scatterpolar"
           }
          ],
          "scatterpolargl": [
           {
            "marker": {
             "colorbar": {
              "outlinewidth": 0,
              "ticks": ""
             }
            },
            "type": "scatterpolargl"
           }
          ],
          "scatterternary": [
           {
            "marker": {
             "colorbar": {
              "outlinewidth": 0,
              "ticks": ""
             }
            },
            "type": "scatterternary"
           }
          ],
          "surface": [
           {
            "colorbar": {
             "outlinewidth": 0,
             "ticks": ""
            },
            "colorscale": [
             [
              0,
              "#0d0887"
             ],
             [
              0.1111111111111111,
              "#46039f"
             ],
             [
              0.2222222222222222,
              "#7201a8"
             ],
             [
              0.3333333333333333,
              "#9c179e"
             ],
             [
              0.4444444444444444,
              "#bd3786"
             ],
             [
              0.5555555555555556,
              "#d8576b"
             ],
             [
              0.6666666666666666,
              "#ed7953"
             ],
             [
              0.7777777777777778,
              "#fb9f3a"
             ],
             [
              0.8888888888888888,
              "#fdca26"
             ],
             [
              1,
              "#f0f921"
             ]
            ],
            "type": "surface"
           }
          ],
          "table": [
           {
            "cells": {
             "fill": {
              "color": "#EBF0F8"
             },
             "line": {
              "color": "white"
             }
            },
            "header": {
             "fill": {
              "color": "#C8D4E3"
             },
             "line": {
              "color": "white"
             }
            },
            "type": "table"
           }
          ]
         },
         "layout": {
          "annotationdefaults": {
           "arrowcolor": "#2a3f5f",
           "arrowhead": 0,
           "arrowwidth": 1
          },
          "autotypenumbers": "strict",
          "coloraxis": {
           "colorbar": {
            "outlinewidth": 0,
            "ticks": ""
           }
          },
          "colorscale": {
           "diverging": [
            [
             0,
             "#8e0152"
            ],
            [
             0.1,
             "#c51b7d"
            ],
            [
             0.2,
             "#de77ae"
            ],
            [
             0.3,
             "#f1b6da"
            ],
            [
             0.4,
             "#fde0ef"
            ],
            [
             0.5,
             "#f7f7f7"
            ],
            [
             0.6,
             "#e6f5d0"
            ],
            [
             0.7,
             "#b8e186"
            ],
            [
             0.8,
             "#7fbc41"
            ],
            [
             0.9,
             "#4d9221"
            ],
            [
             1,
             "#276419"
            ]
           ],
           "sequential": [
            [
             0,
             "#0d0887"
            ],
            [
             0.1111111111111111,
             "#46039f"
            ],
            [
             0.2222222222222222,
             "#7201a8"
            ],
            [
             0.3333333333333333,
             "#9c179e"
            ],
            [
             0.4444444444444444,
             "#bd3786"
            ],
            [
             0.5555555555555556,
             "#d8576b"
            ],
            [
             0.6666666666666666,
             "#ed7953"
            ],
            [
             0.7777777777777778,
             "#fb9f3a"
            ],
            [
             0.8888888888888888,
             "#fdca26"
            ],
            [
             1,
             "#f0f921"
            ]
           ],
           "sequentialminus": [
            [
             0,
             "#0d0887"
            ],
            [
             0.1111111111111111,
             "#46039f"
            ],
            [
             0.2222222222222222,
             "#7201a8"
            ],
            [
             0.3333333333333333,
             "#9c179e"
            ],
            [
             0.4444444444444444,
             "#bd3786"
            ],
            [
             0.5555555555555556,
             "#d8576b"
            ],
            [
             0.6666666666666666,
             "#ed7953"
            ],
            [
             0.7777777777777778,
             "#fb9f3a"
            ],
            [
             0.8888888888888888,
             "#fdca26"
            ],
            [
             1,
             "#f0f921"
            ]
           ]
          },
          "colorway": [
           "#636efa",
           "#EF553B",
           "#00cc96",
           "#ab63fa",
           "#FFA15A",
           "#19d3f3",
           "#FF6692",
           "#B6E880",
           "#FF97FF",
           "#FECB52"
          ],
          "font": {
           "color": "#2a3f5f"
          },
          "geo": {
           "bgcolor": "white",
           "lakecolor": "white",
           "landcolor": "#E5ECF6",
           "showlakes": true,
           "showland": true,
           "subunitcolor": "white"
          },
          "hoverlabel": {
           "align": "left"
          },
          "hovermode": "closest",
          "mapbox": {
           "style": "light"
          },
          "paper_bgcolor": "white",
          "plot_bgcolor": "#E5ECF6",
          "polar": {
           "angularaxis": {
            "gridcolor": "white",
            "linecolor": "white",
            "ticks": ""
           },
           "bgcolor": "#E5ECF6",
           "radialaxis": {
            "gridcolor": "white",
            "linecolor": "white",
            "ticks": ""
           }
          },
          "scene": {
           "xaxis": {
            "backgroundcolor": "#E5ECF6",
            "gridcolor": "white",
            "gridwidth": 2,
            "linecolor": "white",
            "showbackground": true,
            "ticks": "",
            "zerolinecolor": "white"
           },
           "yaxis": {
            "backgroundcolor": "#E5ECF6",
            "gridcolor": "white",
            "gridwidth": 2,
            "linecolor": "white",
            "showbackground": true,
            "ticks": "",
            "zerolinecolor": "white"
           },
           "zaxis": {
            "backgroundcolor": "#E5ECF6",
            "gridcolor": "white",
            "gridwidth": 2,
            "linecolor": "white",
            "showbackground": true,
            "ticks": "",
            "zerolinecolor": "white"
           }
          },
          "shapedefaults": {
           "line": {
            "color": "#2a3f5f"
           }
          },
          "ternary": {
           "aaxis": {
            "gridcolor": "white",
            "linecolor": "white",
            "ticks": ""
           },
           "baxis": {
            "gridcolor": "white",
            "linecolor": "white",
            "ticks": ""
           },
           "bgcolor": "#E5ECF6",
           "caxis": {
            "gridcolor": "white",
            "linecolor": "white",
            "ticks": ""
           }
          },
          "title": {
           "x": 0.05
          },
          "xaxis": {
           "automargin": true,
           "gridcolor": "white",
           "linecolor": "white",
           "ticks": "",
           "title": {
            "standoff": 15
           },
           "zerolinecolor": "white",
           "zerolinewidth": 2
          },
          "yaxis": {
           "automargin": true,
           "gridcolor": "white",
           "linecolor": "white",
           "ticks": "",
           "title": {
            "standoff": 15
           },
           "zerolinecolor": "white",
           "zerolinewidth": 2
          }
         }
        },
        "width": 1200,
        "xaxis": {
         "anchor": "y",
         "domain": [
          0,
          1
         ],
         "title": {
          "text": "x"
         }
        },
        "yaxis": {
         "anchor": "x",
         "domain": [
          0,
          1
         ],
         "title": {
          "text": "y"
         }
        }
       }
      }
     },
     "metadata": {},
     "output_type": "display_data"
    }
   ],
   "source": [
    "tsnedf = pd.DataFrame()\n",
    "tsnedf[\"clust\"] = kclass_table[km]\n",
    "tsnedf[\"x\"] = z[:,0] * 50\n",
    "tsnedf[\"y\"] = z[:,1] * 50\n",
    "fig = px.scatter(tsnedf, x=\"x\", y=\"y\", color=\"clust\", hover_data=['clust'])\n",
    "fig.update_layout(\n",
    "    autosize=False,\n",
    "    width=1200,\n",
    "    height=800,)\n",
    "fig.show()"
   ]
  },
  {
   "attachments": {},
   "cell_type": "markdown",
   "metadata": {},
   "source": [
    "### Construct specXplore data structure\n",
    "\n",
    "Construct a specXplore data structure for use within the dashboard. Essentially a class with named data entries to use. This avoids passing around many parameters at each step of the dashboard, and provides a single place to look at the data structure used throughout specXplore."
   ]
  },
  {
   "cell_type": "code",
   "execution_count": 25,
   "metadata": {},
   "outputs": [],
   "source": [
    "import specxplore.specxplore_data\n",
    "from specxplore.specxplore_data import specxplore_data\n",
    "\n",
    "is_standard = np.array(all_class_table[\"is_standard\"])\n",
    "spec_classes = all_class_table[['cf_kingdom', 'cf_superclass', 'cf_class', 'cf_subclass',\n",
    "       'cf_direct_parent', 'npc_class_results', 'npc_superclass_results',\n",
    "       'npc_pathway_results', 'specxplore_id']]\n",
    "mz = [spec.get(\"precursor_mz\") for spec in all_spectra]\n",
    "specxplore_id = np.array(all_class_table[\"specxplore_id\"])\n",
    "\n",
    "phophe_specxplore = specxplore_data(\n",
    "  scores_ms2ds,scores_s2v, scores_cos, tsnedf, kclass_table, spec_classes, \n",
    "  is_standard, all_spectra, mz, specxplore_id)"
   ]
  },
  {
   "cell_type": "code",
   "execution_count": 26,
   "metadata": {},
   "outputs": [
    {
     "data": {
      "text/plain": [
       "Index(['kmedoid_2', 'kmedoid_4', 'kmedoid_6', 'kmedoid_8', 'kmedoid_10',\n",
       "       'kmedoid_12', 'kmedoid_14', 'kmedoid_16', 'kmedoid_18', 'kmedoid_20',\n",
       "       'kmedoid_22', 'kmedoid_24', 'kmedoid_26', 'kmedoid_28',\n",
       "       'specxplore_id'],\n",
       "      dtype='object')"
      ]
     },
     "execution_count": 26,
     "metadata": {},
     "output_type": "execute_result"
    }
   ],
   "source": [
    "phophe_specxplore.class_table.columns"
   ]
  },
  {
   "cell_type": "code",
   "execution_count": 27,
   "metadata": {},
   "outputs": [
    {
     "data": {
      "text/plain": [
       "array([0.64292227, 1.        , 0.44513617, 0.62423902])"
      ]
     },
     "execution_count": 27,
     "metadata": {},
     "output_type": "execute_result"
    }
   ],
   "source": [
    "s = all_spectra[0]\n",
    "s.peaks.mz\n",
    "s.peaks.intensities"
   ]
  },
  {
   "cell_type": "code",
   "execution_count": 28,
   "metadata": {},
   "outputs": [],
   "source": [
    "\n",
    "import pickle\n",
    "with open('./testing/results/phophe_specxplore.pickle', 'wb') as file:\n",
    "  pickle.dump(phophe_specxplore, file)"
   ]
  },
  {
   "cell_type": "code",
   "execution_count": null,
   "metadata": {},
   "outputs": [],
   "source": []
  }
 ],
 "metadata": {
  "kernelspec": {
   "display_name": "ms2query",
   "language": "python",
   "name": "python3"
  },
  "language_info": {
   "codemirror_mode": {
    "name": "ipython",
    "version": 3
   },
   "file_extension": ".py",
   "mimetype": "text/x-python",
   "name": "python",
   "nbconvert_exporter": "python",
   "pygments_lexer": "ipython3",
   "version": "3.8.15"
  },
  "orig_nbformat": 4,
  "vscode": {
   "interpreter": {
    "hash": "9a0b26849922d3efa4ca8f7f44f3270d767c2f891cd76b04d402dd44f3a9f0f5"
   }
  }
 },
 "nbformat": 4,
 "nbformat_minor": 2
}
