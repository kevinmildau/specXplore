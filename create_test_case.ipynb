{
 "cells": [
  {
   "cell_type": "code",
   "execution_count": null,
   "metadata": {},
   "outputs": [],
   "source": [
    "%load_ext autoreload\n",
    "%autoreload 2\n",
    "from specxploreImporting import importing\n",
    "import matchms\n",
    "from matchms.importing import load_from_mgf\n",
    "from matchms.exporting import save_as_mgf\n",
    "from ms2query.run_ms2query import download_zenodo_files, run_complete_folder\n",
    "from ms2query.ms2library import create_library_object_from_one_dir\n",
    "import os\n",
    "import pandas as pd\n",
    "import numpy as np\n",
    "models_and_library_folder_pos = os.path.join(\"data_and_output\", \"models\", \"pos\")\n",
    "raw_experimental_mgf_filename = os.path.join(\"data_and_output\", \"test_data\", \"MonoisotopicMS2Feature_pos_mostIntense.mgf\")\n",
    "raw_standards_mgf_filename = os.path.join(\"data_and_output\", \"test_data\", \"phophe_pos.mgf\")\n",
    "processed_experimental_spectra_filename = os.path.join(\"data_and_output\", \"test_data\", \"spectra_experimental.mgf\")\n",
    "processed_standard_spectra_filename = os.path.join(\"data_and_output\", \"test_data\", \"spectra_standards.mgf\")\n",
    "csv_experimental_filename = os.path.join(\"data_and_output\", \"test_data\", \"test_data_ms2query_out_experimental.csv\")\n",
    "csv_standards_filename = os.path.join(\"data_and_output\", \"test_data\", \"test_data_ms2query_out_standard.csv\")\n",
    "scores_s2v_filename = os.path.join(\"data_and_output\", \"test_data\", \"s2v.npy\")\n",
    "scores_ms2ds_filename = os.path.join(\"data_and_output\", \"test_data\", \"ms2ds.npy\")\n",
    "scores_cos_filename = os.path.join(\"data_and_output\", \"test_data\", \"cos.npy\")"
   ]
  },
  {
   "cell_type": "code",
   "execution_count": null,
   "metadata": {},
   "outputs": [],
   "source": [
    "spectra_experimental = list(load_from_mgf(raw_experimental_mgf_filename))\n",
    "#(inspect.getmembers(spectra_experimental[0]))\n",
    "#pectra_experimental[0].get(\"pepmass\")\n"
   ]
  },
  {
   "cell_type": "code",
   "execution_count": null,
   "metadata": {},
   "outputs": [],
   "source": [
    "if False: # inspect new spectrum objects\n",
    "    spec = spectra_experimental[0]\n",
    "    spec = matchms.filtering.default_filters(spec)\n",
    "    spec = matchms.filtering.normalize_intensities(spec)\n",
    "    spec = matchms.filtering.select_by_relative_intensity(spec, 0.01, 1)\n",
    "    spec = matchms.filtering.select_by_relative_intensity(spec, 0.01, 1)\n",
    "    spec = matchms.filtering.repair_inchi_inchikey_smiles(spec)\n",
    "    spec = matchms.filtering.harmonize_undefined_inchi(spec)\n",
    "    spec = matchms.filtering.harmonize_undefined_inchikey(spec)\n",
    "    spec = matchms.filtering.harmonize_undefined_smiles(spec)\n",
    "    print(spec.get(\"precursor_mz\"))\n",
    "    print(spec.get(\"rtinseconds\"))\n",
    "    print(spec.peaks.mz)\n",
    "    print(spec.peaks.intensities)\n",
    "    print(len(spec.peaks.mz) == len(spec.peaks.intensities))\n",
    "    print(spec.peaks.to_numpy)\n",
    "    print(spec.metadata)"
   ]
  },
  {
   "cell_type": "code",
   "execution_count": null,
   "metadata": {},
   "outputs": [],
   "source": [
    "if False: # avoid adding to the spectra on each jupyter notebook rerun\n",
    "    spectra_experimental = list(load_from_mgf(raw_experimental_mgf_filename))\n",
    "    spectra_experimental = importing.clean_spectra(spectra_experimental)[0:20]\n",
    "    save_as_mgf(spectra_experimental, processed_experimental_spectra_filename)\n",
    "\n",
    "    spectra_standards = list(load_from_mgf(raw_standards_mgf_filename))\n",
    "    spectra_standards = importing.clean_spectra(spectra_standards)[0:10]\n",
    "    save_as_mgf(spectra_standards, processed_standard_spectra_filename)"
   ]
  },
  {
   "cell_type": "code",
   "execution_count": null,
   "metadata": {},
   "outputs": [],
   "source": [
    "importing.run_single_file(ms2library, processed_standard_spectra_filename, str(csv_standards_filename))\n",
    "importing.run_single_file(ms2library, processed_experimental_spectra_filename, str(csv_experimental_filename))"
   ]
  },
  {
   "cell_type": "code",
   "execution_count": null,
   "metadata": {},
   "outputs": [],
   "source": [
    "classes_experimental = pd.read_csv(csv_experimental_filename)\n",
    "classes_experimental = importing.expand_ms2query_results_table(classes_experimental, len(spectra_experimental))\n",
    "classes_standards = pd.read_csv(csv_standards_filename)\n",
    "classes_standards = importing.expand_ms2query_results_table(classes_standards, len(spectra_standards))"
   ]
  },
  {
   "cell_type": "code",
   "execution_count": null,
   "metadata": {},
   "outputs": [],
   "source": [
    "classes_experimental[\"is_standard\"] = False\n",
    "classes_experimental[\"exp_metadata\"] = None\n",
    "classes_standards[\"is_standard\"] = True\n",
    "classes_standards[\"standard_metadata\"] = None\n",
    "all_class_table = pd.merge(classes_experimental, classes_standards, how = 'outer').reset_index()\n",
    "all_class_table[\"specxplore_id\"] = all_class_table.index\n",
    "all_class_table"
   ]
  },
  {
   "cell_type": "code",
   "execution_count": null,
   "metadata": {},
   "outputs": [],
   "source": [
    "all_spectra = spectra_experimental + spectra_standards # list addition"
   ]
  },
  {
   "cell_type": "code",
   "execution_count": null,
   "metadata": {},
   "outputs": [],
   "source": [
    "scores_s2v = importing.compute_similarities_s2v(all_spectra, models_and_library_folder_pos)\n",
    "scores_cos = importing.compute_similarities_cosine(all_spectra, cosine_type=\"ModifiedCosine\")\n",
    "scores_ms2ds = importing.compute_similarities_ms2ds(all_spectra, models_and_library_folder_pos)"
   ]
  },
  {
   "cell_type": "code",
   "execution_count": null,
   "metadata": {},
   "outputs": [],
   "source": [
    "k_values = [3, 5, 10]\n",
    "random_seeds = [int(np.random.randint(0,1000)) for _ in k_values]\n",
    "similarities = scores_ms2ds\n",
    "distances = importing.convert_similarity_to_distance(similarities)\n",
    "kmedoid_list = importing.run_kmedoid_grid(distances, k_values, random_seeds)\n",
    "importing.render_kmedoid_fitting_results_in_browser(kmedoid_list)"
   ]
  },
  {
   "cell_type": "code",
   "execution_count": null,
   "metadata": {},
   "outputs": [],
   "source": [
    "perplexity_values = [x for x in range(5, 25, 5)]\n",
    "random_seeds = [int(np.random.randint(0,1000)) for _ in perplexity_values]\n",
    "tsne_list_pos = importing.run_tsne_grid(distances, perplexity_values, random_seeds)\n",
    "importing.render_tsne_fitting_results_in_browser(tsne_list_pos)"
   ]
  },
  {
   "cell_type": "code",
   "execution_count": null,
   "metadata": {},
   "outputs": [],
   "source": [
    "import specxplore.specxplore_data\n",
    "from specxplore.specxplore_data import specxplore_data, Spectrum\n",
    "is_standard = np.array(all_class_table[\"is_standard\"])\n",
    "spec_classes = all_class_table[['cf_kingdom', 'cf_superclass', 'cf_class', 'cf_subclass',\n",
    "       'cf_direct_parent', 'npc_class_results', 'npc_superclass_results',\n",
    "       'npc_pathway_results']]\n",
    "mz = [spec.get(\"precursor_mz\") for spec in all_spectra]\n",
    "# KmedoidGridEntry(k, cluster_assignments, score, random_states[idx])\n",
    "kclass_table = pd.DataFrame()\n",
    "for elem in kmedoid_list:\n",
    "    kclass_table[elem.k] = elem.cluster_assignments\n",
    "classes = pd.concat([spec_classes, kclass_table], axis=1)"
   ]
  },
  {
   "cell_type": "code",
   "execution_count": null,
   "metadata": {},
   "outputs": [],
   "source": [
    "tsnedf = pd.DataFrame({\"x\" : tsne_list_pos[2].x_coordinates, \"y\" : tsne_list_pos[2].y_coordinates})\n",
    "specxplore_id = np.array(all_class_table[\"specxplore_id\"])\n",
    "\n",
    "tsnedf[\"is_standard\"] = is_standard\n",
    "tsnedf[\"id\"] = specxplore_id\n"
   ]
  },
  {
   "cell_type": "code",
   "execution_count": null,
   "metadata": {},
   "outputs": [],
   "source": [
    "\n",
    "test_data_specxplore = specxplore_data(\n",
    "  scores_ms2ds,scores_s2v, scores_cos, tsnedf,  classes,\n",
    "  is_standard, all_spectra, mz, specxplore_id)"
   ]
  },
  {
   "cell_type": "code",
   "execution_count": null,
   "metadata": {},
   "outputs": [],
   "source": [
    "test_data_specxplore.metadata"
   ]
  },
  {
   "cell_type": "code",
   "execution_count": null,
   "metadata": {},
   "outputs": [],
   "source": [
    "import pickle\n",
    "with open('data_and_output/test_data/test_case_specxplore2.pickle', 'wb') as file:\n",
    "  pickle.dump(test_data_specxplore, file)"
   ]
  }
 ],
 "metadata": {
  "kernelspec": {
   "display_name": "ms2query",
   "language": "python",
   "name": "python3"
  },
  "language_info": {
   "codemirror_mode": {
    "name": "ipython",
    "version": 3
   },
   "file_extension": ".py",
   "mimetype": "text/x-python",
   "name": "python",
   "nbconvert_exporter": "python",
   "pygments_lexer": "ipython3",
   "version": "3.8.16"
  },
  "orig_nbformat": 4
 },
 "nbformat": 4,
 "nbformat_minor": 2
}
