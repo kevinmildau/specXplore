{
 "cells": [
  {
   "cell_type": "code",
   "execution_count": null,
   "metadata": {},
   "outputs": [],
   "source": [
    "%load_ext autoreload\n",
    "%autoreload 2\n",
    "from specxploreImporting import importing\n",
    "import matchms\n",
    "from matchms.importing import load_from_mgf\n",
    "from matchms.exporting import save_as_mgf\n",
    "from ms2query.run_ms2query import download_zenodo_files, run_complete_folder\n",
    "from ms2query.ms2library import create_library_object_from_one_dir\n",
    "import os\n",
    "import pandas as pd\n",
    "import numpy as np\n",
    "from typing import List"
   ]
  },
  {
   "cell_type": "code",
   "execution_count": null,
   "metadata": {},
   "outputs": [],
   "source": [
    "models_and_library_folder_pos = os.path.join(\"data_and_output\", \"models\", \"ms2query_models_and_library_pos\")\n",
    "raw_experimental_mgf_filename = os.path.join(\"data_and_output\", \"wheat_data\", \"MonoisotopicMS2Feature_pos_mostIntense.mgf\")\n",
    "raw_standards_mgf_filename = os.path.join(\"data_and_output\", \"wheat_data\", \"phophe_pos.mgf\")\n",
    "processed_experimental_spectra_filename = os.path.join(\"data_and_output\", \"wheat_data\", \"spectra_experimental.mgf\")\n",
    "processed_standard_spectra_filename = os.path.join(\"data_and_output\", \"wheat_data\", \"spectra_standards.mgf\")\n",
    "csv_experimental_filename = os.path.join(\"data_and_output\", \"wheat_data\", \"wheat_data_ms2query_out_experimental.csv\")\n",
    "csv_standards_filename = os.path.join(\"data_and_output\", \"wheat_data\", \"wheat_data_ms2query_out_standard.csv\")\n",
    "scores_s2v_filename = os.path.join(\"data_and_output\", \"wheat_data\", \"s2v.npy\")\n",
    "scores_ms2ds_filename = os.path.join(\"data_and_output\", \"wheat_data\", \"ms2ds.npy\")\n",
    "scores_cos_filename = os.path.join(\"data_and_output\", \"wheat_data\", \"cos.npy\")"
   ]
  },
  {
   "attachments": {},
   "cell_type": "markdown",
   "metadata": {},
   "source": [
    "# Process Raw Data\n"
   ]
  },
  {
   "cell_type": "code",
   "execution_count": null,
   "metadata": {},
   "outputs": [],
   "source": [
    "spectra_experimental = list(load_from_mgf(raw_experimental_mgf_filename))\n",
    "spectra_experimental = importing.clean_spectra(spectra_experimental)\n",
    "\n",
    "\n",
    "spectra_standards = list(load_from_mgf(raw_standards_mgf_filename))\n",
    "spectra_standards = importing.clean_spectra(spectra_standards)\n",
    "\n",
    "if False:\n",
    "    save_as_mgf(spectra_experimental, processed_experimental_spectra_filename)\n",
    "    save_as_mgf(spectra_standards, processed_standard_spectra_filename)"
   ]
  },
  {
   "attachments": {},
   "cell_type": "markdown",
   "metadata": {},
   "source": [
    "# Run Classification using ms2query"
   ]
  },
  {
   "cell_type": "code",
   "execution_count": null,
   "metadata": {},
   "outputs": [],
   "source": [
    "# WARNING\n",
    "# THIS DOES WORK, BUT AUTOMATICALLY RUNS BOTH STANDARDS AND EXPERIMENTAL SPECTRA IF IN SAME FOLDER\n",
    "# UPDATE TO MS2QUERY LATEST VERSION TO ALLOW SINGLE FILE INPUT AND OUTPUT\n",
    "# ONCE UPDATED, FILENAMES CAN ALSO BE SPECIFIED....\n",
    "if False:\n",
    "    ms2library = create_library_object_from_one_dir(models_and_library_folder_pos)\n",
    "    importing.run_single_file(ms2library, processed_standard_spectra_filename, str(csv_standards_filename))\n",
    "    importing.run_single_file(ms2library, processed_experimental_spectra_filename, str(csv_experimental_filename))"
   ]
  },
  {
   "attachments": {},
   "cell_type": "markdown",
   "metadata": {},
   "source": [
    "# Merge Classes Tables and Spectra lists"
   ]
  },
  {
   "cell_type": "code",
   "execution_count": null,
   "metadata": {},
   "outputs": [],
   "source": [
    "classes_experimental = pd.read_csv(csv_experimental_filename)\n",
    "classes_experimental = importing.expand_ms2query_results_table(classes_experimental, len(spectra_experimental))\n",
    "classes_standards = pd.read_csv(csv_standards_filename)\n",
    "classes_standards = importing.expand_ms2query_results_table(classes_standards, len(spectra_standards))"
   ]
  },
  {
   "cell_type": "code",
   "execution_count": null,
   "metadata": {},
   "outputs": [],
   "source": [
    "classes_experimental[\"is_standard\"] = False\n",
    "classes_experimental[\"exp_metadata\"] = None\n",
    "classes_standards[\"is_standard\"] = True\n",
    "classes_standards[\"standard_metadata\"] = None\n",
    "all_class_table = pd.merge(classes_experimental, classes_standards, how = 'outer').reset_index()\n",
    "all_class_table[\"specxplore_id\"] = all_class_table.index\n",
    "all_class_table"
   ]
  },
  {
   "cell_type": "code",
   "execution_count": null,
   "metadata": {},
   "outputs": [],
   "source": [
    "all_spectra = spectra_experimental + spectra_standards # list addition"
   ]
  },
  {
   "cell_type": "code",
   "execution_count": null,
   "metadata": {},
   "outputs": [],
   "source": [
    "if False:\n",
    "    scores_s2v = importing.compute_similarities_s2v(all_spectra, models_and_library_folder_pos)\n",
    "    scores_cos = importing.compute_similarities_cosine(all_spectra, cosine_type=\"ModifiedCosine\")\n",
    "    scores_ms2ds = importing.compute_similarities_ms2ds(all_spectra, models_and_library_folder_pos)\n",
    "    np.save(scores_ms2ds_filename, scores_ms2ds, allow_pickle=False)\n",
    "    np.save(scores_s2v_filename, scores_s2v, allow_pickle=False)\n",
    "    np.save(scores_cos_filename, scores_cos, allow_pickle=False)"
   ]
  },
  {
   "cell_type": "code",
   "execution_count": null,
   "metadata": {},
   "outputs": [],
   "source": [
    "scores_s2v = np.load(scores_s2v_filename)\n",
    "scores_ms2ds = np.load(scores_ms2ds_filename)\n",
    "scores_cos = np.load(scores_cos_filename)\n",
    "\n",
    "scores_heuristic = np.maximum(scores_ms2ds, scores_cos)\n",
    "scores_ms2ds = scores_heuristic # <-- overwriting ms2ds score here!!!"
   ]
  },
  {
   "attachments": {},
   "cell_type": "markdown",
   "metadata": {},
   "source": [
    "# Run Kmedoid and tsne"
   ]
  },
  {
   "cell_type": "code",
   "execution_count": null,
   "metadata": {},
   "outputs": [],
   "source": [
    "k_values = [10,20,30,40,50,75,100, 125, 150, 175, 200,250, 300, 400,500]\n",
    "random_seeds = [int(np.random.randint(0,1000)) for _ in k_values]\n",
    "similarities = scores_ms2ds\n",
    "distances = importing.convert_similarity_to_distance(similarities)\n",
    "kmedoid_list = importing.run_kmedoid_grid(distances, k_values, random_seeds)\n",
    "importing.render_kmedoid_fitting_results_in_browser(kmedoid_list)"
   ]
  },
  {
   "cell_type": "code",
   "execution_count": null,
   "metadata": {},
   "outputs": [],
   "source": [
    "perplexity_values = [x for x in range(5, 55, 5)]\n",
    "random_seeds = [int(np.random.randint(0,1000)) for _ in perplexity_values]\n",
    "tsne_list_pos = importing.run_tsne_grid(distances, perplexity_values, random_seeds)\n",
    "importing.render_tsne_fitting_results_in_browser(tsne_list_pos)"
   ]
  },
  {
   "attachments": {},
   "cell_type": "markdown",
   "metadata": {},
   "source": [
    "# Merge into specxplore object"
   ]
  },
  {
   "cell_type": "code",
   "execution_count": null,
   "metadata": {},
   "outputs": [],
   "source": [
    "%load_ext autoreload\n",
    "%autoreload 2\n",
    "import specxplore.specxplore_data\n",
    "from specxplore.specxplore_data import specxplore_data, Spectrum\n",
    "is_standard = np.array(all_class_table[\"is_standard\"])\n",
    "spec_classes = all_class_table[['cf_kingdom', 'cf_superclass', 'cf_class', 'cf_subclass',\n",
    "       'cf_direct_parent', 'npc_class_results', 'npc_superclass_results',\n",
    "       'npc_pathway_results']]\n",
    "mz = [spec.get(\"precursor_mz\") for spec in all_spectra]\n",
    "# KmedoidGridEntry(k, cluster_assignments, score, random_states[idx])\n",
    "kclass_table = pd.DataFrame()\n",
    "for elem in kmedoid_list:\n",
    "    kclass_table[elem.k] = elem.cluster_assignments\n",
    "classes = pd.concat([spec_classes, kclass_table], axis=1)"
   ]
  },
  {
   "cell_type": "code",
   "execution_count": null,
   "metadata": {},
   "outputs": [],
   "source": [
    "tsnedf = pd.DataFrame({\"x\" : tsne_list_pos[8].x_coordinates, \"y\" : tsne_list_pos[8].y_coordinates})\n",
    "specxplore_id = np.array(all_class_table[\"specxplore_id\"])\n",
    "\n",
    "def convert_matchms_spectra_to_specxplore_spectrum(spectra = List[matchms.Spectrum]) -> List[Spectrum]:\n",
    "  spectra_converted = [\n",
    "      specxplore.specxplore_data.Spectrum(spec.peaks.mz, float(spec.get(\"precursor_mz\")), idx, spec.peaks.intensities) \n",
    "      for idx, spec in enumerate(all_spectra)]\n",
    "  return spectra_converted\n",
    "\n",
    "spectra_converted = convert_matchms_spectra_to_specxplore_spectrum(all_spectra)\n",
    "\n",
    "wheat_data_specxplore = specxplore_data(\n",
    "  scores_ms2ds,scores_s2v, scores_cos, tsnedf,  classes,\n",
    "  is_standard, spectra_converted, mz, specxplore_id, all_class_table)"
   ]
  },
  {
   "cell_type": "code",
   "execution_count": null,
   "metadata": {},
   "outputs": [],
   "source": [
    "wheat_data_specxplore.spectra[0]"
   ]
  },
  {
   "cell_type": "code",
   "execution_count": null,
   "metadata": {},
   "outputs": [],
   "source": [
    "import pickle\n",
    "with open('data_and_output/wheat_data/wheat_data_specxplore_v6.pickle', 'wb') as file:\n",
    "  pickle.dump(wheat_data_specxplore, file)"
   ]
  }
 ],
 "metadata": {
  "kernelspec": {
   "display_name": "ms2query",
   "language": "python",
   "name": "python3"
  },
  "language_info": {
   "codemirror_mode": {
    "name": "ipython",
    "version": 3
   },
   "file_extension": ".py",
   "mimetype": "text/x-python",
   "name": "python",
   "nbconvert_exporter": "python",
   "pygments_lexer": "ipython3",
   "version": "3.8.16"
  },
  "orig_nbformat": 4,
  "vscode": {
   "interpreter": {
    "hash": "9a0b26849922d3efa4ca8f7f44f3270d767c2f891cd76b04d402dd44f3a9f0f5"
   }
  }
 },
 "nbformat": 4,
 "nbformat_minor": 2
}
