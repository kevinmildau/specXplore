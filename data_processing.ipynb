{
 "cells": [
  {
   "cell_type": "code",
   "execution_count": null,
   "metadata": {},
   "outputs": [],
   "source": [
    "from utils import process_matchms as _myfun\n",
    "import plotly.express as px\n",
    "import pickle\n",
    "import kmedoids\n",
    "import numpy as np\n",
    "from sklearn import manifold\n",
    "import itertools\n",
    "from plotly.colors import n_colors\n",
    "import pandas as pd\n",
    "\n",
    "# Load similarity matrices.\n",
    "file = open(\"data/sim_matrix_ms2deepscore\", 'rb')\n",
    "sm = pickle.load(file) # sm = _myfun.extract_similarity_scores(sm) # <- if cosine based\n",
    "file.close()\n",
    "dist = 1.-sm\n",
    "dist = np.round(dist, 5)\n",
    "# Load Pandas Classification Table & Extract classes\n",
    "file = open(\"data/pandas-classification-table-0012.pickle\", 'rb')\n",
    "class_table = pickle.load(file)\n",
    "file.close()\n",
    "#print(class_table.shape)\n",
    "#print(class_table.iloc[0])\n",
    "class_table = class_table.replace(\" \",\"_\",regex=True )\n",
    "print(class_table.iloc[0])"
   ]
  },
  {
   "cell_type": "code",
   "execution_count": null,
   "metadata": {},
   "outputs": [],
   "source": [
    "for k in [10, 20, 25, 30, 35, 40, 45, 50, 100]:\n",
    "    # kmedoid clustering\n",
    "    cluster = kmedoids.KMedoids(n_clusters=k, metric='precomputed', random_state=0, method = \"fasterpam\")  \n",
    "    cluster_km = cluster.fit_predict(dist)\n",
    "    class_table[f\"kmedoid_{k}\"] = cluster_km\n",
    "\n",
    "class_table.head()\n",
    "class_table = class_table.drop(\"npc_isglycoside\", axis = 1)\n",
    "class_table = class_table.iloc[:, 3:]\n",
    "\n",
    "print(list(class_table.columns))"
   ]
  },
  {
   "cell_type": "code",
   "execution_count": null,
   "metadata": {},
   "outputs": [],
   "source": []
  }
 ],
 "metadata": {
  "kernelspec": {
   "display_name": "Python 3.9.12 ('env_matchms_trial')",
   "language": "python",
   "name": "python3"
  },
  "language_info": {
   "codemirror_mode": {
    "name": "ipython",
    "version": 3
   },
   "file_extension": ".py",
   "mimetype": "text/x-python",
   "name": "python",
   "nbconvert_exporter": "python",
   "pygments_lexer": "ipython3",
   "version": "3.9.12"
  },
  "orig_nbformat": 4,
  "vscode": {
   "interpreter": {
    "hash": "4a0466c621480c3ba2c75d2d9e57a941cff5da58fce5d1acd394f9532948546a"
   }
  }
 },
 "nbformat": 4,
 "nbformat_minor": 2
}
