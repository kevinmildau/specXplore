{
 "cells": [
  {
   "cell_type": "code",
   "execution_count": null,
   "metadata": {},
   "outputs": [],
   "source": [
    "from utils import process_matchms as _myfun\n",
    "import plotly.express as px\n",
    "import pickle\n",
    "import kmedoids\n",
    "import numpy as np\n",
    "from sklearn import manifold\n",
    "import itertools\n",
    "from plotly.colors import n_colors\n",
    "import pandas as pd\n",
    "\n",
    "# Load similarity matrices.\n",
    "file = open(\"data/sim_matrix_ms2deepscore\", 'rb')\n",
    "sm = pickle.load(file) # sm = _myfun.extract_similarity_scores(sm) # <- if cosine based\n",
    "file.close()\n",
    "dist = 1.-sm\n",
    "dist = np.round(dist, 5)\n"
   ]
  },
  {
   "cell_type": "markdown",
   "metadata": {},
   "source": [
    "# Process cosine\n",
    "\n",
    "modified cosine sm matrix is actual a matrix of tuples with frag overlap and sim score."
   ]
  },
  {
   "cell_type": "code",
   "execution_count": null,
   "metadata": {},
   "outputs": [],
   "source": [
    "file = open(\"data/sim_matrix_cosine_modified\", 'rb')\n",
    "sm = pickle.load(file) \n",
    "sm = _myfun.extract_similarity_scores(sm)\n",
    "file.close()\n",
    "\n",
    "with open('data/sim_matrix_cosine_modified_extracted.pickle', 'wb') as handle:\n",
    "    pickle.dump(sm, handle)"
   ]
  },
  {
   "cell_type": "markdown",
   "metadata": {},
   "source": [
    "# Construct Class Table"
   ]
  },
  {
   "cell_type": "code",
   "execution_count": null,
   "metadata": {},
   "outputs": [],
   "source": [
    "# Load Pandas Classification Table & Extract classes\n",
    "file = open(\"data/pandas-classification-table-0012.pickle\", 'rb')\n",
    "class_table = pickle.load(file)\n",
    "file.close()\n",
    "#print(class_table.shape)\n",
    "#print(class_table.iloc[0])\n",
    "class_table = class_table.replace(\" \",\"_\",regex=True )\n",
    "print(class_table.iloc[0])\n",
    "for k in [10, 20, 25, 30, 35, 40, 45, 50, 100]:\n",
    "    # kmedoid clustering\n",
    "    cluster = kmedoids.KMedoids(n_clusters=k, metric='precomputed', random_state=0, method = \"fasterpam\")  \n",
    "    cluster_km = cluster.fit_predict(dist)\n",
    "    cluster_km = [\"KM_\" + str(elem) for elem in cluster_km]\n",
    "    class_table[f\"kmedoid_{k}\"] = cluster_km\n",
    "\n",
    "class_table.head()\n",
    "print(list(class_table.columns))\n",
    "# class_table = class_table.drop(\"npc_isglycoside\", axis = 1)\n",
    "# class_table = class_table.iloc[:, 3:]\n",
    "\n",
    "print(list(class_table.columns))\n",
    "\n",
    "class_table.to_csv('data/classification_table.csv', encoding='utf-8', index = False)"
   ]
  },
  {
   "cell_type": "markdown",
   "metadata": {},
   "source": [
    "# Generate TSNE Embedding"
   ]
  },
  {
   "cell_type": "code",
   "execution_count": null,
   "metadata": {},
   "outputs": [],
   "source": [
    "# Compute T-sne embedding\n",
    "model = manifold.TSNE(metric=\"precomputed\", random_state = 123, perplexity= 15)\n",
    "z = model.fit_transform(dist)\n",
    "x_coords = z[:,0] * 100 # scale the coordinate space for better visualization\n",
    "y_coords = z[:,1] * 100 # scale the coordinate space for better visualization\n",
    "id = np.arange(0, len(x_coords), 1)\n",
    "tsne_df = pd.DataFrame({\"x\": x_coords, \"y\":y_coords, \"id\":id})\n",
    "\n",
    "with open('data/tsne_df.pickle', 'wb') as handle:\n",
    "    pickle.dump(tsne_df, handle)\n",
    "\n"
   ]
  },
  {
   "cell_type": "code",
   "execution_count": null,
   "metadata": {},
   "outputs": [],
   "source": [
    "import plotly.graph_objects as go\n",
    "import plotly.express as px\n",
    "\n",
    "\n",
    "# \n",
    "white_buffer = 20\n",
    "n_colors = 100 + white_buffer\n",
    "colors = px.colors.sample_colorscale(\"greys\", [n/(n_colors -1) for n in range(n_colors)])[white_buffer-1:]\n",
    "fig = go.Figure()\n",
    "\n",
    "# for i, c in enumerate(greys15):\n",
    "for i, c in enumerate(colors):\n",
    "    fig.add_bar(x=[i], y = [15], marker_color = c, showlegend = False, name=c)\n",
    "f = fig.full_figure_for_development(warn=False)\n",
    "fig.show()"
   ]
  }
 ],
 "metadata": {
  "kernelspec": {
   "display_name": "Python 3.9.12 ('env_matchms_trial')",
   "language": "python",
   "name": "python3"
  },
  "language_info": {
   "codemirror_mode": {
    "name": "ipython",
    "version": 3
   },
   "file_extension": ".py",
   "mimetype": "text/x-python",
   "name": "python",
   "nbconvert_exporter": "python",
   "pygments_lexer": "ipython3",
   "version": "3.9.12"
  },
  "orig_nbformat": 4,
  "vscode": {
   "interpreter": {
    "hash": "4a0466c621480c3ba2c75d2d9e57a941cff5da58fce5d1acd394f9532948546a"
   }
  }
 },
 "nbformat": 4,
 "nbformat_minor": 2
}
