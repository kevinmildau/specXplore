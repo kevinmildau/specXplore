{
 "cells": [
  {
   "cell_type": "code",
   "execution_count": 5,
   "metadata": {},
   "outputs": [
    {
     "name": "stdout",
     "output_type": "stream",
     "text": [
      "The autoreload extension is already loaded. To reload it, use:\n",
      "  %reload_ext autoreload\n"
     ]
    },
    {
     "name": "stderr",
     "output_type": "stream",
     "text": [
      "/var/folders/68/80m4q7bn3295vmdv_6bd9k1m0000gn/T/ipykernel_2427/3694388496.py:11: DeprecationWarning: Call to deprecated class Spikes. (Class was renamed to ``Fragments``.) -- Deprecated since version 0.14.0.\n",
      "  data = pickle.load(handle).spectra\n"
     ]
    },
    {
     "data": {
      "text/plain": [
       "Spectrum(mass_to_charge_ratios=array([103.05424627, 131.04923381, 149.02349973, 149.08232625]), precursor_mass_to_charge_ratio=149.082326253255, identifier=0, intensities=array([0.64292227, 1.        , 0.44513617, 0.62423902]), mass_to_charge_ratio_aggregate_list=(), intensity_aggregate_list=())"
      ]
     },
     "execution_count": 5,
     "metadata": {},
     "output_type": "execute_result"
    }
   ],
   "source": [
    "%load_ext autoreload\n",
    "%autoreload 2\n",
    "\n",
    "import pickle\n",
    "import typing\n",
    "import specxplore.specxplore_data\n",
    "from specxplore.specxplore_data import specxplore_data, Spectrum\n",
    "import numpy as np\n",
    "import copy\n",
    "with open(\"data_import_testing/results/phophe_specxplore.pickle\", 'rb') as handle:\n",
    "    data = pickle.load(handle).spectra\n",
    "spectra = [Spectrum(spec.peaks.mz, max(spec.peaks.mz),idx, spec.peaks.intensities) for idx, spec in enumerate(data)]\n",
    "spec = spectra[0]\n",
    "spec"
   ]
  },
  {
   "cell_type": "code",
   "execution_count": 6,
   "metadata": {},
   "outputs": [],
   "source": [
    "test_mz = np.array([0.9, 1.4, 4, 3.6, 5.05, 9.9,8])\n",
    "test_int = np.array([1,1,1,1,1,1,1])\n"
   ]
  },
  {
   "cell_type": "code",
   "execution_count": 7,
   "metadata": {},
   "outputs": [
    {
     "name": "stdout",
     "output_type": "stream",
     "text": [
      "Spectrum(mass_to_charge_ratios=array([103.1, 131.1, 149.1]), precursor_mass_to_charge_ratio=149.082326253255, identifier=0, intensities=array([0.60121301, 0.93512549, 1.        ]), mass_to_charge_ratio_aggregate_list=[[103.054246266683], [131.049233809761], [149.023499731924, 149.082326253255]], intensity_aggregate_list=[[0.6429222736342746], [1.0], [0.4451361657851017, 0.6242390240442007]])\n"
     ]
    }
   ],
   "source": [
    "def bin_spectrum(spectrum : Spectrum, bin_map : np.ndarray):\n",
    "    \"\"\" Applies binning to mz and intensity values and preserves aggregation information. \n",
    "\n",
    "    :param Spectrum: A spectrum object with mass_to_charge_ratios confined to the range of the bin_map.\n",
    "    :param bin_map: An array with bins for mass to charge ratios, usually between 0 and 1000 with step_size of 0.1,\n",
    "    :returns: A new spectrum object with binned spectra and aggregated data.\n",
    "\n",
    "    \"\"\"\n",
    "    mz_values = spectrum.mass_to_charge_ratios\n",
    "    intensities = spectrum.intensities\n",
    "    mz_value_bin_assignments = np.digitize(mz_values, bin_map, right=True)\n",
    "\n",
    "    unique_assignments = np.unique(mz_value_bin_assignments)\n",
    "    number_of_unique_assignments = len(unique_assignments)\n",
    "    mass_to_charge_ratio_aggregate_list = [None] * number_of_unique_assignments\n",
    "    intensity_aggregate_list = [None] * number_of_unique_assignments\n",
    "    intensity_list = [0.0 for _ in range(0, number_of_unique_assignments)]\n",
    "    mass_to_charge_ratio_list = [None for _ in range(0, number_of_unique_assignments)]\n",
    "\n",
    "    for idx_outer in range(0, number_of_unique_assignments):\n",
    "        current_unique_assignment = unique_assignments[idx_outer] # this is an index for the bin_map\n",
    "        for idx_inner in range(0, len(mz_value_bin_assignments)): # for all mz values / mz_bin_assignments\n",
    "            # check whether the current_unique_assignment is a match to the current_assignment\n",
    "            current_assignment = mz_value_bin_assignments[idx_inner]\n",
    "            if current_unique_assignment == current_assignment:\n",
    "                tmp_mz_bin = bin_map[current_assignment]\n",
    "                tmp_mass_to_charge_ratio = mz_values[idx_inner]\n",
    "                tmp_intensity = intensities[idx_inner]\n",
    "                if mass_to_charge_ratio_aggregate_list[idx_outer] is None:\n",
    "                    mass_to_charge_ratio_aggregate_list[idx_outer] = [tmp_mass_to_charge_ratio]\n",
    "                else: \n",
    "                    mass_to_charge_ratio_aggregate_list[idx_outer].append(tmp_mass_to_charge_ratio)\n",
    "                if intensity_aggregate_list[idx_outer] is None:\n",
    "                    intensity_aggregate_list[idx_outer] = [tmp_intensity]\n",
    "                else:\n",
    "                    intensity_aggregate_list[idx_outer].append(tmp_intensity)\n",
    "                intensity_list[idx_outer] += tmp_intensity\n",
    "                if mass_to_charge_ratio_list[idx_outer] is None:\n",
    "                    mass_to_charge_ratio_list[idx_outer] = tmp_mz_bin\n",
    "    intensity_list = intensity_list / max(intensity_list)\n",
    "    output_spectrum = Spectrum(\n",
    "        mass_to_charge_ratios=np.array(mass_to_charge_ratio_list),\n",
    "        precursor_mass_to_charge_ratio=copy.deepcopy(spectrum.precursor_mass_to_charge_ratio),\n",
    "        identifier=copy.deepcopy(spectrum.identifier),\n",
    "       intensities=np.array(intensity_list),\n",
    "       intensity_aggregate_list=intensity_aggregate_list,\n",
    "       mass_to_charge_ratio_aggregate_list=mass_to_charge_ratio_aggregate_list\n",
    "       )\n",
    "    return output_spectrum\n",
    "\n",
    "print(bin_spectrum(spec, bin_map=np.round(np.arange(0, 1000, step = 0.1), decimals= 2)))"
   ]
  }
 ],
 "metadata": {
  "kernelspec": {
   "display_name": "specxplore38",
   "language": "python",
   "name": "python3"
  },
  "language_info": {
   "codemirror_mode": {
    "name": "ipython",
    "version": 3
   },
   "file_extension": ".py",
   "mimetype": "text/x-python",
   "name": "python",
   "nbconvert_exporter": "python",
   "pygments_lexer": "ipython3",
   "version": "3.8.15"
  },
  "orig_nbformat": 4,
  "vscode": {
   "interpreter": {
    "hash": "91721ca190d4fa69ddf052d455b156e9c3c2fc833760821d49aef838e9e6470e"
   }
  }
 },
 "nbformat": 4,
 "nbformat_minor": 2
}
